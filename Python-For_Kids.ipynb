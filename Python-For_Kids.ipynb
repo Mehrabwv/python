{
 "cells": [
  {
   "cell_type": "markdown",
   "metadata": {
    "colab_type": "text",
    "id": "view-in-github"
   },
   "source": [
    "<a href=\"https://colab.research.google.com/github/Mehrabwv/python/blob/main/Welcome_to_Colaboratory.ipynb\" target=\"_parent\"><img src=\"https://colab.research.google.com/assets/colab-badge.svg\" alt=\"Open In Colab\"/></a>"
   ]
  },
  {
   "cell_type": "code",
   "execution_count": null,
   "metadata": {
    "colab": {
     "base_uri": "https://localhost:8080/"
    },
    "id": "yP31XhqWIAXk",
    "outputId": "97a21dc3-6f3e-490e-f080-b371a7e27b1f"
   },
   "outputs": [
    {
     "name": "stdout",
     "output_type": "stream",
     "text": [
      "What is your weight now?: 1\n",
      "How much increase do you expect?: 1\n",
      "In how many years?: 1\n",
      "0 0.165\n"
     ]
    }
   ],
   "source": [
    "weight1= input('What is your weight now?: ')\n",
    "increase1= input('How much increase do you expect?: ')\n",
    "year1= input('In how many years?: ')\n",
    "\n",
    "weight = int(weight1)\n",
    "increase = int(increase1)\n",
    "yeare = int(year1)\n",
    "year2 = yeare\n",
    "\n",
    "\n",
    "for year2 in range(0,year2):\n",
    "  moonweight=(weight+(increase*year2))*0.165\n",
    "  print(year2,moonweight)"
   ]
  },
  {
   "cell_type": "markdown",
   "metadata": {
    "id": "b-_vPk9YFSyP"
   },
   "source": [
    "# ***Python For Kids***   \n"
   ]
  },
  {
   "cell_type": "markdown",
   "metadata": {
    "id": "BplOc5A9FkvO"
   },
   "source": [
    "# Chapter 1 - Not all snakes slither\n",
    " (Basics)"
   ]
  },
  {
   "cell_type": "code",
   "execution_count": null,
   "metadata": {
    "colab": {
     "base_uri": "https://localhost:8080/"
    },
    "id": "e1rOLP78Hl6F",
    "outputId": "f0df0b26-0aee-45e2-b475-8ef42c7063d9"
   },
   "outputs": [
    {
     "name": "stdout",
     "output_type": "stream",
     "text": [
      "How are you?\n"
     ]
    }
   ],
   "source": [
    "print('How are you?')"
   ]
  },
  {
   "cell_type": "code",
   "execution_count": null,
   "metadata": {
    "colab": {
     "base_uri": "https://localhost:8080/"
    },
    "id": "-Lm3KuQrJ2Vs",
    "outputId": "89d9523b-d944-4147-acea-82f0ac6d8be4"
   },
   "outputs": [
    {
     "name": "stdout",
     "output_type": "stream",
     "text": [
      "hello world\n"
     ]
    }
   ],
   "source": [
    "print(\"hello world\")"
   ]
  },
  {
   "cell_type": "code",
   "execution_count": null,
   "metadata": {
    "colab": {
     "base_uri": "https://localhost:8080/"
    },
    "id": "19p9Iu0wJ840",
    "outputId": "f79b5385-375f-456d-f7d5-2f3dc89e6134"
   },
   "outputs": [
    {
     "name": "stdout",
     "output_type": "stream",
     "text": [
      "hello world\n"
     ]
    }
   ],
   "source": [
    "print('''hello world''')"
   ]
  },
  {
   "cell_type": "markdown",
   "metadata": {
    "id": "kHrp0NgNKFdq"
   },
   "source": [
    "# Chapter 2 - Calculations and Variables\n",
    "Calculations"
   ]
  },
  {
   "cell_type": "code",
   "execution_count": null,
   "metadata": {
    "colab": {
     "base_uri": "https://localhost:8080/"
    },
    "id": "31jkHigHKYiC",
    "outputId": "e82a7b75-47c3-4fab-9d44-bf7ae1a14e54"
   },
   "outputs": [
    {
     "data": {
      "text/plain": [
       "28.56"
      ]
     },
     "execution_count": 62,
     "metadata": {},
     "output_type": "execute_result"
    }
   ],
   "source": [
    "8*3.57   #8 times 3.57 = 28.56"
   ]
  },
  {
   "cell_type": "markdown",
   "metadata": {
    "id": "Yz3O2FZuLeW-"
   },
   "source": [
    "Pg 16 - puzzle"
   ]
  },
  {
   "cell_type": "code",
   "execution_count": null,
   "metadata": {
    "colab": {
     "base_uri": "https://localhost:8080/"
    },
    "id": "IDt-F1_BKlTd",
    "outputId": "b1578777-0d22-4ef6-af6a-1bcfd1ab7c5f"
   },
   "outputs": [
    {
     "data": {
      "text/plain": [
       "3650"
      ]
     },
     "execution_count": 63,
     "metadata": {},
     "output_type": "execute_result"
    }
   ],
   "source": [
    "10*365"
   ]
  },
  {
   "cell_type": "code",
   "execution_count": null,
   "metadata": {
    "colab": {
     "base_uri": "https://localhost:8080/"
    },
    "id": "sQ_35pdPK05i",
    "outputId": "49dea931-aee2-40c2-8eb7-ad23b3edb87d"
   },
   "outputs": [
    {
     "data": {
      "text/plain": [
       "3670"
      ]
     },
     "execution_count": 64,
     "metadata": {},
     "output_type": "execute_result"
    }
   ],
   "source": [
    "20+3650"
   ]
  },
  {
   "cell_type": "code",
   "execution_count": null,
   "metadata": {
    "colab": {
     "base_uri": "https://localhost:8080/"
    },
    "id": "RMP33JlNLoy9",
    "outputId": "d995c024-c76c-4070-8cf9-bef90a7a197d"
   },
   "outputs": [
    {
     "data": {
      "text/plain": [
       "156"
      ]
     },
     "execution_count": 65,
     "metadata": {},
     "output_type": "execute_result"
    }
   ],
   "source": [
    "3*52"
   ]
  },
  {
   "cell_type": "code",
   "execution_count": null,
   "metadata": {
    "colab": {
     "base_uri": "https://localhost:8080/"
    },
    "id": "y-5hU36BL3qd",
    "outputId": "0acf0fd1-5495-4560-99b4-baac80fa63f4"
   },
   "outputs": [
    {
     "data": {
      "text/plain": [
       "3514"
      ]
     },
     "execution_count": 66,
     "metadata": {},
     "output_type": "execute_result"
    }
   ],
   "source": [
    "3670-156"
   ]
  },
  {
   "cell_type": "markdown",
   "metadata": {
    "id": "YkhUCC52w50N"
   },
   "source": [
    "BODMAS\n",
    "\n",
    "\n",
    "add\n",
    "5 to 30, and then multiply the result\n",
    "by 20"
   ]
  },
  {
   "cell_type": "code",
   "execution_count": null,
   "metadata": {
    "colab": {
     "base_uri": "https://localhost:8080/"
    },
    "id": "eNneJtqfL_7X",
    "outputId": "84418202-98a9-4300-dba5-4e148b6698de"
   },
   "outputs": [
    {
     "data": {
      "text/plain": [
       "700"
      ]
     },
     "execution_count": 67,
     "metadata": {},
     "output_type": "execute_result"
    }
   ],
   "source": [
    "(5+30)*20"
   ]
  },
  {
   "cell_type": "markdown",
   "metadata": {
    "id": "jmgJIMJgzV9F"
   },
   "source": [
    " Adding 5 to 30 gives 35.\n",
    "\n",
    " Multiplying 35 by 20 gives 700.\n",
    "\n",
    " Dividing 700 by 10 gives the final answer of 70."
   ]
  },
  {
   "cell_type": "code",
   "execution_count": null,
   "metadata": {
    "colab": {
     "base_uri": "https://localhost:8080/"
    },
    "id": "8eRWdxvwzOEn",
    "outputId": "787ad122-da3e-4b7c-c888-44e29a42579d"
   },
   "outputs": [
    {
     "data": {
      "text/plain": [
       "70.0"
      ]
     },
     "execution_count": 68,
     "metadata": {},
     "output_type": "execute_result"
    }
   ],
   "source": [
    " ((5 + 30) * 20) / 10"
   ]
  },
  {
   "cell_type": "markdown",
   "metadata": {
    "id": "SzebuoECzsSH"
   },
   "source": [
    "Variables"
   ]
  },
  {
   "cell_type": "code",
   "execution_count": null,
   "metadata": {
    "colab": {
     "base_uri": "https://localhost:8080/"
    },
    "id": "G6kzzALRzucy",
    "outputId": "ea16b95d-ca75-487b-81bf-32176ff5c4d6"
   },
   "outputs": [
    {
     "name": "stdout",
     "output_type": "stream",
     "text": [
      "100\n"
     ]
    }
   ],
   "source": [
    "fred=100\n",
    "print(fred)"
   ]
  },
  {
   "cell_type": "code",
   "execution_count": null,
   "metadata": {
    "colab": {
     "base_uri": "https://localhost:8080/"
    },
    "id": "n-ddBOayz3Ot",
    "outputId": "56b88455-a82d-4d27-d51e-4832ed632f1f"
   },
   "outputs": [
    {
     "name": "stdout",
     "output_type": "stream",
     "text": [
      "105\n"
     ]
    }
   ],
   "source": [
    "fred=100\n",
    "john=fred+5\n",
    "print(john)"
   ]
  },
  {
   "cell_type": "code",
   "execution_count": null,
   "metadata": {
    "colab": {
     "base_uri": "https://localhost:8080/"
    },
    "id": "F6bkX0lS0Sci",
    "outputId": "00d3b28b-576b-461d-9ca2-39497f20b477"
   },
   "outputs": [
    {
     "name": "stdout",
     "output_type": "stream",
     "text": [
      "200\n"
     ]
    }
   ],
   "source": [
    "# You cant start a variable with a number!\n",
    "number_of_coins = 200\n",
    "print(number_of_coins)"
   ]
  },
  {
   "cell_type": "markdown",
   "metadata": {
    "id": "KMU5DCRS0usv"
   },
   "source": [
    "Pg 21 - more info"
   ]
  },
  {
   "cell_type": "code",
   "execution_count": null,
   "metadata": {
    "colab": {
     "base_uri": "https://localhost:8080/"
    },
    "id": "Rm2GZ1gJ05ee",
    "outputId": "88f75ddd-93a1-4edf-d8c4-4dfc8774cbb6"
   },
   "outputs": [
    {
     "data": {
      "text/plain": [
       "3514"
      ]
     },
     "execution_count": 72,
     "metadata": {},
     "output_type": "execute_result"
    }
   ],
   "source": [
    " 20 + 10 * 365 - 3 * 52"
   ]
  },
  {
   "cell_type": "code",
   "execution_count": null,
   "metadata": {
    "colab": {
     "base_uri": "https://localhost:8080/"
    },
    "id": "pEPqkgjh1vqR",
    "outputId": "f375d412-443c-466e-9c50-cf29c90d9e45"
   },
   "outputs": [
    {
     "data": {
      "text/plain": [
       "3514"
      ]
     },
     "execution_count": 73,
     "metadata": {},
     "output_type": "execute_result"
    }
   ],
   "source": [
    "found_coins = 20\n",
    "magic_coins = 10\n",
    "stolen_coins = 3\n",
    "\n",
    "found_coins + magic_coins * 365 - stolen_coins * 52"
   ]
  },
  {
   "cell_type": "code",
   "execution_count": null,
   "metadata": {
    "colab": {
     "base_uri": "https://localhost:8080/"
    },
    "id": "eVfRfL6z2R9u",
    "outputId": "15aca63e-f1fb-46ee-aadc-5505e58a01d9"
   },
   "outputs": [
    {
     "data": {
      "text/plain": [
       "3566"
      ]
     },
     "execution_count": 74,
     "metadata": {},
     "output_type": "execute_result"
    }
   ],
   "source": [
    "found_coins = 20\n",
    "magic_coins = 10\n",
    "\n",
    "stolen_coins = 2   # Very easy to change the variable if neeeded\n",
    "\n",
    "found_coins + magic_coins * 365 - stolen_coins * 52"
   ]
  },
  {
   "cell_type": "markdown",
   "metadata": {
    "id": "_y7K5N333cv_"
   },
   "source": [
    "# Chapter 3 - Strings, Lists, Tuples, and Maps"
   ]
  },
  {
   "cell_type": "markdown",
   "metadata": {
    "id": "IQ1kJqgM3_Z8"
   },
   "source": [
    "A string is a text"
   ]
  },
  {
   "cell_type": "code",
   "execution_count": null,
   "metadata": {
    "colab": {
     "base_uri": "https://localhost:8080/"
    },
    "id": "h0cgOagD3pli",
    "outputId": "c4e6482d-41ba-48f2-efb0-be9f851fdd2e"
   },
   "outputs": [
    {
     "name": "stdout",
     "output_type": "stream",
     "text": [
      "What is 1 + 1?\n"
     ]
    }
   ],
   "source": [
    "fred = \"What is 1 + 1?\"\n",
    "print(fred)"
   ]
  },
  {
   "cell_type": "code",
   "execution_count": null,
   "metadata": {
    "colab": {
     "base_uri": "https://localhost:8080/"
    },
    "id": "sG1IhMza4osw",
    "outputId": "cfb89f9a-e0af-4918-e601-4e4ca14a2e1a"
   },
   "outputs": [
    {
     "name": "stdout",
     "output_type": "stream",
     "text": [
      "How do dinosaurs pay their bills?\n",
      "With tyrannosaurus checks!\n"
     ]
    }
   ],
   "source": [
    "#To create multiple line string, use '''\n",
    "fred = '''How do dinosaurs pay their bills?\n",
    "With tyrannosaurus checks!'''\n",
    "print(fred)"
   ]
  },
  {
   "cell_type": "code",
   "execution_count": null,
   "metadata": {
    "colab": {
     "base_uri": "https://localhost:8080/"
    },
    "id": "S9Ui0fjVWhpE",
    "outputId": "b80f9051-1b8f-4788-cb70-6c53c0d50685"
   },
   "outputs": [
    {
     "name": "stdout",
     "output_type": "stream",
     "text": [
      "He said, \"Aren't can't shouldn't wouldn't.\"\n"
     ]
    }
   ],
   "source": [
    "silly_string = '''He said, \"Aren't can't shouldn't wouldn't.\"'''\n",
    "print(silly_string)"
   ]
  },
  {
   "cell_type": "code",
   "execution_count": null,
   "metadata": {
    "colab": {
     "base_uri": "https://localhost:8080/"
    },
    "id": "nIxFlGkIR-u-",
    "outputId": "fd2c8f40-85f8-4a12-8157-67847782c6b8"
   },
   "outputs": [
    {
     "name": "stdout",
     "output_type": "stream",
     "text": [
      "He said, \"Aren't can't shouldn't wouldn't.\"\n"
     ]
    }
   ],
   "source": [
    "single_quote_str = 'He said, \"Aren\\'t can\\'t shouldn\\'t wouldn\\'t.\"'\n",
    "print(single_quote_str)"
   ]
  },
  {
   "cell_type": "code",
   "execution_count": null,
   "metadata": {
    "colab": {
     "base_uri": "https://localhost:8080/"
    },
    "id": "dkB8k431Ssub",
    "outputId": "89ffd9b1-6fe2-47ac-e828-5a8619a18117"
   },
   "outputs": [
    {
     "name": "stdout",
     "output_type": "stream",
     "text": [
      "hello my name is mehrab \n"
     ]
    }
   ],
   "source": [
    "myname = 'mehrab'\n",
    "string = 'hello my name is %s '    #Dont forget to put %s or error will occur\n",
    "print(string % myname)"
   ]
  },
  {
   "cell_type": "code",
   "execution_count": null,
   "metadata": {
    "colab": {
     "base_uri": "https://localhost:8080/"
    },
    "id": "pvNsAECsV4bC",
    "outputId": "56b460d3-4b93-41bf-e1f4-e384822a3bcd"
   },
   "outputs": [
    {
     "name": "stdout",
     "output_type": "stream",
     "text": [
      "what is 1 + 5?\n"
     ]
    }
   ],
   "source": [
    "nock = 'what is %s + %s?'\n",
    "print(nock %(1,5))"
   ]
  },
  {
   "cell_type": "markdown",
   "metadata": {
    "id": "7LCmvY6EW1tZ"
   },
   "source": [
    "Multiplying strings  - pg 31"
   ]
  },
  {
   "cell_type": "code",
   "execution_count": null,
   "metadata": {
    "colab": {
     "base_uri": "https://localhost:8080/"
    },
    "id": "wuKeTIfgWLtL",
    "outputId": "974a0909-adc6-49b0-9318-5d2a464c0de2"
   },
   "outputs": [
    {
     "name": "stdout",
     "output_type": "stream",
     "text": [
      "hello hello hello hello hello hello hello hello hello hello \n"
     ]
    }
   ],
   "source": [
    "print(10*'hello ')"
   ]
  },
  {
   "cell_type": "markdown",
   "metadata": {
    "id": "zcWJO7_VXTZQ"
   },
   "source": [
    "Strings"
   ]
  },
  {
   "cell_type": "code",
   "execution_count": null,
   "metadata": {
    "colab": {
     "base_uri": "https://localhost:8080/"
    },
    "id": "6J4Chz4qXCwl",
    "outputId": "424b0933-5cfb-450f-d2ad-9c61fb810c0d"
   },
   "outputs": [
    {
     "name": "stdout",
     "output_type": "stream",
     "text": [
      "water, food, air, games, house, bed, tv, soap\n"
     ]
    }
   ],
   "source": [
    "mylist = 'water, food, air, games, house, bed, tv, soap'     # This is a variable\n",
    "print(mylist)"
   ]
  },
  {
   "cell_type": "code",
   "execution_count": null,
   "metadata": {
    "colab": {
     "base_uri": "https://localhost:8080/"
    },
    "id": "lFx5ELhWX0yJ",
    "outputId": "41a195b4-b148-41d6-bcb5-d9cb9c2eef4f"
   },
   "outputs": [
    {
     "name": "stdout",
     "output_type": "stream",
     "text": [
      "['water', 'food', 'air', 'games', 'house', 'bed', 'tv', 'soap']\n"
     ]
    }
   ],
   "source": [
    "mylist = ['water', 'food', 'air', 'games', 'house', 'bed', 'tv', 'soap']\n",
    "print(mylist)"
   ]
  },
  {
   "cell_type": "code",
   "execution_count": null,
   "metadata": {
    "colab": {
     "base_uri": "https://localhost:8080/"
    },
    "id": "vtx0jRalYFSq",
    "outputId": "8b2aa161-79bd-4ddd-d00a-f39aa1c4642d"
   },
   "outputs": [
    {
     "name": "stdout",
     "output_type": "stream",
     "text": [
      "air\n"
     ]
    }
   ],
   "source": [
    "mylist = ['water', 'food', 'air', 'games', 'house', 'bed', 'tv', 'soap']\n",
    "print(mylist[2])    # Although it says no.2 , the no. 3 item is shown at the list starts with 0"
   ]
  },
  {
   "cell_type": "code",
   "execution_count": null,
   "metadata": {
    "colab": {
     "base_uri": "https://localhost:8080/"
    },
    "id": "4eaCUHxpYYCg",
    "outputId": "b95a68ce-e883-4064-e7ba-cca9f7aa2852"
   },
   "outputs": [
    {
     "name": "stdout",
     "output_type": "stream",
     "text": [
      "water\n"
     ]
    }
   ],
   "source": [
    "mylist = ['water', 'food', 'air', 'games', 'house', 'bed', 'tv', 'soap']\n",
    "print(mylist[0]) "
   ]
  },
  {
   "cell_type": "code",
   "execution_count": null,
   "metadata": {
    "colab": {
     "base_uri": "https://localhost:8080/"
    },
    "id": "ahoRbvxjYrkO",
    "outputId": "2d864679-c418-44eb-84ad-b5cfd30808c3"
   },
   "outputs": [
    {
     "name": "stdout",
     "output_type": "stream",
     "text": [
      "['water', 'food', 'oxygen', 'games', 'house', 'bed', 'tv', 'soap']\n"
     ]
    }
   ],
   "source": [
    "mylist = ['water', 'food', 'air', 'games', 'house', 'bed', 'tv', 'soap']\n",
    "\n",
    "mylist[2] = 'oxygen'     # It is very easy to change the item (from air to oxygen)     -> Replacing\n",
    "print(mylist)"
   ]
  },
  {
   "cell_type": "code",
   "execution_count": null,
   "metadata": {
    "colab": {
     "base_uri": "https://localhost:8080/"
    },
    "id": "KQiYVBphZusl",
    "outputId": "def3253a-c26b-4593-d8a6-d5284e30f6d7"
   },
   "outputs": [
    {
     "name": "stdout",
     "output_type": "stream",
     "text": [
      "['food', 'air', 'games']\n"
     ]
    }
   ],
   "source": [
    "mylist = ['water', 'food', 'air', 'games', 'house', 'bed', 'tv', 'soap']\n",
    "print(mylist[1:4])   "
   ]
  },
  {
   "cell_type": "code",
   "execution_count": null,
   "metadata": {
    "colab": {
     "base_uri": "https://localhost:8080/"
    },
    "id": "kpdBTDMranyE",
    "outputId": "d5a86371-dce0-4a3d-89c1-878c25b5c5e9"
   },
   "outputs": [
    {
     "name": "stdout",
     "output_type": "stream",
     "text": [
      "['1', '3', '5', '7', '9', 'one', 'three', 'five', 'seven', 'nine']\n"
     ]
    }
   ],
   "source": [
    "nums = ['1','3','5','7','9']\n",
    "words =['one','three','five','seven','nine']\n",
    "print(nums + words)"
   ]
  },
  {
   "cell_type": "code",
   "execution_count": null,
   "metadata": {
    "colab": {
     "base_uri": "https://localhost:8080/"
    },
    "id": "lRY0uvTmbP5Q",
    "outputId": "5de526aa-6bbe-468a-f0ed-e19d12b2f314"
   },
   "outputs": [
    {
     "name": "stdout",
     "output_type": "stream",
     "text": [
      "3three\n"
     ]
    }
   ],
   "source": [
    "nums = ['1','3','5','7','9']\n",
    "words =['one','three','five','seven','nine']\n",
    "print(nums[1] + words[1])"
   ]
  },
  {
   "cell_type": "code",
   "execution_count": null,
   "metadata": {
    "colab": {
     "base_uri": "https://localhost:8080/"
    },
    "id": "0ECbtAKOYvgr",
    "outputId": "638e57be-0d0a-4df0-b41e-9bcde1971e73"
   },
   "outputs": [
    {
     "name": "stdout",
     "output_type": "stream",
     "text": [
      "['water', 'food', 'air', 'games', 'house', 'bed', 'tv', 'soap', 'cook']\n"
     ]
    }
   ],
   "source": [
    "mylist = ['water', 'food', 'air', 'games', 'house', 'bed', 'tv', 'soap']\n",
    "\n",
    "mylist.append('cook')      # It is very easy to add items to the list\n",
    "print(mylist)"
   ]
  },
  {
   "cell_type": "code",
   "execution_count": null,
   "metadata": {
    "colab": {
     "base_uri": "https://localhost:8080/"
    },
    "id": "SIORmlvxZjub",
    "outputId": "31d28f04-ec2d-4fa0-e5fc-a241e5dd3319"
   },
   "outputs": [
    {
     "name": "stdout",
     "output_type": "stream",
     "text": [
      "['water', 'food', 'air', 'games', 'house', 'bed', 'tv']\n"
     ]
    }
   ],
   "source": [
    "mylist = ['water', 'food', 'air', 'games', 'house', 'bed', 'tv', 'soap']\n",
    "\n",
    "del mylist[7]     # It is also very easy to delete a item from the list\n",
    "print(mylist)"
   ]
  },
  {
   "cell_type": "code",
   "execution_count": null,
   "metadata": {
    "colab": {
     "base_uri": "https://localhost:8080/"
    },
    "id": "pskP6lbTaiAI",
    "outputId": "2cb004b5-ba11-43a1-becf-b281d5b3d5ee"
   },
   "outputs": [
    {
     "name": "stdout",
     "output_type": "stream",
     "text": [
      "[1, 2, 3, 4, 'water', 'food', 'air', 'games', 'house', 'bed', 'tv', 'soap']\n"
     ]
    }
   ],
   "source": [
    "mylist = ['water', 'food', 'air', 'games', 'house', 'bed', 'tv', 'soap']\n",
    "nums = [1,2,3,4]\n",
    "add = nums + mylist\n",
    "\n",
    "print(add)"
   ]
  },
  {
   "cell_type": "code",
   "execution_count": null,
   "metadata": {
    "colab": {
     "base_uri": "https://localhost:8080/"
    },
    "id": "WiUMTd3RbGND",
    "outputId": "13581fe3-4fbd-4dcc-e44c-3e002bed2558"
   },
   "outputs": [
    {
     "name": "stdout",
     "output_type": "stream",
     "text": [
      "['a', 'b', 'a', 'b', 'a', 'b', 'a', 'b', 'a', 'b']\n"
     ]
    }
   ],
   "source": [
    "words = ['a','b']\n",
    "\n",
    "print(words * 5)"
   ]
  },
  {
   "cell_type": "markdown",
   "metadata": {
    "id": "z6OfvYdQ0KnF"
   },
   "source": [
    "note that you cannot divide or subtract a list \n",
    "\n",
    "and you can only add a list to a list but not another variable, number or word"
   ]
  },
  {
   "cell_type": "markdown",
   "metadata": {
    "id": "6OwMqNlk1ksT"
   },
   "source": [
    "**Tuples are like lists, however items cannot be added or removed with a code**"
   ]
  },
  {
   "cell_type": "code",
   "execution_count": null,
   "metadata": {
    "colab": {
     "base_uri": "https://localhost:8080/"
    },
    "id": "lVT3hjsl1VsK",
    "outputId": "28bc1d67-900d-4630-990a-26acd1ae5050"
   },
   "outputs": [
    {
     "name": "stdout",
     "output_type": "stream",
     "text": [
      "3\n"
     ]
    }
   ],
   "source": [
    "what = (0,1,2,3,4)    # It is used because it is sometimes more useful to not be \n",
    "print(what[3])        # able to change items inside a tuples easily"
   ]
  },
  {
   "cell_type": "markdown",
   "metadata": {
    "id": "zySgzDUz45AK"
   },
   "source": [
    "Python map"
   ]
  },
  {
   "cell_type": "code",
   "execution_count": null,
   "metadata": {
    "colab": {
     "base_uri": "https://localhost:8080/"
    },
    "id": "3mbp1mNOD4Pz",
    "outputId": "26d24a13-6f02-43c8-c4f0-a56f6853e0ee"
   },
   "outputs": [
    {
     "name": "stdout",
     "output_type": "stream",
     "text": [
      "['Ralph Williams, Football', 'Michael Tippett, Basketball', 'Edward Elgar, Baseball', 'Rebecca Clarke, Netball', 'Ethel Smyth, Badminton', 'Frank Bridge, Rugby']\n"
     ]
    }
   ],
   "source": [
    "favorite_sports = ['Ralph Williams, Football',    # This is a list\n",
    " 'Michael Tippett, Basketball',\n",
    " 'Edward Elgar, Baseball',\n",
    " 'Rebecca Clarke, Netball',\n",
    " 'Ethel Smyth, Badminton',\n",
    " 'Frank Bridge, Rugby']\n",
    "\n",
    "print(favorite_sports)"
   ]
  },
  {
   "cell_type": "code",
   "execution_count": null,
   "metadata": {
    "colab": {
     "base_uri": "https://localhost:8080/"
    },
    "id": "YDbpHRJpD82q",
    "outputId": "320d2186-1184-4a41-969d-dd9779ea7732"
   },
   "outputs": [
    {
     "name": "stdout",
     "output_type": "stream",
     "text": [
      "{'Ralph Williams': 'Football', 'Michael Tippett': 'Basketball', 'Edward Elgar': 'Baseball', 'Rebecca Clarke': 'Netball', 'Ethel Smyth': 'Badminton', 'Frank Bridge': 'Rugby'}\n"
     ]
    }
   ],
   "source": [
    " favorite_sports = {'Ralph Williams' : 'Football',   # This is a map\n",
    " 'Michael Tippett' : 'Basketball',\n",
    " 'Edward Elgar' : 'Baseball',\n",
    " 'Rebecca Clarke' : 'Netball',\n",
    " 'Ethel Smyth' : 'Badminton',    # Uses {}\n",
    " 'Frank Bridge' : 'Rugby'}\n",
    "\n",
    " print(favorite_sports)"
   ]
  },
  {
   "cell_type": "code",
   "execution_count": null,
   "metadata": {
    "colab": {
     "base_uri": "https://localhost:8080/"
    },
    "id": "Z0EyJ1zaErxk",
    "outputId": "2fe51cd0-a763-454f-cd18-df0081754765"
   },
   "outputs": [
    {
     "name": "stdout",
     "output_type": "stream",
     "text": [
      "Netball\n"
     ]
    }
   ],
   "source": [
    " favorite_sports = {'Ralph Williams' : 'Football',  \n",
    " 'Michael Tippett' : 'Basketball',\n",
    " 'Edward Elgar' : 'Baseball',\n",
    " 'Rebecca Clarke' : 'Netball',\n",
    " 'Ethel Smyth' : 'Badminton',    # You can easily find the sport\n",
    " 'Frank Bridge' : 'Rugby'}\n",
    "\n",
    " print(favorite_sports['Rebecca Clarke'])"
   ]
  },
  {
   "cell_type": "code",
   "execution_count": null,
   "metadata": {
    "colab": {
     "base_uri": "https://localhost:8080/"
    },
    "id": "c9H7gC4FFdsa",
    "outputId": "d2e3d5d8-31a8-4201-85fc-ab14ccd9e8be"
   },
   "outputs": [
    {
     "name": "stdout",
     "output_type": "stream",
     "text": [
      "{'Ralph Williams': 'Football', 'Michael Tippett': 'Basketball', 'Edward Elgar': 'Baseball', 'Rebecca Clarke': 'Netball', 'Ethel Smyth': 'Badminton'}\n"
     ]
    }
   ],
   "source": [
    "favorite_sports = {'Ralph Williams' : 'Football',  \n",
    " 'Michael Tippett' : 'Basketball',\n",
    " 'Edward Elgar' : 'Baseball',\n",
    " 'Rebecca Clarke' : 'Netball',\n",
    " 'Ethel Smyth' : 'Badminton',    \n",
    " 'Frank Bridge' : 'Rugby'}\n",
    "\n",
    "del favorite_sports['Frank Bridge']    # Easy to delete a name/item\n",
    "\n",
    "print(favorite_sports)"
   ]
  },
  {
   "cell_type": "code",
   "execution_count": null,
   "metadata": {
    "colab": {
     "base_uri": "https://localhost:8080/"
    },
    "id": "kmiQQV-4HKaJ",
    "outputId": "7155ba97-f72d-4868-b068-68d8682d0404"
   },
   "outputs": [
    {
     "name": "stdout",
     "output_type": "stream",
     "text": [
      "{'Ralph Williams': 'Football', 'Michael Tippett': 'Basketball', 'Edward Elgar': 'Baseball', 'Rebecca Clarke': 'Netball', 'Ethel Smyth': 'Hockey', 'Frank Bridge': 'Rugby'}\n"
     ]
    }
   ],
   "source": [
    "favorite_sports = {'Ralph Williams' : 'Football',  \n",
    " 'Michael Tippett' : 'Basketball',\n",
    " 'Edward Elgar' : 'Baseball',\n",
    " 'Rebecca Clarke' : 'Netball',\n",
    " 'Ethel Smyth' : 'Badminton',    \n",
    " 'Frank Bridge' : 'Rugby'}\n",
    "\n",
    "favorite_sports['Ethel Smyth']= 'Hockey'\n",
    "\n",
    "print(favorite_sports)"
   ]
  },
  {
   "cell_type": "code",
   "execution_count": null,
   "metadata": {
    "id": "sRI3Uu0nZau6"
   },
   "outputs": [],
   "source": [
    "favorite_sports = {'Ralph Williams' : 'Football',  \n",
    " 'Michael Tippett' : 'Basketball',\n",
    " 'Edward Elgar' : 'Baseball',\n",
    " 'Rebecca Clarke' : 'Netball',\n",
    " 'Ethel Smyth' : 'Badminton',    \n",
    " 'Frank Bridge' : 'Rugby'}           # Adding two maps does not work\n",
    "\n",
    "favorite_colors = {'Malcolm Warner' : 'Pink polka dots',\n",
    " 'James Baxter' : 'Orange stripes',\n",
    " 'Sue Lee' : 'Purple paisley'}\n",
    "\n",
    "# print(favorite_sports + favorite_colors)"
   ]
  },
  {
   "cell_type": "markdown",
   "metadata": {
    "id": "O2kb2K30Z3oe"
   },
   "source": [
    "Programming puzzles (pg 41)"
   ]
  },
  {
   "cell_type": "markdown",
   "metadata": {
    "id": "WU-DDa8WaBE1"
   },
   "source": [
    "\n",
    "\n",
    "***1: Favorites***\n",
    "\n",
    "Make a list of your favorite hobbies and give the list the variable\n",
    "name games. Now make a list of your favorite foods and name the\n",
    "variable foods. Join the two lists and name the result favorites.\n",
    "Finally, print the variable favorites.\n",
    "\n"
   ]
  },
  {
   "cell_type": "code",
   "execution_count": null,
   "metadata": {
    "colab": {
     "base_uri": "https://localhost:8080/"
    },
    "id": "XNM92y5cZ9q-",
    "outputId": "6780b239-1d9f-43ff-9e35-af73c2fbd1f7"
   },
   "outputs": [
    {
     "name": "stdout",
     "output_type": "stream",
     "text": [
      "['videogames', 'badminton', 'cycling', 'pizza', 'burger', 'friedchicken']\n"
     ]
    }
   ],
   "source": [
    "games = ['videogames','badminton','cycling']\n",
    "foods = ['pizza','burger','friedchicken']\n",
    "favorites = games + foods\n",
    "print(favorites)"
   ]
  },
  {
   "cell_type": "markdown",
   "metadata": {
    "id": "yHiUEdXaat5W"
   },
   "source": [
    "***2: Counting Combatants***\n",
    "\n",
    "If there are 3 buildings with 25 ninjas hiding on each roof and\n",
    "2 tunnels with 40 samurai hiding inside each tunnel, how many\n",
    "ninjas and samurai are about to do battle? (You can do this with\n",
    "one equation in the Python shell.)"
   ]
  },
  {
   "cell_type": "code",
   "execution_count": null,
   "metadata": {
    "colab": {
     "base_uri": "https://localhost:8080/"
    },
    "id": "RdTCBDT2a9nh",
    "outputId": "042df5bf-8514-4c5b-862b-1bc955a80534"
   },
   "outputs": [
    {
     "name": "stdout",
     "output_type": "stream",
     "text": [
      "155\n"
     ]
    }
   ],
   "source": [
    "print((3*25)+(2*40))"
   ]
  },
  {
   "cell_type": "markdown",
   "metadata": {
    "id": "HPX4Hcn3jPND"
   },
   "source": [
    "***3: Greetings!***\n",
    "\n",
    "Create two variables: one that points to your first name and\n",
    "one that points to your last name. Now create a string and use\n",
    "placeholders to print your name with a message using those two\n",
    "variables, such as “Hi there, Brando Ickett!”"
   ]
  },
  {
   "cell_type": "code",
   "execution_count": null,
   "metadata": {
    "colab": {
     "base_uri": "https://localhost:8080/"
    },
    "id": "b1CaM1m1jbw_",
    "outputId": "81df35f2-9d28-4cfb-a803-8fd3be5b8553"
   },
   "outputs": [
    {
     "name": "stdout",
     "output_type": "stream",
     "text": [
      "Hi there, Mehrab Rahman\n"
     ]
    }
   ],
   "source": [
    "name1 ='Mehrab'\n",
    "name2 ='Rahman'\n",
    "string ='Hi there, %s %s'\n",
    "print(string %(name1,name2) )"
   ]
  },
  {
   "cell_type": "markdown",
   "metadata": {
    "id": "ZkuCyHfCk5t2"
   },
   "source": [
    "# Chapter 4 - Drawing  with turtles"
   ]
  },
  {
   "cell_type": "markdown",
   "metadata": {
    "id": "Uh5rQNj-lKvt"
   },
   "source": [
    " ***Skipped***    - hard to use turtle in colab"
   ]
  },
  {
   "cell_type": "markdown",
   "metadata": {
    "tags": []
   },
   "source": [
    "In the\n",
    "world of Python, a turtle is a small, black arrow that\n",
    "moves slowly around the screen. \n",
    "\n",
    "Actually, considering\n",
    "that a Python turtle leaves a trail as it moves around\n",
    "the screen, it’s actually less like a turtle and more like\n",
    "a snail or a slug.\n",
    "\n",
    "The turtle is a nice way to learn some of the basics\n",
    "of computer graphics, so in this chapter, we’ll use a\n",
    "Python turtle to draw some simple shapes and lines."
   ]
  },
  {
   "cell_type": "markdown",
   "metadata": {},
   "source": [
    "***Using Python’s Turtle Module***\n",
    "\n",
    "A module in Python is a way of\n",
    "providing useful code to be used\n",
    "by another program (among other\n",
    "things, the module can contain\n",
    "functions we can use).\n",
    "\n",
    "We’ll learn\n",
    "more about modules in Chapter 7.\n",
    "\n",
    "Python has a special module called\n",
    "turtle that we can use to learn\n",
    "how computers draw pictures on a\n",
    "screen.\n",
    "\n",
    "The turtle module is a way\n",
    "of programming vector graphics,\n",
    "which is basically just drawing\n",
    "with simple lines, dots, and curves.\n",
    "Let’s see how the turtle works. \n",
    "\n",
    "First, tell Python to\n",
    "use the turtle by importing the turtle module, as follows:"
   ]
  },
  {
   "cell_type": "code",
   "execution_count": 2,
   "metadata": {},
   "outputs": [],
   "source": [
    "import turtle\n"
   ]
  },
  {
   "cell_type": "markdown",
   "metadata": {},
   "source": [
    "Importing a module tells Python that you want to use it.\n",
    "Creating a Canvas\n",
    "Now that we have imported the turtle module, we need to create a\n",
    "canvas—a blank space to draw on, like an artist’s canvas. To do so,\n",
    "we call the function Pen from the turtle module, which automatically creates a canvas. Enter this into the Python shell:"
   ]
  },
  {
   "cell_type": "markdown",
   "metadata": {},
   "source": [
    "+ ***Creating a Canvas***\n",
    "\n",
    "Now that we have imported the turtle module, we need to create a\n",
    "canvas—a blank space to draw on, like an artist’s canvas.\n",
    "\n",
    "To do so,\n",
    "we call the function Pen from the turtle module, which automatically creates a canvas.\n",
    "\n",
    "Enter this into the Python shell:"
   ]
  },
  {
   "cell_type": "code",
   "execution_count": 4,
   "metadata": {},
   "outputs": [],
   "source": [
    "import turtle\n",
    "t = turtle.Pen()   # Should pop out a new windows.  (if not responding -> error so use command promt)"
   ]
  },
  {
   "cell_type": "markdown",
   "metadata": {},
   "source": [
    "You should see a blank box (the canvas), with an arrow in the\n",
    "center.\n",
    "\n",
    "The arrow in the middle of the screen is the turtle, and you’re\n",
    "right—it isn’t very turtle-like.\n",
    "\n",
    "If the Turtle window appears behind the Python Shell window,\n",
    "you may find that it doesn’t seem to be working properly.\n",
    "\n",
    "When you\n",
    "move your mouse over the Turtle window, the cursor turns into an\n",
    "spinning blue circle\n"
   ]
  },
  {
   "cell_type": "markdown",
   "metadata": {},
   "source": [
    "This could happen for several reasons: you haven’t started the\n",
    "shell from the icon on your desktop (if you’re using Windows or a\n",
    "Mac), you clicked IDLE (Python GUI) in the Windows Start menu,\n",
    "\n",
    "or IDLE isn’t installed correctly. Try exiting and restarting the\n",
    "shell from the desktop icon. If that fails, try the code on command prompt and not on a IDLE"
   ]
  },
  {
   "cell_type": "markdown",
   "metadata": {
    "id": "z62rE6Kvn_rg"
   },
   "source": [
    "+ ***Moving the Turtle***\n",
    "\n",
    "You send instructions to the\n",
    "turtle by using functions\n",
    "available on the variable t\n",
    "we just created, similar to\n",
    "using the Pen function in the\n",
    "turtle module.\n",
    "\n",
    "For example,\n",
    "the forward instruction tells the turtle to move forward.\n",
    "\n",
    "To tell the\n",
    "turtle to advance 50 pixels, enter the following command:"
   ]
  },
  {
   "cell_type": "code",
   "execution_count": 3,
   "metadata": {},
   "outputs": [],
   "source": [
    "import turtle \n",
    "t = turtle.Pen()\n",
    "\n",
    "t.forward(50)"
   ]
  },
  {
   "cell_type": "markdown",
   "metadata": {},
   "source": [
    "You should be able to see a arrow.\n",
    "\n",
    "The turtle has moved forward 50 pixels.\n",
    "\n",
    "A pixel is a single\n",
    "point on the screen—the smallest element that can be represented.\n",
    "\n",
    "Everything you see on your computer monitor is made up of pixels,\n",
    "which are tiny, square dots.\n",
    "\n",
    "If you could zoom in on the canvas\n",
    "and the line drawn by the turtle, you would be able to see that\n",
    "the arrow representing the turtle’s path is just a bunch of pixels.\n",
    "\n",
    "That’s simple computer graphics.\n",
    "\n",
    "Now we’ll tell the turtle to turn left 90 degrees with the following command:"
   ]
  },
  {
   "cell_type": "code",
   "execution_count": 4,
   "metadata": {},
   "outputs": [],
   "source": [
    "import turtle \n",
    "t = turtle.Pen()\n",
    "t.forward(50)\n",
    "\n",
    "t.left(90)"
   ]
  },
  {
   "cell_type": "markdown",
   "metadata": {
    "tags": []
   },
   "source": [
    "The arrownead should have turned 90 degrees to the left (straight up/0 degrees) + the line previously drawn\n",
    "\n",
    "0 degrees is straight up \n",
    "\n",
    "90 degrees is right\n",
    "\n",
    "180 degrees is straight down\n",
    "\n",
    "270 degrees is left\n",
    "\n",
    "In python you tell turtle to turn by how much degrees\n",
    "\n",
    "Now we’ll draw a square:"
   ]
  },
  {
   "cell_type": "code",
   "execution_count": null,
   "metadata": {},
   "outputs": [],
   "source": [
    "import turtle \n",
    "t = turtle.Pen()\n",
    "t.forward(50)\n",
    "t.left(90)\n",
    "\n",
    "t.forward(50)\n",
    "t.left(90)\n",
    "t.forward(50)\n",
    "t.left(90)\n",
    "t.forward(50)\n",
    "t.left(90)"
   ]
  },
  {
   "cell_type": "markdown",
   "metadata": {},
   "source": [
    "Your turtle should have drawn a square and should now be\n",
    "facing in the same direction it started."
   ]
  },
  {
   "cell_type": "markdown",
   "metadata": {},
   "source": [
    "To erase the canvas, enter reset. This clears the canvas and\n",
    "puts the turtle back at its starting position."
   ]
  },
  {
   "cell_type": "code",
   "execution_count": 2,
   "metadata": {},
   "outputs": [],
   "source": [
    "t.reset()"
   ]
  },
  {
   "cell_type": "markdown",
   "metadata": {},
   "source": [
    "You can also use clear, which just clears the screen and leaves\n",
    "the turtle where it is."
   ]
  },
  {
   "cell_type": "code",
   "execution_count": null,
   "metadata": {},
   "outputs": [],
   "source": [
    " t.clear()"
   ]
  },
  {
   "cell_type": "markdown",
   "metadata": {},
   "source": [
    "You can also use clear, which just clears the screen and leaves\n",
    "the turtle where it is.\n"
   ]
  },
  {
   "cell_type": "markdown",
   "metadata": {},
   "source": [
    "We can also turn our turtle right or move it backward.\n",
    "\n",
    "We can\n",
    "use up to lift the pen off the page (in other words, tell the turtle to\n",
    "stop drawing), and down to start drawing.\n",
    "\n",
    "These functions are written in the same way as the others we’ve used.\n",
    "\n",
    "Let’s try another drawing using some of these commands. \n",
    "\n",
    "This\n",
    "time, we’ll have the turtle draw two lines. Enter the following code:"
   ]
  },
  {
   "cell_type": "code",
   "execution_count": null,
   "metadata": {},
   "outputs": [],
   "source": [
    "t.reset()\n",
    "t.backward(100)\n",
    "t.up()\n",
    "t.right(90)\n",
    "t.forward(20)\n",
    "t.left(90)\n",
    "t.down()\n",
    "t.forward(100) "
   ]
  },
  {
   "cell_type": "markdown",
   "metadata": {},
   "source": [
    "First, we reset the canvas and move the turtle back\n",
    "to its starting position with\n",
    "t.reset().\n",
    "\n",
    "Next, we move the\n",
    "turtle backward 100 pixels with\n",
    "t.backward(100), and then use\n",
    "t.up() to pick up the pen and\n",
    "stop drawing.\n",
    "\n",
    "Then, with the command\n",
    "t.right(90), we turn the turtle\n",
    "right 90 degrees to point down,\n",
    "toward the bottom of the screen,\n",
    "and with t.forward(20), we move\n",
    "forward 20 pixels. \n",
    "\n",
    "Nothing is drawn because of the use of up command on the third line.\n",
    "\n",
    "We turn the turtle left 90 degrees to face\n",
    "right with t.left(90), and then with the down command, we tell the\n",
    "turtle to put the pen back down and start drawing again.\n",
    "\n",
    "Finally,\n",
    "we draw a line forward, parallel to the first line we drew, with\n",
    "t.forward(100).\n",
    "\n",
    "The two parallel lines we’ve drawn end up looking\n",
    "like an equal sign ="
   ]
  },
  {
   "cell_type": "markdown",
   "metadata": {},
   "source": [
    "***Programming Puzzles***   - pg 51"
   ]
  },
  {
   "cell_type": "markdown",
   "metadata": {},
   "source": [
    "***1: A Rectangle***\n",
    "\n",
    "Create a new canvas using the turtle module’s Pen function and\n",
    "then draw a rectangle."
   ]
  },
  {
   "cell_type": "code",
   "execution_count": 1,
   "metadata": {},
   "outputs": [],
   "source": [
    "import turtle\n",
    "t = turtle.Pen()\n",
    "\n",
    "t.forward(100)\n",
    "t.left(90)\n",
    "t.forward(50)\n",
    "t.left(90)\n",
    "t.forward(100)\n",
    "t.left(90)\n",
    "t.forward(50)\n",
    "t.left(90)"
   ]
  },
  {
   "cell_type": "markdown",
   "metadata": {},
   "source": [
    "***2: A Triangle***\n",
    "\n",
    "Create another canvas, and this time, draw a triangle. Look back\n",
    "at the diagram of the circle with the degrees (“Moving the Turtle”\n",
    "on page 46) to remind yourself which direction to turn the turtle\n",
    "using degrees."
   ]
  },
  {
   "cell_type": "code",
   "execution_count": 1,
   "metadata": {},
   "outputs": [],
   "source": [
    "import turtle\n",
    "t = turtle.Pen()\n",
    "\n",
    "t.forward(100)\n",
    "t.left(90)\n",
    "t.forward(100)\n",
    "t.left(135)\n",
    "t.forward(141)      # Should form a right-angled triangle\n",
    "t.left(135)"
   ]
  },
  {
   "cell_type": "markdown",
   "metadata": {},
   "source": [
    "***3: A Box Without Corners***\n",
    "\n",
    "Write a program to draw the four lines shown here (the size isn’t\n",
    "important, just the shape): "
   ]
  },
  {
   "cell_type": "code",
   "execution_count": 1,
   "metadata": {},
   "outputs": [],
   "source": [
    "import turtle\n",
    "t = turtle.Pen()\n",
    "\n",
    "t.up()\n",
    "t.forward(50)\n",
    "t.down()\n",
    "t.forward(100)\n",
    "t.up()\n",
    "t.forward(50)\n",
    "t.left(90)\n",
    "t.forward(50)\n",
    "t.down()\n",
    "t.forward(100)\n",
    "t.up()\n",
    "t.forward(50)\n",
    "t.left(90)\n",
    "t.forward(50)\n",
    "t.down()\n",
    "t.forward(100)\n",
    "t.up()\n",
    "t.forward(50)\n",
    "t.left(90)\n",
    "t.forward(50)\n",
    "t.down()\n",
    "t.forward(100)\n",
    "t.up()\n",
    "t.forward(50)\n",
    "t.left(90)\n",
    "t.forward(50)"
   ]
  },
  {
   "cell_type": "markdown",
   "metadata": {},
   "source": [
    "# Chapter 5 - Asking Questions with if and else"
   ]
  },
  {
   "cell_type": "markdown",
   "metadata": {
    "id": "68oiwhF1CfVN"
   },
   "source": [
    "**If Statments**"
   ]
  },
  {
   "cell_type": "code",
   "execution_count": null,
   "metadata": {
    "colab": {
     "base_uri": "https://localhost:8080/"
    },
    "id": "ma1I6alaoUz7",
    "outputId": "d6007c10-212a-4c56-fb0e-0d72cb9308ea"
   },
   "outputs": [
    {
     "name": "stdout",
     "output_type": "stream",
     "text": [
      "you are very old indeed\n"
     ]
    }
   ],
   "source": [
    "age = 14       # This is an 'if' statement\n",
    "if age > 10:      # Don't forgetg to add the semicolon :\n",
    "  print('you are very old indeed')     # Always leave four spaces/tab before print or else\n",
    "                                       # syntax error will occur as the code does not alline"
   ]
  },
  {
   "cell_type": "code",
   "execution_count": null,
   "metadata": {
    "colab": {
     "base_uri": "https://localhost:8080/"
    },
    "id": "bd9kUpIUClpo",
    "outputId": "db2a10eb-1913-4445-d15c-d7b9812b0ca8"
   },
   "outputs": [
    {
     "name": "stdout",
     "output_type": "stream",
     "text": [
      "You are too young!\n",
      "You shall not pass!\n",
      "Why are you still here?\n"
     ]
    }
   ],
   "source": [
    " age = 9\n",
    "\n",
    " if age < 10:\n",
    "   print('You are too young!')\n",
    "   print('You shall not pass!')\n",
    "   print('Why are you still here?')"
   ]
  },
  {
   "cell_type": "code",
   "execution_count": null,
   "metadata": {
    "colab": {
     "base_uri": "https://localhost:8080/"
    },
    "id": "nhgLGqToFY9e",
    "outputId": "1b6a1fe3-0bfe-43a7-c8cc-0aba77631374"
   },
   "outputs": [
    {
     "name": "stdout",
     "output_type": "stream",
     "text": [
      "perfect!\n"
     ]
    }
   ],
   "source": [
    "age = 10\n",
    "if age == 10:\n",
    "  print('perfect!')"
   ]
  },
  {
   "cell_type": "code",
   "execution_count": null,
   "metadata": {
    "colab": {
     "base_uri": "https://localhost:8080/"
    },
    "id": "v2gVG0zTFrkN",
    "outputId": "4c52f906-d9ed-4f0a-e6e1-7e19665b127d"
   },
   "outputs": [
    {
     "name": "stdout",
     "output_type": "stream",
     "text": [
      "What is 123+123\n"
     ]
    }
   ],
   "source": [
    "age = 14\n",
    "if age >= 14:\n",
    "  print('What is 123+123')"
   ]
  },
  {
   "cell_type": "markdown",
   "metadata": {
    "id": "9U264f87GUh-"
   },
   "source": [
    "***If-then-Else Statement***"
   ]
  },
  {
   "cell_type": "code",
   "execution_count": null,
   "metadata": {
    "colab": {
     "base_uri": "https://localhost:8080/"
    },
    "id": "DLCEPuQQGD29",
    "outputId": "f26b12cc-9d98-47e4-d965-c1c6eec0a251"
   },
   "outputs": [
    {
     "name": "stdout",
     "output_type": "stream",
     "text": [
      "You are too young\n"
     ]
    }
   ],
   "source": [
    "age = 10\n",
    "if age <= 10:\n",
    "  print('You are too young')\n",
    "else:                                     # Dont forget : after 'else'\n",
    "  print('You can keep on readinng this')"
   ]
  },
  {
   "cell_type": "code",
   "execution_count": null,
   "metadata": {
    "colab": {
     "base_uri": "https://localhost:8080/"
    },
    "id": "UQLsm_x0GEBn",
    "outputId": "21867de0-d5e7-416e-8b45-e1b6f28cb968"
   },
   "outputs": [
    {
     "name": "stdout",
     "output_type": "stream",
     "text": [
      "You can keep on readinng this\n"
     ]
    }
   ],
   "source": [
    "age = 14\n",
    "if age <= 10:\n",
    "  print('You are too young')\n",
    "else:                                     \n",
    "  print('You can keep on readinng this')"
   ]
  },
  {
   "cell_type": "markdown",
   "metadata": {
    "id": "OGZL0_C7JF5W"
   },
   "source": [
    "***if and elif Statements***"
   ]
  },
  {
   "cell_type": "markdown",
   "metadata": {
    "id": "Gv-4cLKxJP7r"
   },
   "source": [
    "elif means else if.      \n",
    "This is used as elif can be repeated unlike if"
   ]
  },
  {
   "cell_type": "code",
   "execution_count": null,
   "metadata": {
    "colab": {
     "base_uri": "https://localhost:8080/"
    },
    "id": "wJcykkkwI5aX",
    "outputId": "dc79752b-54c0-41fb-f150-9cc1827165bb"
   },
   "outputs": [
    {
     "name": "stdout",
     "output_type": "stream",
     "text": [
      "Joke list from 1 to 7\n"
     ]
    }
   ],
   "source": [
    "joke = 0                   # Joke list\n",
    "\n",
    "if joke == 1:\n",
    "  print('What’s the best thing about Switzerland?')\n",
    "  print('I don’t know, but the flag is a big plus.')\n",
    "elif joke == 2:\n",
    "  print('Why do we tell actors to “break a leg?”')\n",
    "  print('Because every play has a cast.')\n",
    "elif joke == 3:\n",
    "  print('Heard about the new restaurant called Karma?')\n",
    "  print('There’s no menu: You get what you deserve.')\n",
    "elif joke == 4:\n",
    "  print('Did you hear about the actor who fell through the floorboards?')\n",
    "  print('He was just going through a stage.')\n",
    "elif joke == 5:\n",
    "  print('Did you hear about the claustrophobic astronaut?')\n",
    "  print('He just needed a little space.')\n",
    "elif joke == 6:\n",
    "  print('''Why don’t scientists trust atoms? \n",
    "Because they make up everything.''')\n",
    "elif joke == 7:\n",
    "  print('''Why should the number 288 never be mentioned?\n",
    "It’s two gross. - 1 gross is 144''')\n",
    "else: \n",
    "  print('Joke list from 1 to 7')"
   ]
  },
  {
   "cell_type": "markdown",
   "metadata": {
    "id": "zjz2V0U3J2Gg"
   },
   "source": [
    "You can use 'or' and 'and' to produce simpler and shorter codes"
   ]
  },
  {
   "cell_type": "code",
   "execution_count": null,
   "metadata": {
    "colab": {
     "base_uri": "https://localhost:8080/"
    },
    "id": "1hz2hGDpJGMo",
    "outputId": "8b3776bc-40cd-4f63-fe65-a4f0ab907326"
   },
   "outputs": [
    {
     "name": "stdout",
     "output_type": "stream",
     "text": [
      "What is 13 + 49 + 84 + 155 + 97? A headache!\n"
     ]
    }
   ],
   "source": [
    "age = 10       \n",
    "\n",
    "if age == 10 or age == 11 or age == 12 or age == 13:    \n",
    "  print('What is 13 + 49 + 84 + 155 + 97? A headache!')\n",
    "else:\n",
    "  print('You do not meet the age requirements!')"
   ]
  },
  {
   "cell_type": "code",
   "execution_count": null,
   "metadata": {
    "colab": {
     "base_uri": "https://localhost:8080/"
    },
    "id": "FJJlWEMtJjkL",
    "outputId": "7c81bc63-c32e-4173-8fc6-65f1f8bf3144"
   },
   "outputs": [
    {
     "name": "stdout",
     "output_type": "stream",
     "text": [
      "So you are interested to learn coding?\n"
     ]
    }
   ],
   "source": [
    "age =  12\n",
    "\n",
    "if age >= 10 and age <= 15:\n",
    "  print('So you are interested to learn coding?')\n",
    "else:\n",
    "  print('Sorry your age does not meet the requirements :(')"
   ]
  },
  {
   "cell_type": "markdown",
   "metadata": {
    "id": "-HMv7IpONuEj"
   },
   "source": [
    "0 is a number. None is not a number"
   ]
  },
  {
   "cell_type": "code",
   "execution_count": null,
   "metadata": {
    "colab": {
     "base_uri": "https://localhost:8080/"
    },
    "id": "1fb7G7SZN_6R",
    "outputId": "f91436d9-475d-49b4-e8e9-6bb4c214286e"
   },
   "outputs": [
    {
     "name": "stdout",
     "output_type": "stream",
     "text": [
      "None\n"
     ]
    }
   ],
   "source": [
    "num = None\n",
    "print(num)"
   ]
  },
  {
   "cell_type": "code",
   "execution_count": null,
   "metadata": {
    "colab": {
     "base_uri": "https://localhost:8080/"
    },
    "id": "6_AbrTUFOJdi",
    "outputId": "437d1737-c961-4f81-a31b-3922d3e14f9f"
   },
   "outputs": [
    {
     "name": "stdout",
     "output_type": "stream",
     "text": [
      "None does not have a value\n"
     ]
    }
   ],
   "source": [
    "num = None\n",
    "if num == None:\n",
    "  print('None does not have a value')"
   ]
  },
  {
   "cell_type": "markdown",
   "metadata": {
    "id": "ZQuCMTZGOm_l"
   },
   "source": [
    "You cannot add a string to if"
   ]
  },
  {
   "cell_type": "code",
   "execution_count": null,
   "metadata": {
    "colab": {
     "base_uri": "https://localhost:8080/"
    },
    "id": "KAdF3f7eOiVU",
    "outputId": "cb11a17f-ff37-4ca3-9a2c-c484c722e7be"
   },
   "outputs": [
    {
     "name": "stdout",
     "output_type": "stream",
     "text": [
      "This is a number\n"
     ]
    }
   ],
   "source": [
    "num = 10\n",
    "if num == 10: \n",
    "  print('This is a number')"
   ]
  },
  {
   "cell_type": "code",
   "execution_count": null,
   "metadata": {
    "id": "aHR47IgrO8Dc"
   },
   "outputs": [],
   "source": [
    "num = '10'      # Nothing runs as this is a string and not a number \n",
    "if num == 10:        \n",
    "  print('This is a string')"
   ]
  },
  {
   "cell_type": "markdown",
   "metadata": {
    "id": "JSnx2GZGSvxU"
   },
   "source": [
    "To solve this problem, we need to convert it using *int*.  This is useful in the future.   *int* converts a string into a number"
   ]
  },
  {
   "cell_type": "code",
   "execution_count": null,
   "metadata": {
    "colab": {
     "base_uri": "https://localhost:8080/"
    },
    "id": "PjzXmUAIRubO",
    "outputId": "33b22397-11e4-4a99-e7e0-5330aa55b5b0"
   },
   "outputs": [
    {
     "name": "stdout",
     "output_type": "stream",
     "text": [
      "This is a string\n"
     ]
    }
   ],
   "source": [
    "num = '10'      \n",
    "new_num = int(num)    # Use int(-)\n",
    "\n",
    "if new_num == 10:        \n",
    "  print('This is a string')"
   ]
  },
  {
   "cell_type": "markdown",
   "metadata": {
    "id": "9gchz9rHTfdQ"
   },
   "source": [
    "To convert a number into a string, we use *str*"
   ]
  },
  {
   "cell_type": "code",
   "execution_count": null,
   "metadata": {
    "colab": {
     "base_uri": "https://localhost:8080/"
    },
    "id": "lzN64kRHTsbE",
    "outputId": "88adf882-b1ca-497b-9a0e-1388cd09d1d4"
   },
   "outputs": [
    {
     "name": "stdout",
     "output_type": "stream",
     "text": [
      "10 wow\n"
     ]
    }
   ],
   "source": [
    "num = 10\n",
    "new_num = str(num)\n",
    "\n",
    "print(new_num + ' wow')   # Numbers and strings dont go together so we can see that new num is a string"
   ]
  },
  {
   "cell_type": "markdown",
   "metadata": {
    "id": "YHweHsZ1UL1V"
   },
   "source": [
    "However, you will get an error if you try to convert a decimal as it only accepts integer(whole no.). So you must use float"
   ]
  },
  {
   "cell_type": "code",
   "execution_count": null,
   "metadata": {
    "colab": {
     "base_uri": "https://localhost:8080/"
    },
    "id": "8xG39XA0UKF-",
    "outputId": "8837be2d-0fb4-4a5b-bc51-47a7e5dc9818"
   },
   "outputs": [
    {
     "name": "stdout",
     "output_type": "stream",
     "text": [
      "10.5\n"
     ]
    }
   ],
   "source": [
    "num = '10.5'\n",
    "new_num = float(num)\n",
    "print(new_num)"
   ]
  },
  {
   "cell_type": "markdown",
   "metadata": {
    "id": "w30yd41SKn1D"
   },
   "source": [
    "You will get a ValueError if you try converting a string that does not contain a number"
   ]
  },
  {
   "cell_type": "markdown",
   "metadata": {
    "id": "do7RemTULECV"
   },
   "source": [
    "***Programming puzzle - pg 65***"
   ]
  },
  {
   "cell_type": "markdown",
   "metadata": {
    "id": "vnOqTwoiLKkj"
   },
   "source": [
    "***1: Are You Rich?***\n",
    "\n",
    "What do you think the following code will do? Try to figure out\n",
    "the answer without typing it into the shell, and then check your\n",
    "answer."
   ]
  },
  {
   "cell_type": "code",
   "execution_count": null,
   "metadata": {
    "colab": {
     "base_uri": "https://localhost:8080/"
    },
    "id": "T6i0bC0nLRa6",
    "outputId": "7d541e49-08c9-41d4-8703-05517fd5b759"
   },
   "outputs": [
    {
     "name": "stdout",
     "output_type": "stream",
     "text": [
      "I'm rich!!\n"
     ]
    }
   ],
   "source": [
    "money = 2000\n",
    "if money > 1000:\n",
    " print(\"I'm rich!!\")\n",
    "else:\n",
    " print(\"I'm not rich!!\")\n",
    " print(\"But I might be later...\")"
   ]
  },
  {
   "cell_type": "markdown",
   "metadata": {
    "id": "DjuUT-QbLewU"
   },
   "source": [
    "The programme checks if you are rich. If you have more than 1000 money, you are considered rich."
   ]
  },
  {
   "cell_type": "markdown",
   "metadata": {
    "id": "6LgHWDenLs0Y"
   },
   "source": [
    "***2: Twinkies!***\n",
    "\n",
    "Create an if statement that checks whether a number of Twinkies\n",
    "(in the variable twinkies) is less than 100 or greater than 500. Your\n",
    "program should print the message “Too few or too many” if the\n",
    "condition is true."
   ]
  },
  {
   "cell_type": "code",
   "execution_count": null,
   "metadata": {
    "id": "ZS3rf1OxL0pR"
   },
   "outputs": [],
   "source": [
    "twinkies = 500\n",
    "if twinkies < 100 or twinkies > 500:\n",
    "  print('Too few or too many')"
   ]
  },
  {
   "cell_type": "markdown",
   "metadata": {
    "id": "zq0h_8BHMT2d"
   },
   "source": [
    "***3: Just the Right Number***\n",
    "\n",
    "Create an if statement that checks whether the amount of money\n",
    "contained in the variable money is between 100 and 500 or between\n",
    "1,000 and 5,000."
   ]
  },
  {
   "cell_type": "code",
   "execution_count": null,
   "metadata": {
    "colab": {
     "base_uri": "https://localhost:8080/"
    },
    "id": "neeZMIFSMZbx",
    "outputId": "0c7de75d-3927-4bc6-ad1f-96a899ac8fad"
   },
   "outputs": [
    {
     "name": "stdout",
     "output_type": "stream",
     "text": [
      "Money between 1000 and 5000\n"
     ]
    }
   ],
   "source": [
    "money = 1005\n",
    "if money > 100 and money < 500:\n",
    "  print('Money between 100 and 500')\n",
    "elif money > 1000 and money < 5000:\n",
    "  print('Money between 1000 and 5000')"
   ]
  },
  {
   "cell_type": "markdown",
   "metadata": {
    "id": "zxpvy0n-Ow9O"
   },
   "source": [
    "***4: I Can Fight Those Ninjas***\n",
    "Create an if statement that prints the string “That’s too many”\n",
    "if the variable ninjas contains a number that’s less than 50, prints\n",
    "“It’ll be a struggle, but I can take ’em” if it’s less than 30, and\n",
    "prints “I can fight those ninjas!” if it’s less than 10. You might\n",
    "try out your code with: ninjas = 5"
   ]
  },
  {
   "cell_type": "code",
   "execution_count": null,
   "metadata": {
    "colab": {
     "base_uri": "https://localhost:8080/"
    },
    "id": "y1dqmusePcwQ",
    "outputId": "799c7c93-8ffb-4107-d33c-881aa8c51256"
   },
   "outputs": [
    {
     "name": "stdout",
     "output_type": "stream",
     "text": [
      "I can fight those ninjas!\n"
     ]
    }
   ],
   "source": [
    "ninjas = 9\n",
    "if ninjas < 50 and ninjas >= 30:\n",
    "  print('That’s too many')\n",
    "elif ninjas < 30 and ninjas >= 10:\n",
    "  print('''It’ll be a struggle, but I can take ’em''')\n",
    "elif ninjas < 10:\n",
    "  print('I can fight those ninjas!')"
   ]
  },
  {
   "cell_type": "markdown",
   "metadata": {
    "id": "4dqRqQt1RX2y"
   },
   "source": [
    "# Chapter 6 - Going loopy"
   ]
  },
  {
   "cell_type": "markdown",
   "metadata": {
    "id": "TfgLf6oLRi9l"
   },
   "source": [
    "for loops repeat a set of codes a number of times until it is complete. This can help us reduce the amount of codes we need to write if we need to repeat a set of codes multiple times."
   ]
  },
  {
   "cell_type": "code",
   "execution_count": null,
   "metadata": {
    "colab": {
     "base_uri": "https://localhost:8080/"
    },
    "id": "AT22Wo7uRgXg",
    "outputId": "c93dcc61-ffa1-4d5b-d5ba-8a2ef4b42fe9"
   },
   "outputs": [
    {
     "name": "stdout",
     "output_type": "stream",
     "text": [
      "hello\n",
      "hello\n",
      "hello\n",
      "hello\n",
      "hello\n"
     ]
    }
   ],
   "source": [
    "for x in range(0,5):   # Don't forget :\n",
    "  print('hello')"
   ]
  },
  {
   "cell_type": "code",
   "execution_count": null,
   "metadata": {
    "colab": {
     "base_uri": "https://localhost:8080/"
    },
    "id": "7e51_sI1SrVG",
    "outputId": "ce858cab-e613-4a90-80de-eff3c9d6f6ce"
   },
   "outputs": [
    {
     "name": "stdout",
     "output_type": "stream",
     "text": [
      "[10, 11, 12, 13, 14, 15, 16, 17, 18, 19]\n"
     ]
    }
   ],
   "source": [
    "print(list(range(10,20)))"
   ]
  },
  {
   "cell_type": "markdown",
   "metadata": {
    "id": "-wRFXHPkS0eB"
   },
   "source": [
    "The code is telling Python to \n",
    "\n",
    "start counting from 0 and stop before reaching 5 and \n",
    "\n",
    "for each number we count, store the value in the variable x."
   ]
  },
  {
   "cell_type": "code",
   "execution_count": null,
   "metadata": {
    "colab": {
     "base_uri": "https://localhost:8080/"
    },
    "id": "n5vI9W1JTH7X",
    "outputId": "f1faf0a9-93d2-4124-d6a6-2975245eeb43"
   },
   "outputs": [
    {
     "name": "stdout",
     "output_type": "stream",
     "text": [
      "hello 0\n",
      "hello 1\n",
      "hello 2\n",
      "hello 3\n",
      "hello 4\n"
     ]
    }
   ],
   "source": [
    "for x in range(0,5):\n",
    "  print('hello %s' % x)"
   ]
  },
  {
   "cell_type": "code",
   "execution_count": null,
   "metadata": {
    "colab": {
     "base_uri": "https://localhost:8080/"
    },
    "id": "AaiY62gjT6aF",
    "outputId": "94b7667c-ac1a-43bc-bb3b-87f8749ee161"
   },
   "outputs": [
    {
     "name": "stdout",
     "output_type": "stream",
     "text": [
      "water\n",
      "food\n",
      "air\n",
      "games\n",
      "house\n",
      "bed\n",
      "tv\n",
      "soap\n"
     ]
    }
   ],
   "source": [
    "mylist = ['water', 'food', 'air', 'games', 'house', 'bed', 'tv', 'soap']\n",
    "for i in mylist:    # The code is asking Python to store each mylist variable in i\n",
    "  print(i)"
   ]
  },
  {
   "cell_type": "code",
   "execution_count": null,
   "metadata": {
    "colab": {
     "base_uri": "https://localhost:8080/"
    },
    "id": "2OiMvrv9UZkF",
    "outputId": "07db42b8-e97d-4f05-d552-90788f66264d"
   },
   "outputs": [
    {
     "name": "stdout",
     "output_type": "stream",
     "text": [
      "water\n",
      "water\n",
      "mango\n",
      "mango\n",
      "apple\n",
      "apple\n"
     ]
    }
   ],
   "source": [
    "foodlist = ['water','mango','apple']\n",
    "for i in foodlist:\n",
    "  print(i)    # This command prints two of each item in the list\n",
    "  print(i)    # Dont forget about indentation error"
   ]
  },
  {
   "cell_type": "code",
   "execution_count": null,
   "metadata": {
    "colab": {
     "base_uri": "https://localhost:8080/"
    },
    "id": "n6ICZ8cfXPIq",
    "outputId": "4b07f981-d785-4ae5-9c3e-6aa4a5bbddd7"
   },
   "outputs": [
    {
     "name": "stdout",
     "output_type": "stream",
     "text": [
      "Week 1 = 87\n",
      "Week 2 = 154\n",
      "Week 3 = 221\n",
      "Week 4 = 288\n",
      "Week 5 = 355\n",
      "Week 6 = 422\n",
      "Week 7 = 489\n",
      "Week 8 = 556\n",
      "Week 9 = 623\n",
      "Week 10 = 690\n",
      "Week 11 = 757\n",
      "Week 12 = 824\n",
      "Week 13 = 891\n",
      "Week 14 = 958\n",
      "Week 15 = 1025\n",
      "Week 16 = 1092\n",
      "Week 17 = 1159\n",
      "Week 18 = 1226\n",
      "Week 19 = 1293\n",
      "Week 20 = 1360\n",
      "Week 21 = 1427\n",
      "Week 22 = 1494\n",
      "Week 23 = 1561\n",
      "Week 24 = 1628\n",
      "Week 25 = 1695\n",
      "Week 26 = 1762\n",
      "Week 27 = 1829\n",
      "Week 28 = 1896\n",
      "Week 29 = 1963\n",
      "Week 30 = 2030\n",
      "Week 31 = 2097\n",
      "Week 32 = 2164\n",
      "Week 33 = 2231\n",
      "Week 34 = 2298\n",
      "Week 35 = 2365\n",
      "Week 36 = 2432\n",
      "Week 37 = 2499\n",
      "Week 38 = 2566\n",
      "Week 39 = 2633\n",
      "Week 40 = 2700\n",
      "Week 41 = 2767\n",
      "Week 42 = 2834\n",
      "Week 43 = 2901\n",
      "Week 44 = 2968\n",
      "Week 45 = 3035\n",
      "Week 46 = 3102\n",
      "Week 47 = 3169\n",
      "Week 48 = 3236\n",
      "Week 49 = 3303\n",
      "Week 50 = 3370\n",
      "Week 51 = 3437\n",
      "Week 52 = 3504\n"
     ]
    }
   ],
   "source": [
    "found_coins = 20\n",
    "magic_coins = 70\n",
    "stolen_coins = 3\n",
    "coins = found_coins\n",
    "for week in range(1, 53):\n",
    "  coins = coins + magic_coins - stolen_coins\n",
    "  print('Week %s = %s' % (week, coins))"
   ]
  },
  {
   "cell_type": "code",
   "execution_count": null,
   "metadata": {
    "colab": {
     "base_uri": "https://localhost:8080/"
    },
    "id": "AqIbUrlcYWS3",
    "outputId": "4b27fe24-1bbc-4e76-9bd9-26b38f14681b"
   },
   "outputs": [
    {
     "name": "stdout",
     "output_type": "stream",
     "text": [
      "0\n",
      "40\n",
      "80\n",
      "120\n",
      "160\n",
      "200\n",
      "240\n",
      "280\n",
      "320\n",
      "360\n"
     ]
    }
   ],
   "source": [
    "raws1 = 20\n",
    "raws2 = 19\n",
    "for x in range(0,10):\n",
    "  totals = (raws1*x)+(raws2*x)\n",
    "  print( x + totals)"
   ]
  },
  {
   "cell_type": "markdown",
   "metadata": {
    "id": "edvu4CCRuW8O"
   },
   "source": [
    "While loops ->"
   ]
  },
  {
   "cell_type": "code",
   "execution_count": null,
   "metadata": {
    "colab": {
     "base_uri": "https://localhost:8080/"
    },
    "id": "3ZAgsACevkue",
    "outputId": "3c31803a-6fbf-4127-d704-451948daa051"
   },
   "outputs": [
    {
     "name": "stdout",
     "output_type": "stream",
     "text": [
      "1\n",
      "2\n",
      "3\n",
      "4\n",
      "5\n",
      "6\n",
      "7\n",
      "8\n",
      "9\n",
      "10\n"
     ]
    }
   ],
   "source": [
    "step = 0\n",
    "while step < 10:   # Command for while loop  \n",
    "                    # This programme will run until step reacher 9 (< 10)\n",
    "  step = step + 1   # Pythin will execute the rest of the command  until step reaches 9\n",
    "  print(step)"
   ]
  },
  {
   "cell_type": "code",
   "execution_count": null,
   "metadata": {
    "colab": {
     "base_uri": "https://localhost:8080/"
    },
    "id": "TGF4oHQSGIiT",
    "outputId": "5023fff1-d44c-4f82-eeed-41895a87d363"
   },
   "outputs": [
    {
     "name": "stdout",
     "output_type": "stream",
     "text": [
      "1\n",
      "2\n",
      "3\n",
      "4\n",
      "5\n",
      "6\n",
      "7\n",
      "8\n"
     ]
    }
   ],
   "source": [
    "step = 0\n",
    "while step < 10:\n",
    "  step = step +1\n",
    "  print(step)       # break is the keyword to jump out of the loop\n",
    "  if step == 8:      # In this case the loop will end once step=8 \n",
    "    break           # The code will stop once it has done 8 loops"
   ]
  },
  {
   "cell_type": "code",
   "execution_count": null,
   "metadata": {
    "colab": {
     "base_uri": "https://localhost:8080/"
    },
    "id": "sqyWTtZ1FsDx",
    "outputId": "967cd9d8-fe9a-4dc3-c030-7533f0048872"
   },
   "outputs": [
    {
     "name": "stdout",
     "output_type": "stream",
     "text": [
      "46 81\n",
      "47 82\n",
      "48 83\n",
      "49 84\n",
      "50 85\n"
     ]
    }
   ],
   "source": [
    "x = 45 \n",
    "y = 80         # While loop is usually used together with other variables\n",
    "while x < 50 and y < 100:\n",
    "  x = x + 1 \n",
    "  y = y + 1 \n",
    "  print(x,y)"
   ]
  },
  {
   "cell_type": "markdown",
   "metadata": {
    "id": "2pP2A8BeIw_0"
   },
   "source": [
    "***1: The Hello Loop***\n",
    "\n",
    "What do you think the following code will do? First, guess what\n",
    "will happen, and then run the code in Python to see if you were\n",
    "right."
   ]
  },
  {
   "cell_type": "code",
   "execution_count": null,
   "metadata": {
    "colab": {
     "base_uri": "https://localhost:8080/"
    },
    "id": "zZ9aqrLoIzLx",
    "outputId": "639df7e0-e23d-435f-e76b-1ec11d16a8c1"
   },
   "outputs": [
    {
     "name": "stdout",
     "output_type": "stream",
     "text": [
      "hello 0\n"
     ]
    }
   ],
   "source": [
    "for x in range(0, 20):\n",
    " print('hello %s' % x)\n",
    " if x < 9:\n",
    "  break"
   ]
  },
  {
   "cell_type": "markdown",
   "metadata": {
    "id": "hZxj1SNBJBTx"
   },
   "source": [
    "The code will say hello 0\n",
    "\n",
    "it will run once as when x is less than 9 which is when you run x = 0"
   ]
  },
  {
   "cell_type": "markdown",
   "metadata": {
    "id": "x2EvCM56L2Oq"
   },
   "source": [
    "\n",
    "\n",
    "***2: Even Numbers***\n",
    "\n",
    "Create a loop that prints even numbers until it reaches your year\n",
    "of age or, if your age is an odd number, prints out odd numbers\n",
    "until it reaches your age. For example, it might print out something like this:\n",
    "\n",
    "2\n",
    "\n",
    "4\n",
    "\n",
    "6\n",
    "\n",
    "8\n",
    "\n",
    "10\n",
    "\n",
    "12\n",
    "\n",
    "14\n",
    "\n",
    "\n",
    "\n"
   ]
  },
  {
   "cell_type": "code",
   "execution_count": null,
   "metadata": {
    "colab": {
     "base_uri": "https://localhost:8080/"
    },
    "id": "Fk1r-LKBLQ4d",
    "outputId": "57b148a2-b6ee-4bd4-e7a2-26c4a22dded4"
   },
   "outputs": [
    {
     "name": "stdout",
     "output_type": "stream",
     "text": [
      "2\n",
      "4\n",
      "6\n",
      "8\n",
      "10\n",
      "12\n",
      "14\n"
     ]
    }
   ],
   "source": [
    "x = 0\n",
    "while x < 100:\n",
    "  x = x + 2\n",
    "  print(x)\n",
    "  if x == 14:\n",
    "    break"
   ]
  },
  {
   "cell_type": "markdown",
   "metadata": {
    "id": "8WGvsyHndbc6"
   },
   "source": [
    "***3: My Five Favorite Ingredients***\n",
    "Create a list containing five different sandwich ingredients, such\n",
    "as the following:\n",
    "\n",
    "*ingredients = ['snails', 'leeches', 'gorilla belly-button lint',\n",
    " 'caterpillar eyebrows', 'centipede toes']*\n",
    "\n",
    "**Now create a loop that prints out the list (including the numbers):**\n",
    "\n",
    "\n",
    "1 snails\n",
    "\n",
    "2 leeches\n",
    "\n",
    "3 gorilla belly-button lint\n",
    "\n",
    "4 caterpillar eyebrows\n",
    "\n",
    "5 centipede toes"
   ]
  },
  {
   "cell_type": "code",
   "execution_count": null,
   "metadata": {
    "colab": {
     "base_uri": "https://localhost:8080/"
    },
    "id": "kU09nP8rdkGc",
    "outputId": "106d0e62-7b26-4fcb-bcce-f7ed5a2b5bb3"
   },
   "outputs": [
    {
     "name": "stdout",
     "output_type": "stream",
     "text": [
      "1 snails\n",
      "2 leeches\n",
      "3 gorilla belly-button lint\n",
      "4 caterpillar eyebrows\n",
      "5 centipede toes\n"
     ]
    }
   ],
   "source": [
    "ingredients = ['snails', 'leeches', 'gorilla belly-button lint', 'caterpillar eyebrows', 'centipede toes']\n",
    "\n",
    "for x in range(0,5):\n",
    "  y = x \n",
    "  x = x + 1\n",
    "  print( x, ingredients[y])"
   ]
  },
  {
   "cell_type": "markdown",
   "metadata": {
    "id": "mI5MiYfPfKvj"
   },
   "source": [
    "***4: Your Weight on the Moon***\n",
    "\n",
    "If you were standing on the moon right now, your weight would be\n",
    "16.5 percent of what it is on Earth. You can calculate that by multiplying your Earth weight by 0.165.\n",
    "If you gained a kilo in weight every year for the next 15 years,\n",
    "what would your weight be when you visited the moon each year\n",
    "and at the end of the 15 years? Write a program using a for loop\n",
    "that prints your moon weight for each year."
   ]
  },
  {
   "cell_type": "code",
   "execution_count": null,
   "metadata": {
    "colab": {
     "base_uri": "https://localhost:8080/"
    },
    "id": "3PIBFv_1fRWu",
    "outputId": "27ed0d34-85ff-43a7-c147-6f5b313cbcf1"
   },
   "outputs": [
    {
     "name": "stdout",
     "output_type": "stream",
     "text": [
      "1 10.065000000000001\n",
      "2 10.23\n",
      "3 10.395000000000001\n",
      "4 10.56\n",
      "5 10.725\n",
      "6 10.89\n",
      "7 11.055\n",
      "8 11.22\n",
      "9 11.385\n",
      "10 11.55\n",
      "11 11.715\n",
      "12 11.88\n",
      "13 12.045\n",
      "14 12.21\n",
      "15 12.375\n"
     ]
    }
   ],
   "source": [
    "weight = 60\n",
    "for x in range(1,16):\n",
    "  print( x, (weight+x*1)*0.165)"
   ]
  },
  {
   "cell_type": "markdown",
   "metadata": {
    "id": "UYJeNGiTgeKt"
   },
   "source": [
    "# Chapter 7 - Recycling Your Code with Functions and Modules"
   ]
  },
  {
   "cell_type": "markdown",
   "metadata": {
    "id": "2FUUGYAzgxCu"
   },
   "source": [
    "Functions are a set of code that tell Python to do something. They are one way to reuse code — you can use functions in your\n",
    "programs again and again.   ***It is like a set of instructions***"
   ]
  },
  {
   "cell_type": "code",
   "execution_count": null,
   "metadata": {
    "colab": {
     "base_uri": "https://localhost:8080/"
    },
    "id": "DpFNsopigqPw",
    "outputId": "e1ded90b-e82d-4578-9c8c-2e5c4b18eeec"
   },
   "outputs": [
    {
     "name": "stdout",
     "output_type": "stream",
     "text": [
      "hello mehrab\n"
     ]
    }
   ],
   "source": [
    "def testfunc(myname):   # You start a function by writing def, then the name you want to give the \n",
    "                        # function then write the parametre (special variable) inside the bracket\n",
    " print('hello %s' % myname)      # After that you give the instructions for what the function\n",
    "                                 # will do.\n",
    "\n",
    "\n",
    "testfunc('mehrab')       # Now you write the function name and set values to the parametres"
   ]
  },
  {
   "cell_type": "markdown",
   "metadata": {
    "id": "fJBHlC_5rZxw"
   },
   "source": [
    "Parametres are special variables that can only be used inside a function."
   ]
  },
  {
   "cell_type": "code",
   "execution_count": null,
   "metadata": {
    "colab": {
     "base_uri": "https://localhost:8080/"
    },
    "id": "Xmkttkv0jJvK",
    "outputId": "203a236b-375e-4bbb-e328-db0267024234"
   },
   "outputs": [
    {
     "name": "stdout",
     "output_type": "stream",
     "text": [
      "hello mehrab rahman\n"
     ]
    }
   ],
   "source": [
    "def name(name1,name2):\n",
    "  print('hello %s %s' %(name1,name2))\n",
    "\n",
    "name('mehrab','rahman')"
   ]
  },
  {
   "cell_type": "code",
   "execution_count": null,
   "metadata": {
    "colab": {
     "base_uri": "https://localhost:8080/"
    },
    "id": "j-Y35Jgpjvk4",
    "outputId": "f6e08e37-a332-48d1-ab07-c406106c772e"
   },
   "outputs": [
    {
     "name": "stdout",
     "output_type": "stream",
     "text": [
      "5\n"
     ]
    }
   ],
   "source": [
    "def savings(pocket_money, paper_route, spending):\n",
    " return pocket_money + paper_route - spending   # Return is used to return the function\n",
    "\n",
    "print(savings(10,15,20))"
   ]
  },
  {
   "cell_type": "code",
   "execution_count": null,
   "metadata": {
    "colab": {
     "base_uri": "https://localhost:8080/"
    },
    "id": "nQ4_E8fWqkjR",
    "outputId": "79dd8da9-f4e5-43ad-faf5-300bf524173e"
   },
   "outputs": [
    {
     "name": "stdout",
     "output_type": "stream",
     "text": [
      "30\n"
     ]
    }
   ],
   "source": [
    "def vartest():         # This is a function that uses variables instead of parametres\n",
    "  var1 = 10            # However this variable still cant be used outside of the function\n",
    "  var2 = 20\n",
    "  return var1 + var2\n",
    "\n",
    "print(vartest())"
   ]
  },
  {
   "cell_type": "code",
   "execution_count": null,
   "metadata": {
    "colab": {
     "base_uri": "https://localhost:8080/"
    },
    "id": "0mfpR4Ogrhnl",
    "outputId": "8524b98a-5ffe-4b7f-eda0-01dc8c5a61ee"
   },
   "outputs": [
    {
     "name": "stdout",
     "output_type": "stream",
     "text": [
      "60\n"
     ]
    }
   ],
   "source": [
    "var3 = 30\n",
    "def vartest():\n",
    "  var1 = 10\n",
    "  var2 = 20\n",
    "  return var1 + var2 + var3\n",
    "\n",
    "print(vartest())\n"
   ]
  },
  {
   "cell_type": "code",
   "execution_count": null,
   "metadata": {
    "colab": {
     "base_uri": "https://localhost:8080/"
    },
    "id": "MoKQHai5fJPB",
    "outputId": "850e6f6f-deef-46ec-a714-ed43e292d928"
   },
   "outputs": [
    {
     "name": "stdout",
     "output_type": "stream",
     "text": [
      "12.375\n"
     ]
    }
   ],
   "source": [
    "def moonweight(weight,increase,year):\n",
    "  return (weight+increase*year)*0.165\n",
    "\n",
    "print(moonweight(60,1,15))"
   ]
  },
  {
   "cell_type": "code",
   "execution_count": null,
   "metadata": {
    "colab": {
     "base_uri": "https://localhost:8080/"
    },
    "id": "aFvi8oPIiDQd",
    "outputId": "85e9a507-f1cf-49ef-da4e-e9745f29136e"
   },
   "outputs": [
    {
     "name": "stdout",
     "output_type": "stream",
     "text": [
      "year 1 = 10.065000000000001\n",
      "year 2 = 10.23\n",
      "year 3 = 10.395000000000001\n",
      "year 4 = 10.56\n",
      "year 5 = 10.725\n",
      "year 6 = 10.89\n",
      "year 7 = 11.055\n",
      "year 8 = 11.22\n",
      "year 9 = 11.385\n",
      "year 10 = 11.55\n",
      "year 11 = 11.715\n",
      "year 12 = 11.88\n",
      "year 13 = 12.045\n",
      "year 14 = 12.21\n",
      "year 15 = 12.375\n"
     ]
    }
   ],
   "source": [
    "def moonweight(weight,increase,year):\n",
    "  for x in range(1,year+1):\n",
    "    monw = (weight+increase*x)*0.165\n",
    "    print('year %s = %s' %(x,monw))\n",
    "\n",
    "moonweight(60,1,15)"
   ]
  },
  {
   "cell_type": "markdown",
   "metadata": {
    "id": "E84vHWodmFre"
   },
   "source": [
    "***Modules***\n",
    "\n",
    "Modules are used to group functions, variables, and other things\n",
    "together into larger, more powerful programs. Some modules are\n",
    "built in to Python, and you\n",
    "can download other modules\n",
    "separately."
   ]
  },
  {
   "cell_type": "code",
   "execution_count": null,
   "metadata": {
    "colab": {
     "base_uri": "https://localhost:8080/"
    },
    "id": "eHc2bQ44lduZ",
    "outputId": "2137721d-d54b-42ee-df33-43df2f4184f1"
   },
   "outputs": [
    {
     "name": "stdout",
     "output_type": "stream",
     "text": [
      "Sun Dec  5 05:47:54 2021\n"
     ]
    }
   ],
   "source": [
    "import time           # For time\n",
    "print(time.asctime())"
   ]
  },
  {
   "cell_type": "code",
   "execution_count": null,
   "metadata": {
    "colab": {
     "base_uri": "https://localhost:8080/"
    },
    "id": "CVyLMdWinsz3",
    "outputId": "b90bcd95-5672-46a3-de44-feb2ba343e4a"
   },
   "outputs": [
    {
     "name": "stdout",
     "output_type": "stream",
     "text": [
      "\n",
      "What is your name: m\n",
      "hello m\n"
     ]
    }
   ],
   "source": [
    "import sys                               # Use this in other IDLE\n",
    "print(sys.stdin.readline())              # Colab cannot use this\n",
    "\n",
    "name = input('What is your name: ')      # Colab uses input only\n",
    "print('hello %s'% name)"
   ]
  },
  {
   "cell_type": "code",
   "execution_count": null,
   "metadata": {
    "colab": {
     "base_uri": "https://localhost:8080/"
    },
    "id": "iqgxlPs3otsk",
    "outputId": "30ecbb6e-bf79-49e0-8384-0f0cc6343f40"
   },
   "outputs": [
    {
     "name": "stdout",
     "output_type": "stream",
     "text": [
      "How old are you?: 14\n",
      "Huh?\n"
     ]
    }
   ],
   "source": [
    "\n",
    "\n",
    "def silly_age_joke():\n",
    " age1 = input('How old are you?: ')\n",
    " age = int(age1)                    # Use int to convert the string into a integer\n",
    " if age >= 10 and age <= 13:\n",
    "  print('What is 13 + 49 + 84 + 155 + 97? A headache!')\n",
    " else:\n",
    "  print('Huh?')\n",
    "\n",
    "silly_age_joke()"
   ]
  },
  {
   "cell_type": "markdown",
   "metadata": {
    "id": "shIhHKXzr3SL"
   },
   "source": [
    "Programming puzzles have been done above  (pg 90)"
   ]
  },
  {
   "cell_type": "markdown",
   "metadata": {
    "id": "gJ_7CR_Fr-Yi"
   },
   "source": [
    "# Chapter 8 - How to Use Classes and Objects"
   ]
  },
  {
   "cell_type": "markdown",
   "metadata": {
    "id": "621cI4VWFzb_"
   },
   "source": [
    "Classes are a category of things\n",
    "\n",
    "Objects are items that can be catagorised into classes\n",
    "\n",
    "Classes are used to organise things into classes"
   ]
  },
  {
   "cell_type": "code",
   "execution_count": null,
   "metadata": {
    "id": "G1eT3mQsGAod"
   },
   "outputs": [],
   "source": [
    "class Things:    # Things is the name of the class\n",
    "  pass        # pass to let Python know that we are not going to give any more information\n",
    "\n",
    "class Inanimate(Things):  # If a class is part of another class it is a children\n",
    "  pass                    # and the other class is the parent. In this case Inanimate is the \n",
    "                          # children of Things and Things is the parent\n",
    "class Animate(Things):\n",
    "  pass\n",
    "\n",
    "class Animals(Animate):\n",
    "  pass \n",
    "\n",
    "class Mammles(Animals):\n",
    "  pass\n",
    "\n",
    "class Dog(Mammles):\n",
    "  pass\n",
    "\n",
    "\n",
    "stan = Dog()       # The name of the dog is stan. This is how we add an object to a class\n",
    "                   # This code tells Python to create an object in the "
   ]
  },
  {
   "cell_type": "code",
   "execution_count": null,
   "metadata": {
    "colab": {
     "base_uri": "https://localhost:8080/"
    },
    "id": "uldh2ND-LmHe",
    "outputId": "248e9b1c-3cab-42b8-fe1d-b0a8a06561ef"
   },
   "outputs": [
    {
     "name": "stdout",
     "output_type": "stream",
     "text": [
      "moving\n",
      "moving\n"
     ]
    }
   ],
   "source": [
    "class Things:             # Refer to pg 95\n",
    "  pass\n",
    "\n",
    "class Inanimate(Things):\n",
    "  pass\n",
    "\n",
    "class Animate(Things):\n",
    "  pass\n",
    "\n",
    "class Animals(Animate):\n",
    "  def breathe(self):     # Defining a function self parameter is a way for one function \n",
    "    print('breathing')   # in the class to call another function in the\n",
    "                         # class (and in the parent class)\n",
    "  def move(self):\n",
    "    print('moving')\n",
    "\n",
    "  def eat_food(self):\n",
    "    print('eating food')\n",
    "\n",
    "class Mammals(Animals):\n",
    "  def feed_young_with_milk(self):\n",
    "    pass\n",
    "\n",
    "class Dog(Mammals):\n",
    "  def eat_dog_food(self):           # The dog has all the characteristics of animal and mammal\n",
    "    pass                            # The dog can still use the function of animals and mammal\n",
    "\n",
    "stan = Dog()\n",
    "stan.move()\n",
    "\n",
    "\n",
    "ralph = Dog()     # New object\n",
    "ralph.move()      \n",
    "\n"
   ]
  },
  {
   "cell_type": "code",
   "execution_count": null,
   "metadata": {
    "colab": {
     "base_uri": "https://localhost:8080/"
    },
    "id": "_rI40Kg8twbE",
    "outputId": "e2822c78-9ecd-4920-cd16-240451f588c5"
   },
   "outputs": [
    {
     "name": "stdout",
     "output_type": "stream",
     "text": [
      "move\n",
      "move\n",
      "move\n",
      "move\n"
     ]
    }
   ],
   "source": [
    "\n",
    " \n",
    "class Giraffes:\n",
    "  def move(self):\n",
    "   print('move')\n",
    "  \n",
    "  def find_food(self):           # You can make a function do another function using self\n",
    "    self.move()                  # More example in #1 programming puzzle in chap 8\n",
    "    print(\"I've found food!\")\n",
    "    self.eat_food()\n",
    "  def eat_leaves_from_trees(self):\n",
    "    self.eat_food()\n",
    "  def dance_a_jig(self):\n",
    "    self.move()\n",
    "    self.move()\n",
    "    self.move()\n",
    "    self.move()\n",
    "\n",
    "reginald = Giraffes()\n",
    "reginald.dance_a_jig()"
   ]
  },
  {
   "cell_type": "markdown",
   "metadata": {
    "id": "7v4FkBpTvX6x"
   },
   "source": [
    "Initializing an object\n",
    "\n",
    "We initialize an object when we are getting it ready to be used\n",
    "\n",
    "e.g. when you want to set the number of spots on the dog, we need to initialize it\n",
    "\n",
    "We need to create a __init __function\n",
    "\n",
    "The init function is a way to set the properties for an\n",
    "object when the object is first created, and Python will automatically call this function when we create a new object."
   ]
  },
  {
   "cell_type": "code",
   "execution_count": null,
   "metadata": {
    "colab": {
     "base_uri": "https://localhost:8080/"
    },
    "id": "dccZCzInwUom",
    "outputId": "48f5de51-a8c0-4f5b-bac0-da83c14d6061"
   },
   "outputs": [
    {
     "name": "stdout",
     "output_type": "stream",
     "text": [
      "100\n",
      "57\n"
     ]
    }
   ],
   "source": [
    "class Dog:\n",
    "  def __init__(self,spots):\n",
    "    self.dog_spots = spots\n",
    "\n",
    "tom = Dog(100)\n",
    "print(tom.dog_spots)\n",
    "\n",
    "dan = Dog(57)\n",
    "print(dan.dog_spots)"
   ]
  },
  {
   "cell_type": "markdown",
   "metadata": {
    "id": "-o2atDiLD6F2"
   },
   "source": [
    "Programming puzzles - pg 107"
   ]
  },
  {
   "cell_type": "markdown",
   "metadata": {
    "id": "t2V4hKhTDTd8"
   },
   "source": [
    "***1: The Giraffe Shuffle***\n",
    "\n",
    ">Add functions to the Giraffes class to move the giraffe’s left and\n",
    "right feet forward and backward. A function for moving the left\n",
    "foot forward might look like this:\n",
    "\n",
    "def left_Foot_Forward(self):\n",
    "\n",
    "print('left foot forward')\n",
    "\n",
    ">Then create a function called dance to teach Reginald to dance\n",
    "(the function will call the four foot functions you’ve just created).\n",
    "The result of calling this new function will be a simple dance:\n",
    "\n",
    "reginald = Giraffes()\n",
    "\n",
    "reginald.dance()\n",
    "\n",
    "left foot forward\n",
    "\n",
    "left foot back\n",
    "\n",
    "right foot forward\n",
    "\n",
    "right foot back\n",
    "\n",
    "left foot back\n",
    "\n",
    "right foot back\n",
    "\n",
    "right foot forward\n",
    "\n",
    "left foot forward"
   ]
  },
  {
   "cell_type": "code",
   "execution_count": null,
   "metadata": {
    "colab": {
     "base_uri": "https://localhost:8080/"
    },
    "id": "VjQwzrU6D4xN",
    "outputId": "a98900d6-2657-4577-b112-0a484879490e"
   },
   "outputs": [
    {
     "name": "stdout",
     "output_type": "stream",
     "text": [
      "left foot forward\n",
      "left foot back\n",
      "right foot forward\n",
      "right foor back\n",
      "left foot back\n",
      "right foor back\n",
      "right foot forward\n",
      "left foot forward\n"
     ]
    }
   ],
   "source": [
    "\n",
    "class Giraffes:\n",
    "  def left_foot_forward(self):\n",
    "    print('left foot forward')\n",
    "\n",
    "  def left_foot_back(self):\n",
    "    print('left foot back')\n",
    "\n",
    "  def right_foot_forward(self):\n",
    "    print('right foot forward')\n",
    "\n",
    "  def right_foot_back(self):\n",
    "    print('right foor back')\n",
    "\n",
    "\n",
    "  def dance(self):\n",
    "    self.left_foot_forward()\n",
    "    self.left_foot_back()\n",
    "    self.right_foot_forward()\n",
    "    self.right_foot_back()\n",
    "    self.left_foot_back()\n",
    "    self.right_foot_back()\n",
    "    self.right_foot_forward()\n",
    "    self.left_foot_forward()\n",
    "\n",
    "reginald = Giraffes()\n",
    "reginald.dance()"
   ]
  },
  {
   "cell_type": "markdown",
   "metadata": {
    "id": "ob83190ZI91U"
   },
   "source": [
    "# Chapter 9 - Python’s Built-in Functions"
   ]
  },
  {
   "cell_type": "markdown",
   "metadata": {
    "id": "yuCDkLUglhQR"
   },
   "source": [
    "Python has a large number of functions and modules that are ready-made for use. Python's built in functions do not need to be imported and they are already available inside colab"
   ]
  },
  {
   "cell_type": "markdown",
   "metadata": {
    "id": "4a7Y35f69CrB"
   },
   "source": [
    "***The abs Function***\n",
    "\n",
    "The abs function returns the absolute value of a number (value of a number without itds sign), which is\n",
    "the value of a number without its sign. For example, the absolute\n",
    "value of 10 is 10, and the absolute value of –10 is 10.\n",
    "To use the abs function, simply call it with a number or variable as its parameter, like this:"
   ]
  },
  {
   "cell_type": "code",
   "execution_count": 1,
   "metadata": {
    "colab": {
     "base_uri": "https://localhost:8080/"
    },
    "id": "_4lD2RHu9HJF",
    "outputId": "86794742-ff93-492e-ae29-ccd6c0eab794"
   },
   "outputs": [
    {
     "name": "stdout",
     "output_type": "stream",
     "text": [
      "10\n"
     ]
    }
   ],
   "source": [
    "print(abs(10))"
   ]
  },
  {
   "cell_type": "code",
   "execution_count": 2,
   "metadata": {
    "colab": {
     "base_uri": "https://localhost:8080/"
    },
    "id": "G2kEAINk9Nuj",
    "outputId": "c6015935-fce8-4697-ba30-6c784b771234"
   },
   "outputs": [
    {
     "name": "stdout",
     "output_type": "stream",
     "text": [
      "10\n"
     ]
    }
   ],
   "source": [
    "print(abs(-10))"
   ]
  },
  {
   "cell_type": "markdown",
   "metadata": {
    "id": "2HlhRtAi9qE4"
   },
   "source": [
    "Example of usage -> When counting the total number to steps taken in a game"
   ]
  },
  {
   "cell_type": "code",
   "execution_count": 4,
   "metadata": {
    "colab": {
     "base_uri": "https://localhost:8080/"
    },
    "id": "Qrh65Oi49zf3",
    "outputId": "dec3d638-f46b-4b73-a3a4-e73d8860b793"
   },
   "outputs": [
    {
     "name": "stdout",
     "output_type": "stream",
     "text": [
      "Moving\n"
     ]
    }
   ],
   "source": [
    "steps = -3          # When moving 3 steps left\n",
    "\n",
    "if abs(steps) > 0:      # If not using abs, if steps < 0 or steps > 0:\n",
    "  print('Moving')       #                     print('Moving')"
   ]
  },
  {
   "cell_type": "code",
   "execution_count": 5,
   "metadata": {
    "colab": {
     "base_uri": "https://localhost:8080/"
    },
    "id": "c_0wUOjp-D-g",
    "outputId": "71a2eb32-6e16-41fb-e925-91de8720d76a"
   },
   "outputs": [
    {
     "name": "stdout",
     "output_type": "stream",
     "text": [
      "Moving\n"
     ]
    }
   ],
   "source": [
    "steps = 10          # When moving 10 steps right\n",
    "\n",
    "if abs(steps) > 0:\n",
    "  print('Moving')"
   ]
  },
  {
   "cell_type": "markdown",
   "metadata": {
    "id": "HDp9uxHF_SCU"
   },
   "source": [
    "***The bool Function***\n",
    "\n",
    "   The name bool is short for Boolean, the word programmers use to\n",
    "describe a type of data that can have one of two possible values,\n",
    "usually either true or false.\n",
    "\n",
    "   The bool function takes a single parameter and returns either\n",
    "True or False based on its value. When using bool for numbers, 0\n",
    "returns False, while any other number returns True. Here’s how\n",
    "you might use bool with various numbers:"
   ]
  },
  {
   "cell_type": "code",
   "execution_count": 6,
   "metadata": {
    "colab": {
     "base_uri": "https://localhost:8080/"
    },
    "id": "MpnE_cUT_W3a",
    "outputId": "1ba15527-ff02-4222-96a3-ba199d6cab66"
   },
   "outputs": [
    {
     "name": "stdout",
     "output_type": "stream",
     "text": [
      "False\n"
     ]
    }
   ],
   "source": [
    "print(bool(0))"
   ]
  },
  {
   "cell_type": "code",
   "execution_count": 7,
   "metadata": {
    "colab": {
     "base_uri": "https://localhost:8080/"
    },
    "id": "GOarZt29_yjP",
    "outputId": "fdf688c2-4cf5-4e18-c515-955d67c6ee50"
   },
   "outputs": [
    {
     "name": "stdout",
     "output_type": "stream",
     "text": [
      "True\n"
     ]
    }
   ],
   "source": [
    "print(bool(124))"
   ]
  },
  {
   "cell_type": "code",
   "execution_count": 9,
   "metadata": {
    "colab": {
     "base_uri": "https://localhost:8080/"
    },
    "id": "FJnmQUKs_1OI",
    "outputId": "3bb2c6e7-944b-4e8c-80a9-7843351e99dc"
   },
   "outputs": [
    {
     "name": "stdout",
     "output_type": "stream",
     "text": [
      "True\n"
     ]
    }
   ],
   "source": [
    "print(bool(-12))"
   ]
  },
  {
   "cell_type": "code",
   "execution_count": 10,
   "metadata": {
    "colab": {
     "base_uri": "https://localhost:8080/"
    },
    "id": "Zb3ticfe_7Pu",
    "outputId": "f4c75ab8-b691-4c7f-ed52-ec0543345f2e"
   },
   "outputs": [
    {
     "name": "stdout",
     "output_type": "stream",
     "text": [
      "True\n"
     ]
    }
   ],
   "source": [
    "print(bool(15.67))"
   ]
  },
  {
   "cell_type": "markdown",
   "metadata": {
    "id": "nf8oxivnAIYR"
   },
   "source": [
    "When you use bool for other values, like strings, it returns False\n",
    "if there’s no value for the string (in other words, the keyword None\n",
    "or an empty string). Otherwise, it will return True, as shown here:"
   ]
  },
  {
   "cell_type": "code",
   "execution_count": 18,
   "metadata": {
    "colab": {
     "base_uri": "https://localhost:8080/"
    },
    "id": "f5y9pkdhAglw",
    "outputId": "3c94db47-2915-4cdd-f667-2c5be8ec246c"
   },
   "outputs": [
    {
     "name": "stdout",
     "output_type": "stream",
     "text": [
      "False\n"
     ]
    }
   ],
   "source": [
    "print(bool())"
   ]
  },
  {
   "cell_type": "code",
   "execution_count": 11,
   "metadata": {
    "colab": {
     "base_uri": "https://localhost:8080/"
    },
    "id": "QtSGyG1gAJTD",
    "outputId": "227ce8fc-fa29-496a-a954-0ce5024251d7"
   },
   "outputs": [
    {
     "name": "stdout",
     "output_type": "stream",
     "text": [
      "False\n"
     ]
    }
   ],
   "source": [
    "print(bool(None))"
   ]
  },
  {
   "cell_type": "code",
   "execution_count": 13,
   "metadata": {
    "colab": {
     "base_uri": "https://localhost:8080/"
    },
    "id": "CfBjcS8xAM6q",
    "outputId": "5559a97e-dc91-4008-d8ac-5ed566fcefca"
   },
   "outputs": [
    {
     "name": "stdout",
     "output_type": "stream",
     "text": [
      "True\n"
     ]
    }
   ],
   "source": [
    "print(bool('hello'))"
   ]
  },
  {
   "cell_type": "code",
   "execution_count": 1,
   "metadata": {
    "colab": {
     "base_uri": "https://localhost:8080/"
    },
    "id": "vmBokDVEAWzz",
    "outputId": "c2755c4b-2dc5-4975-ca33-e68e2c333fd3"
   },
   "outputs": [
    {
     "name": "stdout",
     "output_type": "stream",
     "text": [
      "True\n"
     ]
    }
   ],
   "source": [
    "print(bool(' '))"
   ]
  },
  {
   "cell_type": "markdown",
   "metadata": {
    "id": "FAziXzPe4T7x"
   },
   "source": [
    "Example of usage"
   ]
  },
  {
   "cell_type": "code",
   "execution_count": 12,
   "metadata": {
    "colab": {
     "base_uri": "https://localhost:8080/"
    },
    "id": "WYfl8jD14SDN",
    "outputId": "5f7ceabd-5531-43b6-ded8-c6776feff2ac"
   },
   "outputs": [
    {
     "name": "stdout",
     "output_type": "stream",
     "text": [
      "Year of birth: \n",
      "You need to enter a value for your year of birth\n"
     ]
    }
   ],
   "source": [
    "year = input('Year of birth: ')\n",
    "if not bool(year.rstrip()):      # If you press enter without typing anything\n",
    " print('You need to enter a value for your year of birth')"
   ]
  },
  {
   "cell_type": "markdown",
   "metadata": {
    "id": "2oJduCZN6QSe"
   },
   "source": [
    "***The dir Function***\n",
    "\n",
    "The dir function (short for directory) returns information about any\n",
    "value.\n",
    "\n",
    " Basically, it tells you the functions that can be used with\n",
    "that value in alphabetical order.\n",
    "\n",
    "\n",
    "For example, to display the functions that are available for a\n",
    "list value, enter this:"
   ]
  },
  {
   "cell_type": "code",
   "execution_count": 13,
   "metadata": {
    "colab": {
     "base_uri": "https://localhost:8080/"
    },
    "id": "m0IA1uF-6WgJ",
    "outputId": "4ce97730-be6e-4bcf-e48f-7ac947168f40"
   },
   "outputs": [
    {
     "data": {
      "text/plain": [
       "['__add__',\n",
       " '__class__',\n",
       " '__contains__',\n",
       " '__delattr__',\n",
       " '__delitem__',\n",
       " '__dir__',\n",
       " '__doc__',\n",
       " '__eq__',\n",
       " '__format__',\n",
       " '__ge__',\n",
       " '__getattribute__',\n",
       " '__getitem__',\n",
       " '__gt__',\n",
       " '__hash__',\n",
       " '__iadd__',\n",
       " '__imul__',\n",
       " '__init__',\n",
       " '__init_subclass__',\n",
       " '__iter__',\n",
       " '__le__',\n",
       " '__len__',\n",
       " '__lt__',\n",
       " '__mul__',\n",
       " '__ne__',\n",
       " '__new__',\n",
       " '__reduce__',\n",
       " '__reduce_ex__',\n",
       " '__repr__',\n",
       " '__reversed__',\n",
       " '__rmul__',\n",
       " '__setattr__',\n",
       " '__setitem__',\n",
       " '__sizeof__',\n",
       " '__str__',\n",
       " '__subclasshook__',\n",
       " 'append',\n",
       " 'clear',\n",
       " 'copy',\n",
       " 'count',\n",
       " 'extend',\n",
       " 'index',\n",
       " 'insert',\n",
       " 'pop',\n",
       " 'remove',\n",
       " 'reverse',\n",
       " 'sort']"
      ]
     },
     "execution_count": 13,
     "metadata": {},
     "output_type": "execute_result"
    }
   ],
   "source": [
    "dir(['a', 'short', 'list'])"
   ]
  },
  {
   "cell_type": "markdown",
   "metadata": {
    "id": "Fi7ttPeW6l5e"
   },
   "source": [
    "   The dir function works on pretty much anything, including strings, numbers, functions, modules, objects, and classes.\n",
    "\n",
    "But sometimes the information it returns may not be very useful.\n",
    "\n",
    "For example, if you call dir on the number 1, it displays a number\n",
    "of special functions (those that start and end with underscores)\n",
    "used by Python itself, which isn’t really useful (you can usually\n",
    "ignore most of them):"
   ]
  },
  {
   "cell_type": "code",
   "execution_count": 16,
   "metadata": {
    "colab": {
     "base_uri": "https://localhost:8080/"
    },
    "id": "83y2-68A6vA8",
    "outputId": "243c63be-60af-4cd5-8cde-5fcb5bb7b96b"
   },
   "outputs": [
    {
     "data": {
      "text/plain": [
       "['__abs__',\n",
       " '__add__',\n",
       " '__and__',\n",
       " '__bool__',\n",
       " '__ceil__',\n",
       " '__class__',\n",
       " '__delattr__',\n",
       " '__dir__',\n",
       " '__divmod__',\n",
       " '__doc__',\n",
       " '__eq__',\n",
       " '__float__',\n",
       " '__floor__',\n",
       " '__floordiv__',\n",
       " '__format__',\n",
       " '__ge__',\n",
       " '__getattribute__',\n",
       " '__getnewargs__',\n",
       " '__gt__',\n",
       " '__hash__',\n",
       " '__index__',\n",
       " '__init__',\n",
       " '__init_subclass__',\n",
       " '__int__',\n",
       " '__invert__',\n",
       " '__le__',\n",
       " '__lshift__',\n",
       " '__lt__',\n",
       " '__mod__',\n",
       " '__mul__',\n",
       " '__ne__',\n",
       " '__neg__',\n",
       " '__new__',\n",
       " '__or__',\n",
       " '__pos__',\n",
       " '__pow__',\n",
       " '__radd__',\n",
       " '__rand__',\n",
       " '__rdivmod__',\n",
       " '__reduce__',\n",
       " '__reduce_ex__',\n",
       " '__repr__',\n",
       " '__rfloordiv__',\n",
       " '__rlshift__',\n",
       " '__rmod__',\n",
       " '__rmul__',\n",
       " '__ror__',\n",
       " '__round__',\n",
       " '__rpow__',\n",
       " '__rrshift__',\n",
       " '__rshift__',\n",
       " '__rsub__',\n",
       " '__rtruediv__',\n",
       " '__rxor__',\n",
       " '__setattr__',\n",
       " '__sizeof__',\n",
       " '__str__',\n",
       " '__sub__',\n",
       " '__subclasshook__',\n",
       " '__truediv__',\n",
       " '__trunc__',\n",
       " '__xor__',\n",
       " 'bit_length',\n",
       " 'conjugate',\n",
       " 'denominator',\n",
       " 'from_bytes',\n",
       " 'imag',\n",
       " 'numerator',\n",
       " 'real',\n",
       " 'to_bytes']"
      ]
     },
     "execution_count": 16,
     "metadata": {},
     "output_type": "execute_result"
    }
   ],
   "source": [
    "dir(1)"
   ]
  },
  {
   "cell_type": "markdown",
   "metadata": {
    "id": "ioKeOPN97B38"
   },
   "source": [
    "The dir function can be useful when you have a variable and\n",
    "quickly want to find out what you can do with it. \n",
    "\n",
    "For example, run dir using the variable popcorn containing a string value, and you\n",
    "get the list of functions provided by the string class (all strings are\n",
    "members of the string class):"
   ]
  },
  {
   "cell_type": "code",
   "execution_count": 18,
   "metadata": {
    "colab": {
     "base_uri": "https://localhost:8080/"
    },
    "id": "-GHv2W4t7JTh",
    "outputId": "e702979b-b368-4887-9714-dc191cc199be"
   },
   "outputs": [
    {
     "data": {
      "text/plain": [
       "['__add__',\n",
       " '__class__',\n",
       " '__contains__',\n",
       " '__delattr__',\n",
       " '__dir__',\n",
       " '__doc__',\n",
       " '__eq__',\n",
       " '__format__',\n",
       " '__ge__',\n",
       " '__getattribute__',\n",
       " '__getitem__',\n",
       " '__getnewargs__',\n",
       " '__gt__',\n",
       " '__hash__',\n",
       " '__init__',\n",
       " '__init_subclass__',\n",
       " '__iter__',\n",
       " '__le__',\n",
       " '__len__',\n",
       " '__lt__',\n",
       " '__mod__',\n",
       " '__mul__',\n",
       " '__ne__',\n",
       " '__new__',\n",
       " '__reduce__',\n",
       " '__reduce_ex__',\n",
       " '__repr__',\n",
       " '__rmod__',\n",
       " '__rmul__',\n",
       " '__setattr__',\n",
       " '__sizeof__',\n",
       " '__str__',\n",
       " '__subclasshook__',\n",
       " 'capitalize',\n",
       " 'casefold',\n",
       " 'center',\n",
       " 'count',\n",
       " 'encode',\n",
       " 'endswith',\n",
       " 'expandtabs',\n",
       " 'find',\n",
       " 'format',\n",
       " 'format_map',\n",
       " 'index',\n",
       " 'isalnum',\n",
       " 'isalpha',\n",
       " 'isascii',\n",
       " 'isdecimal',\n",
       " 'isdigit',\n",
       " 'isidentifier',\n",
       " 'islower',\n",
       " 'isnumeric',\n",
       " 'isprintable',\n",
       " 'isspace',\n",
       " 'istitle',\n",
       " 'isupper',\n",
       " 'join',\n",
       " 'ljust',\n",
       " 'lower',\n",
       " 'lstrip',\n",
       " 'maketrans',\n",
       " 'partition',\n",
       " 'replace',\n",
       " 'rfind',\n",
       " 'rindex',\n",
       " 'rjust',\n",
       " 'rpartition',\n",
       " 'rsplit',\n",
       " 'rstrip',\n",
       " 'split',\n",
       " 'splitlines',\n",
       " 'startswith',\n",
       " 'strip',\n",
       " 'swapcase',\n",
       " 'title',\n",
       " 'translate',\n",
       " 'upper',\n",
       " 'zfill']"
      ]
     },
     "execution_count": 18,
     "metadata": {},
     "output_type": "execute_result"
    }
   ],
   "source": [
    "popcorn = 'i like popcorn'\n",
    "dir(popcorn)"
   ]
  },
  {
   "cell_type": "markdown",
   "metadata": {
    "id": "UzCqkyLd7Zzi"
   },
   "source": [
    "At this point, you could use help to get a short description of\n",
    "any function in the list.\n",
    "\n",
    " Here’s an example of running help against\n",
    "the upper function:"
   ]
  },
  {
   "cell_type": "code",
   "execution_count": 21,
   "metadata": {
    "colab": {
     "base_uri": "https://localhost:8080/"
    },
    "id": "neUc5rPJ7fgC",
    "outputId": "d6f5148b-05ee-45eb-b605-9b97acffee68"
   },
   "outputs": [
    {
     "name": "stdout",
     "output_type": "stream",
     "text": [
      "Help on built-in function upper:\n",
      "\n",
      "upper() method of builtins.str instance\n",
      "    Return a copy of the string converted to uppercase.\n",
      "\n"
     ]
    }
   ],
   "source": [
    "help(popcorn.upper)"
   ]
  },
  {
   "cell_type": "markdown",
   "metadata": {
    "id": "peHdig0Z9q6e"
   },
   "source": [
    "This code will return a string to uppercase"
   ]
  },
  {
   "cell_type": "markdown",
   "metadata": {
    "id": "4AecFyq29yX1"
   },
   "source": [
    "***The eval Function***\n",
    "\n",
    "The eval function (short for evaluate) takes a string as a parameter\n",
    "and runs it as though it were a Python expression. \n",
    "\n",
    "For example,\n",
    "eval('print(\"wow\")') will actually run the statement print(\"wow\").\n",
    "\n",
    " **NOTE**: The eval function works only with simple expressions, such as\n",
    "the following:"
   ]
  },
  {
   "cell_type": "code",
   "execution_count": 22,
   "metadata": {
    "colab": {
     "base_uri": "https://localhost:8080/"
    },
    "id": "FFzPN4Y69_Ud",
    "outputId": "7e4bf7c0-40e3-4665-832f-b37fcae51cfe"
   },
   "outputs": [
    {
     "data": {
      "text/plain": [
       "50"
      ]
     },
     "execution_count": 22,
     "metadata": {},
     "output_type": "execute_result"
    }
   ],
   "source": [
    "eval('10*5')"
   ]
  },
  {
   "cell_type": "markdown",
   "metadata": {
    "id": "TbE8huEd-OYf"
   },
   "source": [
    "The eval function is often used to turn user input into Python\n",
    "expressions.\n",
    "\n",
    " For example, you could write a simple calculator program that reads equations entered into Python and then calculates\n",
    "(evaluates) the answers.\n",
    "\n",
    "\n",
    "Since user input is read in as a string, Python needs to convert\n",
    "it into numbers and operators before doing any calculations.\n",
    "\n",
    " The\n",
    "eval function makes that conversion easy:"
   ]
  },
  {
   "cell_type": "code",
   "execution_count": 26,
   "metadata": {
    "colab": {
     "base_uri": "https://localhost:8080/"
    },
    "id": "2dlS6njq-OKX",
    "outputId": "3dc7a74e-eee0-43eb-82a9-c109ef1001e0"
   },
   "outputs": [
    {
     "name": "stdout",
     "output_type": "stream",
     "text": [
      "Enter a calculation: 12*52\n"
     ]
    },
    {
     "data": {
      "text/plain": [
       "624"
      ]
     },
     "execution_count": 26,
     "metadata": {},
     "output_type": "execute_result"
    }
   ],
   "source": [
    "your_calculation = input('Enter a calculation: ')\n",
    "eval(your_calculation)"
   ]
  },
  {
   "cell_type": "markdown",
   "metadata": {
    "id": "FeBsRhlgATyw"
   },
   "source": [
    "In this example, we use input to read what the user enters into\n",
    "the variable your_calculation.\n",
    "\n",
    " On the next line, we enter the expression 12*52 (perhaps your age multiplied by the number of weeks\n",
    "in a year). \n",
    "\n",
    "We use eval to run this calculation, and the result is\n",
    "printed on the final line."
   ]
  },
  {
   "cell_type": "markdown",
   "metadata": {
    "id": "Nx8cnU58Afp9"
   },
   "source": [
    "***The exec Function***\n",
    "\n",
    "The exec function is like eval, except that you can use it to run more\n",
    "complicated programs. \n",
    "\n",
    "The difference between the two is that eval\n",
    "returns a value (something that you can save in a variable), whereas\n",
    "exec does not. \n",
    "\n",
    "Here’s an example:"
   ]
  },
  {
   "cell_type": "code",
   "execution_count": 1,
   "metadata": {
    "colab": {
     "base_uri": "https://localhost:8080/"
    },
    "id": "Uk6GLfNNAwKD",
    "outputId": "9c5afaee-b7ae-4928-fd57-b9d28dce3270"
   },
   "outputs": [
    {
     "name": "stdout",
     "output_type": "stream",
     "text": [
      "ham\n",
      "sandwich\n"
     ]
    }
   ],
   "source": [
    "my_small_program = '''print('ham')\n",
    "print('sandwich')'''\n",
    "exec(my_small_program)"
   ]
  },
  {
   "cell_type": "markdown",
   "metadata": {
    "id": "RPVwGgI6Bh-8"
   },
   "source": [
    "In the first two lines, we create a variable with a multiline\n",
    "string containing two print statements, and then use exec to run\n",
    "the string.\n",
    "\n",
    "\n",
    "You could use exec to run mini programs that your Python program reads in from files—really, programs inside programs!\n",
    "\n",
    " This\n",
    "can be quite useful when writing long, complicated applications.\n",
    "\n",
    "\n",
    "For example, you could create a Dueling Robots game, where two\n",
    "robots move around a screen and try to attack each other. \n",
    "\n",
    "Players\n",
    "of the game would provide the instructions for their robot as mini\n",
    "Python programs. \n",
    "\n",
    "The Dueling Robots game would read in these\n",
    "scripts and use exec to run."
   ]
  },
  {
   "cell_type": "code",
   "execution_count": 19,
   "metadata": {
    "colab": {
     "base_uri": "https://localhost:8080/"
    },
    "id": "0dVwYKuqs8sc",
    "outputId": "40a69f02-4c3b-4b53-ab62-b04addaea698"
   },
   "outputs": [
    {
     "name": "stdout",
     "output_type": "stream",
     "text": [
      "wow\n",
      "im surprised\n"
     ]
    }
   ],
   "source": [
    "code1 = '''print('wow')\n",
    "print('im surprised')'''\n",
    "\n",
    "code2 = '''print(1+1)'''\n",
    "\n",
    "\n",
    "exec(code1)\n",
    "  "
   ]
  },
  {
   "cell_type": "markdown",
   "metadata": {
    "id": "iG23kqOquosi"
   },
   "source": [
    "***The float Function***\n",
    "\n",
    "The float function converts a\n",
    "string or a number into a floatingpoint number, which is a number\n",
    "with a decimal place (also called\n",
    "a real number). \n",
    "\n",
    "For example, the\n",
    "number 10 is an integer (also\n",
    "called a whole number), but 10.0,\n",
    "10.1, and 10.253 are all floatingpoint numbers (also called floats).\n",
    "\n",
    "you can convert a string to float by calling float:"
   ]
  },
  {
   "cell_type": "code",
   "execution_count": 22,
   "metadata": {
    "colab": {
     "base_uri": "https://localhost:8080/"
    },
    "id": "YZZL-AsNwO8c",
    "outputId": "39c9def9-7b82-4674-a38b-5fe669ef60c4"
   },
   "outputs": [
    {
     "data": {
      "text/plain": [
       "12.0"
      ]
     },
     "execution_count": 22,
     "metadata": {},
     "output_type": "execute_result"
    }
   ],
   "source": [
    "float('12')"
   ]
  },
  {
   "cell_type": "code",
   "execution_count": 25,
   "metadata": {
    "colab": {
     "base_uri": "https://localhost:8080/"
    },
    "id": "orcRaTQOxMP3",
    "outputId": "389a7aa5-2a34-41ba-b851-eb457c31c137"
   },
   "outputs": [
    {
     "data": {
      "text/plain": [
       "10.93845"
      ]
     },
     "execution_count": 25,
     "metadata": {},
     "output_type": "execute_result"
    }
   ],
   "source": [
    "float('10.93845')"
   ]
  },
  {
   "cell_type": "markdown",
   "metadata": {
    "id": "OUaChkq-xf8K"
   },
   "source": [
    "You might use float to convert values entered into your program into proper numbers, which is particularly useful when you\n",
    "need to compare the value a person enters with other values.\n",
    "\n",
    " For\n",
    "example, to check whether a person’s age is above a certain number, we could do this:"
   ]
  },
  {
   "cell_type": "code",
   "execution_count": 24,
   "metadata": {
    "colab": {
     "base_uri": "https://localhost:8080/"
    },
    "id": "sgNpCz70x-Jt",
    "outputId": "96b0136a-fbd2-4e65-a1db-e884d2d4b937"
   },
   "outputs": [
    {
     "name": "stdout",
     "output_type": "stream",
     "text": [
      "Enter your age: 20\n",
      "You are 7.0 years too old\n"
     ]
    }
   ],
   "source": [
    "your_age = input('Enter your age: ')\n",
    "age = float(your_age)\n",
    "if age > 13:\n",
    "  print('You are %s years too old' % (age - 13))"
   ]
  },
  {
   "cell_type": "markdown",
   "metadata": {
    "id": "ScrDLs51yN8B"
   },
   "source": [
    "****The int Function****  ---- VERY USEFULL\n",
    "\n",
    "The int function converts a string or a number into a whole number (or integer), which basically means that everything after the\n",
    "decimal point is dropped.\n",
    "\n",
    "---> # It can also convert a string to integer\n",
    "\n",
    " For example, here’s how to convert a\n",
    "floating-point number into a plain integer:"
   ]
  },
  {
   "cell_type": "code",
   "execution_count": 26,
   "metadata": {
    "colab": {
     "base_uri": "https://localhost:8080/"
    },
    "id": "Vl0UT1Il0Tfu",
    "outputId": "04ef5c07-3fd4-4002-c267-b16b9e8ccdbc"
   },
   "outputs": [
    {
     "data": {
      "text/plain": [
       "123"
      ]
     },
     "execution_count": 26,
     "metadata": {},
     "output_type": "execute_result"
    }
   ],
   "source": [
    "int(123.456)"
   ]
  },
  {
   "cell_type": "code",
   "execution_count": 27,
   "metadata": {
    "colab": {
     "base_uri": "https://localhost:8080/"
    },
    "id": "P2NOeBpM0rSS",
    "outputId": "aa59d697-41c1-46b0-905d-ba6f8523b73b"
   },
   "outputs": [
    {
     "data": {
      "text/plain": [
       "123"
      ]
     },
     "execution_count": 27,
     "metadata": {},
     "output_type": "execute_result"
    }
   ],
   "source": [
    "int('123')"
   ]
  },
  {
   "cell_type": "markdown",
   "metadata": {
    "id": "LmPhXoPz0zhQ"
   },
   "source": [
    "However floating number string do not work and an error will pop up. (floating numbers are numbers with decimals)\n",
    "\n",
    "It also makes the floating number into an integer if using floating numbers"
   ]
  },
  {
   "cell_type": "code",
   "execution_count": 4,
   "metadata": {
    "colab": {
     "base_uri": "https://localhost:8080/"
    },
    "id": "Bawofie71b3y",
    "outputId": "faf5a4b2-62cd-4d69-fa24-83ff0985a642"
   },
   "outputs": [
    {
     "data": {
      "text/plain": [
       "12"
      ]
     },
     "execution_count": 4,
     "metadata": {},
     "output_type": "execute_result"
    }
   ],
   "source": [
    "int(12.345)"
   ]
  },
  {
   "cell_type": "markdown",
   "metadata": {
    "id": "XN4jFn9U5H_T"
   },
   "source": [
    "***The len Function***\n",
    "\n",
    "\n",
    "The len function returns\n",
    "the length of an object or,\n",
    "in the case of a string, the\n",
    "number of characters in the\n",
    "string.\n",
    "\n",
    " For example, to get\n",
    "the length of this is a test\n",
    "string, you would do this:"
   ]
  },
  {
   "cell_type": "code",
   "execution_count": 5,
   "metadata": {
    "colab": {
     "base_uri": "https://localhost:8080/"
    },
    "id": "uvscO3AU5DZS",
    "outputId": "19c70587-b918-4d25-85c1-0581d04a8032"
   },
   "outputs": [
    {
     "data": {
      "text/plain": [
       "21"
      ]
     },
     "execution_count": 5,
     "metadata": {},
     "output_type": "execute_result"
    }
   ],
   "source": [
    "len('this is a test string')"
   ]
  },
  {
   "cell_type": "markdown",
   "metadata": {
    "id": "Icvu6e4e5UXU"
   },
   "source": [
    "When used with a list or a tuple, len returns the number of\n",
    "items in that list or tuple:"
   ]
  },
  {
   "cell_type": "code",
   "execution_count": 7,
   "metadata": {
    "colab": {
     "base_uri": "https://localhost:8080/"
    },
    "id": "YrKTQGWk5UDA",
    "outputId": "958bb77c-3636-4fda-fff9-cfdaa9585ebf"
   },
   "outputs": [
    {
     "name": "stdout",
     "output_type": "stream",
     "text": [
      "6\n"
     ]
    }
   ],
   "source": [
    " creature_list = ['unicorn', 'cyclops', 'fairy', 'elf', 'dragon',\n",
    " 'troll']\n",
    "\n",
    "print(len(creature_list))"
   ]
  },
  {
   "cell_type": "markdown",
   "metadata": {
    "id": "dRmg1BoX7LdC"
   },
   "source": [
    "Used with a map, len also returns the number of items in\n",
    "the map:"
   ]
  },
  {
   "cell_type": "code",
   "execution_count": 8,
   "metadata": {
    "colab": {
     "base_uri": "https://localhost:8080/"
    },
    "id": "g4Nwk6Wj7IHI",
    "outputId": "9cf54dec-26f7-428b-92d6-1f154dd16232"
   },
   "outputs": [
    {
     "name": "stdout",
     "output_type": "stream",
     "text": [
      "3\n"
     ]
    }
   ],
   "source": [
    "enemies_map = {'Batman' : 'Joker',\n",
    " 'Superman' : 'Lex Luthor',\n",
    " 'Spiderman' : 'Green Goblin'}\n",
    "\n",
    "print(len(enemies_map))"
   ]
  },
  {
   "cell_type": "markdown",
   "metadata": {
    "id": "rxhDLKpm7ojm"
   },
   "source": [
    "The len function is particularly useful when you’re working\n",
    "with loops.\n",
    "\n",
    " For example, we could use it to display the index positions of the elements in a list like this:"
   ]
  },
  {
   "cell_type": "code",
   "execution_count": 9,
   "metadata": {
    "colab": {
     "base_uri": "https://localhost:8080/"
    },
    "id": "fZ3VbRyv7tHA",
    "outputId": "d2b680de-0da3-4d00-f357-1f2f92461a0f"
   },
   "outputs": [
    {
     "name": "stdout",
     "output_type": "stream",
     "text": [
      "the fruit at index 0 is apple\n",
      "the fruit at index 1 is banana\n",
      "the fruit at index 2 is clementine\n",
      "the fruit at index 3 is dragon fruit\n"
     ]
    }
   ],
   "source": [
    "fruit = ['apple', 'banana', 'clementine', 'dragon fruit']\n",
    "length = len(fruit)\n",
    "\n",
    "for x in range(0, length):\n",
    "  print('the fruit at index %s is %s' % (x, fruit[x]))"
   ]
  },
  {
   "cell_type": "markdown",
   "metadata": {
    "id": "1BGp3ADP87Kt"
   },
   "source": [
    "Here, we store the length of the list in\n",
    "the variable length, and then use that\n",
    "variable in the range function to create our\n",
    "loop. As we loop through each item\n",
    "in the list, we print a message showing the\n",
    "item’s index position and value. You could\n",
    "also use the len function, if you had a list of\n",
    "strings and wanted to print every second or\n",
    "third item in the list."
   ]
  },
  {
   "cell_type": "markdown",
   "metadata": {
    "id": "XMzXLPpL9MWp"
   },
   "source": [
    "***The max and min Functions***\n",
    "\n",
    "\n",
    "The max function returns the largest item in a\n",
    "list, tuple, or string. \n",
    "\n",
    "For example, here’s how\n",
    "to use it with a list of numbers:"
   ]
  },
  {
   "cell_type": "code",
   "execution_count": 10,
   "metadata": {
    "colab": {
     "base_uri": "https://localhost:8080/"
    },
    "id": "TLv3mwZx9O2B",
    "outputId": "53396371-b914-4da2-9862-b4fcaff1ced2"
   },
   "outputs": [
    {
     "name": "stdout",
     "output_type": "stream",
     "text": [
      "30\n"
     ]
    }
   ],
   "source": [
    " numbers = [5, 4, 10, 30, 22]\n",
    " print(max(numbers))"
   ]
  },
  {
   "cell_type": "markdown",
   "metadata": {
    "id": "h25tPfEU9e32"
   },
   "source": [
    "A string with the characters separated by commas or spaces\n",
    "will also work: "
   ]
  },
  {
   "cell_type": "code",
   "execution_count": 11,
   "metadata": {
    "colab": {
     "base_uri": "https://localhost:8080/"
    },
    "id": "I8m6IWzb9hIs",
    "outputId": "90eb7197-e8cf-438b-ea5e-2fca41269f6e"
   },
   "outputs": [
    {
     "name": "stdout",
     "output_type": "stream",
     "text": [
      "t\n"
     ]
    }
   ],
   "source": [
    "strings = 's,t,r,i,n,g,S,T,R,I,N,G'\n",
    "print(max(strings))"
   ]
  },
  {
   "cell_type": "markdown",
   "metadata": {
    "id": "_JVU2hul9qy2"
   },
   "source": [
    "As this example shows, letters are ranked alphabetically, and\n",
    "lowercase letters come after uppercase letters, so t is more than T.\n",
    "\n",
    "But you don’t have to use lists, tuples, or strings. \n",
    "\n",
    "You can also\n",
    "call the max function directly, and enter the items that you want to\n",
    "compare into the parentheses as parameters:"
   ]
  },
  {
   "cell_type": "code",
   "execution_count": 12,
   "metadata": {
    "colab": {
     "base_uri": "https://localhost:8080/"
    },
    "id": "8JsiN6-_9v7t",
    "outputId": "6df0bc06-3270-4865-9a76-65eb4370fdc5"
   },
   "outputs": [
    {
     "name": "stdout",
     "output_type": "stream",
     "text": [
      "450\n"
     ]
    }
   ],
   "source": [
    "print(max(10, 300, 450, 50, 90))"
   ]
  },
  {
   "cell_type": "markdown",
   "metadata": {
    "id": "7t6XLIcoxsxb"
   },
   "source": [
    "The min function works like max, except that it returns the\n",
    "smallest item in the list, tuple, or string. \n",
    "\n",
    "Here’s our list of numbers example using min instead of max:"
   ]
  },
  {
   "cell_type": "code",
   "execution_count": 2,
   "metadata": {
    "colab": {
     "base_uri": "https://localhost:8080/"
    },
    "id": "HgkeBoaAxqBE",
    "outputId": "423ccb10-db22-4ec0-eb19-6b401c6656b9"
   },
   "outputs": [
    {
     "name": "stdout",
     "output_type": "stream",
     "text": [
      "4\n"
     ]
    }
   ],
   "source": [
    "numbers = [5, 4, 10, 30, 22]\n",
    "print(min(numbers))"
   ]
  },
  {
   "cell_type": "markdown",
   "metadata": {
    "id": "X9V0AsTbyAuM"
   },
   "source": [
    "Suppose you were playing a guessing game with a team of four\n",
    "players, and each had to guess a number that was less than your\n",
    "number.\n",
    "\n",
    " If any player guesses above your number, all players lose,\n",
    "but if they all guess lower, they win. \n",
    "\n",
    "We could use max to quickly\n",
    "find whether all of the guesses are lower, like so:"
   ]
  },
  {
   "cell_type": "code",
   "execution_count": 5,
   "metadata": {
    "colab": {
     "base_uri": "https://localhost:8080/"
    },
    "id": "n0icC2zqyFzM",
    "outputId": "28c25258-2dd6-46bd-dc19-d7a62b1ce09b"
   },
   "outputs": [
    {
     "name": "stdout",
     "output_type": "stream",
     "text": [
      "Boom! You all lose\n"
     ]
    }
   ],
   "source": [
    "guess_this_number = 61\n",
    "player_guesses = [12, 15, 70, 45]\n",
    "if max(player_guesses) > guess_this_number:\n",
    "  print('Boom! You all lose')\n",
    "\n",
    "else:\n",
    "  print('You win')"
   ]
  },
  {
   "cell_type": "markdown",
   "metadata": {
    "id": "HbcqOPMuygK3"
   },
   "source": [
    "In this example, we store the number to guess using the variable guess_this_number.\n",
    "\n",
    " The team members’ guesses are stored in\n",
    "the list player_guesses.\n",
    "\n",
    "  The if statement checks the maximum guess\n",
    "against the number in guess_this_number, and if any player guesses\n",
    "over the number, we print the message “Boom! You all lose.”"
   ]
  },
  {
   "cell_type": "markdown",
   "metadata": {
    "id": "DKUGnONLzE1j"
   },
   "source": [
    "***The range Function***\n",
    "\n",
    "The range function, as we’ve\n",
    "seen before, is mainly used in\n",
    "for loops, to loop through a section of code a specific number of\n",
    "times. \n",
    "\n",
    "The first two parameters\n",
    "given to range are called the start\n",
    "and the stop. \n",
    "\n",
    "You saw range with\n",
    "these two parameters in the earlier example of using the len\n",
    "function to work with a loop.\n",
    "\n",
    "\n",
    "The numbers that range generates begin with the number given\n",
    "as the first parameter and end with the number that’s one less than\n",
    "the second parameter. \n",
    "\n",
    "For example, the following shows what happens when we print the numbers that range creates between 0 and 5:"
   ]
  },
  {
   "cell_type": "code",
   "execution_count": 6,
   "metadata": {
    "colab": {
     "base_uri": "https://localhost:8080/"
    },
    "id": "e0BomWFU0Tho",
    "outputId": "438a81e2-5962-446b-a307-7a989c9fd7e4"
   },
   "outputs": [
    {
     "name": "stdout",
     "output_type": "stream",
     "text": [
      "0\n",
      "1\n",
      "2\n",
      "3\n",
      "4\n"
     ]
    }
   ],
   "source": [
    "for x in range(0, 5):\n",
    "  print(x)"
   ]
  },
  {
   "cell_type": "markdown",
   "metadata": {
    "id": "gyH5Zsb00cyW"
   },
   "source": [
    "The range function actually returns a special object called an\n",
    "iterator that repeats an action a number of times. \n",
    "\n",
    "In this case, it\n",
    "returns the next highest number each time it is called.\n",
    "\n",
    "You can convert the iterator into a list (using the function list).\n",
    "\n",
    "If you then print the returned value when calling range, you’ll see\n",
    "the numbers it contains as well:"
   ]
  },
  {
   "cell_type": "code",
   "execution_count": 7,
   "metadata": {
    "colab": {
     "base_uri": "https://localhost:8080/"
    },
    "id": "8N0723GA0uHM",
    "outputId": "12478aaf-31f4-4bb3-e537-0011f4ae2a56"
   },
   "outputs": [
    {
     "name": "stdout",
     "output_type": "stream",
     "text": [
      "[0, 1, 2, 3, 4]\n"
     ]
    }
   ],
   "source": [
    "print(list(range(0, 5)))"
   ]
  },
  {
   "cell_type": "markdown",
   "metadata": {
    "id": "QSk2tpiQ1F1S"
   },
   "source": [
    "You can also add a third parameter to range, called step.\n",
    "\n",
    " If the step value is not included, the number 1 is used as the step by\n",
    "default.\n",
    "\n",
    " But what happens when we pass in the number 2 as the step? \n",
    " \n",
    " Here’s the result:"
   ]
  },
  {
   "cell_type": "code",
   "execution_count": 8,
   "metadata": {
    "colab": {
     "base_uri": "https://localhost:8080/"
    },
    "id": "HELO_Akq1Mtv",
    "outputId": "5bf47d05-8dc8-40d0-e093-872fceb53993"
   },
   "outputs": [
    {
     "name": "stdout",
     "output_type": "stream",
     "text": [
      "[0, 2, 4, 6, 8, 10, 12, 14, 16, 18, 20, 22, 24, 26, 28]\n"
     ]
    }
   ],
   "source": [
    "count_by_twos = list(range(0, 30, 2))\n",
    "print(count_by_twos)"
   ]
  },
  {
   "cell_type": "markdown",
   "metadata": {
    "id": "FBRLBRNP1dYc"
   },
   "source": [
    "Each number in the list increases by two from the previous\n",
    "number, and the list ends with the number 28, which is 2 less\n",
    "than 30.\n",
    "\n",
    " You can also use negative steps:"
   ]
  },
  {
   "cell_type": "code",
   "execution_count": 9,
   "metadata": {
    "colab": {
     "base_uri": "https://localhost:8080/"
    },
    "id": "tRMYtbh21gPo",
    "outputId": "f4920306-77cf-4b35-bbff-69d6f5d66a73"
   },
   "outputs": [
    {
     "name": "stdout",
     "output_type": "stream",
     "text": [
      "[40, 38, 36, 34, 32, 30, 28, 26, 24, 22, 20, 18, 16, 14, 12]\n"
     ]
    }
   ],
   "source": [
    "count_down_by_twos = list(range(40, 10, -2))\n",
    "print(count_down_by_twos)"
   ]
  },
  {
   "cell_type": "markdown",
   "metadata": {
    "id": "MdlgFQ4W1tW1"
   },
   "source": [
    "Steps are basically how many numbers it will take skip before reaching the next number. \n",
    "\n",
    "This can be useful when printing even/odd numbers"
   ]
  },
  {
   "cell_type": "markdown",
   "metadata": {
    "id": "jOaneG3Z2wXb"
   },
   "source": [
    "***The sum Function***\n",
    "\n",
    "The sum function adds items in a list and returns the total. Here’s\n",
    "an example:"
   ]
  },
  {
   "cell_type": "code",
   "execution_count": 2,
   "metadata": {
    "colab": {
     "base_uri": "https://localhost:8080/"
    },
    "id": "EhIpG4xFVhHE",
    "outputId": "95633527-aea1-4e74-b5cc-1f7afa753733"
   },
   "outputs": [
    {
     "name": "stdout",
     "output_type": "stream",
     "text": [
      "[0, 50, 100, 150, 200, 250, 300, 350, 400, 450]\n",
      "2250\n"
     ]
    }
   ],
   "source": [
    "my_list_of_numbers = list(range(0, 500, 50))\n",
    "print(my_list_of_numbers)\n",
    "print(sum(my_list_of_numbers))"
   ]
  },
  {
   "cell_type": "markdown",
   "metadata": {
    "id": "jJB5RJohV-Ne"
   },
   "source": [
    "On the first line, we create a list of numbers between 0 and\n",
    "500, using range with a step of 50.\n",
    "\n",
    " Next, we print the list to see the\n",
    "result. \n",
    "\n",
    "Finally, passing the variable my_list_of_numbers to the sum\n",
    "function with print(sum(my_list_of_numbers)) adds all the items in\n",
    "the list, giving the total of 2250."
   ]
  },
  {
   "cell_type": "markdown",
   "metadata": {
    "id": "2kf4xDa2WDYa"
   },
   "source": [
    "***Working with Files***\n",
    "\n",
    "Python files are the same as other files on your computer: documents, pictures, music, games . . . indeed, everything on your\n",
    "computer is stored as files.\n",
    "\n",
    "Let’s look at how to open and work with files in Python by\n",
    "using the built-in function open.\n",
    "\n",
    " But first we need to create a\n",
    "new file to play with."
   ]
  },
  {
   "cell_type": "markdown",
   "metadata": {
    "id": "OyTK7IbTWTh7"
   },
   "source": [
    "To create a file in colab, open **File** then select **Upload notebook** to upload a colab file to a new or another file.\n",
    "\n",
    "After that choose a place where you would like to upload."
   ]
  },
  {
   "cell_type": "markdown",
   "metadata": {
    "id": "zn0VLoTNcPOY"
   },
   "source": [
    "***Programming Puzzles*** - pg 127"
   ]
  },
  {
   "cell_type": "markdown",
   "metadata": {
    "id": "lVwdumatcWXT"
   },
   "source": [
    "***1: Mystery Code***\n",
    "\n",
    "What will be the result of running the following code? Guess, and\n",
    "then run the code to see if you’re right."
   ]
  },
  {
   "cell_type": "code",
   "execution_count": 3,
   "metadata": {
    "colab": {
     "base_uri": "https://localhost:8080/"
    },
    "id": "eftX8aWyc0Q9",
    "outputId": "ecdda0c2-5977-45a7-da9b-d406ff4e3ab4"
   },
   "outputs": [
    {
     "name": "stdout",
     "output_type": "stream",
     "text": [
      "20\n",
      "0\n"
     ]
    }
   ],
   "source": [
    "a = abs(10) + abs(-10)\n",
    "print(a)\n",
    "\n",
    "b = abs(-10) + -10\n",
    "print(b)"
   ]
  },
  {
   "cell_type": "markdown",
   "metadata": {
    "id": "DEkCdbUjcthd"
   },
   "source": [
    "a will print out 20  -> 10 + 10\n",
    "\n",
    "b will print out 0   -> 10 - 10"
   ]
  },
  {
   "cell_type": "markdown",
   "metadata": {
    "id": "n00RNY8Td4W_"
   },
   "source": [
    "***2: A Hidden Message***\n",
    "\n",
    "Try using dir and help to find out how to break a string into words,\n",
    "and then create a small program to print every other word in the\n",
    "following string, starting with the first word (this):"
   ]
  },
  {
   "cell_type": "code",
   "execution_count": 4,
   "metadata": {
    "colab": {
     "base_uri": "https://localhost:8080/",
     "height": 37
    },
    "id": "dKpObfpxd9jH",
    "outputId": "0a960ac0-1974-4d3a-b693-410577c496ee"
   },
   "outputs": [
    {
     "data": {
      "application/vnd.google.colaboratory.intrinsic+json": {
       "type": "string"
      },
      "text/plain": [
       "'this if is you not are a reading very this good then way you to have hide done a it message wrong'"
      ]
     },
     "execution_count": 4,
     "metadata": {},
     "output_type": "execute_result"
    }
   ],
   "source": [
    "\"this if is you not are a reading very this good then way you to have hide done a it message wrong\""
   ]
  },
  {
   "cell_type": "code",
   "execution_count": 6,
   "metadata": {
    "colab": {
     "base_uri": "https://localhost:8080/"
    },
    "id": "9AX1AOI5eBhx",
    "outputId": "de4b56e9-9329-420e-eef3-1e53e85095ee"
   },
   "outputs": [
    {
     "data": {
      "text/plain": [
       "['__add__',\n",
       " '__class__',\n",
       " '__contains__',\n",
       " '__delattr__',\n",
       " '__dir__',\n",
       " '__doc__',\n",
       " '__eq__',\n",
       " '__format__',\n",
       " '__ge__',\n",
       " '__getattribute__',\n",
       " '__getitem__',\n",
       " '__getnewargs__',\n",
       " '__gt__',\n",
       " '__hash__',\n",
       " '__init__',\n",
       " '__init_subclass__',\n",
       " '__iter__',\n",
       " '__le__',\n",
       " '__len__',\n",
       " '__lt__',\n",
       " '__mod__',\n",
       " '__mul__',\n",
       " '__ne__',\n",
       " '__new__',\n",
       " '__reduce__',\n",
       " '__reduce_ex__',\n",
       " '__repr__',\n",
       " '__rmod__',\n",
       " '__rmul__',\n",
       " '__setattr__',\n",
       " '__sizeof__',\n",
       " '__str__',\n",
       " '__subclasshook__',\n",
       " 'capitalize',\n",
       " 'casefold',\n",
       " 'center',\n",
       " 'count',\n",
       " 'encode',\n",
       " 'endswith',\n",
       " 'expandtabs',\n",
       " 'find',\n",
       " 'format',\n",
       " 'format_map',\n",
       " 'index',\n",
       " 'isalnum',\n",
       " 'isalpha',\n",
       " 'isascii',\n",
       " 'isdecimal',\n",
       " 'isdigit',\n",
       " 'isidentifier',\n",
       " 'islower',\n",
       " 'isnumeric',\n",
       " 'isprintable',\n",
       " 'isspace',\n",
       " 'istitle',\n",
       " 'isupper',\n",
       " 'join',\n",
       " 'ljust',\n",
       " 'lower',\n",
       " 'lstrip',\n",
       " 'maketrans',\n",
       " 'partition',\n",
       " 'replace',\n",
       " 'rfind',\n",
       " 'rindex',\n",
       " 'rjust',\n",
       " 'rpartition',\n",
       " 'rsplit',\n",
       " 'rstrip',\n",
       " 'split',\n",
       " 'splitlines',\n",
       " 'startswith',\n",
       " 'strip',\n",
       " 'swapcase',\n",
       " 'title',\n",
       " 'translate',\n",
       " 'upper',\n",
       " 'zfill']"
      ]
     },
     "execution_count": 6,
     "metadata": {},
     "output_type": "execute_result"
    }
   ],
   "source": [
    "dir(\"this if is you not are a reading very this good then way you to have hide done a it message wrong\")"
   ]
  },
  {
   "cell_type": "code",
   "execution_count": 13,
   "metadata": {
    "colab": {
     "base_uri": "https://localhost:8080/"
    },
    "id": "9uqYx4nueWq4",
    "outputId": "88e924c3-cff7-48ac-c257-e36e0a24187e"
   },
   "outputs": [
    {
     "name": "stdout",
     "output_type": "stream",
     "text": [
      "Help on built-in function strip:\n",
      "\n",
      "strip(chars=None, /) method of builtins.str instance\n",
      "    Return a copy of the string with leading and trailing whitespace removed.\n",
      "    \n",
      "    If chars is given and not None, remove characters in chars instead.\n",
      "\n"
     ]
    }
   ],
   "source": [
    "word= \"this if is you not are a reading very this good then way you to have hide done a it message wrong\"\n",
    "\n",
    "help(word.strip)\n"
   ]
  },
  {
   "cell_type": "code",
   "execution_count": 6,
   "metadata": {
    "colab": {
     "base_uri": "https://localhost:8080/"
    },
    "id": "d-AOyexefWUU",
    "outputId": "9b28d399-b7a5-43e0-ea8b-18c776c3d070"
   },
   "outputs": [
    {
     "name": "stdout",
     "output_type": "stream",
     "text": [
      "this\n",
      "is\n",
      "not\n",
      "a\n",
      "very\n",
      "good\n",
      "way\n",
      "to\n",
      "hide\n",
      "a\n",
      "message\n"
     ]
    }
   ],
   "source": [
    "string = \"this if is you not are a reading very this good then way you to have hide done a it message wrong\"\n",
    "\n",
    "x = string.split()\n",
    "\n",
    "\n",
    "for y in range(0,22,2):\n",
    "  print(x[y])"
   ]
  },
  {
   "cell_type": "markdown",
   "metadata": {
    "id": "BHEI6DVux1HQ"
   },
   "source": [
    "# Chapter 10 - Useful Python Modules"
   ]
  },
  {
   "cell_type": "markdown",
   "metadata": {
    "id": "8zoBwQoJyIHu"
   },
   "source": [
    "A Python module is\n",
    "any combination of functions, classes, and variables.\n",
    "\n",
    "Python uses modules to group functions and classes\n",
    "in order to make them easier to use.\n",
    "\n",
    "For example, the\n",
    "turtle module, which we used in previous chapters,\n",
    "groups functions and classes that are used to create\n",
    "a canvas for a turtle to draw on the screen.\n",
    "\n",
    "Python has a lot of modules for doing all sorts of different\n",
    "tasks. In this chapter, we’ll look at some of the most useful ones\n",
    "and try some of their functions."
   ]
  },
  {
   "cell_type": "markdown",
   "metadata": {
    "id": "mUlB1orwyka4"
   },
   "source": [
    "***Making Copies with the copy Module***\n",
    "\n",
    "The copy module contains functions\n",
    "for creating copies of objects.\n",
    "\n",
    " Usually, when writing a program, you’ll\n",
    "create new objects, but sometimes\n",
    "it’s useful to create a copy of an\n",
    "object, and then use that copy to\n",
    "create a new object, particularly\n",
    "when the process of creating an\n",
    "object takes several steps. \n",
    "\n",
    "For example, suppose we have\n",
    "an Animal class, with an __init__\n",
    "function that takes the parameters\n",
    "name, number_of_legs, and color."
   ]
  },
  {
   "cell_type": "code",
   "execution_count": 11,
   "metadata": {
    "id": "CU-qzRUZx818"
   },
   "outputs": [],
   "source": [
    "class Animal:\n",
    "  def __init__(self, species, number_of_legs, color):\n",
    "    self.species = species\n",
    "    self.number_of_legs = number_of_legs\n",
    "    self.color = color\n",
    "\n",
    "harry = Animal('hippogriff', 6, 'pink')"
   ]
  },
  {
   "cell_type": "markdown",
   "metadata": {
    "id": "qswwQfad6HmS"
   },
   "source": [
    "We could create a new object in the class Animal using the following code.\n",
    "\n",
    " Let’s create a pink hippogriff with six legs, called harry."
   ]
  },
  {
   "cell_type": "markdown",
   "metadata": {
    "id": "qFZ10-Sd6Obh"
   },
   "source": [
    "Suppose we want a herd of pink hippogriffs with six legs?\n",
    "\n",
    " We\n",
    "could repeat the previous code over and over again, or use copy,\n",
    "which can be found in the copy module:"
   ]
  },
  {
   "cell_type": "code",
   "execution_count": 12,
   "metadata": {
    "colab": {
     "base_uri": "https://localhost:8080/"
    },
    "id": "f0HHfYJo-opE",
    "outputId": "2e958ab4-8b9b-42b7-c2ef-5f27d7eadedf"
   },
   "outputs": [
    {
     "name": "stdout",
     "output_type": "stream",
     "text": [
      "hippogriff\n",
      "hippogriff\n"
     ]
    }
   ],
   "source": [
    "import copy\n",
    "harry = Animal('hippogriff', 6, 'pink')\n",
    "harriet = copy.copy(harry)\n",
    "print(harry.species)\n",
    "print(harriet.species)"
   ]
  },
  {
   "cell_type": "markdown",
   "metadata": {
    "id": "yLMjFL97ABi0"
   },
   "source": [
    "In this example, we create an object and label it with the\n",
    "variable harry, and then we create a copy of that object and label\n",
    "it harriet.\n",
    "\n",
    " These are two completely different objects, even though\n",
    "they have the same species. \n",
    "\n",
    "This saves only a bit of typing, but\n",
    "when the objects are a lot more complicated, being able to copy\n",
    "them can be useful.\n",
    "\n",
    "We can also create and copy a list of Animal objects."
   ]
  },
  {
   "cell_type": "code",
   "execution_count": 13,
   "metadata": {
    "colab": {
     "base_uri": "https://localhost:8080/"
    },
    "id": "HJpmkqFnARw9",
    "outputId": "01b12c16-fb01-4fdc-8f78-64c24da91586"
   },
   "outputs": [
    {
     "name": "stdout",
     "output_type": "stream",
     "text": [
      "hippogriff\n",
      "chimera\n"
     ]
    }
   ],
   "source": [
    "harry = Animal('hippogriff', 6, 'pink')\n",
    "carrie = Animal('chimera', 4, 'green polka dots')\n",
    "billy = Animal('bogill', 0, 'paisley')\n",
    "my_animals = [harry, carrie, billy]\n",
    "more_animals = copy.copy(my_animals)\n",
    "print(more_animals[0].species)\n",
    "print(more_animals[1].species)"
   ]
  },
  {
   "cell_type": "markdown",
   "metadata": {
    "id": "uzKhrMoZA2fR"
   },
   "source": [
    "In the first three lines, we create\n",
    "three Animal objects and store them in\n",
    "harry, carrie, and billy. \n",
    "\n",
    "On the fourth line,\n",
    "we add these objects to the list my_animals.\n",
    "\n",
    "Next, we use copy to create a new list,\n",
    "more_animals.\n",
    "\n",
    " Finally, we print the species\n",
    "of the first two objects ([0] and [1]) in the\n",
    "more_animals list and see that they’re the\n",
    "same as in the original list: hippogriff\n",
    "and chimera.\n",
    "\n",
    " We’ve made a copy of the list\n",
    "without needing to create the objects all\n",
    "over again."
   ]
  },
  {
   "cell_type": "markdown",
   "metadata": {
    "id": "vKNwsb6PBrLe"
   },
   "source": [
    "But look what happens if we change the species of one of our\n",
    "Animal objects in the original my_animals list (hippogriff to ghoul).\n",
    "Python changes the species in more_animals, too."
   ]
  },
  {
   "cell_type": "code",
   "execution_count": 14,
   "metadata": {
    "colab": {
     "base_uri": "https://localhost:8080/"
    },
    "id": "Sw6mKQE3Bs8_",
    "outputId": "e39d3373-5fdd-4288-aecb-0a653207ea59"
   },
   "outputs": [
    {
     "name": "stdout",
     "output_type": "stream",
     "text": [
      "ghoul\n",
      "ghoul\n"
     ]
    }
   ],
   "source": [
    "my_animals[0].species = 'ghoul'\n",
    "print(my_animals[0].species)\n",
    "\n",
    "print(more_animals[0].species)"
   ]
  },
  {
   "cell_type": "markdown",
   "metadata": {
    "id": "f-VSCmErHAxc"
   },
   "source": [
    "That’s odd. Didn’t we change the species in my_animals only?\n",
    "\n",
    "Why did the species change in both lists?\n",
    "\n",
    "The species changed because copy actually makes a shallow\n",
    "copy, which means it doesn’t copy objects inside the objects we copied. \n",
    "\n",
    "Here, it has copied the main list object but not the individual\n",
    "objects inside the list. \n",
    "\n",
    "So we end up with a new list that does not\n",
    "have its own new objects—the list more_animals has the same three\n",
    "objects inside it.\n",
    "\n",
    "By the same token, if we add a new animal to the first list\n",
    "(my_animals), it doesn’t appear in the copy (more_animals). As proof,\n",
    "print the length of each list after adding another animal, like this:"
   ]
  },
  {
   "cell_type": "code",
   "execution_count": 15,
   "metadata": {
    "colab": {
     "base_uri": "https://localhost:8080/"
    },
    "id": "hKOmj3lmHKdW",
    "outputId": "b10b3cb5-7a43-4a30-b74c-f0138e5c48bb"
   },
   "outputs": [
    {
     "name": "stdout",
     "output_type": "stream",
     "text": [
      "4\n",
      "3\n"
     ]
    }
   ],
   "source": [
    "sally = Animal('sphinx', 4, 'sand')\n",
    "my_animals.append(sally)\n",
    "print(len(my_animals))\n",
    "print(len(more_animals))"
   ]
  },
  {
   "cell_type": "markdown",
   "metadata": {
    "id": "OdeTcX91aAzZ"
   },
   "source": [
    "As you can see, when we append a new animal to the first list,\n",
    "my_animals, it isn’t added to the copy of that list, more_animals.\n",
    "\n",
    " When\n",
    "we use len and print the results, the first list has four elements\n",
    "and the second has three.\n",
    "___\n",
    "Another function in the copy module, deepcopy, actually creates\n",
    "copies of all objects inside the object being copied. \n",
    "\n",
    "When we use\n",
    "deepcopy to copy my_animals, we get a new list complete with copies of\n",
    "all of its objects. \n",
    "\n",
    "As a result, changes to one of our original Animal\n",
    "objects won’t affect the objects in the new list. \n",
    "\n",
    "Here’s an example:"
   ]
  },
  {
   "cell_type": "code",
   "execution_count": 16,
   "metadata": {
    "colab": {
     "base_uri": "https://localhost:8080/"
    },
    "id": "kKPWDWkTa02l",
    "outputId": "6eca94db-96cf-4a03-868f-646b1e5c7734"
   },
   "outputs": [
    {
     "name": "stdout",
     "output_type": "stream",
     "text": [
      "wyrm\n",
      "ghoul\n"
     ]
    }
   ],
   "source": [
    "more_animals = copy.deepcopy(my_animals)   # Dont forget to run the cells in sequence \n",
    "my_animals[0].species = 'wyrm'\n",
    "print(my_animals[0].species)\n",
    "\n",
    "print(more_animals[0].species)"
   ]
  },
  {
   "cell_type": "markdown",
   "metadata": {
    "id": "70hj9QWNbcPw"
   },
   "source": [
    "When we change the species of the first object in the original\n",
    "list from ghoul to wyrm, the copied list doesn’t change, as we can see\n",
    "when we print the species of the first object in each list."
   ]
  },
  {
   "cell_type": "markdown",
   "metadata": {
    "id": "BNfXE2hBbk4N"
   },
   "source": [
    "***Keeping Track of Keywords with the keyword Module***\n",
    "\n",
    "A Python keyword is any word in Python that is part of the language itself, such as if, else, and for. \n",
    "\n",
    "The keyword module contains\n",
    "a function named iskeyword and a variable called kwlist.\n",
    "\n",
    " The function iskeyword returns true if any string is a Python keyword.\n",
    " \n",
    "  The\n",
    "variable kwlist returns a list of all Python keywords.\n",
    "\n",
    "Notice in the following code that the function iskeyword returns\n",
    "true for the string if and false for the string ozwald. \n",
    "\n",
    "You can see\n",
    "the full list of keywords when we print the contents of the variable,\n",
    "which is useful because keywords don’t always stay the same. \n",
    "\n",
    "New\n",
    "versions (or older versions) of Python may have different keywords."
   ]
  },
  {
   "cell_type": "code",
   "execution_count": 17,
   "metadata": {
    "colab": {
     "base_uri": "https://localhost:8080/"
    },
    "id": "gfAlDilHcCgQ",
    "outputId": "66506c8d-f050-437f-b7b2-b136239a4ca8"
   },
   "outputs": [
    {
     "name": "stdout",
     "output_type": "stream",
     "text": [
      "True\n",
      "False\n",
      "['False', 'None', 'True', 'and', 'as', 'assert', 'async', 'await', 'break', 'class', 'continue', 'def', 'del', 'elif', 'else', 'except', 'finally', 'for', 'from', 'global', 'if', 'import', 'in', 'is', 'lambda', 'nonlocal', 'not', 'or', 'pass', 'raise', 'return', 'try', 'while', 'with', 'yield']\n"
     ]
    }
   ],
   "source": [
    "import keyword\n",
    "print(keyword.iskeyword('if'))\n",
    "\n",
    "print(keyword.iskeyword('ozwald'))\n",
    "\n",
    "print(keyword.kwlist)   # description of each keyword available in appendix of book"
   ]
  },
  {
   "cell_type": "markdown",
   "metadata": {
    "id": "XS9MnnfWdgzr"
   },
   "source": [
    "***Getting Random Numbers with the Random Module***\n",
    "\n",
    "The random module contains a number of functions that are useful\n",
    "for generating random numbers—kind of like asking the computer\n",
    "to “pick a number.”\n",
    "\n",
    " The most useful functions in the random module\n",
    "are randint, choice, and shuffle."
   ]
  },
  {
   "cell_type": "markdown",
   "metadata": {
    "id": "kXm_jMuTd3WW"
   },
   "source": [
    "+ ***Using randint to Pick a Random Number***\n",
    "\n",
    "The randint function picks a random number between a range\n",
    "of numbers, say between 1 and 100, between 100 and 1000, or\n",
    "between 1000 and 5000. Here’s an example:"
   ]
  },
  {
   "cell_type": "code",
   "execution_count": 21,
   "metadata": {
    "colab": {
     "base_uri": "https://localhost:8080/"
    },
    "id": "gWub_YtTd_m5",
    "outputId": "296d60fa-381c-496a-c479-a1759dc90ac5"
   },
   "outputs": [
    {
     "name": "stdout",
     "output_type": "stream",
     "text": [
      "6\n",
      "395\n",
      "4022\n"
     ]
    }
   ],
   "source": [
    "import random\n",
    "print(random.randint(1, 100))\n",
    "\n",
    "print(random.randint(100, 1000))\n",
    "\n",
    "print(random.randint(1000, 5000))"
   ]
  },
  {
   "cell_type": "markdown",
   "metadata": {
    "id": "w3Ze4kPveJLu"
   },
   "source": [
    "You might use randint to do something like create a simple (and\n",
    "annoying) guessing game, using a while loop, like this:"
   ]
  },
  {
   "cell_type": "code",
   "execution_count": 20,
   "metadata": {
    "colab": {
     "base_uri": "https://localhost:8080/"
    },
    "id": "B_aCdMgBeKiF",
    "outputId": "bab5aa1b-dc95-41c9-8a3c-9d9dc2c6c934"
   },
   "outputs": [
    {
     "name": "stdout",
     "output_type": "stream",
     "text": [
      "Guess a number between 1 and 100\n",
      "50\n",
      "Try higher\n",
      "Guess a number between 1 and 100\n",
      "75\n",
      "Try lower\n",
      "Guess a number between 1 and 100\n",
      "60\n",
      "Try higher\n",
      "Guess a number between 1 and 100\n",
      "65\n",
      "You guessed right\n"
     ]
    }
   ],
   "source": [
    "import random\n",
    "num = random.randint(1, 100)\n",
    "\n",
    "while True:\n",
    "  print('Guess a number between 1 and 100')\n",
    "  guess = input()\n",
    "  i = int(guess)\n",
    "\n",
    "  if i == num:\n",
    "    print('You guessed right')\n",
    "    break\n",
    "\n",
    "  elif i < num:\n",
    "    print('Try higher')\n",
    "\n",
    "  elif i > num:\n",
    "    print('Try lower')"
   ]
  },
  {
   "cell_type": "markdown",
   "metadata": {
    "id": "1GBlnEvFfBx2"
   },
   "source": [
    "First, we import the random module, and\n",
    "then we set the variable num to a random number using randint with a range of 1 to 100.\n",
    "\n",
    " We\n",
    "then create a while loop that will loop\n",
    "forever (or at least until the player guesses\n",
    "the number).\n",
    "\n",
    "Next, we print a message and then use input to get input\n",
    "from the user, which we store in the variable guess.\n",
    "\n",
    "We convert the input to a number using int, and save it in the variable i.\n",
    "\n",
    "Then we compare it with the randomly selected number.\n",
    "\n",
    "If the input and the randomly generated number are equal, we\n",
    "print “You guessed right,” and then exit the loop.\n",
    "\n",
    "If the numbers aren’t equal, we check to see if the number the player guessed is higher than the random number or lower and print a\n",
    "hint message accordingly.\n",
    "\n",
    "This code is a bit long, so you may want to type it into a new\n",
    "shell window or create a text document, save it, and then run it in\n",
    "IDLE."
   ]
  },
  {
   "cell_type": "markdown",
   "metadata": {
    "id": "LphPEugYh7uN"
   },
   "source": [
    "+ ***Using choice to Pick a Random Item from a List***\n",
    "\n",
    "If you want to pick a random item from a list instead of a random\n",
    "number from a given range, you can use choice.\n",
    "\n",
    " For example, you\n",
    "might want Python to choose your dessert for you."
   ]
  },
  {
   "cell_type": "code",
   "execution_count": 23,
   "metadata": {
    "colab": {
     "base_uri": "https://localhost:8080/"
    },
    "id": "__lrLhyckiuR",
    "outputId": "6da92dc5-5ef1-422f-b26b-902eb3a669d6"
   },
   "outputs": [
    {
     "name": "stdout",
     "output_type": "stream",
     "text": [
      "pancakes\n"
     ]
    }
   ],
   "source": [
    "import random\n",
    "desserts = ['ice cream', 'pancakes', 'brownies', 'cookies','candy']\n",
    "print(random.choice(desserts))"
   ]
  },
  {
   "cell_type": "markdown",
   "metadata": {
    "id": "wVHvHOX_mgoE"
   },
   "source": [
    "+ ***Using shuffle to Shuffle a List***\n",
    "\n",
    "The shuffle function shuffles a list, mixing up the items."
   ]
  },
  {
   "cell_type": "code",
   "execution_count": 25,
   "metadata": {
    "colab": {
     "base_uri": "https://localhost:8080/"
    },
    "id": "ce0mluwzmrKW",
    "outputId": "f491fa7f-45cc-4099-c11b-1872cfb454b8"
   },
   "outputs": [
    {
     "name": "stdout",
     "output_type": "stream",
     "text": [
      "['pancakes', 'ice cream', 'cookies', 'brownies', 'candy']\n"
     ]
    }
   ],
   "source": [
    "import random\n",
    "desserts = ['ice cream', 'pancakes', 'brownies', 'cookies','candy']\n",
    "random.shuffle(desserts)\n",
    "print(desserts)"
   ]
  },
  {
   "cell_type": "markdown",
   "metadata": {
    "id": "WEKcPrmhnHN9"
   },
   "source": [
    "You can see the results of the shuffle when we print the list—\n",
    "the order is completely different.\n",
    "\n",
    " If you were writing a card game,\n",
    "you might use this to shuffle a list representing a deck of cards."
   ]
  },
  {
   "cell_type": "markdown",
   "metadata": {
    "id": "y4FKCXBzoVA5"
   },
   "source": [
    "***Controlling the Shell with the sys Module***\n",
    "\n",
    "The sys module contains system functions that you can use to\n",
    "control the Python shell itself. \n",
    "\n",
    "Here, we’ll look at how to use exit\n",
    "function, stdin and stdout objects, and version variable."
   ]
  },
  {
   "cell_type": "markdown",
   "metadata": {
    "id": "38ZIC3OQsCp0"
   },
   "source": [
    "+ ***Exiting the Shell with the exit function***\n",
    "\n",
    "The exit function is a way of stopping the Python shell or console.\n",
    "\n",
    "Enter the following code, and you’ll be prompted with a dialog asking if you want to exit.\n",
    "\n",
    " Click Yes, and the shell will shut down."
   ]
  },
  {
   "cell_type": "code",
   "execution_count": 6,
   "metadata": {
    "id": "lzvaLMKYsQsh"
   },
   "outputs": [],
   "source": [
    "import sys\n",
    "sys.exit()      # Does not run on colab"
   ]
  },
  {
   "cell_type": "code",
   "execution_count": 7,
   "metadata": {
    "colab": {
     "base_uri": "https://localhost:8080/"
    },
    "id": "F_4wwWnNskug",
    "outputId": "b42bbc7d-2962-4e8c-efa3-3a7dd5831b6c"
   },
   "outputs": [
    {
     "name": "stdout",
     "output_type": "stream",
     "text": [
      "Help on built-in function exit in module sys:\n",
      "\n",
      "exit(...)\n",
      "    exit([status])\n",
      "    \n",
      "    Exit the interpreter by raising SystemExit(status).\n",
      "    If the status is omitted or None, it defaults to zero (i.e., success).\n",
      "    If the status is an integer, it will be used as the system exit status.\n",
      "    If it is another kind of object, it will be printed and the system\n",
      "    exit status will be one (i.e., failure).\n",
      "\n"
     ]
    }
   ],
   "source": [
    "help(sys.exit)"
   ]
  },
  {
   "cell_type": "markdown",
   "metadata": {
    "id": "H--ddmwftCZH"
   },
   "source": [
    "+ ***Reading with the stdin Object***\n",
    "\n",
    "The stdin object (short for standard input) in the sys module prompts\n",
    "a user to enter information to be read into the shell and used by the\n",
    "program. \n",
    "\n",
    "As you learned in Chapter 7, this object has a readline\n",
    "function, which is used to read a line of text typed on the keyboard\n",
    "until the user presses enter.\n",
    "\n",
    " It works like the input function that\n",
    "we used in the random number guessing game earlier in this chapter. \n",
    "\n",
    "For example, enter the following:"
   ]
  },
  {
   "cell_type": "code",
   "execution_count": 27,
   "metadata": {
    "id": "4Rp4MwVUtCOP"
   },
   "outputs": [],
   "source": [
    "import sys\n",
    "v = sys.stdin.readline()\n",
    "He who laughs last thinks slowest \n",
    "\n",
    "print(v)  # sys does not run on colab"
   ]
  },
  {
   "cell_type": "markdown",
   "metadata": {
    "id": "8FQNoHV13aaf"
   },
   "source": [
    "Python will store the string He who laughs last thinks slowest in\n",
    "the variable v. To confirm this, print the contents of v:"
   ]
  },
  {
   "cell_type": "markdown",
   "metadata": {
    "id": "1wDwd-or3dF2"
   },
   "source": [
    "One of the differences between input and the readline function\n",
    "is that with readline, you can specify the number of characters to\n",
    "read as a parameter. For example:"
   ]
  },
  {
   "cell_type": "code",
   "execution_count": null,
   "metadata": {
    "id": "NnqS3SIY3bki"
   },
   "outputs": [],
   "source": [
    "v = sys.stdin.readline(13)\n",
    "He who laughs last thinks slowest   # only 'He who laughs' will print\n",
    "\n",
    "print(v)"
   ]
  },
  {
   "cell_type": "markdown",
   "metadata": {
    "id": "mQ3a4pFq3XaM"
   },
   "source": [
    "+ ***Writing with the stdout Object***\n",
    "\n",
    "Unlike stdin, the stdout object (short for standard output) can be\n",
    "used to write messages to the shell (or console), rather than reading them in.\n",
    "\n",
    " In some ways, it’s the same as print, but stdout is a file\n",
    "object, so it has the same functions we used in Chapter 9, such as\n",
    "write.\n",
    "\n",
    " Here’s an example:"
   ]
  },
  {
   "cell_type": "code",
   "execution_count": 1,
   "metadata": {
    "colab": {
     "base_uri": "https://localhost:8080/"
    },
    "id": "zo0ISQdu3fjR",
    "outputId": "308b2a12-d9e0-4607-f3ea-3f02e24aede4"
   },
   "outputs": [
    {
     "name": "stdout",
     "output_type": "stream",
     "text": [
      "What does a fish say when it swims into a wall? Dam."
     ]
    }
   ],
   "source": [
    "import sys\n",
    "sys.stdout.write(\"What does a fish say when it swims into a wall? Dam.\")\n",
    "\n",
    "# Supposed to print out 'What does a fish say when it swims into a wall? Dam.52' in other IDLE"
   ]
  },
  {
   "cell_type": "markdown",
   "metadata": {
    "id": "BLe-mll334iD"
   },
   "source": [
    "Notice that when write finishes, it returns a count of the number of characters it has written. You can see 52 printed into the\n",
    "shell at the end of the message.\n",
    "\n",
    " We could save this value to a variable in order to record, over time, how many characters we have\n",
    "written to the screen."
   ]
  },
  {
   "cell_type": "markdown",
   "metadata": {
    "id": "zuIVUwty39py"
   },
   "source": [
    "+ ***Which Version of Python Am I Using?***\n",
    " \n",
    "The variable version displays your version of Python, which can be useful if\n",
    "you want to make sure you’re up-to-date.\n",
    "\n",
    "Some programmers like to print information when their programs start up.\n",
    "\n",
    "For example, you might put the version\n",
    "of Python into an About window of your\n",
    "program, like this:"
   ]
  },
  {
   "cell_type": "code",
   "execution_count": 2,
   "metadata": {
    "colab": {
     "base_uri": "https://localhost:8080/"
    },
    "id": "LPOrc1g34End",
    "outputId": "222ffa56-12bb-4f1e-91c3-0ea2329bdec2"
   },
   "outputs": [
    {
     "name": "stdout",
     "output_type": "stream",
     "text": [
      "3.7.12 (default, Sep 10 2021, 00:21:48) \n",
      "[GCC 7.5.0]\n"
     ]
    }
   ],
   "source": [
    "import sys\n",
    "print(sys.version)"
   ]
  },
  {
   "cell_type": "markdown",
   "metadata": {
    "id": "gNZH4AnI4M60"
   },
   "source": [
    "***Doing Time with the time module***\n",
    "\n",
    "Python’s time module contains functions for displaying the time,\n",
    "though not necessarily as you might expect. Try this:"
   ]
  },
  {
   "cell_type": "code",
   "execution_count": 3,
   "metadata": {
    "colab": {
     "base_uri": "https://localhost:8080/"
    },
    "id": "bQYXJtBg4TRU",
    "outputId": "346bd940-be07-49f3-c3bb-71c663d7529c"
   },
   "outputs": [
    {
     "name": "stdout",
     "output_type": "stream",
     "text": [
      "1639282998.9164329\n"
     ]
    }
   ],
   "source": [
    "import time\n",
    "print(time.time())"
   ]
  },
  {
   "cell_type": "markdown",
   "metadata": {
    "id": "wZTq6XLc4gPH"
   },
   "source": [
    "The number returned by the call to\n",
    "time() is actually the number of seconds\n",
    "since January 1, 1970, at 00:00:00 AM\n",
    "to be exact.\n",
    "\n",
    " On its own, this unusual reference point may not seem immediately\n",
    "useful, but it can serve a purpose.\n",
    "\n",
    " For example, to find out how\n",
    "long parts of your program take to run, you can record the time at\n",
    "the beginning and end, and compare the values. \n",
    "\n",
    "Let’s try this to\n",
    "find out how long it will take to print all numbers from 0 to 999.\n",
    "\n",
    "First, create a function like this:"
   ]
  },
  {
   "cell_type": "code",
   "execution_count": 4,
   "metadata": {
    "id": "pKoReRMy4mYM"
   },
   "outputs": [],
   "source": [
    "def lots_of_numbers(max):\n",
    "  for x in range(0, max):\n",
    "    print(x)"
   ]
  },
  {
   "cell_type": "markdown",
   "metadata": {
    "id": "rKtVjGI-4xVT"
   },
   "source": [
    "Next, call the function with max set to 1000:"
   ]
  },
  {
   "cell_type": "code",
   "execution_count": 5,
   "metadata": {
    "colab": {
     "base_uri": "https://localhost:8080/"
    },
    "id": "XsG1QNdk4x_V",
    "outputId": "7552823e-fccf-45e4-b578-062bef77ca6e"
   },
   "outputs": [
    {
     "name": "stdout",
     "output_type": "stream",
     "text": [
      "0\n",
      "1\n",
      "2\n",
      "3\n",
      "4\n",
      "5\n",
      "6\n",
      "7\n",
      "8\n",
      "9\n",
      "10\n",
      "11\n",
      "12\n",
      "13\n",
      "14\n",
      "15\n",
      "16\n",
      "17\n",
      "18\n",
      "19\n",
      "20\n",
      "21\n",
      "22\n",
      "23\n",
      "24\n",
      "25\n",
      "26\n",
      "27\n",
      "28\n",
      "29\n",
      "30\n",
      "31\n",
      "32\n",
      "33\n",
      "34\n",
      "35\n",
      "36\n",
      "37\n",
      "38\n",
      "39\n",
      "40\n",
      "41\n",
      "42\n",
      "43\n",
      "44\n",
      "45\n",
      "46\n",
      "47\n",
      "48\n",
      "49\n",
      "50\n",
      "51\n",
      "52\n",
      "53\n",
      "54\n",
      "55\n",
      "56\n",
      "57\n",
      "58\n",
      "59\n",
      "60\n",
      "61\n",
      "62\n",
      "63\n",
      "64\n",
      "65\n",
      "66\n",
      "67\n",
      "68\n",
      "69\n",
      "70\n",
      "71\n",
      "72\n",
      "73\n",
      "74\n",
      "75\n",
      "76\n",
      "77\n",
      "78\n",
      "79\n",
      "80\n",
      "81\n",
      "82\n",
      "83\n",
      "84\n",
      "85\n",
      "86\n",
      "87\n",
      "88\n",
      "89\n",
      "90\n",
      "91\n",
      "92\n",
      "93\n",
      "94\n",
      "95\n",
      "96\n",
      "97\n",
      "98\n",
      "99\n",
      "100\n",
      "101\n",
      "102\n",
      "103\n",
      "104\n",
      "105\n",
      "106\n",
      "107\n",
      "108\n",
      "109\n",
      "110\n",
      "111\n",
      "112\n",
      "113\n",
      "114\n",
      "115\n",
      "116\n",
      "117\n",
      "118\n",
      "119\n",
      "120\n",
      "121\n",
      "122\n",
      "123\n",
      "124\n",
      "125\n",
      "126\n",
      "127\n",
      "128\n",
      "129\n",
      "130\n",
      "131\n",
      "132\n",
      "133\n",
      "134\n",
      "135\n",
      "136\n",
      "137\n",
      "138\n",
      "139\n",
      "140\n",
      "141\n",
      "142\n",
      "143\n",
      "144\n",
      "145\n",
      "146\n",
      "147\n",
      "148\n",
      "149\n",
      "150\n",
      "151\n",
      "152\n",
      "153\n",
      "154\n",
      "155\n",
      "156\n",
      "157\n",
      "158\n",
      "159\n",
      "160\n",
      "161\n",
      "162\n",
      "163\n",
      "164\n",
      "165\n",
      "166\n",
      "167\n",
      "168\n",
      "169\n",
      "170\n",
      "171\n",
      "172\n",
      "173\n",
      "174\n",
      "175\n",
      "176\n",
      "177\n",
      "178\n",
      "179\n",
      "180\n",
      "181\n",
      "182\n",
      "183\n",
      "184\n",
      "185\n",
      "186\n",
      "187\n",
      "188\n",
      "189\n",
      "190\n",
      "191\n",
      "192\n",
      "193\n",
      "194\n",
      "195\n",
      "196\n",
      "197\n",
      "198\n",
      "199\n",
      "200\n",
      "201\n",
      "202\n",
      "203\n",
      "204\n",
      "205\n",
      "206\n",
      "207\n",
      "208\n",
      "209\n",
      "210\n",
      "211\n",
      "212\n",
      "213\n",
      "214\n",
      "215\n",
      "216\n",
      "217\n",
      "218\n",
      "219\n",
      "220\n",
      "221\n",
      "222\n",
      "223\n",
      "224\n",
      "225\n",
      "226\n",
      "227\n",
      "228\n",
      "229\n",
      "230\n",
      "231\n",
      "232\n",
      "233\n",
      "234\n",
      "235\n",
      "236\n",
      "237\n",
      "238\n",
      "239\n",
      "240\n",
      "241\n",
      "242\n",
      "243\n",
      "244\n",
      "245\n",
      "246\n",
      "247\n",
      "248\n",
      "249\n",
      "250\n",
      "251\n",
      "252\n",
      "253\n",
      "254\n",
      "255\n",
      "256\n",
      "257\n",
      "258\n",
      "259\n",
      "260\n",
      "261\n",
      "262\n",
      "263\n",
      "264\n",
      "265\n",
      "266\n",
      "267\n",
      "268\n",
      "269\n",
      "270\n",
      "271\n",
      "272\n",
      "273\n",
      "274\n",
      "275\n",
      "276\n",
      "277\n",
      "278\n",
      "279\n",
      "280\n",
      "281\n",
      "282\n",
      "283\n",
      "284\n",
      "285\n",
      "286\n",
      "287\n",
      "288\n",
      "289\n",
      "290\n",
      "291\n",
      "292\n",
      "293\n",
      "294\n",
      "295\n",
      "296\n",
      "297\n",
      "298\n",
      "299\n",
      "300\n",
      "301\n",
      "302\n",
      "303\n",
      "304\n",
      "305\n",
      "306\n",
      "307\n",
      "308\n",
      "309\n",
      "310\n",
      "311\n",
      "312\n",
      "313\n",
      "314\n",
      "315\n",
      "316\n",
      "317\n",
      "318\n",
      "319\n",
      "320\n",
      "321\n",
      "322\n",
      "323\n",
      "324\n",
      "325\n",
      "326\n",
      "327\n",
      "328\n",
      "329\n",
      "330\n",
      "331\n",
      "332\n",
      "333\n",
      "334\n",
      "335\n",
      "336\n",
      "337\n",
      "338\n",
      "339\n",
      "340\n",
      "341\n",
      "342\n",
      "343\n",
      "344\n",
      "345\n",
      "346\n",
      "347\n",
      "348\n",
      "349\n",
      "350\n",
      "351\n",
      "352\n",
      "353\n",
      "354\n",
      "355\n",
      "356\n",
      "357\n",
      "358\n",
      "359\n",
      "360\n",
      "361\n",
      "362\n",
      "363\n",
      "364\n",
      "365\n",
      "366\n",
      "367\n",
      "368\n",
      "369\n",
      "370\n",
      "371\n",
      "372\n",
      "373\n",
      "374\n",
      "375\n",
      "376\n",
      "377\n",
      "378\n",
      "379\n",
      "380\n",
      "381\n",
      "382\n",
      "383\n",
      "384\n",
      "385\n",
      "386\n",
      "387\n",
      "388\n",
      "389\n",
      "390\n",
      "391\n",
      "392\n",
      "393\n",
      "394\n",
      "395\n",
      "396\n",
      "397\n",
      "398\n",
      "399\n",
      "400\n",
      "401\n",
      "402\n",
      "403\n",
      "404\n",
      "405\n",
      "406\n",
      "407\n",
      "408\n",
      "409\n",
      "410\n",
      "411\n",
      "412\n",
      "413\n",
      "414\n",
      "415\n",
      "416\n",
      "417\n",
      "418\n",
      "419\n",
      "420\n",
      "421\n",
      "422\n",
      "423\n",
      "424\n",
      "425\n",
      "426\n",
      "427\n",
      "428\n",
      "429\n",
      "430\n",
      "431\n",
      "432\n",
      "433\n",
      "434\n",
      "435\n",
      "436\n",
      "437\n",
      "438\n",
      "439\n",
      "440\n",
      "441\n",
      "442\n",
      "443\n",
      "444\n",
      "445\n",
      "446\n",
      "447\n",
      "448\n",
      "449\n",
      "450\n",
      "451\n",
      "452\n",
      "453\n",
      "454\n",
      "455\n",
      "456\n",
      "457\n",
      "458\n",
      "459\n",
      "460\n",
      "461\n",
      "462\n",
      "463\n",
      "464\n",
      "465\n",
      "466\n",
      "467\n",
      "468\n",
      "469\n",
      "470\n",
      "471\n",
      "472\n",
      "473\n",
      "474\n",
      "475\n",
      "476\n",
      "477\n",
      "478\n",
      "479\n",
      "480\n",
      "481\n",
      "482\n",
      "483\n",
      "484\n",
      "485\n",
      "486\n",
      "487\n",
      "488\n",
      "489\n",
      "490\n",
      "491\n",
      "492\n",
      "493\n",
      "494\n",
      "495\n",
      "496\n",
      "497\n",
      "498\n",
      "499\n",
      "500\n",
      "501\n",
      "502\n",
      "503\n",
      "504\n",
      "505\n",
      "506\n",
      "507\n",
      "508\n",
      "509\n",
      "510\n",
      "511\n",
      "512\n",
      "513\n",
      "514\n",
      "515\n",
      "516\n",
      "517\n",
      "518\n",
      "519\n",
      "520\n",
      "521\n",
      "522\n",
      "523\n",
      "524\n",
      "525\n",
      "526\n",
      "527\n",
      "528\n",
      "529\n",
      "530\n",
      "531\n",
      "532\n",
      "533\n",
      "534\n",
      "535\n",
      "536\n",
      "537\n",
      "538\n",
      "539\n",
      "540\n",
      "541\n",
      "542\n",
      "543\n",
      "544\n",
      "545\n",
      "546\n",
      "547\n",
      "548\n",
      "549\n",
      "550\n",
      "551\n",
      "552\n",
      "553\n",
      "554\n",
      "555\n",
      "556\n",
      "557\n",
      "558\n",
      "559\n",
      "560\n",
      "561\n",
      "562\n",
      "563\n",
      "564\n",
      "565\n",
      "566\n",
      "567\n",
      "568\n",
      "569\n",
      "570\n",
      "571\n",
      "572\n",
      "573\n",
      "574\n",
      "575\n",
      "576\n",
      "577\n",
      "578\n",
      "579\n",
      "580\n",
      "581\n",
      "582\n",
      "583\n",
      "584\n",
      "585\n",
      "586\n",
      "587\n",
      "588\n",
      "589\n",
      "590\n",
      "591\n",
      "592\n",
      "593\n",
      "594\n",
      "595\n",
      "596\n",
      "597\n",
      "598\n",
      "599\n",
      "600\n",
      "601\n",
      "602\n",
      "603\n",
      "604\n",
      "605\n",
      "606\n",
      "607\n",
      "608\n",
      "609\n",
      "610\n",
      "611\n",
      "612\n",
      "613\n",
      "614\n",
      "615\n",
      "616\n",
      "617\n",
      "618\n",
      "619\n",
      "620\n",
      "621\n",
      "622\n",
      "623\n",
      "624\n",
      "625\n",
      "626\n",
      "627\n",
      "628\n",
      "629\n",
      "630\n",
      "631\n",
      "632\n",
      "633\n",
      "634\n",
      "635\n",
      "636\n",
      "637\n",
      "638\n",
      "639\n",
      "640\n",
      "641\n",
      "642\n",
      "643\n",
      "644\n",
      "645\n",
      "646\n",
      "647\n",
      "648\n",
      "649\n",
      "650\n",
      "651\n",
      "652\n",
      "653\n",
      "654\n",
      "655\n",
      "656\n",
      "657\n",
      "658\n",
      "659\n",
      "660\n",
      "661\n",
      "662\n",
      "663\n",
      "664\n",
      "665\n",
      "666\n",
      "667\n",
      "668\n",
      "669\n",
      "670\n",
      "671\n",
      "672\n",
      "673\n",
      "674\n",
      "675\n",
      "676\n",
      "677\n",
      "678\n",
      "679\n",
      "680\n",
      "681\n",
      "682\n",
      "683\n",
      "684\n",
      "685\n",
      "686\n",
      "687\n",
      "688\n",
      "689\n",
      "690\n",
      "691\n",
      "692\n",
      "693\n",
      "694\n",
      "695\n",
      "696\n",
      "697\n",
      "698\n",
      "699\n",
      "700\n",
      "701\n",
      "702\n",
      "703\n",
      "704\n",
      "705\n",
      "706\n",
      "707\n",
      "708\n",
      "709\n",
      "710\n",
      "711\n",
      "712\n",
      "713\n",
      "714\n",
      "715\n",
      "716\n",
      "717\n",
      "718\n",
      "719\n",
      "720\n",
      "721\n",
      "722\n",
      "723\n",
      "724\n",
      "725\n",
      "726\n",
      "727\n",
      "728\n",
      "729\n",
      "730\n",
      "731\n",
      "732\n",
      "733\n",
      "734\n",
      "735\n",
      "736\n",
      "737\n",
      "738\n",
      "739\n",
      "740\n",
      "741\n",
      "742\n",
      "743\n",
      "744\n",
      "745\n",
      "746\n",
      "747\n",
      "748\n",
      "749\n",
      "750\n",
      "751\n",
      "752\n",
      "753\n",
      "754\n",
      "755\n",
      "756\n",
      "757\n",
      "758\n",
      "759\n",
      "760\n",
      "761\n",
      "762\n",
      "763\n",
      "764\n",
      "765\n",
      "766\n",
      "767\n",
      "768\n",
      "769\n",
      "770\n",
      "771\n",
      "772\n",
      "773\n",
      "774\n",
      "775\n",
      "776\n",
      "777\n",
      "778\n",
      "779\n",
      "780\n",
      "781\n",
      "782\n",
      "783\n",
      "784\n",
      "785\n",
      "786\n",
      "787\n",
      "788\n",
      "789\n",
      "790\n",
      "791\n",
      "792\n",
      "793\n",
      "794\n",
      "795\n",
      "796\n",
      "797\n",
      "798\n",
      "799\n",
      "800\n",
      "801\n",
      "802\n",
      "803\n",
      "804\n",
      "805\n",
      "806\n",
      "807\n",
      "808\n",
      "809\n",
      "810\n",
      "811\n",
      "812\n",
      "813\n",
      "814\n",
      "815\n",
      "816\n",
      "817\n",
      "818\n",
      "819\n",
      "820\n",
      "821\n",
      "822\n",
      "823\n",
      "824\n",
      "825\n",
      "826\n",
      "827\n",
      "828\n",
      "829\n",
      "830\n",
      "831\n",
      "832\n",
      "833\n",
      "834\n",
      "835\n",
      "836\n",
      "837\n",
      "838\n",
      "839\n",
      "840\n",
      "841\n",
      "842\n",
      "843\n",
      "844\n",
      "845\n",
      "846\n",
      "847\n",
      "848\n",
      "849\n",
      "850\n",
      "851\n",
      "852\n",
      "853\n",
      "854\n",
      "855\n",
      "856\n",
      "857\n",
      "858\n",
      "859\n",
      "860\n",
      "861\n",
      "862\n",
      "863\n",
      "864\n",
      "865\n",
      "866\n",
      "867\n",
      "868\n",
      "869\n",
      "870\n",
      "871\n",
      "872\n",
      "873\n",
      "874\n",
      "875\n",
      "876\n",
      "877\n",
      "878\n",
      "879\n",
      "880\n",
      "881\n",
      "882\n",
      "883\n",
      "884\n",
      "885\n",
      "886\n",
      "887\n",
      "888\n",
      "889\n",
      "890\n",
      "891\n",
      "892\n",
      "893\n",
      "894\n",
      "895\n",
      "896\n",
      "897\n",
      "898\n",
      "899\n",
      "900\n",
      "901\n",
      "902\n",
      "903\n",
      "904\n",
      "905\n",
      "906\n",
      "907\n",
      "908\n",
      "909\n",
      "910\n",
      "911\n",
      "912\n",
      "913\n",
      "914\n",
      "915\n",
      "916\n",
      "917\n",
      "918\n",
      "919\n",
      "920\n",
      "921\n",
      "922\n",
      "923\n",
      "924\n",
      "925\n",
      "926\n",
      "927\n",
      "928\n",
      "929\n",
      "930\n",
      "931\n",
      "932\n",
      "933\n",
      "934\n",
      "935\n",
      "936\n",
      "937\n",
      "938\n",
      "939\n",
      "940\n",
      "941\n",
      "942\n",
      "943\n",
      "944\n",
      "945\n",
      "946\n",
      "947\n",
      "948\n",
      "949\n",
      "950\n",
      "951\n",
      "952\n",
      "953\n",
      "954\n",
      "955\n",
      "956\n",
      "957\n",
      "958\n",
      "959\n",
      "960\n",
      "961\n",
      "962\n",
      "963\n",
      "964\n",
      "965\n",
      "966\n",
      "967\n",
      "968\n",
      "969\n",
      "970\n",
      "971\n",
      "972\n",
      "973\n",
      "974\n",
      "975\n",
      "976\n",
      "977\n",
      "978\n",
      "979\n",
      "980\n",
      "981\n",
      "982\n",
      "983\n",
      "984\n",
      "985\n",
      "986\n",
      "987\n",
      "988\n",
      "989\n",
      "990\n",
      "991\n",
      "992\n",
      "993\n",
      "994\n",
      "995\n",
      "996\n",
      "997\n",
      "998\n",
      "999\n"
     ]
    }
   ],
   "source": [
    "lots_of_numbers(1000)"
   ]
  },
  {
   "cell_type": "markdown",
   "metadata": {
    "id": "R_g07VpU43z3"
   },
   "source": [
    "Then work out how long the function takes by modifying our\n",
    "program with the time module."
   ]
  },
  {
   "cell_type": "code",
   "execution_count": 9,
   "metadata": {
    "colab": {
     "base_uri": "https://localhost:8080/"
    },
    "id": "i0UsOK1e44ke",
    "outputId": "f7cc7c6e-ef57-4c04-cd93-badad7ed8690"
   },
   "outputs": [
    {
     "name": "stdout",
     "output_type": "stream",
     "text": [
      "0\n",
      "1\n",
      "2\n",
      "3\n",
      "4\n",
      "5\n",
      "6\n",
      "7\n",
      "8\n",
      "9\n",
      "10\n",
      "11\n",
      "12\n",
      "13\n",
      "14\n",
      "15\n",
      "16\n",
      "17\n",
      "18\n",
      "19\n",
      "20\n",
      "21\n",
      "22\n",
      "23\n",
      "24\n",
      "25\n",
      "26\n",
      "27\n",
      "28\n",
      "29\n",
      "30\n",
      "31\n",
      "32\n",
      "33\n",
      "34\n",
      "35\n",
      "36\n",
      "37\n",
      "38\n",
      "39\n",
      "40\n",
      "41\n",
      "42\n",
      "43\n",
      "44\n",
      "45\n",
      "46\n",
      "47\n",
      "48\n",
      "49\n",
      "50\n",
      "51\n",
      "52\n",
      "53\n",
      "54\n",
      "55\n",
      "56\n",
      "57\n",
      "58\n",
      "59\n",
      "60\n",
      "61\n",
      "62\n",
      "63\n",
      "64\n",
      "65\n",
      "66\n",
      "67\n",
      "68\n",
      "69\n",
      "70\n",
      "71\n",
      "72\n",
      "73\n",
      "74\n",
      "75\n",
      "76\n",
      "77\n",
      "78\n",
      "79\n",
      "80\n",
      "81\n",
      "82\n",
      "83\n",
      "84\n",
      "85\n",
      "86\n",
      "87\n",
      "88\n",
      "89\n",
      "90\n",
      "91\n",
      "92\n",
      "93\n",
      "94\n",
      "95\n",
      "96\n",
      "97\n",
      "98\n",
      "99\n",
      "100\n",
      "101\n",
      "102\n",
      "103\n",
      "104\n",
      "105\n",
      "106\n",
      "107\n",
      "108\n",
      "109\n",
      "110\n",
      "111\n",
      "112\n",
      "113\n",
      "114\n",
      "115\n",
      "116\n",
      "117\n",
      "118\n",
      "119\n",
      "120\n",
      "121\n",
      "122\n",
      "123\n",
      "124\n",
      "125\n",
      "126\n",
      "127\n",
      "128\n",
      "129\n",
      "130\n",
      "131\n",
      "132\n",
      "133\n",
      "134\n",
      "135\n",
      "136\n",
      "137\n",
      "138\n",
      "139\n",
      "140\n",
      "141\n",
      "142\n",
      "143\n",
      "144\n",
      "145\n",
      "146\n",
      "147\n",
      "148\n",
      "149\n",
      "150\n",
      "151\n",
      "152\n",
      "153\n",
      "154\n",
      "155\n",
      "156\n",
      "157\n",
      "158\n",
      "159\n",
      "160\n",
      "161\n",
      "162\n",
      "163\n",
      "164\n",
      "165\n",
      "166\n",
      "167\n",
      "168\n",
      "169\n",
      "170\n",
      "171\n",
      "172\n",
      "173\n",
      "174\n",
      "175\n",
      "176\n",
      "177\n",
      "178\n",
      "179\n",
      "180\n",
      "181\n",
      "182\n",
      "183\n",
      "184\n",
      "185\n",
      "186\n",
      "187\n",
      "188\n",
      "189\n",
      "190\n",
      "191\n",
      "192\n",
      "193\n",
      "194\n",
      "195\n",
      "196\n",
      "197\n",
      "198\n",
      "199\n",
      "200\n",
      "201\n",
      "202\n",
      "203\n",
      "204\n",
      "205\n",
      "206\n",
      "207\n",
      "208\n",
      "209\n",
      "210\n",
      "211\n",
      "212\n",
      "213\n",
      "214\n",
      "215\n",
      "216\n",
      "217\n",
      "218\n",
      "219\n",
      "220\n",
      "221\n",
      "222\n",
      "223\n",
      "224\n",
      "225\n",
      "226\n",
      "227\n",
      "228\n",
      "229\n",
      "230\n",
      "231\n",
      "232\n",
      "233\n",
      "234\n",
      "235\n",
      "236\n",
      "237\n",
      "238\n",
      "239\n",
      "240\n",
      "241\n",
      "242\n",
      "243\n",
      "244\n",
      "245\n",
      "246\n",
      "247\n",
      "248\n",
      "249\n",
      "250\n",
      "251\n",
      "252\n",
      "253\n",
      "254\n",
      "255\n",
      "256\n",
      "257\n",
      "258\n",
      "259\n",
      "260\n",
      "261\n",
      "262\n",
      "263\n",
      "264\n",
      "265\n",
      "266\n",
      "267\n",
      "268\n",
      "269\n",
      "270\n",
      "271\n",
      "272\n",
      "273\n",
      "274\n",
      "275\n",
      "276\n",
      "277\n",
      "278\n",
      "279\n",
      "280\n",
      "281\n",
      "282\n",
      "283\n",
      "284\n",
      "285\n",
      "286\n",
      "287\n",
      "288\n",
      "289\n",
      "290\n",
      "291\n",
      "292\n",
      "293\n",
      "294\n",
      "295\n",
      "296\n",
      "297\n",
      "298\n",
      "299\n",
      "300\n",
      "301\n",
      "302\n",
      "303\n",
      "304\n",
      "305\n",
      "306\n",
      "307\n",
      "308\n",
      "309\n",
      "310\n",
      "311\n",
      "312\n",
      "313\n",
      "314\n",
      "315\n",
      "316\n",
      "317\n",
      "318\n",
      "319\n",
      "320\n",
      "321\n",
      "322\n",
      "323\n",
      "324\n",
      "325\n",
      "326\n",
      "327\n",
      "328\n",
      "329\n",
      "330\n",
      "331\n",
      "332\n",
      "333\n",
      "334\n",
      "335\n",
      "336\n",
      "337\n",
      "338\n",
      "339\n",
      "340\n",
      "341\n",
      "342\n",
      "343\n",
      "344\n",
      "345\n",
      "346\n",
      "347\n",
      "348\n",
      "349\n",
      "350\n",
      "351\n",
      "352\n",
      "353\n",
      "354\n",
      "355\n",
      "356\n",
      "357\n",
      "358\n",
      "359\n",
      "360\n",
      "361\n",
      "362\n",
      "363\n",
      "364\n",
      "365\n",
      "366\n",
      "367\n",
      "368\n",
      "369\n",
      "370\n",
      "371\n",
      "372\n",
      "373\n",
      "374\n",
      "375\n",
      "376\n",
      "377\n",
      "378\n",
      "379\n",
      "380\n",
      "381\n",
      "382\n",
      "383\n",
      "384\n",
      "385\n",
      "386\n",
      "387\n",
      "388\n",
      "389\n",
      "390\n",
      "391\n",
      "392\n",
      "393\n",
      "394\n",
      "395\n",
      "396\n",
      "397\n",
      "398\n",
      "399\n",
      "400\n",
      "401\n",
      "402\n",
      "403\n",
      "404\n",
      "405\n",
      "406\n",
      "407\n",
      "408\n",
      "409\n",
      "410\n",
      "411\n",
      "412\n",
      "413\n",
      "414\n",
      "415\n",
      "416\n",
      "417\n",
      "418\n",
      "419\n",
      "420\n",
      "421\n",
      "422\n",
      "423\n",
      "424\n",
      "425\n",
      "426\n",
      "427\n",
      "428\n",
      "429\n",
      "430\n",
      "431\n",
      "432\n",
      "433\n",
      "434\n",
      "435\n",
      "436\n",
      "437\n",
      "438\n",
      "439\n",
      "440\n",
      "441\n",
      "442\n",
      "443\n",
      "444\n",
      "445\n",
      "446\n",
      "447\n",
      "448\n",
      "449\n",
      "450\n",
      "451\n",
      "452\n",
      "453\n",
      "454\n",
      "455\n",
      "456\n",
      "457\n",
      "458\n",
      "459\n",
      "460\n",
      "461\n",
      "462\n",
      "463\n",
      "464\n",
      "465\n",
      "466\n",
      "467\n",
      "468\n",
      "469\n",
      "470\n",
      "471\n",
      "472\n",
      "473\n",
      "474\n",
      "475\n",
      "476\n",
      "477\n",
      "478\n",
      "479\n",
      "480\n",
      "481\n",
      "482\n",
      "483\n",
      "484\n",
      "485\n",
      "486\n",
      "487\n",
      "488\n",
      "489\n",
      "490\n",
      "491\n",
      "492\n",
      "493\n",
      "494\n",
      "495\n",
      "496\n",
      "497\n",
      "498\n",
      "499\n",
      "500\n",
      "501\n",
      "502\n",
      "503\n",
      "504\n",
      "505\n",
      "506\n",
      "507\n",
      "508\n",
      "509\n",
      "510\n",
      "511\n",
      "512\n",
      "513\n",
      "514\n",
      "515\n",
      "516\n",
      "517\n",
      "518\n",
      "519\n",
      "520\n",
      "521\n",
      "522\n",
      "523\n",
      "524\n",
      "525\n",
      "526\n",
      "527\n",
      "528\n",
      "529\n",
      "530\n",
      "531\n",
      "532\n",
      "533\n",
      "534\n",
      "535\n",
      "536\n",
      "537\n",
      "538\n",
      "539\n",
      "540\n",
      "541\n",
      "542\n",
      "543\n",
      "544\n",
      "545\n",
      "546\n",
      "547\n",
      "548\n",
      "549\n",
      "550\n",
      "551\n",
      "552\n",
      "553\n",
      "554\n",
      "555\n",
      "556\n",
      "557\n",
      "558\n",
      "559\n",
      "560\n",
      "561\n",
      "562\n",
      "563\n",
      "564\n",
      "565\n",
      "566\n",
      "567\n",
      "568\n",
      "569\n",
      "570\n",
      "571\n",
      "572\n",
      "573\n",
      "574\n",
      "575\n",
      "576\n",
      "577\n",
      "578\n",
      "579\n",
      "580\n",
      "581\n",
      "582\n",
      "583\n",
      "584\n",
      "585\n",
      "586\n",
      "587\n",
      "588\n",
      "589\n",
      "590\n",
      "591\n",
      "592\n",
      "593\n",
      "594\n",
      "595\n",
      "596\n",
      "597\n",
      "598\n",
      "599\n",
      "600\n",
      "601\n",
      "602\n",
      "603\n",
      "604\n",
      "605\n",
      "606\n",
      "607\n",
      "608\n",
      "609\n",
      "610\n",
      "611\n",
      "612\n",
      "613\n",
      "614\n",
      "615\n",
      "616\n",
      "617\n",
      "618\n",
      "619\n",
      "620\n",
      "621\n",
      "622\n",
      "623\n",
      "624\n",
      "625\n",
      "626\n",
      "627\n",
      "628\n",
      "629\n",
      "630\n",
      "631\n",
      "632\n",
      "633\n",
      "634\n",
      "635\n",
      "636\n",
      "637\n",
      "638\n",
      "639\n",
      "640\n",
      "641\n",
      "642\n",
      "643\n",
      "644\n",
      "645\n",
      "646\n",
      "647\n",
      "648\n",
      "649\n",
      "650\n",
      "651\n",
      "652\n",
      "653\n",
      "654\n",
      "655\n",
      "656\n",
      "657\n",
      "658\n",
      "659\n",
      "660\n",
      "661\n",
      "662\n",
      "663\n",
      "664\n",
      "665\n",
      "666\n",
      "667\n",
      "668\n",
      "669\n",
      "670\n",
      "671\n",
      "672\n",
      "673\n",
      "674\n",
      "675\n",
      "676\n",
      "677\n",
      "678\n",
      "679\n",
      "680\n",
      "681\n",
      "682\n",
      "683\n",
      "684\n",
      "685\n",
      "686\n",
      "687\n",
      "688\n",
      "689\n",
      "690\n",
      "691\n",
      "692\n",
      "693\n",
      "694\n",
      "695\n",
      "696\n",
      "697\n",
      "698\n",
      "699\n",
      "700\n",
      "701\n",
      "702\n",
      "703\n",
      "704\n",
      "705\n",
      "706\n",
      "707\n",
      "708\n",
      "709\n",
      "710\n",
      "711\n",
      "712\n",
      "713\n",
      "714\n",
      "715\n",
      "716\n",
      "717\n",
      "718\n",
      "719\n",
      "720\n",
      "721\n",
      "722\n",
      "723\n",
      "724\n",
      "725\n",
      "726\n",
      "727\n",
      "728\n",
      "729\n",
      "730\n",
      "731\n",
      "732\n",
      "733\n",
      "734\n",
      "735\n",
      "736\n",
      "737\n",
      "738\n",
      "739\n",
      "740\n",
      "741\n",
      "742\n",
      "743\n",
      "744\n",
      "745\n",
      "746\n",
      "747\n",
      "748\n",
      "749\n",
      "750\n",
      "751\n",
      "752\n",
      "753\n",
      "754\n",
      "755\n",
      "756\n",
      "757\n",
      "758\n",
      "759\n",
      "760\n",
      "761\n",
      "762\n",
      "763\n",
      "764\n",
      "765\n",
      "766\n",
      "767\n",
      "768\n",
      "769\n",
      "770\n",
      "771\n",
      "772\n",
      "773\n",
      "774\n",
      "775\n",
      "776\n",
      "777\n",
      "778\n",
      "779\n",
      "780\n",
      "781\n",
      "782\n",
      "783\n",
      "784\n",
      "785\n",
      "786\n",
      "787\n",
      "788\n",
      "789\n",
      "790\n",
      "791\n",
      "792\n",
      "793\n",
      "794\n",
      "795\n",
      "796\n",
      "797\n",
      "798\n",
      "799\n",
      "800\n",
      "801\n",
      "802\n",
      "803\n",
      "804\n",
      "805\n",
      "806\n",
      "807\n",
      "808\n",
      "809\n",
      "810\n",
      "811\n",
      "812\n",
      "813\n",
      "814\n",
      "815\n",
      "816\n",
      "817\n",
      "818\n",
      "819\n",
      "820\n",
      "821\n",
      "822\n",
      "823\n",
      "824\n",
      "825\n",
      "826\n",
      "827\n",
      "828\n",
      "829\n",
      "830\n",
      "831\n",
      "832\n",
      "833\n",
      "834\n",
      "835\n",
      "836\n",
      "837\n",
      "838\n",
      "839\n",
      "840\n",
      "841\n",
      "842\n",
      "843\n",
      "844\n",
      "845\n",
      "846\n",
      "847\n",
      "848\n",
      "849\n",
      "850\n",
      "851\n",
      "852\n",
      "853\n",
      "854\n",
      "855\n",
      "856\n",
      "857\n",
      "858\n",
      "859\n",
      "860\n",
      "861\n",
      "862\n",
      "863\n",
      "864\n",
      "865\n",
      "866\n",
      "867\n",
      "868\n",
      "869\n",
      "870\n",
      "871\n",
      "872\n",
      "873\n",
      "874\n",
      "875\n",
      "876\n",
      "877\n",
      "878\n",
      "879\n",
      "880\n",
      "881\n",
      "882\n",
      "883\n",
      "884\n",
      "885\n",
      "886\n",
      "887\n",
      "888\n",
      "889\n",
      "890\n",
      "891\n",
      "892\n",
      "893\n",
      "894\n",
      "895\n",
      "896\n",
      "897\n",
      "898\n",
      "899\n",
      "900\n",
      "901\n",
      "902\n",
      "903\n",
      "904\n",
      "905\n",
      "906\n",
      "907\n",
      "908\n",
      "909\n",
      "910\n",
      "911\n",
      "912\n",
      "913\n",
      "914\n",
      "915\n",
      "916\n",
      "917\n",
      "918\n",
      "919\n",
      "920\n",
      "921\n",
      "922\n",
      "923\n",
      "924\n",
      "925\n",
      "926\n",
      "927\n",
      "928\n",
      "929\n",
      "930\n",
      "931\n",
      "932\n",
      "933\n",
      "934\n",
      "935\n",
      "936\n",
      "937\n",
      "938\n",
      "939\n",
      "940\n",
      "941\n",
      "942\n",
      "943\n",
      "944\n",
      "945\n",
      "946\n",
      "947\n",
      "948\n",
      "949\n",
      "950\n",
      "951\n",
      "952\n",
      "953\n",
      "954\n",
      "955\n",
      "956\n",
      "957\n",
      "958\n",
      "959\n",
      "960\n",
      "961\n",
      "962\n",
      "963\n",
      "964\n",
      "965\n",
      "966\n",
      "967\n",
      "968\n",
      "969\n",
      "970\n",
      "971\n",
      "972\n",
      "973\n",
      "974\n",
      "975\n",
      "976\n",
      "977\n",
      "978\n",
      "979\n",
      "980\n",
      "981\n",
      "982\n",
      "983\n",
      "984\n",
      "985\n",
      "986\n",
      "987\n",
      "988\n",
      "989\n",
      "990\n",
      "991\n",
      "992\n",
      "993\n",
      "994\n",
      "995\n",
      "996\n",
      "997\n",
      "998\n",
      "999\n",
      "it took 0.14441657066345215 seconds\n"
     ]
    }
   ],
   "source": [
    "lots_of_numbers(1000)\n",
    "def lots_of_numbers(max):\n",
    "  t1 = time.time()\n",
    "  for x in range(0, max):\n",
    "    print(x)\n",
    "  t2 = time.time()\n",
    "  print('it took %s seconds' % (t2-t1))"
   ]
  },
  {
   "cell_type": "markdown",
   "metadata": {
    "id": "H1FouSSK5_Q2"
   },
   "source": [
    "**Here’s how this works:**\n",
    "\n",
    " The first time we call the time() function, we assign the value returned to the variable t1.\n",
    "\n",
    "We then\n",
    "loop and print all the numbers in the third and fourth lines.\n",
    "\n",
    "After the loop, we again call time(), and assign the value returned\n",
    "to the variable t2.\n",
    "\n",
    " Since it took several seconds for the loop to\n",
    "complete, the value in t2 will be higher than t1 because more seconds will have passed since January 1, 1970.\n",
    "\n",
    " Subtracting t1 from\n",
    "t2, we get the number of seconds it took to print all\n",
    "those numbers.\n"
   ]
  },
  {
   "cell_type": "markdown",
   "metadata": {
    "id": "dUuonLL98kzk"
   },
   "source": [
    "+ ***Converting a Date with asctime***\n",
    "\n",
    "The function asctime takes a date as a tuple and converts it into\n",
    "something more readable. \n",
    "\n",
    "(Remember that a tuple is like a list\n",
    "with items that you can’t change.) As you saw in Chapter 7, calling\n",
    "asctime without any parameters will display the current date and\n",
    "time in a readable form."
   ]
  },
  {
   "cell_type": "code",
   "execution_count": 10,
   "metadata": {
    "colab": {
     "base_uri": "https://localhost:8080/"
    },
    "id": "iGGH7RD98sCC",
    "outputId": "dc5ad55c-96e0-4ff7-dde3-94136ecb0331"
   },
   "outputs": [
    {
     "name": "stdout",
     "output_type": "stream",
     "text": [
      "Sun Dec 12 04:42:35 2021\n"
     ]
    }
   ],
   "source": [
    "import time\n",
    "print(time.asctime())"
   ]
  },
  {
   "cell_type": "markdown",
   "metadata": {
    "id": "UsUA2n3584Ey"
   },
   "source": [
    "To call asctime with a parameter, we first create a tuple with\n",
    "values for the date and time.\n",
    "\n",
    " For example, here we assign the tuple\n",
    "to the variable t:"
   ]
  },
  {
   "cell_type": "code",
   "execution_count": 11,
   "metadata": {
    "id": "SQ-LhiNz88Bw"
   },
   "outputs": [],
   "source": [
    "t = (2007, 5, 27, 10, 30, 48, 6, 0, 0)"
   ]
  },
  {
   "cell_type": "markdown",
   "metadata": {
    "id": "Bq9YOEm89Da2"
   },
   "source": [
    "The values in the sequence are year, month, day, hours, minutes, seconds, day of the week (0 is Monday, 1 is Tuesday, and so\n",
    "on), day of the year (we put 0 as a placeholder), and whether or not\n",
    "it is daylight saving time (0 if it isn’t; 1 if it is).\n",
    "\n",
    " Calling asctime with\n",
    "a similar tuple, we get this:"
   ]
  },
  {
   "cell_type": "code",
   "execution_count": 12,
   "metadata": {
    "colab": {
     "base_uri": "https://localhost:8080/"
    },
    "id": "ckhJqoWm9eFb",
    "outputId": "42e84a2c-feb9-4dda-e288-f7857bc1d40c"
   },
   "outputs": [
    {
     "name": "stdout",
     "output_type": "stream",
     "text": [
      "Sun Feb 23 10:30:48 2020\n"
     ]
    }
   ],
   "source": [
    "import time\n",
    "t = (2020, 2, 23, 10, 30, 48, 6, 0, 0)\n",
    "print(time.asctime(t))"
   ]
  },
  {
   "cell_type": "markdown",
   "metadata": {
    "id": "jjMdfI8XAXLU"
   },
   "source": [
    "+ ***Getting the Date and Time with localtime***\n",
    "\n",
    "Unlike asctime, the function localtime returns the current date\n",
    "and time as an object, with the values in roughly the same order as asctime input.\n",
    "\n",
    " If you print the object, you’ll see the name of the\n",
    "class, and each of the values labeled as tm_year, tm_mon (for month),\n",
    "tm_mday (for day of the month), tm_hour, and so on."
   ]
  },
  {
   "cell_type": "code",
   "execution_count": 14,
   "metadata": {
    "colab": {
     "base_uri": "https://localhost:8080/"
    },
    "id": "K8OwbQ0VBQu1",
    "outputId": "d2047592-3de0-4256-f484-5e3f1cecc6d1"
   },
   "outputs": [
    {
     "name": "stdout",
     "output_type": "stream",
     "text": [
      "time.struct_time(tm_year=2021, tm_mon=12, tm_mday=12, tm_hour=5, tm_min=2, tm_sec=52, tm_wday=6, tm_yday=346, tm_isdst=0)\n"
     ]
    }
   ],
   "source": [
    "import time\n",
    "print(time.localtime())"
   ]
  },
  {
   "cell_type": "markdown",
   "metadata": {
    "id": "snCLepcBBli5"
   },
   "source": [
    "To print the current year and month, you can use their index\n",
    "positions (as with the tuple we used with asctime). \n",
    "\n",
    "Based on our\n",
    "example, we know that year is in the first position (position 0) and\n",
    "month is in the second position (1).\n",
    "\n",
    " Therefore, we use year = t[0]\n",
    "and month = t[1], like this:"
   ]
  },
  {
   "cell_type": "code",
   "execution_count": 15,
   "metadata": {
    "colab": {
     "base_uri": "https://localhost:8080/"
    },
    "id": "-s-wB6TsBvsU",
    "outputId": "acc1b81f-7d91-497a-d685-15f183c23ede"
   },
   "outputs": [
    {
     "name": "stdout",
     "output_type": "stream",
     "text": [
      "2021\n",
      "12\n"
     ]
    }
   ],
   "source": [
    "t = time.localtime()\n",
    "year = t[0]\n",
    "month = t[1]\n",
    "print(year)\n",
    "print(month)"
   ]
  },
  {
   "cell_type": "markdown",
   "metadata": {
    "id": "1QOL88viD1fd"
   },
   "source": [
    "+ ***Taking Some Time Off with sleep***\n",
    "\n",
    "The function sleep is quite useful when you want to delay or\n",
    "slow down your program.\n",
    "\n",
    " For\n",
    "example, to print every second\n",
    "from 1 to 61, we could use the\n",
    "following loop:"
   ]
  },
  {
   "cell_type": "code",
   "execution_count": 17,
   "metadata": {
    "colab": {
     "base_uri": "https://localhost:8080/"
    },
    "id": "T1t8l9qZD5q9",
    "outputId": "24ca6ee6-5fa2-47f2-83d1-7773068bea11"
   },
   "outputs": [
    {
     "name": "stdout",
     "output_type": "stream",
     "text": [
      "1\n",
      "2\n",
      "3\n",
      "4\n"
     ]
    }
   ],
   "source": [
    "for x in range(1, 5):\n",
    "  print(x)"
   ]
  },
  {
   "cell_type": "markdown",
   "metadata": {
    "id": "edNRRkAIEWIm"
   },
   "source": [
    "This code will rapidly print all numbers from 1 to 60.\n",
    "\n",
    " However,\n",
    "we can tell Python to sleep for a second between each print statement, like this:"
   ]
  },
  {
   "cell_type": "code",
   "execution_count": 19,
   "metadata": {
    "colab": {
     "base_uri": "https://localhost:8080/"
    },
    "id": "h0u82YI1EXPV",
    "outputId": "17901169-cf11-465b-f254-f5ac1b166d16"
   },
   "outputs": [
    {
     "name": "stdout",
     "output_type": "stream",
     "text": [
      "1\n",
      "2\n",
      "3\n",
      "4\n"
     ]
    }
   ],
   "source": [
    "for x in range(1, 5):\n",
    "  print(x)\n",
    "  time.sleep(1)"
   ]
  },
  {
   "cell_type": "markdown",
   "metadata": {
    "id": "EZfZYwEyEnOR"
   },
   "source": [
    "This adds a delay between the display of each number.\n",
    "\n",
    " In\n",
    "Chapter 12, we’ll use the sleep function to make an animation a\n",
    "bit more realistic."
   ]
  },
  {
   "cell_type": "markdown",
   "metadata": {
    "id": "0rqJqEpA8Qlh"
   },
   "source": [
    "***Using the pickle Module to Save Information***\n",
    " \n",
    "The pickle module is used to convert\n",
    "Python objects into something that can\n",
    "be written into a file and then easily read\n",
    "back out.\n",
    "\n",
    " You might find pickle useful if\n",
    "you’re writing a game and want to save\n",
    "information about a player’s progress. \n",
    "\n",
    "For\n",
    "example, here’s how we might add a save\n",
    "feature to a game:"
   ]
  },
  {
   "cell_type": "code",
   "execution_count": 3,
   "metadata": {
    "id": "Hlz80GE88Yio"
   },
   "outputs": [],
   "source": [
    "game_data = {\n",
    "'player-position' : 'N23 E45',\n",
    "'pockets' : ['keys', 'pocket knife', 'polished stone'],\n",
    "'backpack' : ['rope', 'hammer', 'apple'],\n",
    "'money' : 158.50}"
   ]
  },
  {
   "cell_type": "markdown",
   "metadata": {
    "id": "MSgCe1C68iOe"
   },
   "source": [
    "Here, we create a Python map containing the player’s current\n",
    "position in our imaginary game, a list of the items in the player’s\n",
    "pockets and backpack, and the amount of money the player is carrying. \n",
    "\n",
    "We can save this map to a file by opening the file for writing\n",
    "and then calling pickle’s dump function, like this:"
   ]
  },
  {
   "cell_type": "code",
   "execution_count": 4,
   "metadata": {
    "id": "NLCZXrnO8mAF"
   },
   "outputs": [],
   "source": [
    "import pickle\n",
    "game_data = {\n",
    " 'player-position' : 'N23 E45',\n",
    " 'pockets' : ['keys', 'pocket knife', 'polished stone'],\n",
    " 'backpack' : ['rope', 'hammer', 'apple'],\n",
    " 'money' : 158.50}\n",
    " \n",
    "save_file = open('save.dat', 'wb')\n",
    "pickle.dump(game_data, save_file)\n",
    "save_file.close()"
   ]
  },
  {
   "cell_type": "markdown",
   "metadata": {
    "id": "2Z3RufvX89JK"
   },
   "source": [
    "We import the pickle module first and create a map\n",
    "of our game data. \n",
    "\n",
    "Then, we open the file save.dat with\n",
    "the parameter wb, which tells Python to write the file in binary\n",
    "mode (you might need to save this in a directory like /Users/\n",
    "malcolmozwald, /home/ susanb/ or C:\\\\Users\\JimmyIpswich, as\n",
    "we did in Chapter 9).\n",
    "\n",
    "After that, we use dump to pass in the map and the\n",
    "file variable as two parameters.\n",
    "\n",
    "Finally, we close the file,\n",
    "because we’re finished with it.\n",
    "\n",
    "+ ***NOTE****\n",
    "\n",
    " Plain text files contain only characters that humans can read.\n",
    "Images, music files, movies, and pickled Python objects have information that isn’t always readable by humans, so they’re known as\n",
    "binary files. If you were to open the save.dat file, you would see that\n",
    "it doesn’t look like a text file; it looks like a jumbled mixture of normal text and special characters.\n"
   ]
  },
  {
   "cell_type": "markdown",
   "metadata": {
    "id": "FUYVd4pp-Egj"
   },
   "source": [
    "We can unpickle objects we’ve written to the file using pickle’s\n",
    "load function. \n",
    "\n",
    "When we unpickle something, we reverse the pickle\n",
    "process: We take the information written into the file and convert\n",
    "it back into values that our program can use.\n",
    "\n",
    " The process is similar to using the dump function."
   ]
  },
  {
   "cell_type": "code",
   "execution_count": 5,
   "metadata": {
    "id": "F4uF8hpEB-Is"
   },
   "outputs": [],
   "source": [
    "load_file = open('save.dat', 'rb')\n",
    "loaded_game_data = pickle.load(load_file)\n",
    "load_file.close()"
   ]
  },
  {
   "cell_type": "markdown",
   "metadata": {
    "id": "IgcFtJmoCNUA"
   },
   "source": [
    "First, we open the file using rb as the parameter, which means\n",
    "read binary.\n",
    "\n",
    " We then pass the file to load and set the return value\n",
    "to the variable loaded_game_data.\n",
    "\n",
    " Finally, we close the file.\n",
    " \n",
    "To prove that our saved data has been loaded correctly, print\n",
    "the variable:"
   ]
  },
  {
   "cell_type": "code",
   "execution_count": 6,
   "metadata": {
    "colab": {
     "base_uri": "https://localhost:8080/"
    },
    "id": "Yk6Mk4PcCR-o",
    "outputId": "832e83f2-a51e-4fbe-de80-fb53e475236d"
   },
   "outputs": [
    {
     "name": "stdout",
     "output_type": "stream",
     "text": [
      "{'player-position': 'N23 E45', 'pockets': ['keys', 'pocket knife', 'polished stone'], 'backpack': ['rope', 'hammer', 'apple'], 'money': 158.5}\n"
     ]
    }
   ],
   "source": [
    "print(loaded_game_data)"
   ]
  },
  {
   "cell_type": "markdown",
   "metadata": {
    "id": "m6awQd9PC4te"
   },
   "source": [
    "***Programming Puzzles*** - pg 144\n"
   ]
  },
  {
   "cell_type": "markdown",
   "metadata": {
    "id": "BzYmvRhrFu7a"
   },
   "source": [
    "***1: Copied Cars***\n",
    "\n",
    "What will the following code print?\n",
    "\n",
    "\n",
    "```\n",
    ">>> import copy\n",
    ">>> class Car:\n",
    "      pass\n",
    ">>> car1 = Car()\n",
    ">>> car1.wheels = 4\n",
    ">>> car2 = car1\n",
    ">>> car2.wheels = 3\n",
    ">>> print(car1.wheels)\n",
    "\n",
    ">>> car3 = copy.copy(car1)\n",
    ">>> car3.wheels = 6\n",
    ">>> print(car1.wheels)\n",
    "```\n",
    "\n"
   ]
  },
  {
   "cell_type": "markdown",
   "metadata": {
    "id": "XRnUJdtDF47j"
   },
   "source": [
    "Both will print 3.\n",
    "\n",
    "-> car1.wheels should be 4 but since car2 = car1 ,  \n",
    "car1.wheels = car2.wheels = 3\n",
    "\n",
    "-> the next few linses of codes does not affect car1.wheels so its value still remains as 3"
   ]
  },
  {
   "cell_type": "markdown",
   "metadata": {
    "id": "mWromAdJHMKA"
   },
   "source": [
    "***2: Pickled Favorites***\n",
    "\n",
    "Create a list of your favorite things, and then use pickle to save\n",
    "them to a file called favorites.dat.\n",
    "\n",
    " Close the Python shell, and then\n",
    "reopen it and display your list of favorites by loading the file."
   ]
  },
  {
   "cell_type": "code",
   "execution_count": 7,
   "metadata": {
    "id": "0JDyBL0eHpXn"
   },
   "outputs": [],
   "source": [
    "import pickle\n",
    "fav_item = {'fav1':'PC',\n",
    "            'fav2':'Phone',\n",
    "            'fav3':'Watch',\n",
    "            'fav4':'HotWheels'}\n",
    "save_file =  open('favorites.dat', 'wb')\n",
    "pickle.dump(fav_item, save_file)\n",
    "save_file.close()"
   ]
  },
  {
   "cell_type": "code",
   "execution_count": 8,
   "metadata": {
    "id": "T7GgkK8tJ4Bp"
   },
   "outputs": [],
   "source": [
    "load_file = open('favorites.dat', 'rb')\n",
    "loaded_fav_item = pickle.load(load_file)\n",
    "load_file.close()"
   ]
  },
  {
   "cell_type": "code",
   "execution_count": 9,
   "metadata": {
    "colab": {
     "base_uri": "https://localhost:8080/"
    },
    "id": "afNPdlYxKKE_",
    "outputId": "30b18c24-8fc1-4045-ccc6-e07fcfeac718"
   },
   "outputs": [
    {
     "name": "stdout",
     "output_type": "stream",
     "text": [
      "{'fav1': 'PC', 'fav2': 'Phone', 'fav3': 'Watch', 'fav4': 'HotWheels'}\n"
     ]
    }
   ],
   "source": [
    "print(loaded_fav_item)"
   ]
  },
  {
   "cell_type": "markdown",
   "metadata": {
    "id": "qEFt0cnAvhDj"
   },
   "source": [
    "# Chapter 11 - More Turtle Graphics"
   ]
  },
  {
   "cell_type": "markdown",
   "metadata": {
    "id": "3BgHKUG4vlo_"
   },
   "source": [
    "***Skipped***    - hard to use turtle in colab"
   ]
  },
  {
   "cell_type": "markdown",
   "metadata": {},
   "source": [
    "In\n",
    "Python, turtles can do a lot more than just draw plain\n",
    "black lines.\n",
    "\n",
    "For example, you can use them to draw\n",
    "more advanced geometric shapes, create different\n",
    "colors, and even fill your shapes with color."
   ]
  },
  {
   "cell_type": "markdown",
   "metadata": {},
   "source": [
    "***Starting with the Basic Square***\n",
    "\n",
    "We’ve already learned how to make the turtle draw simple shapes.\n",
    "\n",
    "Before using the turtle, we need to import the turtle module and\n",
    "create the Pen object:"
   ]
  },
  {
   "cell_type": "code",
   "execution_count": null,
   "metadata": {},
   "outputs": [],
   "source": [
    "import turtle\n",
    "t = turtle.Pen()"
   ]
  },
  {
   "cell_type": "markdown",
   "metadata": {},
   "source": [
    "Here’s the code we used to create a square in Chapter 4:"
   ]
  },
  {
   "cell_type": "code",
   "execution_count": null,
   "metadata": {},
   "outputs": [],
   "source": [
    "t.forward(50)\n",
    "t.left(90)\n",
    "t.forward(50)\n",
    "t.left(90)\n",
    "t.forward(50)\n",
    "t.left(90)\n",
    "t.forward(50)"
   ]
  },
  {
   "cell_type": "markdown",
   "metadata": {},
   "source": [
    "In Chapter 6, you learned about for loops. \n",
    "\n",
    "With our newfound\n",
    "knowledge, we can make this somewhat tedious code for a square\n",
    "simpler using a for loop:"
   ]
  },
  {
   "cell_type": "code",
   "execution_count": null,
   "metadata": {},
   "outputs": [],
   "source": [
    "t.reset()\n",
    "for x in range(1, 5):\n",
    "    t.forward(50)\n",
    "    t.left(90)"
   ]
  },
  {
   "cell_type": "markdown",
   "metadata": {},
   "source": [
    "On the first line, we tell the Pen\n",
    "object to reset itself.\n",
    "\n",
    "Next, we start\n",
    "a for loop that will count from 1 to\n",
    "4 with the code range(1, 5).\n",
    "\n",
    "Then,\n",
    "with the following lines, in each\n",
    "run of the loop, we move forward\n",
    "50 pixels and turn left 90 degrees.\n",
    "\n",
    "Because we’ve used a for loop, this\n",
    "code is a little shorter than the previous version—ignoring the reset\n",
    "line, we’ve gone from six lines down\n",
    "to three."
   ]
  },
  {
   "cell_type": "markdown",
   "metadata": {},
   "source": [
    "***Drawing stars***\n",
    "\n",
    "Now, with a few simple changes to our for loop, we can create\n",
    "something even more interesting. \n",
    "\n",
    "Type in the following:"
   ]
  },
  {
   "cell_type": "code",
   "execution_count": null,
   "metadata": {},
   "outputs": [],
   "source": [
    "for x in range(1, 9):\n",
    "    t.forward(100)\n",
    "    t.left(225)"
   ]
  },
  {
   "cell_type": "markdown",
   "metadata": {},
   "source": [
    "This code produces an eight-point star:\n"
   ]
  },
  {
   "cell_type": "markdown",
   "metadata": {},
   "source": [
    "The code itself is very similar to the code we used to draw a\n",
    "square, with a few exceptions:\n",
    "\n",
    "•\t Rather than looping four times with range(1, 5), we loop eight\n",
    "times with range(1, 9).\n",
    "\n",
    "•\t Rather than moving forward 50 pixels, we move forward\n",
    "100 pixels.\n",
    "\n",
    "•\t Rather than turning 90 degrees, we turn 225 degrees to the left.\n",
    "\n",
    "Now let’s develop our star just a bit more. \n",
    "\n",
    "By using a 175-degree\n",
    "angle and looping 37 times, we can make a star with even more\n",
    "points, using this code:"
   ]
  },
  {
   "cell_type": "code",
   "execution_count": null,
   "metadata": {},
   "outputs": [],
   "source": [
    "for x in range(1, 38):\n",
    "    t.forward(100)\n",
    "    t.left(175)"
   ]
  },
  {
   "cell_type": "markdown",
   "metadata": {},
   "source": [
    "While we’re playing with stars, here’s the code to produce a\n",
    "spiraling star:"
   ]
  },
  {
   "cell_type": "code",
   "execution_count": null,
   "metadata": {},
   "outputs": [],
   "source": [
    "for x in range(1, 20):\n",
    "    t.forward(100)\n",
    "    t.left(95)"
   ]
  },
  {
   "cell_type": "markdown",
   "metadata": {},
   "source": [
    "By changing the degree of the turn and reducing the number\n",
    "of loops, the turtle ends up drawing quite a different style of star."
   ]
  },
  {
   "cell_type": "markdown",
   "metadata": {},
   "source": [
    "Using similar code, we can\n",
    "create a variety of shapes, from a\n",
    "basic square to a spiral star.\n",
    "\n",
    "As\n",
    "you can see, by using for loops,\n",
    "we’ve made it much simpler to\n",
    "draw these shapes. \n",
    "\n",
    "Without\n",
    "for loops, our code would have\n",
    "required a lot of tedious typing.\n",
    "\n",
    "Now let’s use an if statement to control how the turtle\n",
    "will turn and draw another star\n",
    "variation. \n",
    "\n",
    "In this example, we\n",
    "want the turtle to turn one angle\n",
    "the first time, and then another\n",
    "angle the next time."
   ]
  },
  {
   "cell_type": "code",
   "execution_count": null,
   "metadata": {},
   "outputs": [],
   "source": [
    "for x in range(1, 19):\n",
    "    t.forward(100)\n",
    "    if x % 2 == 0:\n",
    "        t.left(175)\n",
    "    else:\n",
    "        t.left(225)"
   ]
  },
  {
   "cell_type": "markdown",
   "metadata": {},
   "source": [
    "Here, we create a loop that will run 18 times (range(1, 19)) and\n",
    "tell the turtle to move forward 100 pixels (t.forward(100)).     #See pg 149\n",
    "\n",
    "New here\n",
    "is the if statement (if x % 2 == 0:).\n",
    "\n",
    "This statement checks to see if\n",
    "the variable x contains an even number by using a modulo operator, the % in the expression x % 2 == 0, which is a way of saying, “x\n",
    "mod 2” is equal to 0.    (x divided by 2 == 0   -> even)\n",
    "\n",
    "The expression x % 2 essentially says, “What is the amount\n",
    "left over when you divide the number in variable x into two equal\n",
    "parts?” For example, if we were to divide 5 balls into two parts, we\n",
    "would get two groups of 2 balls (making a total of 4 balls), and the\n",
    "remainder (the amount left over) would be 1 ball  -> odd\n",
    "\n",
    "If we divided 13 balls into two parts, we would get two groups\n",
    "of 6 balls with 1 ball remaining:  -> odd\n",
    "\n",
    "When we check to see if the remainder equals zero after dividing x by 2, we are actually asking whether it can be broken into\n",
    "two parts with no remainder. \n",
    "\n",
    "This method is a nice way to see if a\n",
    "number in a variable is even, because even numbers can always be\n",
    "divided into two equal parts.\n",
    "\n",
    "On the fifth line of our code, we tell the turtle to turn left\n",
    "175 degrees (t.left(175)) if the number in x is even (if x % 2 == 0:);\n",
    "otherwise (else), on the final line, we tell it to turn 225 degrees\n",
    "(t.left(225))."
   ]
  },
  {
   "cell_type": "markdown",
   "metadata": {},
   "source": [
    "***Drawing a Car***\n",
    "\n",
    "The turtle can do more than just draw stars and simple geometric\n",
    "shapes.\n",
    "\n",
    "For our next example, we’ll draw a rather primitive-looking\n",
    "car. \n",
    "\n",
    "First, we draw the body of the car:"
   ]
  },
  {
   "cell_type": "code",
   "execution_count": null,
   "metadata": {},
   "outputs": [],
   "source": [
    "t.reset()\n",
    "t.color(1,0,0)\n",
    "t.begin_fill()\n",
    "t.forward(100)\n",
    "t.left(90)\n",
    "t.forward(20)\n",
    "t.left(90)\n",
    "t.forward(20)\n",
    "t.right(90)\n",
    "t.forward(20)\n",
    "t.left(90)\n",
    "t.forward(60)\n",
    "t.left(90)\n",
    "t.forward(20)\n",
    "t.right(90)\n",
    "t.forward(20)\n",
    "t.left(90)\n",
    "t.forward(20)\n",
    "t.end_fill()"
   ]
  },
  {
   "cell_type": "markdown",
   "metadata": {},
   "source": [
    "Next, we draw the first wheel."
   ]
  },
  {
   "cell_type": "code",
   "execution_count": null,
   "metadata": {},
   "outputs": [],
   "source": [
    "t.color(0,0,0)\n",
    "t.up()\n",
    "t.forward(10)\n",
    "t.down()\n",
    "t.begin_fill()\n",
    "t.circle(10)\n",
    "t.end_fill()"
   ]
  },
  {
   "cell_type": "markdown",
   "metadata": {},
   "source": [
    "Finally, we draw the second wheel."
   ]
  },
  {
   "cell_type": "code",
   "execution_count": null,
   "metadata": {},
   "outputs": [],
   "source": [
    "t.setheading(0)\n",
    "t.up()\n",
    "t.forward(90)\n",
    "t.right(90)\n",
    "t.forward(10)\n",
    "t.setheading(0)\n",
    "t.begin_fill()\n",
    "t.down()\n",
    "t.circle(10)\n",
    "t.end_fill()"
   ]
  },
  {
   "cell_type": "markdown",
   "metadata": {},
   "source": [
    "You may have noticed that a few new turtle functions have\n",
    "snuck into this code:\n",
    "\n",
    "•\t color is used to change the color of the pen.\n",
    "\n",
    "•\t begin_fill and end_fill are used to fill in an area of the canvas\n",
    "with a color.\n",
    "\n",
    "•\t circle draws a circle of a particular size.\n",
    "\n",
    "•\t setheading turns the turtle to face a particular direction.\n",
    "\n",
    "Let’s take a look at how we can use these functions to add color\n",
    "to our drawings."
   ]
  },
  {
   "cell_type": "markdown",
   "metadata": {},
   "source": [
    "***Coloring Things In***\n",
    "\n",
    "The color function takes three parameters.\n",
    "\n",
    "The first specifies the\n",
    "amount of red, the second the amount of green, and the third\n",
    "the amount of blue.\n",
    "\n",
    "For example, to get the bright red of the car,\n",
    "we used color(1,0,0), which tells the turtle to use a 100 percent\n",
    "red pen."
   ]
  },
  {
   "cell_type": "markdown",
   "metadata": {},
   "source": [
    "This red, green, and blue color recipe\n",
    "is called RGB.\n",
    "\n",
    "It’s the way that colors are\n",
    "represented on your computer monitor, and\n",
    "the relative mix of these primary colors\n",
    "produces other colors, just like when you\n",
    "mix blue and red paint to make purple or\n",
    "yellow and red to make orange.\n",
    "\n",
    "The colors\n",
    "red, green, and blue are called primary\n",
    "colors because you cannot mix other\n",
    "shades to produce them.\n",
    "\n",
    "Although we’re not using paint when we create colors on a\n",
    "computer monitor (we’re using light), it may help to understand\n",
    "this RGB recipe by thinking about three pots of paint: one red,\n",
    "one green, and one blue. \n",
    "\n",
    "Each pot is full, and we give each full pot\n",
    "a value of 1 (or 100 percent). \n",
    "\n",
    "We then mix all of the red paint and\n",
    "all of the green paint in a vat to produce yellow (that’s 1 and 1 of\n",
    "each, or 100 percent of each color).\n",
    "\n",
    "Now let’s return to the world of code.\n",
    "\n",
    "To draw a yellow circle\n",
    "with the turtle, we would use 100 percent of both the red and\n",
    "green paint, but no blue, like this:"
   ]
  },
  {
   "cell_type": "code",
   "execution_count": null,
   "metadata": {},
   "outputs": [],
   "source": [
    "t.color(1,1,0)\n",
    "t.begin_fill()\n",
    "t.circle(50)\n",
    "t.end_fill()"
   ]
  },
  {
   "cell_type": "markdown",
   "metadata": {},
   "source": [
    "The 1,1,0 in the first line represents 100 percent red, 100 percent green, and 0 percent blue.\n",
    "\n",
    "On the next line, we tell the turtle to\n",
    "fill the shapes it draws with this RGB color (t.begin_fill), and then\n",
    "we tell it to draw a circle with (t.circle).\n",
    "\n",
    "On the final line, end_fill\n",
    "tells the turtle to fill the circle with the RGB color."
   ]
  },
  {
   "cell_type": "markdown",
   "metadata": {},
   "source": [
    "+ ***A Function to Draw a Filled Circle***\n",
    "\n",
    "To make it easier to experiment with different colors, let’s create a\n",
    "function from the code we used to draw a filled circle."
   ]
  },
  {
   "cell_type": "code",
   "execution_count": null,
   "metadata": {},
   "outputs": [],
   "source": [
    "def mycircle(red, green, blue):\n",
    "    t.color(red, green, blue)\n",
    "    t.begin_fill()\n",
    "    t.circle(50)\n",
    "    t.end_fill()"
   ]
  },
  {
   "cell_type": "markdown",
   "metadata": {},
   "source": [
    "We can draw a bright green circle by using only the green\n",
    "paint, with this code:"
   ]
  },
  {
   "cell_type": "code",
   "execution_count": null,
   "metadata": {},
   "outputs": [],
   "source": [
    "mycircle(0, 1, 0)\n"
   ]
  },
  {
   "cell_type": "markdown",
   "metadata": {},
   "source": [
    "Or we can draw a darker green circle by using only half the\n",
    "green paint (0.5):"
   ]
  },
  {
   "cell_type": "code",
   "execution_count": null,
   "metadata": {},
   "outputs": [],
   "source": [
    "mycircle(0, 0.5, 0)"
   ]
  },
  {
   "cell_type": "markdown",
   "metadata": {},
   "source": [
    "To play with the RGB colors on your screen, try drawing a circle first with full red then half red (1 and 0.5), and then with full\n",
    "blue and finally half blue, like this:"
   ]
  },
  {
   "cell_type": "code",
   "execution_count": null,
   "metadata": {},
   "outputs": [],
   "source": [
    "mycircle(1, 0, 0)\n",
    "mycircle(0.5, 0, 0)\n",
    "mycircle(0, 0, 1)\n",
    "mycircle(0, 0, 0.5)"
   ]
  },
  {
   "cell_type": "markdown",
   "metadata": {},
   "source": [
    "Various combinations of red, green, and blue will produce a\n",
    "huge variety of colors, like gold:"
   ]
  },
  {
   "cell_type": "code",
   "execution_count": null,
   "metadata": {},
   "outputs": [],
   "source": [
    "mycircle(0.9, 0.75, 0)"
   ]
  },
  {
   "cell_type": "markdown",
   "metadata": {},
   "source": [
    "Here’s light pink:"
   ]
  },
  {
   "cell_type": "code",
   "execution_count": null,
   "metadata": {},
   "outputs": [],
   "source": [
    "mycircle(1, 0.7, 0.75)"
   ]
  },
  {
   "cell_type": "markdown",
   "metadata": {},
   "source": [
    "And here are two versions for different shades of orange:"
   ]
  },
  {
   "cell_type": "code",
   "execution_count": null,
   "metadata": {},
   "outputs": [],
   "source": [
    "mycircle(1, 0.5, 0)\n",
    "mycircle(0.9, 0.5, 0.15)"
   ]
  },
  {
   "cell_type": "markdown",
   "metadata": {},
   "source": [
    "+ ***Creating Pure Black and White***\n",
    "\n",
    "What happens when you turn off all the\n",
    "lights at night? \n",
    "\n",
    "Everything goes black.\n",
    "\n",
    "The\n",
    "same thing happens with colors on a computer.\n",
    "\n",
    "No light means no color, so a circle\n",
    "with 0 for all of the primary colors creates\n",
    "black:"
   ]
  },
  {
   "cell_type": "code",
   "execution_count": null,
   "metadata": {},
   "outputs": [],
   "source": [
    "mycircle(0, 0, 0)"
   ]
  },
  {
   "cell_type": "markdown",
   "metadata": {},
   "source": [
    "The opposite is true if you use 100 percent of all three colors.\n",
    "In this case, you get white. Enter the following to wipe out your\n",
    "black circle:"
   ]
  },
  {
   "cell_type": "code",
   "execution_count": null,
   "metadata": {},
   "outputs": [],
   "source": [
    "mycircle(1, 1, 1)"
   ]
  },
  {
   "cell_type": "markdown",
   "metadata": {},
   "source": [
    "***A Square-Drawing Function***\n",
    "\n",
    "You’ve seen that we fill shapes with color by telling the turtle to\n",
    "start filling using begin_fill, and the shapes are filled only once\n",
    "we use the end_fill function.\n",
    "\n",
    "Now we’ll try a few more experiments\n",
    "with shapes and filling.\n",
    "\n",
    "Let’s use the square-drawing function from\n",
    "the beginning of the chapter and pass it the size of the square as a\n",
    "parameter."
   ]
  },
  {
   "cell_type": "code",
   "execution_count": null,
   "metadata": {},
   "outputs": [],
   "source": [
    "def mysquare(size):\n",
    "    for x in range(1, 5):\n",
    "        t.forward(size)\n",
    "        t.left(90)"
   ]
  },
  {
   "cell_type": "markdown",
   "metadata": {},
   "source": [
    "Now let’s try our function with different sizes. The following\n",
    "code creates five consecutive squares of size 25, 50, 75, 100, and 125."
   ]
  },
  {
   "cell_type": "code",
   "execution_count": null,
   "metadata": {},
   "outputs": [],
   "source": [
    "t.reset()\n",
    "mysquare(25)\n",
    "mysquare(50)\n",
    "mysquare(75)\n",
    "mysquare(100)\n",
    "mysquare(125)"
   ]
  },
  {
   "cell_type": "markdown",
   "metadata": {},
   "source": [
    "+ ***Drawing Filled Squares***\n",
    "\n",
    "To draw a filled square, first we need to reset the canvas, begin\n",
    "filling, and then call the square function again, with this code:"
   ]
  },
  {
   "cell_type": "code",
   "execution_count": null,
   "metadata": {},
   "outputs": [],
   "source": [
    "t.reset()\n",
    "t.begin_fill()\n",
    "mysquare(50)"
   ]
  },
  {
   "cell_type": "markdown",
   "metadata": {},
   "source": [
    "You should see an empty square until you end filling:"
   ]
  },
  {
   "cell_type": "code",
   "execution_count": null,
   "metadata": {},
   "outputs": [],
   "source": [
    "t.end_fill()"
   ]
  },
  {
   "cell_type": "markdown",
   "metadata": {},
   "source": [
    "Let’s change this function so that we can draw either a filled\n",
    "or an unfilled square.\n",
    "\n",
    "To do so, we need another parameter and\n",
    "slightly more complicated code."
   ]
  },
  {
   "cell_type": "code",
   "execution_count": null,
   "metadata": {},
   "outputs": [],
   "source": [
    "def mysquare(size, filled):\n",
    "    \n",
    "    if filled == True:\n",
    "        t.begin_fill()\n",
    "    for x in range(1, 5):\n",
    "        t.forward(size)\n",
    "        t.left(90)\n",
    "        \n",
    "    if filled == True:\n",
    "        t.end_fill()"
   ]
  },
  {
   "cell_type": "markdown",
   "metadata": {},
   "source": [
    "On the first line, we change the definition of our function to\n",
    "take two parameters: size and filled.\n",
    "\n",
    "Next, we check to see whether\n",
    "the value of filled is set to True with if filled == True.\n",
    "\n",
    "If it is, we\n",
    "call begin_fill, to tell the turtle to fill the shape we drew.\n",
    "\n",
    "We then\n",
    "loop four times (for x in range(0, 4)) to draw the four sides of the rectangle (moving forward and left), before checking again to see\n",
    "whether filled is True with if filled == True.\n",
    "\n",
    "If it is, we turn filling\n",
    "off again with t.end_fill, and the turtle fills the square with color.\n",
    "\n",
    "Now we can draw a filled square with this line:"
   ]
  },
  {
   "cell_type": "code",
   "execution_count": null,
   "metadata": {},
   "outputs": [],
   "source": [
    "mysquare(50, True)"
   ]
  },
  {
   "cell_type": "markdown",
   "metadata": {},
   "source": [
    "Or we can create an unfilled square with this line:"
   ]
  },
  {
   "cell_type": "code",
   "execution_count": null,
   "metadata": {},
   "outputs": [],
   "source": [
    "mysquare(150, False)"
   ]
  },
  {
   "cell_type": "markdown",
   "metadata": {},
   "source": [
    "After these two calls to the mysquare function, we get the following image, which looks a bit like a square eye."
   ]
  },
  {
   "cell_type": "markdown",
   "metadata": {},
   "source": [
    "But there’s no sense in stopping here. You can draw all sorts of\n",
    "shapes and fill them with color."
   ]
  },
  {
   "cell_type": "markdown",
   "metadata": {},
   "source": [
    "***Drawing Filled Stars***\n",
    "\n",
    "For our final example, we’ll add some color to the star we drew\n",
    "earlier.\n",
    "\n",
    "The original code looked like this:"
   ]
  },
  {
   "cell_type": "code",
   "execution_count": null,
   "metadata": {},
   "outputs": [],
   "source": [
    "for x in range(1, 19):\n",
    "    t.forward(100)\n",
    "    if x % 2 == 0:\n",
    "        t.left(175)\n",
    "    else:\n",
    "        t.left(225)"
   ]
  },
  {
   "cell_type": "markdown",
   "metadata": {},
   "source": [
    "Now we’ll make a mystar function. We’ll use the if statements\n",
    "from the mysquare function and add the size parameter."
   ]
  },
  {
   "cell_type": "code",
   "execution_count": null,
   "metadata": {},
   "outputs": [],
   "source": [
    "def mystar(size, filled):\n",
    "    if filled == True:\n",
    "        t.begin_fill()\n",
    "    for x in range(1, 19):\n",
    "        t.forward(size)\n",
    "        if x % 2 == 0:\n",
    "            t.left(175)\n",
    "        else:\n",
    "            t.left(225)\n",
    "    if filled == True:\n",
    "        t.end_fill()"
   ]
  },
  {
   "cell_type": "markdown",
   "metadata": {},
   "source": [
    "In the first two lines of this function, we check to see if filled\n",
    "is True, and if it is we begin filling.\n",
    "\n",
    "We check again in the last two\n",
    "lines, and if filled is True, we stop filling.\n",
    "\n",
    "Also, as with the mysquare\n",
    "function, we pass the size of the star in the parameter size, and\n",
    "use that value when we call t.forward.\n",
    "\n",
    "Now let’s set the color to gold (90 percent red, 75 percent green,\n",
    "and 0 percent blue), and then call the function again."
   ]
  },
  {
   "cell_type": "code",
   "execution_count": null,
   "metadata": {},
   "outputs": [],
   "source": [
    "t.color(0.9, 0.75, 0)\n",
    "mystar(120, True)"
   ]
  },
  {
   "cell_type": "markdown",
   "metadata": {},
   "source": [
    "To add an outline to the star, change the color to black and\n",
    "redraw the star without filling:"
   ]
  },
  {
   "cell_type": "code",
   "execution_count": null,
   "metadata": {},
   "outputs": [],
   "source": [
    "t.color(0,0,0)\n",
    "mystar(120, False)"
   ]
  },
  {
   "cell_type": "markdown",
   "metadata": {},
   "source": [
    "And the star is now gold with a black outline."
   ]
  },
  {
   "cell_type": "markdown",
   "metadata": {},
   "source": [
    "***Programming Puzzles*** - pg 160"
   ]
  },
  {
   "cell_type": "markdown",
   "metadata": {},
   "source": [
    "***1: Drawing an Octagon***\n",
    "\n",
    "We’ve drawn stars, squares, and rectangles in this chapter.\n",
    "\n",
    "How\n",
    "about creating a function to draw an eight-sided shape like an\n",
    "octagon? (Hint: Try turning the turtle 45 degrees.)"
   ]
  },
  {
   "cell_type": "code",
   "execution_count": 2,
   "metadata": {},
   "outputs": [],
   "source": [
    "def octa(size):\n",
    "    for x in range(0,8):\n",
    "        t.forward(size)\n",
    "        t.left(45)\n",
    "        \n",
    "octa(100)"
   ]
  },
  {
   "cell_type": "markdown",
   "metadata": {},
   "source": [
    "***2: Drawing a Filled Octagon***\n",
    "\n",
    "Now that you have a function to draw an octagon, modify it so that\n",
    "it draws a filled octagon.\n",
    "\n",
    "Try drawing an octagon with an outline,\n",
    "as we did with the star."
   ]
  },
  {
   "cell_type": "code",
   "execution_count": 5,
   "metadata": {},
   "outputs": [],
   "source": [
    "def octa(size,filled):\n",
    "    if filled == 1:\n",
    "        t.begin_fill()\n",
    "    for x in range(0,8):\n",
    "        t.forward(size)\n",
    "        t.left(45)\n",
    "    if filled == 1:\n",
    "        t.end_fill()\n",
    "        \n",
    "t.color(1,0,0)\n",
    "octa(100,1)"
   ]
  },
  {
   "cell_type": "markdown",
   "metadata": {
    "tags": []
   },
   "source": [
    "***3: Another Star-drawing Function***\n",
    "\n",
    "Create a function to draw a star that will take two parameters:\n",
    "the size and number of points. \n",
    "\n",
    "The beginning of the function will\n",
    "look something like this:"
   ]
  },
  {
   "cell_type": "code",
   "execution_count": null,
   "metadata": {},
   "outputs": [],
   "source": [
    "def draw_star(size, points):"
   ]
  },
  {
   "cell_type": "code",
   "execution_count": 1,
   "metadata": {},
   "outputs": [],
   "source": [
    "def draw_star(size, points):\n",
    "    angle = 360/points\n",
    "    for x in range(0,points):\n",
    "        t.forward(size)\n",
    "        t.left(180 - angle)\n",
    "        t.forward(size)\n",
    "        t.right(180 - (angle*2))\n",
    "        \n",
    "draw_star(100,5)"
   ]
  },
  {
   "cell_type": "markdown",
   "metadata": {},
   "source": [
    "# Chapter 12 - Using tkinter for Better Graphics"
   ]
  },
  {
   "cell_type": "markdown",
   "metadata": {},
   "source": [
    "The problem with using a turtle to draw is that turtles are really slow. \n",
    "\n",
    "Even when a turtle is\n",
    "going at top speed, it’s still not going very fast.\n",
    "\n",
    "That’s\n",
    "not really a problem for turtles, but it is a problem for\n",
    "computer graphics.\n",
    "\n",
    "Computer graphics, especially in games, usually\n",
    "need to move fast.\n",
    "\n",
    "If you have a game console or you\n",
    "play games on your computer, think for a moment about\n",
    "the graphics you see on the screen.\n",
    "\n",
    "Two-dimensional\n",
    "(2D) graphics are flat—the characters generally move only up and down or left and right—\n",
    "as in many Nintendo DS, PlayStation\n",
    "Portable (PSP), and mobile phone\n",
    "games.\n",
    "\n",
    "In pseudo-three-dimensional\n",
    "(3D) games—ones that are almost\n",
    "3D—images look a little more real,\n",
    "but the characters generally move\n",
    "only in relation to a flat plane (this\n",
    "is also known as isometric graphics).\n",
    "\n",
    "And, finally, we have 3D games, where the pictures drawn on\n",
    "the screen attempt to mimic reality. Whether the games use 2D,\n",
    "pseudo-3D, or 3D graphics, all have one thing in common: the need\n",
    "to draw on the computer screen very quickly.\n",
    "\n",
    "The basic method used\n",
    "with all animation, whether it’s cartoons on TV or games on your\n",
    "console or computer is that an image is drawn, and then drawn again\n",
    "with a slight change to create the illusion of movement.\n",
    "\n",
    "To make\n",
    "an image look like it is moving, you need to display each frame, or\n",
    "piece of the animation, very quickly.\n",
    "\n",
    "Python offers different ways to create graphics.\n",
    "\n",
    "In addition to\n",
    "the turtle module, you can use external modules (which need to\n",
    "be installed separately), as well as the tkinter module, which you\n",
    "should already have in your standard Python installation.\n",
    "\n",
    "tkinter\n",
    "can be used to create full applications, like a simple word processor, as well as for simple drawing.\n",
    "\n",
    "In this chapter, we’ll explore\n",
    "how to use tkinter to create graphics."
   ]
  },
  {
   "cell_type": "markdown",
   "metadata": {},
   "source": [
    "***Creating a Clickable Button***\n",
    "\n",
    "For our first example, we’ll use tkinter to create a basic application\n",
    "with a button. Enter this code:"
   ]
  },
  {
   "cell_type": "code",
   "execution_count": 2,
   "metadata": {},
   "outputs": [],
   "source": [
    "from tkinter import *\n",
    "tk = Tk()\n",
    "btn = Button(tk, text=\"click me\")\n",
    "btn.pack()"
   ]
  },
  {
   "cell_type": "markdown",
   "metadata": {},
   "source": [
    "On the first line, we import\n",
    "the contents of the tkinter module.\n",
    "\n",
    "Using from 'module-name import *' allows\n",
    "us to use the contents of a module\n",
    "without using its name.\n",
    "\n",
    "In contrast,\n",
    "when using import turtle in previous\n",
    "examples, we needed to include the\n",
    "module name to access its contents:"
   ]
  },
  {
   "cell_type": "code",
   "execution_count": null,
   "metadata": {},
   "outputs": [],
   "source": [
    "import turtle\n",
    "t = turtle.Pen()"
   ]
  },
  {
   "cell_type": "markdown",
   "metadata": {},
   "source": [
    "When we use import *, we don’t need to call turtle.Pen, as we\n",
    "did in Chapters 4 and 11.\n",
    "\n",
    "This isn’t so useful with the turtle module, but it is when you are using modules with a lot of classes and\n",
    "functions, because it reduces the amount you need to type."
   ]
  },
  {
   "cell_type": "code",
   "execution_count": null,
   "metadata": {},
   "outputs": [],
   "source": [
    "from turtle import *\n",
    "t = Pen()"
   ]
  },
  {
   "cell_type": "markdown",
   "metadata": {},
   "source": [
    "On the next line in our button example, we create a variable\n",
    "containing an object of the class Tk with tk = Tk(), just like we\n",
    "create a Pen object for the turtle.\n",
    "\n",
    "The tk object creates a basic window to which we can then add other things, such as buttons, input\n",
    "boxes, or a canvas to draw on. This is the main class provided by\n",
    "the tkinter module—without creating an object of the Tk class, you\n",
    "won’t be able to do any graphics or animations.\n",
    "\n",
    "On the third line, we create a button, with btn = Button and\n",
    "pass the tk variable as the first parameter, and \"click me\" as\n",
    "the text that the button will display, with (tk, text=\"click me\").\n",
    "\n",
    "Although we’ve added this button to the window, it won’t be displayed until you enter the line btn.pack(), which tells the button to appear.\n",
    "\n",
    "It also lines everything up correctly on the screen, if there\n",
    "are other buttons or objects to display.\n",
    "\n",
    "The result should be something like this:   (a window with a 'click me' button)"
   ]
  },
  {
   "cell_type": "markdown",
   "metadata": {},
   "source": [
    "The click me button doesn’t do much. You can click it all day,\n",
    "but nothing will happen until we change the code just a bit.\n",
    "(Be\n",
    "sure to close the window you created earlier!)\n",
    "\n",
    "First, we create a function to print some text:"
   ]
  },
  {
   "cell_type": "code",
   "execution_count": null,
   "metadata": {},
   "outputs": [],
   "source": [
    "def hello():\n",
    "    print('hello there')"
   ]
  },
  {
   "cell_type": "markdown",
   "metadata": {},
   "source": [
    "Then we modify our example to use this new function:"
   ]
  },
  {
   "cell_type": "code",
   "execution_count": null,
   "metadata": {},
   "outputs": [],
   "source": [
    "from tkinter import *\n",
    "tk = Tk()\n",
    "btn = Button(tk, text=\"click me\", command=hello)\n",
    "btn.pack()"
   ]
  },
  {
   "cell_type": "markdown",
   "metadata": {},
   "source": [
    "Notice that we’ve made only a slight change to the previous\n",
    "version of this code: We’ve added the parameter command, which tells\n",
    "Python to use the hello function when the button is clicked.\n",
    "\n",
    "Now when you click the button, you will see “hello there” written to the shell. This will appear each time the button is clicked."
   ]
  },
  {
   "cell_type": "markdown",
   "metadata": {},
   "source": [
    "This is the first time we’ve used named parameters in any of\n",
    "our code examples, so let’s talk about them a bit before continuing\n",
    "with our drawing."
   ]
  },
  {
   "cell_type": "markdown",
   "metadata": {},
   "source": [
    "***Using Named Parameters***\n",
    "\n",
    "Named parameters are just like normal parameters, except that,\n",
    "rather than using the specific order of the values provided to a\n",
    "function to determine which value belongs to which parameter\n",
    "(the first value is the first parameter, the second value is the second parameter, the third value is the third parameter, and so on),\n",
    "we explicitly name the values, so they can appear in any order.\n",
    "\n",
    "Sometimes functions have a lot of parameters, and we may not\n",
    "always need to provide a value for every parameter.\n",
    "\n",
    "Named parameters are a way we can provide values for only the parameters that\n",
    "we need to give values.\n",
    "For example, suppose we have a function called person that\n",
    "takes two parameters: width and height."
   ]
  },
  {
   "cell_type": "code",
   "execution_count": 1,
   "metadata": {},
   "outputs": [],
   "source": [
    "def person(width, height):\n",
    "    print('I am %s feet wide, %s feet high' % (width, height))"
   ]
  },
  {
   "cell_type": "markdown",
   "metadata": {},
   "source": [
    "Normally, we might call this function like this:"
   ]
  },
  {
   "cell_type": "code",
   "execution_count": 2,
   "metadata": {},
   "outputs": [
    {
     "name": "stdout",
     "output_type": "stream",
     "text": [
      "I am 4 feet wide, 3 feet high\n"
     ]
    }
   ],
   "source": [
    "person(4, 3)"
   ]
  },
  {
   "cell_type": "markdown",
   "metadata": {},
   "source": [
    "Using named parameters, we could call this function and specify the parameter name with each value:"
   ]
  },
  {
   "cell_type": "code",
   "execution_count": 3,
   "metadata": {},
   "outputs": [
    {
     "name": "stdout",
     "output_type": "stream",
     "text": [
      "I am 4 feet wide, 3 feet high\n"
     ]
    }
   ],
   "source": [
    "person(height=3, width=4)"
   ]
  },
  {
   "cell_type": "markdown",
   "metadata": {},
   "source": [
    "Named parameters will become particularly useful as we do\n",
    "more with the tkinter module."
   ]
  },
  {
   "cell_type": "markdown",
   "metadata": {},
   "source": [
    "***Creating a Canvas for Drawing***\n",
    "\n",
    "Buttons are nice tools, but they’re not particularly useful when we\n",
    "want to draw things on the screen.\n",
    "\n",
    "When it’s time to really draw\n",
    "something, we need a different component: a canvas object, which is\n",
    "an object of the class Canvas (provided by the tkinter module).\n",
    "\n",
    "When creating a canvas, we pass the width and height (in\n",
    "pixels) of the canvas to Python.\n",
    "\n",
    "Otherwise, the code is similar to\n",
    "the button code.\n",
    "\n",
    "Here’s an example:"
   ]
  },
  {
   "cell_type": "code",
   "execution_count": 4,
   "metadata": {},
   "outputs": [],
   "source": [
    "from tkinter import *\n",
    "tk = Tk()\n",
    "canvas = Canvas(tk, width=500, height=500)\n",
    "canvas.pack()"
   ]
  },
  {
   "cell_type": "markdown",
   "metadata": {},
   "source": [
    "As with the button example,\n",
    "a window will appear when you\n",
    "enter tk = Tk().\n",
    "\n",
    "On the last line,\n",
    "we pack the canvas with canvas.\n",
    "pack(), which changes the size\n",
    "of the canvas to a width of 500\n",
    "pixels and a height of 500 pixels,\n",
    "as specified in the third line\n",
    "of code.\n",
    "\n",
    "Also as with the button\n",
    "example, the pack function tells\n",
    "the canvas to display itself in the\n",
    "correct position within the window.\n",
    "If that function isn’t called,\n",
    "nothing will display properly."
   ]
  },
  {
   "cell_type": "markdown",
   "metadata": {},
   "source": [
    "***Drawing Lines***\n",
    "\n",
    "To draw a line on the canvas, we use pixel coordinates. \n",
    "\n",
    "Coordinates\n",
    "determine the positions of pixels on a surface. \n",
    "\n",
    "On a tkinter canvas,\n",
    "coordinates describe how far across the canvas (from left to right)\n",
    "and how far down the canvas (top to bottom) to place the pixel.\n",
    "\n",
    "For example, since our canvas is 500 pixels wide by 500 pixels high, the coordinates of the bottom-right corner of the screen\n",
    "are (500, 500).\n",
    "\n",
    "To draw the line shown in the following image, we\n",
    "would use the starting coordinates (0, 0) and ending coordinates\n",
    "(500, 500)."
   ]
  },
  {
   "cell_type": "markdown",
   "metadata": {},
   "source": [
    "We specify the coordinates using the create_line function, as\n",
    "shown here:"
   ]
  },
  {
   "cell_type": "code",
   "execution_count": 6,
   "metadata": {},
   "outputs": [
    {
     "data": {
      "text/plain": [
       "1"
      ]
     },
     "execution_count": 6,
     "metadata": {},
     "output_type": "execute_result"
    }
   ],
   "source": [
    "from tkinter import *\n",
    "tk = Tk()\n",
    "canvas = Canvas(tk, width=500, height=500)\n",
    "canvas.pack()\n",
    "canvas.create_line(0, 0, 500, 500)"
   ]
  },
  {
   "cell_type": "markdown",
   "metadata": {},
   "source": [
    "The create_line function returns 1, which is an identifier—we’ll\n",
    "learn more about that later. If we had done the same thing with the\n",
    "turtle module, we would have needed the following code:\n"
   ]
  },
  {
   "cell_type": "code",
   "execution_count": null,
   "metadata": {},
   "outputs": [],
   "source": [
    "import turtle\n",
    "turtle.setup(width=500, height=500)\n",
    "t = turtle.Pen()\n",
    "t.up()\n",
    "t.goto(-250, 250)\n",
    "t.down()\n",
    "t.goto(500, -500)"
   ]
  },
  {
   "cell_type": "markdown",
   "metadata": {},
   "source": [
    "So the tkinter code is already an improvement. It’s slightly\n",
    "shorter and a bit simpler.\n",
    "\n",
    "Now let’s look at some of the functions available on the canvas\n",
    "object that we can use for some more interesting drawings."
   ]
  },
  {
   "cell_type": "markdown",
   "metadata": {},
   "source": [
    "***Drawing Boxes***\n",
    "\n",
    "With the turtle module, we drew a\n",
    "box by moving forward, turning, moving forward, turning again, and so on.\n",
    "\n",
    "Eventually, we were able to draw a rectangular or square box by changing how\n",
    "far we moved forward.\n",
    "\n",
    "The tkinter module makes it a lot\n",
    "easier to draw a square or rectangle.\n",
    "\n",
    "All you need to know are the\n",
    "coordinates for the corners.\n",
    "\n",
    "Here’s an example (you can close the\n",
    "other windows now):"
   ]
  },
  {
   "cell_type": "code",
   "execution_count": 7,
   "metadata": {},
   "outputs": [
    {
     "data": {
      "text/plain": [
       "1"
      ]
     },
     "execution_count": 7,
     "metadata": {},
     "output_type": "execute_result"
    }
   ],
   "source": [
    "from tkinter import *\n",
    "tk = Tk()\n",
    "canvas = Canvas(tk, width=400, height=400)\n",
    "canvas.pack()\n",
    "canvas.create_rectangle(10, 10, 50, 50)"
   ]
  },
  {
   "cell_type": "markdown",
   "metadata": {},
   "source": [
    "In this code, we use tkinter to create a canvas that is 400 pixels\n",
    "wide by 400 pixels high, and we then draw a square in the top-left\n",
    "corner of the window, (a small square)"
   ]
  },
  {
   "cell_type": "markdown",
   "metadata": {},
   "source": [
    "The parameters we pass to canvas.create_rectangle in the last\n",
    "line of the code are the coordinates for the top-left and bottom-right\n",
    "corners of the square. \n",
    "\n",
    "We provide these coordinates as the distance\n",
    "from the left-hand side of the canvas and the distance from the top\n",
    "of the canvas.\n",
    "\n",
    "In this case, the first two coordinates (the top-left corner) are 10 pixels across from the left and 10 pixels down from\n",
    "the top (those are the first numbers: 10, 10).\n",
    "\n",
    "The bottom-right corner\n",
    "of the square is 50 pixels across from the left and 50 pixels down\n",
    "(the second numbers: 50, 50).\n",
    "\n",
    "We’ll refer to these two sets of coordinates as x1, y1 and x2, y2.\n",
    "\n",
    "To draw a rectangle, we can increase the distance of the second\n",
    "corner from the side of the canvas (increasing the value of the x2\n",
    "parameter), like this:"
   ]
  },
  {
   "cell_type": "code",
   "execution_count": 8,
   "metadata": {},
   "outputs": [
    {
     "data": {
      "text/plain": [
       "1"
      ]
     },
     "execution_count": 8,
     "metadata": {},
     "output_type": "execute_result"
    }
   ],
   "source": [
    "from tkinter import *\n",
    "tk = Tk()\n",
    "canvas = Canvas(tk, width=400, height=400)\n",
    "canvas.pack()\n",
    "canvas.create_rectangle(10, 10, 300, 50)"
   ]
  },
  {
   "cell_type": "markdown",
   "metadata": {},
   "source": [
    "In this example, the top-left coordinates of the rectangle (its\n",
    "position on the screen) are (10, 10), and the bottom-right coordinates are (300, 50).\n",
    "\n",
    "The result is a rectangle that is the same\n",
    "height as our original square (50 pixels), but a lot wider.\n",
    "\n",
    "\n",
    "We can also draw a rectangle by increasing the distance of the\n",
    "second corner from the top of the canvas (increasing the value of\n",
    "the y2 parameter), like this:"
   ]
  },
  {
   "cell_type": "code",
   "execution_count": 9,
   "metadata": {},
   "outputs": [
    {
     "data": {
      "text/plain": [
       "1"
      ]
     },
     "execution_count": 9,
     "metadata": {},
     "output_type": "execute_result"
    }
   ],
   "source": [
    "from tkinter import *\n",
    "tk = Tk()\n",
    "canvas = Canvas(tk, width=400, height=400)\n",
    "canvas.pack()\n",
    "canvas.create_rectangle(10, 10, 50, 300)"
   ]
  },
  {
   "cell_type": "markdown",
   "metadata": {},
   "source": [
    "In this call to the create_rectangle function, we are basically\n",
    "saying, in order:\n",
    "\n",
    "•\t Go 10 pixels across the canvas (from the top left).\n",
    "\n",
    "•\t Go 10 pixels down the canvas. This is the starting corner of\n",
    "the rectangle.\n",
    "\n",
    "•\t Draw the rectangle across to 50 pixels.\n",
    "\n",
    "•\t Draw down to 300 pixels.\n",
    "\n",
    "The end result should look something like this: (a long rectangle and its height is the longest)"
   ]
  },
  {
   "cell_type": "markdown",
   "metadata": {},
   "source": [
    "+ ***Drawing a Lot of Rectangles***\n",
    "\n",
    "How about filling the canvas with different-sized rectangles?\n",
    "\n",
    "We can do this by importing the module random and then creating\n",
    "a function that uses a random number for the coordinates at the\n",
    "top-left and bottom-right corners of the rectangle.\n",
    "\n",
    "We’ll use the function provided by the random module called\n",
    "randrange.\n",
    "\n",
    "When we give this function a number, it returns a random integer between 0 and the number we give it. For example,\n",
    "calling randrange(10) would return a number between 0 and 9,\n",
    "randrange(100) would return a number between 0 and 99, and\n",
    "so on.\n",
    "\n",
    "Here’s how we use randrange in a function."
   ]
  },
  {
   "cell_type": "code",
   "execution_count": 11,
   "metadata": {},
   "outputs": [],
   "source": [
    "from tkinter import *\n",
    "import random\n",
    "tk = Tk()\n",
    "canvas = Canvas(tk, width=400, height=400)\n",
    "canvas.pack()\n",
    "\n",
    "def random_rectangle(width, height):\n",
    "    x1 = random.randrange(width)\n",
    "    y1 = random.randrange(height)\n",
    "    x2 = x1 + random.randrange(width)\n",
    "    y2 = y1 + random.randrange(height)\n",
    "    canvas.create_rectangle(x1, y1, x2, y2)\n",
    "    \n",
    "random_rectangle(400,400)"
   ]
  },
  {
   "cell_type": "markdown",
   "metadata": {},
   "source": [
    "We first define our function (def random_rectangle) as taking two\n",
    "parameters: width and height.\n",
    "\n",
    "Next, we create variables for the topleft corner of the rectangle using the randrange function, passing the\n",
    "width and the height as parameters with x1 = random.randrange(width)\n",
    "and y1 = random.randrange(height), respectively.\n",
    "\n",
    "In effect, with the\n",
    "second line of this function, we’re saying, “Create a variable called\n",
    "x1, and set its value to a random number between 0 and the value\n",
    "in the parameter width.”\n",
    "\n",
    "The next two lines create variables for the bottom-right corner\n",
    "of the rectangle, taking into account the top-left coordinates (either\n",
    "x1 or y1) and adding a random number to those values.\n",
    "\n",
    "The third\n",
    "line of the function is effectively saying, “Create the variable x2 by\n",
    "adding a random number to the value that we already calculated\n",
    "for x1.”\n",
    "\n",
    "Finally, with canvas.create_rectangle, we use the variables x1,\n",
    "y1, x2, and y2 to draw the rectangle on the canvas.\n",
    "\n",
    "To try our random_rectangle function, we’ll pass it the width and\n",
    "height of the canvas.\n",
    "\n",
    " Once you’ve seen the function working, fill the screen\n",
    "with rectangles by creating a loop to call random_rectangle a number\n",
    "of times. \n",
    "\n",
    "Let’s try a for loop of 100 random rectangles. Add the following code"
   ]
  },
  {
   "cell_type": "code",
   "execution_count": null,
   "metadata": {},
   "outputs": [],
   "source": [
    "for x in range(0, 100):\n",
    "    random_rectangle(400, 400)"
   ]
  },
  {
   "cell_type": "markdown",
   "metadata": {},
   "source": [
    "This code produces a bit of a mess, but it’s kind of like modern art: (a bunch of wierdly shaped rectangles)\n"
   ]
  },
  {
   "cell_type": "markdown",
   "metadata": {},
   "source": [
    "+ ***Setting the Color***\n",
    "\n",
    "Of course, we want to add color to our graphics.\n",
    "\n",
    "Let’s change the\n",
    "random_rectangle function to pass in a color for the rectangle as an\n",
    "additional parameter (fill_color). \n",
    "\n",
    "Enter this code in a new window:"
   ]
  },
  {
   "cell_type": "code",
   "execution_count": 5,
   "metadata": {},
   "outputs": [],
   "source": [
    "from tkinter import *\n",
    "import random\n",
    "tk = Tk()\n",
    "canvas = Canvas(tk, width=400, height=400)\n",
    "canvas.pack()\n",
    "\n",
    "def random_rectangle(width, height, fill_color):\n",
    "    x1 = random.randrange(width)\n",
    "    y1 = random.randrange(height)\n",
    "    x2 = random.randrange(x1 + random.randrange(width))\n",
    "    y2 = random.randrange(y1 + random.randrange(height))\n",
    "    canvas.create_rectangle(x1, y1, x2, y2, fill=fill_color)"
   ]
  },
  {
   "cell_type": "markdown",
   "metadata": {},
   "source": [
    "The create_rectangle function now takes a parameter fill_color,\n",
    "which specifies the color to use when drawing the rectangle.\n",
    "\n",
    "We can pass named colors into the function like this (using\n",
    "a canvas 400 pixels wide by 400 pixels high) to create a bunch of\n",
    "different-colored rectangles.\n"
   ]
  },
  {
   "cell_type": "code",
   "execution_count": 13,
   "metadata": {},
   "outputs": [],
   "source": [
    "random_rectangle(400, 400, 'green')\n",
    "random_rectangle(400, 400, 'red')\n",
    "random_rectangle(400, 400, 'blue')\n",
    "random_rectangle(400, 400, 'orange')\n",
    "random_rectangle(400, 400, 'yellow')\n",
    "random_rectangle(400, 400, 'pink')\n",
    "random_rectangle(400, 400, 'purple')\n",
    "random_rectangle(400, 400, 'violet')\n",
    "random_rectangle(400, 400, 'magenta')\n",
    "random_rectangle(400, 400, 'cyan')"
   ]
  },
  {
   "cell_type": "markdown",
   "metadata": {},
   "source": [
    "Many of these named colors will display the color you expect\n",
    "to see, but others may produce an error message (depending on\n",
    "whether you’re using Windows, Mac OS X, or Linux).\n",
    "\n",
    "But what about a custom color that isn’t exactly the same as\n",
    "a named color? \n",
    "\n",
    "Recall in Chapter 11 that we set the color of the\n",
    "turtle’s pen using percentages of the colors red, green, and blue.\n",
    "\n",
    "Setting the amount of each primary color (red, green, and blue)\n",
    "to use in a color combination with tkinter is slightly more complicated, but we’ll work through it.\n",
    "\n",
    "When working with the turtle module, we created gold using\n",
    "90 percent red, 75 percent green, and no blue. In tkinter, we can\n",
    "create the same gold color using this line:"
   ]
  },
  {
   "cell_type": "code",
   "execution_count": null,
   "metadata": {},
   "outputs": [],
   "source": [
    "random_rectangle(400, 400, '#ffd800')"
   ]
  },
  {
   "cell_type": "markdown",
   "metadata": {},
   "source": [
    "The hash mark (#) before the value ffd800 tells Python we’re providing a hexadecimal number.\n",
    "\n",
    "Hexadecimal is a way of representing\n",
    "numbers that is commonly used in computer programming.\n",
    "\n",
    "It uses\n",
    "a base of 16 (0 through 9 then A through F) rather than decimal,\n",
    "which has a base of 10 (0 through 9).\n",
    "\n",
    "If you haven’t learned about\n",
    "bases in mathematics, just know that you can convert a normal decimal number to hexadecimal using a format placeholder in a string:\n",
    "%x (see “Embedding Values in Strings” on page 30).\n",
    "\n",
    "For example,\n",
    "to convert the decimal number 15 to hexadecimal, you could do this:"
   ]
  },
  {
   "cell_type": "code",
   "execution_count": 14,
   "metadata": {},
   "outputs": [
    {
     "name": "stdout",
     "output_type": "stream",
     "text": [
      "f\n"
     ]
    }
   ],
   "source": [
    "print('%x' % 15)"
   ]
  },
  {
   "cell_type": "markdown",
   "metadata": {},
   "source": [
    "To make sure our number has at least two digits, we can\n",
    "change the format placeholder slightly, to this:"
   ]
  },
  {
   "cell_type": "code",
   "execution_count": 15,
   "metadata": {},
   "outputs": [
    {
     "name": "stdout",
     "output_type": "stream",
     "text": [
      "0f\n"
     ]
    }
   ],
   "source": [
    "print('%02x' % 15)"
   ]
  },
  {
   "cell_type": "markdown",
   "metadata": {},
   "source": [
    "The tkinter module provides an easy way to get a hexadecimal\n",
    "color value. \n",
    "\n",
    "Try adding the following code to colorrect.py (you can\n",
    "remove the other calls to the random_rectangle function)."
   ]
  },
  {
   "cell_type": "code",
   "execution_count": null,
   "metadata": {},
   "outputs": [],
   "source": [
    "from tkinter import *\n",
    "from tkinter import colorchooser\n",
    "tk = Tk()\n",
    "tk.update()\n",
    "colorchooser.askcolor()         # This is the latest way for colorchooser"
   ]
  },
  {
   "cell_type": "markdown",
   "metadata": {},
   "source": [
    "This shows you a color chooser:\n",
    "\n",
    "When you select a color and click OK, a tuple will be displayed.\n",
    "This tuple contains another tuple with three numbers and a string:"
   ]
  },
  {
   "cell_type": "markdown",
   "metadata": {},
   "source": [
    "The three numbers represent the amounts of red, green, and\n",
    "blue.\n",
    "\n",
    "In tkinter, the amount of each primary color to use in a color\n",
    "combination is represented by a number between 0 and 255 (which\n",
    "is different from using a percentage for each primary color with the\n",
    "turtle module).\n",
    "\n",
    "The string in the tuple contains the hexadecimal\n",
    "version of those three numbers.\n",
    "\n",
    "You can either copy and paste the string value to use or store\n",
    "the tuple as a variable, and then use the index position of the hexadecimal value."
   ]
  },
  {
   "cell_type": "markdown",
   "metadata": {},
   "source": [
    "Let’s use the random_rectangle function to see how this works:\n"
   ]
  },
  {
   "cell_type": "code",
   "execution_count": 6,
   "metadata": {},
   "outputs": [],
   "source": [
    "from tkinter import *\n",
    "from tkinter import colorchooser\n",
    "tk = Tk()\n",
    "tk.update()\n",
    "\n",
    "c = colorchooser.askcolor()      # Dont forget to run the function first\n",
    "random_rectangle(400, 400, c[1])    # Should show a random rectangle with the color you chose"
   ]
  },
  {
   "cell_type": "markdown",
   "metadata": {},
   "source": [
    "***Drawing Arcs***\n",
    "\n",
    "An arc is a segment of the\n",
    "circumference of a circle or\n",
    "another curve, but in order\n",
    "to draw one with tkinter, you\n",
    "need to draw it inside a rectangle using the create_arc\n",
    "function, with code like this:"
   ]
  },
  {
   "cell_type": "code",
   "execution_count": 2,
   "metadata": {},
   "outputs": [
    {
     "data": {
      "text/plain": [
       "1"
      ]
     },
     "execution_count": 2,
     "metadata": {},
     "output_type": "execute_result"
    }
   ],
   "source": [
    "from tkinter import *\n",
    "tk = Tk()\n",
    "canvas = Canvas(tk, width=400, height=400)\n",
    "canvas.pack()\n",
    "\n",
    "canvas.create_arc(10, 10, 200, 100, extent=180, style=ARC)"
   ]
  },
  {
   "cell_type": "markdown",
   "metadata": {},
   "source": [
    "This code places the top-left corner of the rectangle that\n",
    "will contain the arc at the coordinates (10, 10), which is 10 pixels\n",
    "across and 10 pixels down, and its bottom-right corner at coordinates (200, 100), or 200 pixels across and 100 pixels down.\n",
    "\n",
    "The\n",
    "next parameter, extent, is used to specify the degrees of the angle\n",
    "of the arc.\n",
    "\n",
    "Recall from Chapter 4 that degrees are a way of measuring the distance to travel around a circle.\n",
    "\n",
    "Here are examples\n",
    "of two arcs, where we travel 45 degrees and 270 degrees around\n",
    "a circle:  (pg 178)"
   ]
  },
  {
   "cell_type": "markdown",
   "metadata": {},
   "source": [
    "The following code draws several different arcs down the page\n",
    "so that you can see what happens when we use different degrees\n",
    "with the create_arc function:"
   ]
  },
  {
   "cell_type": "code",
   "execution_count": 3,
   "metadata": {},
   "outputs": [
    {
     "data": {
      "text/plain": [
       "5"
      ]
     },
     "execution_count": 3,
     "metadata": {},
     "output_type": "execute_result"
    }
   ],
   "source": [
    "from tkinter import *\n",
    "tk = Tk()\n",
    "canvas = Canvas(tk, width=400, height=400)\n",
    "canvas.pack()\n",
    "\n",
    "canvas.create_arc(10, 10, 200, 80, extent=45, style=ARC)\n",
    "canvas.create_arc(10, 80, 200, 160, extent=90, style=ARC)\n",
    "canvas.create_arc(10, 160, 200, 240, extent=135, style=ARC)\n",
    "canvas.create_arc(10, 240, 200, 320, extent=180, style=ARC)\n",
    "canvas.create_arc(10, 320, 200, 400, extent=359, style=ARC)   # NOTE: We use 359 degrees in the final circle, rather than 360, because\n",
    "                                                              # tkinter considers 360 to be the same as 0 degrees, and would draw\n",
    "                                                              # nothing if we used 360."
   ]
  },
  {
   "cell_type": "markdown",
   "metadata": {},
   "source": [
    "***Drawing Polygons***\n",
    "\n",
    "A polygon is any shape with three or more sides.\n",
    "\n",
    "There are regularly shaped polygons like triangles, squares, rectangles, pentagons,\n",
    "hexagons, and so on, as well as irregular ones with uneven edges,\n",
    "many more sides, and odd shapes.\n",
    "\n",
    "When drawing polygons with tkinter, you need to provide coordinates for each point of the polygon.\n",
    "\n",
    "Here’s how we can draw a\n",
    "triangle:"
   ]
  },
  {
   "cell_type": "code",
   "execution_count": 4,
   "metadata": {},
   "outputs": [
    {
     "data": {
      "text/plain": [
       "1"
      ]
     },
     "execution_count": 4,
     "metadata": {},
     "output_type": "execute_result"
    }
   ],
   "source": [
    "from tkinter import *\n",
    "tk = Tk()\n",
    "canvas = Canvas(tk, width=400, height=400)\n",
    "canvas.pack()\n",
    "\n",
    "canvas.create_polygon(10, 10, 100, 10, 100, 110, fill=\"\",\n",
    "outline=\"black\")"
   ]
  },
  {
   "cell_type": "markdown",
   "metadata": {},
   "source": [
    "This example draws a\n",
    "triangle by starting with the\n",
    "x and y coordinates (10, 10),\n",
    "then moving across to (100,\n",
    "10), and finishing at (100,\n",
    "110).\n",
    "\n",
    "Here’s the result: (a right-angled triangle. right angle at (100,10))"
   ]
  },
  {
   "cell_type": "markdown",
   "metadata": {},
   "source": [
    "We can add another irregular polygon (a shape with uneven\n",
    "angles or sides) using this code:"
   ]
  },
  {
   "cell_type": "code",
   "execution_count": 5,
   "metadata": {},
   "outputs": [
    {
     "data": {
      "text/plain": [
       "2"
      ]
     },
     "execution_count": 5,
     "metadata": {},
     "output_type": "execute_result"
    }
   ],
   "source": [
    "canvas.create_polygon(200, 10, 240, 30, 120, 100, 140, 120, fill=\"\",\n",
    "outline=\"black\")"
   ]
  },
  {
   "cell_type": "markdown",
   "metadata": {},
   "source": [
    "This code begins with the coordinates (200, 10), moves to\n",
    "(240, 30), then to (120, 100), and finally to (100, 140). tkinter automatically joins the line back to the first coordinate.\n",
    "\n",
    "And here’s the\n",
    "result of running the code: (see pg 180)"
   ]
  },
  {
   "cell_type": "markdown",
   "metadata": {},
   "source": [
    "***Displaying Text***\n",
    "\n",
    "In addition to drawing shapes, you can also write on the canvas\n",
    "using create_text.\n",
    "\n",
    "This function takes only two coordinates (the\n",
    "x and y positions of the text), along with a named parameter for\n",
    "the text to display.\n",
    "\n",
    "In the following code, we create our canvas as\n",
    "before and then display a sentence positioned at the coordinates\n",
    "(150, 100)."
   ]
  },
  {
   "cell_type": "code",
   "execution_count": 6,
   "metadata": {},
   "outputs": [
    {
     "data": {
      "text/plain": [
       "1"
      ]
     },
     "execution_count": 6,
     "metadata": {},
     "output_type": "execute_result"
    }
   ],
   "source": [
    "from tkinter import *\n",
    "tk = Tk()\n",
    "canvas = Canvas(tk, width=400, height=400)\n",
    "canvas.pack()\n",
    "\n",
    "canvas.create_text(150, 100, text='There once was a man from Toulouse,')"
   ]
  },
  {
   "cell_type": "markdown",
   "metadata": {},
   "source": [
    "The create_text function takes some other useful parameters, such as a text fill color.\n",
    "\n",
    "In the following code, we call the\n",
    "create_text function with coordinates (130, 120), the text we want\n",
    "to display, and a red fill color."
   ]
  },
  {
   "cell_type": "code",
   "execution_count": 7,
   "metadata": {},
   "outputs": [
    {
     "data": {
      "text/plain": [
       "2"
      ]
     },
     "execution_count": 7,
     "metadata": {},
     "output_type": "execute_result"
    }
   ],
   "source": [
    "canvas.create_text(130, 120, text='Who rode around on a moose.',\n",
    "fill='red')"
   ]
  },
  {
   "cell_type": "markdown",
   "metadata": {},
   "source": [
    "You can also specify the font (the typeface used for the displayed text) as a tuple\n",
    "with the font name and the size of the text.\n",
    "\n",
    "For example, the tuple for the Times font\n",
    "of size 20 is ('Times', 20). \n",
    "\n",
    "In the following\n",
    "code, we display text using the Times font\n",
    "set at size 15, the Helvetica font at size 20,\n",
    "and the Courier font at sizes 22 and then 30."
   ]
  },
  {
   "cell_type": "code",
   "execution_count": 8,
   "metadata": {},
   "outputs": [
    {
     "data": {
      "text/plain": [
       "6"
      ]
     },
     "execution_count": 8,
     "metadata": {},
     "output_type": "execute_result"
    }
   ],
   "source": [
    "canvas.create_text(150, 150, text='He said, \"It\\'s my curse,',\n",
    "font=('Times', 15))\n",
    "canvas.create_text(200, 200, text='But it could be worse,',\n",
    "font=('Helvetica', 20))\n",
    "canvas.create_text(220, 250, text='My cousin rides round',\n",
    "font=('Courier', 22))\n",
    "canvas.create_text(220, 300, text='on a goose.\"', font=('Courier', 30))"
   ]
  },
  {
   "cell_type": "markdown",
   "metadata": {},
   "source": [
    "And here’s the result of these functions using the three specified fonts at five different sizes:"
   ]
  },
  {
   "cell_type": "markdown",
   "metadata": {},
   "source": [
    "***Displaying Images***\n",
    "\n",
    "To display an image on a canvas using tkinter, first load the image\n",
    "and then use the create_image function on the canvas object.\n",
    "\n",
    "Any image that you load must be in a directory that’s accessible to Python.\n",
    "\n",
    "For this example, we put our image test.gif in the\n",
    "C:\\ directory, which is the root directory (the base directory) of\n",
    "the C: drive, but you could put it anywhere. "
   ]
  },
  {
   "cell_type": "markdown",
   "metadata": {},
   "source": [
    "***NOTE***: With tkinter, you can load only GIF images, that is, image files with\n",
    "the extension .gif. \n",
    "\n",
    "You can display other types of images, such as\n",
    "PNG (.png) and JPG (.jpg), but you’ll need to use a different module, such as the Python Imaging Library (http://www.pythonware.com/products/pil/)."
   ]
  },
  {
   "cell_type": "markdown",
   "metadata": {},
   "source": [
    "We can display an image like this: (SEE temp.py)"
   ]
  },
  {
   "cell_type": "markdown",
   "metadata": {},
   "source": [
    "***Creating Basic Animation***\n",
    "\n",
    "We’ve covered how to create static drawings—pictures that don’t\n",
    "move.\n",
    "\n",
    "What about creating animation?\n",
    "\n",
    "Animation is not necessarily a specialty of the tkinter module,\n",
    "but it can handle the basics.\n",
    "\n",
    "For example, we can create a filled\n",
    "triangle and then make it move across the screen using this code\n",
    "(don’t forget, select File4New Window, save your work, and then\n",
    "run the code with Run4Run Module):\n"
   ]
  },
  {
   "cell_type": "code",
   "execution_count": 1,
   "metadata": {},
   "outputs": [],
   "source": [
    "import time\n",
    "from tkinter import *\n",
    "tk = Tk()\n",
    "canvas = Canvas(tk, width=400, height=200)\n",
    "canvas.pack()\n",
    "\n",
    "canvas.create_polygon(10, 10, 10, 60, 50, 35)\n",
    "\n",
    "for x in range(0, 60):\n",
    "    canvas.move(1, 5, 0)\n",
    "    tk.update()\n",
    "    time.sleep(0.05)"
   ]
  },
  {
   "cell_type": "markdown",
   "metadata": {},
   "source": [
    "When you run this code, the triangle will start moving across\n",
    "the screen to the end of its path:"
   ]
  },
  {
   "cell_type": "markdown",
   "metadata": {},
   "source": [
    "How does this work?\n",
    "\n",
    "As before, we’ve used the first three lines\n",
    "after importing tkinter to do the basic setup to display a canvas.\n",
    "\n",
    "In\n",
    "the fourth line, we create the triangle with this function:"
   ]
  },
  {
   "cell_type": "code",
   "execution_count": null,
   "metadata": {},
   "outputs": [],
   "source": [
    "canvas.create_polygon(10, 10, 10, 60, 50, 35) # Creates a triangle"
   ]
  },
  {
   "cell_type": "markdown",
   "metadata": {},
   "source": [
    "+ NOTE: When you enter this line, a number will be printed to the screen.   This is an identifier for the polygon.   We can use it to refer to the   shape later, as described in the following example."
   ]
  },
  {
   "cell_type": "markdown",
   "metadata": {},
   "source": [
    "Next, we create a simple for loop\n",
    "to count from 0 to 59, beginning with\n",
    "for x in range(0, 60):.\n",
    "\n",
    "The block of code\n",
    "inside the loop moves the triangle across\n",
    "the screen. \n",
    "\n",
    "The canvas.move function will\n",
    "move any drawn object by adding values\n",
    "to its x and y coordinates. For example,\n",
    "with canvas.move(1, 5, 0), we move the\n",
    "object with ID 1 (the identifier for the\n",
    "triangle) 5 pixels across and 0 pixels down.\n",
    "\n",
    "To move it back again,\n",
    "we could use the function call canvas.move(1, -5, 0).\n",
    "\n",
    "The function tk.update() forces tkinter to update the screen\n",
    "(redraw it).\n",
    "\n",
    "If we didn’t use update, tkinter would wait until the loop\n",
    "finished before moving the triangle, which means you would see \n",
    "it jump to the last position, rather than move smoothly across the\n",
    "canvas.\n",
    "\n",
    "The final line of the loop, time.sleep(0.05), tells Python to                       \n",
    "sleep for one-twentieth of a second (0.05 seconds), before continuing.\n",
    "\n",
    "To make the triangle move diagonally down the screen, we\n",
    "can modify this code by calling move(1, 5, 5). \n",
    "\n",
    "To try this, close the\n",
    "canvas, and create a new file (ANIMATE2) for the following code:"
   ]
  },
  {
   "cell_type": "code",
   "execution_count": 1,
   "metadata": {},
   "outputs": [],
   "source": [
    "import time\n",
    "from tkinter import *\n",
    "tk = Tk()\n",
    "canvas = Canvas(tk, width=400, height=400)\n",
    "canvas.pack()\n",
    "\n",
    "canvas.create_polygon(10, 10, 10, 60, 50, 35)\n",
    "\n",
    "for x in range(0, 60):\n",
    "    canvas.move(1, 5, 5)\n",
    "    tk.update()\n",
    "    time.sleep(0.05)"
   ]
  },
  {
   "cell_type": "markdown",
   "metadata": {},
   "source": [
    "This code differs from the original in two ways:\n",
    "\n",
    "•\t We make the height of the canvas 400, rather than 200,\n",
    "with canvas = Canvas(tk, width=400, height=400).\n",
    "\n",
    "•\t We add 5 to the triangle’s x and y coordinates with\n",
    "canvas.move(1, 5, 5)."
   ]
  },
  {
   "cell_type": "markdown",
   "metadata": {},
   "source": [
    "To move the triangle diagonally back up the screen to its starting position, use -5, -5"
   ]
  },
  {
   "cell_type": "code",
   "execution_count": null,
   "metadata": {},
   "outputs": [],
   "source": [
    "for x in range(0, 60):\n",
    "    canvas.move(1, -5, -5)\n",
    "    tk.update()\n",
    "    time.sleep(0.05)"
   ]
  },
  {
   "cell_type": "markdown",
   "metadata": {},
   "source": [
    "***Making an Object React to Something***\n",
    "\n",
    "We can make the triangle react when someone presses a key by\n",
    "using event bindings.\n",
    "\n",
    "Events are things that occur while a program\n",
    "is running, such as someone moving the mouse, pressing a key, or\n",
    "closing a window.\n",
    "\n",
    "You can tell tkinter to watch for these events and\n",
    "then do something in response.\n",
    "\n",
    "To begin handling events (making Python do something when\n",
    "an event occurs), we first create a function.\n",
    "\n",
    "The binding part comes\n",
    "when we tell tkinter that a particular function is bound (or associated) to a specific event; in other words, it will be automatically\n",
    "called by tkinter to handle that event.\n",
    "\n",
    "For example, to make the triangle move when the enter key is\n",
    "pressed, we can define this function:"
   ]
  },
  {
   "cell_type": "code",
   "execution_count": null,
   "metadata": {},
   "outputs": [],
   "source": [
    "def movetriangle(event):\n",
    "    canvas.move(1, 5, 0)"
   ]
  },
  {
   "cell_type": "markdown",
   "metadata": {},
   "source": [
    "The function takes a single parameter (event), which tkinter\n",
    "uses to send information to the function about the event.\n",
    "\n",
    "We now\n",
    "tell tkinter that this function should be used for a particular event,\n",
    "using the bind_all function on the canvas. \n",
    "\n",
    "The full code now looks\n",
    "like this:"
   ]
  },
  {
   "cell_type": "code",
   "execution_count": 1,
   "metadata": {},
   "outputs": [
    {
     "data": {
      "text/plain": [
       "'2968162081152movetriangle'"
      ]
     },
     "execution_count": 1,
     "metadata": {},
     "output_type": "execute_result"
    }
   ],
   "source": [
    "from tkinter import *\n",
    "tk = Tk()\n",
    "canvas = Canvas(tk, width=400, height=400)\n",
    "canvas.pack()\n",
    "\n",
    "canvas.create_polygon(10, 10, 10, 60, 50, 35)\n",
    "\n",
    "def movetriangle(event):\n",
    "    canvas.move(1, 5, 0)\n",
    "    \n",
    "    \n",
    "    \n",
    "\n",
    "canvas.bind_all('<KeyPress-Return>', movetriangle)   # The triangle should move a bit to the left every time you press enter"
   ]
  },
  {
   "cell_type": "markdown",
   "metadata": {},
   "source": [
    "The first parameter in this function describes the event that we\n",
    "want tkinter to watch for.\n",
    "\n",
    "In this case, it’s called < KeyPress-Return>,\n",
    "which is a press of the ***enter*** or\n",
    "***return*** key.\n",
    "\n",
    "We tell tkinter that\n",
    "the movetriangle function should\n",
    "be called whenever this KeyPress\n",
    "event occurs.\n",
    "\n",
    "Run this code, click\n",
    "the canvas with your mouse, and\n",
    "then try pressing enter on your\n",
    "keyboard.\n",
    "\n",
    "How about changing the direction of the triangle depending on\n",
    "different key presses, such as the arrow keys?\n",
    "\n",
    "That’s no problem.\n",
    "\n",
    "We just need to change the movetriangle function to the following:"
   ]
  },
  {
   "cell_type": "code",
   "execution_count": 2,
   "metadata": {},
   "outputs": [],
   "source": [
    "def movetriangle(event):\n",
    "    if event.keysym == 'Up':\n",
    "        canvas.move(1, 0, -3)\n",
    "    elif event.keysym == 'Down':\n",
    "        canvas.move(1, 0, 3)\n",
    "    elif event.keysym == 'Left':\n",
    "        canvas.move(1, -3, 0)\n",
    "    else:\n",
    "        canvas.move(1, 3, 0)"
   ]
  },
  {
   "cell_type": "markdown",
   "metadata": {},
   "source": [
    "The event object passed to movetriangle contains several variables. One of these variables is called keysym (for key symbol), which\n",
    "is a string that holds the value of the actual key pressed.\n",
    "\n",
    "The line\n",
    "if event.keysym == 'Up': says that if the keysym variable contains the\n",
    "string 'Up', we should call canvas.move with the parameters (1, 0, -3),\n",
    "as we do in the following line.\n",
    "\n",
    "If keysym contains 'Down', as in elif\n",
    "event.keysym == 'Down':, we call it with the parameters (1, 0, 3),\n",
    "and so on.\n",
    "\n",
    "Remember that the first parameter is the identifying number\n",
    "for the shape drawn on the canvas, the second is the value to add\n",
    "to the x (horizontal) coordinate, and the third is the value to add to\n",
    "the y (vertical) coordinate.\n",
    "\n",
    "We then tell tkinter that the movetriangle function should be\n",
    "used to handle events from four different keys (up, down, left,\n",
    "and right).\n",
    "\n",
    "The following shows how the code looks at this point.\n",
    "\n",
    "FILE SAVED AS trimove.py"
   ]
  },
  {
   "cell_type": "code",
   "execution_count": 3,
   "metadata": {},
   "outputs": [
    {
     "data": {
      "text/plain": [
       "'2968162128384movetriangle'"
      ]
     },
     "execution_count": 3,
     "metadata": {},
     "output_type": "execute_result"
    }
   ],
   "source": [
    "from tkinter import *\n",
    "tk = Tk()\n",
    "canvas = Canvas(tk, width=400, height=400)\n",
    "canvas.pack()\n",
    "\n",
    "canvas.create_polygon(10, 10, 10, 60, 50, 35)\n",
    "\n",
    "def movetriangle(event):\n",
    "    \n",
    "    if event.keysym == 'Up':\n",
    "        canvas.move(1, 0, -3)  \n",
    "    elif event.keysym == 'Down':\n",
    "        canvas.move(1, 0, 3)   \n",
    "    elif event.keysym == 'Left':\n",
    "        canvas.move(1, -3, 0)    \n",
    "    else:\n",
    "        canvas.move(1, 3, 0)      \n",
    "        \n",
    "        \n",
    "        \n",
    "        \n",
    "        \n",
    "        \n",
    "        \n",
    "        \n",
    "        \n",
    "canvas.bind_all('<KeyPress-Up>', movetriangle)   \n",
    "canvas.bind_all('<KeyPress-Down>', movetriangle)\n",
    "canvas.bind_all('<KeyPress-Left>', movetriangle)\n",
    "canvas.bind_all('<KeyPress-Right>', movetriangle)"
   ]
  },
  {
   "cell_type": "markdown",
   "metadata": {},
   "source": [
    "_____________________________________________________\n",
    "On the first line of the movetriangle function, we check whether\n",
    "the keysym variable contains 'Up'.\n",
    "\n",
    "If it does, we move the triangle upward using the move function with the parameters 1, 0, -3.\n",
    "\n",
    "The first parameter is the identifier of the triangle, the\n",
    "second is the amount to move to the right (we don’t want to move\n",
    "horizontally, so the value is 0), and the third is the amount to\n",
    "move downward (–3 pixels).\n",
    "____________________________________________________________________________________________________________________________________________\n",
    "\n",
    "We then check whether keysym contains 'Down' and if\n",
    "so, we move the triangle down (3 pixels)\n",
    "____________________________________________________________________________________________________________________________________________\n",
    "\n",
    "The final check is\n",
    "whether the value is 'Left' and if so, we move the triangle\n",
    "left (–3 pixels)\n",
    "____________________________________________________________________________________________________________________________________________\n",
    "\n",
    "If none of the values are matched, the final\n",
    "else moves the triangle right\n",
    "______________________________________________________\n",
    "\n",
    "Now the triangle should move in the direction of the pressed\n",
    "arrow key."
   ]
  },
  {
   "cell_type": "markdown",
   "metadata": {},
   "source": [
    "***More Ways to Use the Identifier***\n",
    "\n",
    "Whenever we use a create_ function from the canvas, such as\n",
    "create_polygon or create_rectangle, an identifier is returned.\n",
    "\n",
    "This\n",
    "identifying number can be used with other canvas functions, as we\n",
    "did earlier with the move function:"
   ]
  },
  {
   "cell_type": "code",
   "execution_count": 6,
   "metadata": {},
   "outputs": [
    {
     "data": {
      "text/plain": [
       "1"
      ]
     },
     "execution_count": 6,
     "metadata": {},
     "output_type": "execute_result"
    }
   ],
   "source": [
    "from tkinter import *\n",
    "tk = Tk()\n",
    "\n",
    "canvas = Canvas(tk, width=400, height=400)\n",
    "canvas.pack()\n",
    "\n",
    "canvas.create_polygon(10, 10, 10, 60, 50, 35)\n"
   ]
  },
  {
   "cell_type": "code",
   "execution_count": 7,
   "metadata": {},
   "outputs": [],
   "source": [
    "canvas.move(1, 5, 0) # This will move the triangle (1) by 5 pixels to the right"
   ]
  },
  {
   "cell_type": "markdown",
   "metadata": {},
   "source": [
    "The problem with this example is that create_polygon won’t\n",
    "always return 1.\n",
    "\n",
    "For example, if you’ve created other shapes, it\n",
    "might return 2, 3, or even 100 for that matter (depending on the\n",
    "number of shapes that have been created before).\n",
    "\n",
    "If we change the code to\n",
    "store the value returned as a variable, and then use the variable\n",
    "(rather than just referring to the number 1), the code will work no\n",
    "matter what number is returned:"
   ]
  },
  {
   "cell_type": "code",
   "execution_count": 8,
   "metadata": {},
   "outputs": [],
   "source": [
    "from tkinter import *\n",
    "tk = Tk()\n",
    "canvas = Canvas(tk, width=400, height=400)\n",
    "canvas.pack()\n",
    "\n",
    "mytriangle = canvas.create_polygon(10, 10, 10, 60, 50, 35)\n",
    "canvas.move(mytriangle, 5, 0)"
   ]
  },
  {
   "cell_type": "markdown",
   "metadata": {},
   "source": [
    "The move function allows us to move objects around the screen\n",
    "using their identifier.\n",
    "\n",
    "But there are other canvas functions that can\n",
    "also change something we’ve drawn.\n",
    "\n",
    "For example, the itemconfig\n",
    "function of the canvas can be used to change some of the parameters of a shape, such as its fill and outline colors.\n",
    "\n",
    "Say we create a red triangle:"
   ]
  },
  {
   "cell_type": "code",
   "execution_count": 9,
   "metadata": {},
   "outputs": [],
   "source": [
    "from tkinter import *\n",
    "tk = Tk()\n",
    "canvas = Canvas(tk, width=400, height=400)\n",
    "canvas.pack()\n",
    "\n",
    "mytriangle = canvas.create_polygon(10, 10, 10, 60, 50, 35,fill='red')"
   ]
  },
  {
   "cell_type": "markdown",
   "metadata": {},
   "source": [
    "We can change the triangle to another color using itemconfig\n",
    "and use the identifier as the first parameter.\n",
    "\n",
    "The following code\n",
    "says, “Change the fill color of the object identified by the number\n",
    "in variable mytriangle to blue.”:"
   ]
  },
  {
   "cell_type": "code",
   "execution_count": 11,
   "metadata": {},
   "outputs": [],
   "source": [
    "canvas.itemconfig(mytriangle, fill='blue')  # This will now change the colour of the triangle without changing anything else"
   ]
  },
  {
   "cell_type": "markdown",
   "metadata": {},
   "source": [
    "We could also give the triangle a different-colored outline,\n",
    "again using the identifier as the first parameter:"
   ]
  },
  {
   "cell_type": "code",
   "execution_count": 12,
   "metadata": {},
   "outputs": [],
   "source": [
    "canvas.itemconfig(mytriangle, outline='red') # This will give the triangle a red outline without changing anything else"
   ]
  },
  {
   "cell_type": "markdown",
   "metadata": {},
   "source": [
    "Later, we’ll learn how to make other\n",
    "changes to a drawing, such as hide it and\n",
    "make it visible again. You’ll find it useful\n",
    "to be able to change a drawing once it’s displayed on the screen when we start writing\n",
    "games in the next chapter."
   ]
  },
  {
   "cell_type": "markdown",
   "metadata": {},
   "source": [
    "***PROGRAMMING PUZZLES*** - pg 190"
   ]
  },
  {
   "cell_type": "markdown",
   "metadata": {},
   "source": [
    "***1: Fill the Screen with Triangles***\n",
    "\n",
    "Create a program using tkinter to fill the screen with triangles.\n",
    "\n",
    "Then change the code to fill the screen with different-colored\n",
    "(filled) triangles instead."
   ]
  },
  {
   "cell_type": "code",
   "execution_count": 1,
   "metadata": {},
   "outputs": [],
   "source": [
    "from tkinter import *\n",
    "import random\n",
    "tk = Tk()\n",
    "canvas = Canvas(tk, width=400, height=400)\n",
    "canvas.pack()\n",
    "\n",
    "def random_rectangle(width, height, num):\n",
    "    for x in range(0,num):\n",
    "        x1 = random.randrange(width)\n",
    "        y1 = random.randrange(height)\n",
    "        x2 = random.randrange(x1 + random.randrange(width))\n",
    "        y2 = random.randrange(y1 + random.randrange(height))\n",
    "        canvas.create_rectangle(x1, y1, x2, y2,)\n",
    "    \n",
    "    \n",
    "\n",
    "\n",
    "\n",
    "random_rectangle(400,400,100)                      # Creates triangle with no colour"
   ]
  },
  {
   "cell_type": "code",
   "execution_count": null,
   "metadata": {},
   "outputs": [],
   "source": [
    "from tkinter import *\n",
    "import random\n",
    "tk = Tk()\n",
    "canvas = Canvas(tk, width=400, height=400)\n",
    "canvas.pack()\n",
    "\n",
    "colors = [\"red\", \"orange\", \"yellow\", \"green\", \"blue\", \"violet\"]\n",
    "\n",
    "\n",
    "\n",
    "\n",
    "def random_rectangle(width, height, num):\n",
    "    for x in range(0,num):\n",
    "        x1 = random.randrange(width)\n",
    "        y1 = random.randrange(height)\n",
    "        x2 = random.randrange(x1 + random.randrange(width))\n",
    "        y2 = random.randrange(y1 + random.randrange(height))\n",
    "        canvas.create_rectangle(x1, y1, x2, y2,fill = random.choice(colors))\n",
    "    \n",
    "    \n",
    "\n",
    "\n",
    "\n",
    "random_rectangle(400,400,100)                    # Creates triangle with random filled colours"
   ]
  },
  {
   "cell_type": "markdown",
   "metadata": {},
   "source": [
    "***2: The Moving Triangle***\n",
    "\n",
    "Modify the code for the moving triangle (“Creating Basic Animation” on page 183) to make it move across the screen to the right,\n",
    "then down, then back to the left, and then back to its starting\n",
    "position."
   ]
  },
  {
   "cell_type": "code",
   "execution_count": 2,
   "metadata": {},
   "outputs": [],
   "source": [
    "import time\n",
    "from tkinter import *\n",
    "tk = Tk()\n",
    "canvas = Canvas(tk, width=400, height=200)\n",
    "canvas.pack()\n",
    "\n",
    "canvas.create_polygon(10, 10, 10, 60, 50, 35)\n",
    "\n",
    "for x in range(0, 60):\n",
    "    canvas.move(1, 5, 0)\n",
    "    tk.update()\n",
    "    time.sleep(0.05)                           # Original code"
   ]
  },
  {
   "cell_type": "code",
   "execution_count": null,
   "metadata": {},
   "outputs": [],
   "source": [
    "import time\n",
    "from tkinter import *\n",
    "tk = Tk()\n",
    "canvas = Canvas(tk, width=400, height=200)\n",
    "canvas.pack()\n",
    "\n",
    "canvas.create_polygon(10, 10, 10, 60, 50, 35)\n",
    "\n",
    "for x in range(0, 60):\n",
    "    canvas.move(1, 5, 0)\n",
    "    tk.update()\n",
    "    time.sleep(0.05)\n",
    "\n",
    "    \n",
    "for x in range(0,30):\n",
    "    canvas.move(1,0,5)\n",
    "    tk.update()\n",
    "    time.sleep(0.05)\n",
    "\n",
    "    \n",
    "for x in range(0,60):\n",
    "    canvas.move(1,-5,0)\n",
    "    tk.update()\n",
    "    time.sleep(0.05)\n",
    "\n",
    "    \n",
    "for x in range(0,30):\n",
    "    canvas.move(1,0,-5)\n",
    "    tk.update()\n",
    "    time.sleep(0.05)"
   ]
  },
  {
   "cell_type": "markdown",
   "metadata": {},
   "source": [
    "***3: The Moving Photo***\n",
    "\n",
    "Try displaying a photo of yourself on the canvas using tkinter.\n",
    "Make sure it’s a GIF image! Can you make it move across the\n",
    "screen?"
   ]
  },
  {
   "cell_type": "code",
   "execution_count": 1,
   "metadata": {},
   "outputs": [],
   "source": [
    "import time\n",
    "from tkinter import *  \n",
    "\n",
    "tk = Tk()\n",
    "canvas = Canvas(tk, width = 1000, height = 500)      \n",
    "canvas.pack()      \n",
    "\n",
    "img = PhotoImage(file='car_pic.gif')        \n",
    "canvas.create_image(20,20, anchor=NW, image=img)      \n",
    "\n",
    "\n",
    "for x in range(0, 120):\n",
    "    canvas.move(1, 5, 0)\n",
    "    tk.update()\n",
    "    time.sleep(0.05)"
   ]
  },
  {
   "cell_type": "markdown",
   "metadata": {},
   "source": [
    "# PART II - BOUNCE"
   ]
  },
  {
   "cell_type": "markdown",
   "metadata": {},
   "source": [
    "# Chapter 13 - Beginning Your First Game: Bounce!\n"
   ]
  },
  {
   "cell_type": "markdown",
   "metadata": {},
   "source": [
    "***Whack the Bouncing Ball***\n",
    "\n",
    "We’re going to develop a game with a bouncing ball and a paddle.\n",
    "\n",
    "The ball will fly around the screen, and the player will bounce it\n",
    "off the paddle.\n",
    "\n",
    "If the ball hits the bottom of the screen, the game\n",
    "comes to an end."
   ]
  },
  {
   "cell_type": "markdown",
   "metadata": {},
   "source": [
    "Our game may look quite simple, but the code will be a bit\n",
    "trickier than what we’ve written so far because there are a lot of\n",
    "things that it needs to handle. \n",
    "\n",
    "For example, it needs to animate\n",
    "the paddle and the ball, and detect when the ball hits the paddle\n",
    "or the walls.\n",
    "\n",
    "In this chapter, we’ll begin creating the game by adding a\n",
    "game canvas and a bouncing ball.\n",
    "\n",
    "In the next chapter, we’ll complete the game by adding the paddle."
   ]
  },
  {
   "cell_type": "markdown",
   "metadata": {},
   "source": [
    "***Creating the Game Canvas***\n",
    "\n",
    "The file name is BOUNCE.py"
   ]
  },
  {
   "cell_type": "code",
   "execution_count": null,
   "metadata": {},
   "outputs": [],
   "source": [
    "from tkinter import *\n",
    "import random\n",
    "import time\n",
    "tk = Tk()\n",
    "\n",
    "tk.title(\"Game\")\n",
    "\n",
    "tk.resizable(0, 0)\n",
    "tk.wm_attributes(\"-topmost\", 1)\n",
    "canvas = Canvas(tk, width=500, height=400, bd=0, highlightthickness=0)\n",
    "canvas.pack()\n",
    "\n",
    "tk.update()"
   ]
  },
  {
   "cell_type": "markdown",
   "metadata": {},
   "source": [
    "This is a little different from previous examples.\n",
    "\n",
    "First, we import\n",
    "the time and random modules with import random and import time, for\n",
    "use a bit later in the code.\n",
    "\n",
    "With tk.title(\"Game\"), we use the title function of the tk\n",
    "object we created with tk = Tk() to give the window a title. Then\n",
    "we use resizable to make the window a fixed size. The parameters\n",
    "0, 0 say “the size of the window cannot be changed either horizontally or vertically.” Next, we call wm_attributes to tell tkinter to place\n",
    "the window containing our canvas in front of all other windows\n",
    "(\"-topmost\").\n",
    "Notice that when we create a canvas object with canvas =, we\n",
    "pass in a few more named parameters than with previous examples. For example, both bd=0 and highlightthickness=0 make sure\n",
    "that there’s no border around the outside of the canvas, which\n",
    "makes it look better on our game screen.\n",
    "The line canvas.pack()\n",
    "tells the canvas to size itself\n",
    "according to the width and\n",
    "height parameters given in\n",
    "the preceding line. Finally,\n",
    "tk.update() tells tkinter to\n",
    "initialize itself for the animation in our game. Without\n",
    "this last line, nothing would\n",
    "work quite as expected.\n",
    "Make sure you save\n",
    "your code as you go. Give it\n",
    "a meaningful filename the\n",
    "first time you save it, such\n",
    "as paddleball.py."
   ]
  }
 ],
 "metadata": {
  "colab": {
   "collapsed_sections": [],
   "include_colab_link": true,
   "name": "Welcome to Colaboratory",
   "provenance": [],
   "toc_visible": true
  },
  "kernelspec": {
   "display_name": "Python 3",
   "language": "python",
   "name": "python3"
  },
  "language_info": {
   "codemirror_mode": {
    "name": "ipython",
    "version": 3
   },
   "file_extension": ".py",
   "mimetype": "text/x-python",
   "name": "python",
   "nbconvert_exporter": "python",
   "pygments_lexer": "ipython3",
   "version": "3.8.8"
  }
 },
 "nbformat": 4,
 "nbformat_minor": 4
}
