{
  "nbformat": 4,
  "nbformat_minor": 0,
  "metadata": {
    "colab": {
      "name": "Welcome to Colaboratory",
      "provenance": [],
      "collapsed_sections": [],
      "toc_visible": true,
      "include_colab_link": true
    },
    "kernelspec": {
      "display_name": "Python 3",
      "name": "python3"
    }
  },
  "cells": [
    {
      "cell_type": "markdown",
      "metadata": {
        "id": "view-in-github",
        "colab_type": "text"
      },
      "source": [
        "<a href=\"https://colab.research.google.com/github/Mehrabwv/python/blob/main/Welcome_to_Colaboratory.ipynb\" target=\"_parent\"><img src=\"https://colab.research.google.com/assets/colab-badge.svg\" alt=\"Open In Colab\"/></a>"
      ]
    },
    {
      "cell_type": "code",
      "metadata": {
        "id": "yP31XhqWIAXk",
        "colab": {
          "base_uri": "https://localhost:8080/"
        },
        "outputId": "97a21dc3-6f3e-490e-f080-b371a7e27b1f"
      },
      "source": [
        "weight1= input('What is your weight now?: ')\n",
        "increase1= input('How much increase do you expect?: ')\n",
        "year1= input('In how many years?: ')\n",
        "\n",
        "weight = int(weight1)\n",
        "increase = int(increase1)\n",
        "yeare = int(year1)\n",
        "year2 = yeare\n",
        "\n",
        "\n",
        "for year2 in range(0,year2):\n",
        "  moonweight=(weight+(increase*year2))*0.165\n",
        "  print(year2,moonweight)"
      ],
      "execution_count": null,
      "outputs": [
        {
          "output_type": "stream",
          "name": "stdout",
          "text": [
            "What is your weight now?: 1\n",
            "How much increase do you expect?: 1\n",
            "In how many years?: 1\n",
            "0 0.165\n"
          ]
        }
      ]
    },
    {
      "cell_type": "markdown",
      "metadata": {
        "id": "b-_vPk9YFSyP"
      },
      "source": [
        "# ***Python For Kids***   \n"
      ]
    },
    {
      "cell_type": "markdown",
      "metadata": {
        "id": "BplOc5A9FkvO"
      },
      "source": [
        "# Chapter 1 - Not all snakes slither\n",
        "# (Basics)"
      ]
    },
    {
      "cell_type": "code",
      "metadata": {
        "id": "e1rOLP78Hl6F",
        "colab": {
          "base_uri": "https://localhost:8080/"
        },
        "outputId": "f0df0b26-0aee-45e2-b475-8ef42c7063d9"
      },
      "source": [
        "print('How are you?')"
      ],
      "execution_count": null,
      "outputs": [
        {
          "output_type": "stream",
          "name": "stdout",
          "text": [
            "How are you?\n"
          ]
        }
      ]
    },
    {
      "cell_type": "code",
      "metadata": {
        "id": "-Lm3KuQrJ2Vs",
        "colab": {
          "base_uri": "https://localhost:8080/"
        },
        "outputId": "89d9523b-d944-4147-acea-82f0ac6d8be4"
      },
      "source": [
        "print(\"hello world\")"
      ],
      "execution_count": null,
      "outputs": [
        {
          "output_type": "stream",
          "name": "stdout",
          "text": [
            "hello world\n"
          ]
        }
      ]
    },
    {
      "cell_type": "code",
      "metadata": {
        "id": "19p9Iu0wJ840",
        "colab": {
          "base_uri": "https://localhost:8080/"
        },
        "outputId": "f79b5385-375f-456d-f7d5-2f3dc89e6134"
      },
      "source": [
        "print('''hello world''')"
      ],
      "execution_count": null,
      "outputs": [
        {
          "output_type": "stream",
          "name": "stdout",
          "text": [
            "hello world\n"
          ]
        }
      ]
    },
    {
      "cell_type": "markdown",
      "metadata": {
        "id": "kHrp0NgNKFdq"
      },
      "source": [
        "#Chapter 2 - Calculations and Variables\n",
        "#Calculations"
      ]
    },
    {
      "cell_type": "code",
      "metadata": {
        "id": "31jkHigHKYiC",
        "colab": {
          "base_uri": "https://localhost:8080/"
        },
        "outputId": "e82a7b75-47c3-4fab-9d44-bf7ae1a14e54"
      },
      "source": [
        "8*3.57   #8 times 3.57 = 28.56"
      ],
      "execution_count": null,
      "outputs": [
        {
          "output_type": "execute_result",
          "data": {
            "text/plain": [
              "28.56"
            ]
          },
          "metadata": {},
          "execution_count": 62
        }
      ]
    },
    {
      "cell_type": "markdown",
      "metadata": {
        "id": "Yz3O2FZuLeW-"
      },
      "source": [
        "Pg 16 - puzzle"
      ]
    },
    {
      "cell_type": "code",
      "metadata": {
        "id": "IDt-F1_BKlTd",
        "colab": {
          "base_uri": "https://localhost:8080/"
        },
        "outputId": "b1578777-0d22-4ef6-af6a-1bcfd1ab7c5f"
      },
      "source": [
        "10*365"
      ],
      "execution_count": null,
      "outputs": [
        {
          "output_type": "execute_result",
          "data": {
            "text/plain": [
              "3650"
            ]
          },
          "metadata": {},
          "execution_count": 63
        }
      ]
    },
    {
      "cell_type": "code",
      "metadata": {
        "id": "sQ_35pdPK05i",
        "colab": {
          "base_uri": "https://localhost:8080/"
        },
        "outputId": "49dea931-aee2-40c2-8eb7-ad23b3edb87d"
      },
      "source": [
        "20+3650"
      ],
      "execution_count": null,
      "outputs": [
        {
          "output_type": "execute_result",
          "data": {
            "text/plain": [
              "3670"
            ]
          },
          "metadata": {},
          "execution_count": 64
        }
      ]
    },
    {
      "cell_type": "code",
      "metadata": {
        "id": "RMP33JlNLoy9",
        "colab": {
          "base_uri": "https://localhost:8080/"
        },
        "outputId": "d995c024-c76c-4070-8cf9-bef90a7a197d"
      },
      "source": [
        "3*52"
      ],
      "execution_count": null,
      "outputs": [
        {
          "output_type": "execute_result",
          "data": {
            "text/plain": [
              "156"
            ]
          },
          "metadata": {},
          "execution_count": 65
        }
      ]
    },
    {
      "cell_type": "code",
      "metadata": {
        "id": "y-5hU36BL3qd",
        "colab": {
          "base_uri": "https://localhost:8080/"
        },
        "outputId": "0acf0fd1-5495-4560-99b4-baac80fa63f4"
      },
      "source": [
        "3670-156"
      ],
      "execution_count": null,
      "outputs": [
        {
          "output_type": "execute_result",
          "data": {
            "text/plain": [
              "3514"
            ]
          },
          "metadata": {},
          "execution_count": 66
        }
      ]
    },
    {
      "cell_type": "markdown",
      "metadata": {
        "id": "YkhUCC52w50N"
      },
      "source": [
        "BODMAS\n",
        "\n",
        "\n",
        "add\n",
        "5 to 30, and then multiply the result\n",
        "by 20"
      ]
    },
    {
      "cell_type": "code",
      "metadata": {
        "id": "eNneJtqfL_7X",
        "colab": {
          "base_uri": "https://localhost:8080/"
        },
        "outputId": "84418202-98a9-4300-dba5-4e148b6698de"
      },
      "source": [
        "(5+30)*20"
      ],
      "execution_count": null,
      "outputs": [
        {
          "output_type": "execute_result",
          "data": {
            "text/plain": [
              "700"
            ]
          },
          "metadata": {},
          "execution_count": 67
        }
      ]
    },
    {
      "cell_type": "markdown",
      "metadata": {
        "id": "jmgJIMJgzV9F"
      },
      "source": [
        " Adding 5 to 30 gives 35.\n",
        "\n",
        " Multiplying 35 by 20 gives 700.\n",
        "\n",
        " Dividing 700 by 10 gives the final answer of 70."
      ]
    },
    {
      "cell_type": "code",
      "metadata": {
        "id": "8eRWdxvwzOEn",
        "colab": {
          "base_uri": "https://localhost:8080/"
        },
        "outputId": "787ad122-da3e-4b7c-c888-44e29a42579d"
      },
      "source": [
        " ((5 + 30) * 20) / 10"
      ],
      "execution_count": null,
      "outputs": [
        {
          "output_type": "execute_result",
          "data": {
            "text/plain": [
              "70.0"
            ]
          },
          "metadata": {},
          "execution_count": 68
        }
      ]
    },
    {
      "cell_type": "markdown",
      "metadata": {
        "id": "SzebuoECzsSH"
      },
      "source": [
        "Variables"
      ]
    },
    {
      "cell_type": "code",
      "metadata": {
        "id": "G6kzzALRzucy",
        "colab": {
          "base_uri": "https://localhost:8080/"
        },
        "outputId": "ea16b95d-ca75-487b-81bf-32176ff5c4d6"
      },
      "source": [
        "fred=100\n",
        "print(fred)"
      ],
      "execution_count": null,
      "outputs": [
        {
          "output_type": "stream",
          "name": "stdout",
          "text": [
            "100\n"
          ]
        }
      ]
    },
    {
      "cell_type": "code",
      "metadata": {
        "id": "n-ddBOayz3Ot",
        "colab": {
          "base_uri": "https://localhost:8080/"
        },
        "outputId": "56b88455-a82d-4d27-d51e-4832ed632f1f"
      },
      "source": [
        "fred=100\n",
        "john=fred+5\n",
        "print(john)"
      ],
      "execution_count": null,
      "outputs": [
        {
          "output_type": "stream",
          "name": "stdout",
          "text": [
            "105\n"
          ]
        }
      ]
    },
    {
      "cell_type": "code",
      "metadata": {
        "id": "F6bkX0lS0Sci",
        "colab": {
          "base_uri": "https://localhost:8080/"
        },
        "outputId": "00d3b28b-576b-461d-9ca2-39497f20b477"
      },
      "source": [
        "# You cant start a variable with a number!\n",
        "number_of_coins = 200\n",
        "print(number_of_coins)"
      ],
      "execution_count": null,
      "outputs": [
        {
          "output_type": "stream",
          "name": "stdout",
          "text": [
            "200\n"
          ]
        }
      ]
    },
    {
      "cell_type": "markdown",
      "metadata": {
        "id": "KMU5DCRS0usv"
      },
      "source": [
        "Pg 21 - more info"
      ]
    },
    {
      "cell_type": "code",
      "metadata": {
        "id": "Rm2GZ1gJ05ee",
        "colab": {
          "base_uri": "https://localhost:8080/"
        },
        "outputId": "88f75ddd-93a1-4edf-d8c4-4dfc8774cbb6"
      },
      "source": [
        " 20 + 10 * 365 - 3 * 52"
      ],
      "execution_count": null,
      "outputs": [
        {
          "output_type": "execute_result",
          "data": {
            "text/plain": [
              "3514"
            ]
          },
          "metadata": {},
          "execution_count": 72
        }
      ]
    },
    {
      "cell_type": "code",
      "metadata": {
        "id": "pEPqkgjh1vqR",
        "colab": {
          "base_uri": "https://localhost:8080/"
        },
        "outputId": "f375d412-443c-466e-9c50-cf29c90d9e45"
      },
      "source": [
        "found_coins = 20\n",
        "magic_coins = 10\n",
        "stolen_coins = 3\n",
        "\n",
        "found_coins + magic_coins * 365 - stolen_coins * 52"
      ],
      "execution_count": null,
      "outputs": [
        {
          "output_type": "execute_result",
          "data": {
            "text/plain": [
              "3514"
            ]
          },
          "metadata": {},
          "execution_count": 73
        }
      ]
    },
    {
      "cell_type": "code",
      "metadata": {
        "id": "eVfRfL6z2R9u",
        "colab": {
          "base_uri": "https://localhost:8080/"
        },
        "outputId": "15aca63e-f1fb-46ee-aadc-5505e58a01d9"
      },
      "source": [
        "found_coins = 20\n",
        "magic_coins = 10\n",
        "\n",
        "stolen_coins = 2   # Very easy to change the variable if neeeded\n",
        "\n",
        "found_coins + magic_coins * 365 - stolen_coins * 52"
      ],
      "execution_count": null,
      "outputs": [
        {
          "output_type": "execute_result",
          "data": {
            "text/plain": [
              "3566"
            ]
          },
          "metadata": {},
          "execution_count": 74
        }
      ]
    },
    {
      "cell_type": "markdown",
      "metadata": {
        "id": "_y7K5N333cv_"
      },
      "source": [
        "# Chapter 3 - Strings, Lists, Tuples, and Maps"
      ]
    },
    {
      "cell_type": "markdown",
      "metadata": {
        "id": "IQ1kJqgM3_Z8"
      },
      "source": [
        "A string is a text"
      ]
    },
    {
      "cell_type": "code",
      "metadata": {
        "id": "h0cgOagD3pli",
        "colab": {
          "base_uri": "https://localhost:8080/"
        },
        "outputId": "c4e6482d-41ba-48f2-efb0-be9f851fdd2e"
      },
      "source": [
        "fred = \"What is 1 + 1?\"\n",
        "print(fred)"
      ],
      "execution_count": null,
      "outputs": [
        {
          "output_type": "stream",
          "name": "stdout",
          "text": [
            "What is 1 + 1?\n"
          ]
        }
      ]
    },
    {
      "cell_type": "code",
      "metadata": {
        "id": "sG1IhMza4osw",
        "colab": {
          "base_uri": "https://localhost:8080/"
        },
        "outputId": "cfb89f9a-e0af-4918-e601-4e4ca14a2e1a"
      },
      "source": [
        "#To create multiple line string, use '''\n",
        "fred = '''How do dinosaurs pay their bills?\n",
        "With tyrannosaurus checks!'''\n",
        "print(fred)"
      ],
      "execution_count": null,
      "outputs": [
        {
          "output_type": "stream",
          "name": "stdout",
          "text": [
            "How do dinosaurs pay their bills?\n",
            "With tyrannosaurus checks!\n"
          ]
        }
      ]
    },
    {
      "cell_type": "code",
      "metadata": {
        "id": "S9Ui0fjVWhpE",
        "colab": {
          "base_uri": "https://localhost:8080/"
        },
        "outputId": "b80f9051-1b8f-4788-cb70-6c53c0d50685"
      },
      "source": [
        "silly_string = '''He said, \"Aren't can't shouldn't wouldn't.\"'''\n",
        "print(silly_string)"
      ],
      "execution_count": null,
      "outputs": [
        {
          "output_type": "stream",
          "name": "stdout",
          "text": [
            "He said, \"Aren't can't shouldn't wouldn't.\"\n"
          ]
        }
      ]
    },
    {
      "cell_type": "code",
      "metadata": {
        "id": "nIxFlGkIR-u-",
        "colab": {
          "base_uri": "https://localhost:8080/"
        },
        "outputId": "fd2c8f40-85f8-4a12-8157-67847782c6b8"
      },
      "source": [
        "single_quote_str = 'He said, \"Aren\\'t can\\'t shouldn\\'t wouldn\\'t.\"'\n",
        "print(single_quote_str)"
      ],
      "execution_count": null,
      "outputs": [
        {
          "output_type": "stream",
          "name": "stdout",
          "text": [
            "He said, \"Aren't can't shouldn't wouldn't.\"\n"
          ]
        }
      ]
    },
    {
      "cell_type": "code",
      "metadata": {
        "id": "dkB8k431Ssub",
        "colab": {
          "base_uri": "https://localhost:8080/"
        },
        "outputId": "89ffd9b1-6fe2-47ac-e828-5a8619a18117"
      },
      "source": [
        "myname = 'mehrab'\n",
        "string = 'hello my name is %s '    #Dont forget to put %s or error will occur\n",
        "print(string % myname)"
      ],
      "execution_count": null,
      "outputs": [
        {
          "output_type": "stream",
          "name": "stdout",
          "text": [
            "hello my name is mehrab \n"
          ]
        }
      ]
    },
    {
      "cell_type": "code",
      "metadata": {
        "id": "pvNsAECsV4bC",
        "colab": {
          "base_uri": "https://localhost:8080/"
        },
        "outputId": "56b460d3-4b93-41bf-e1f4-e384822a3bcd"
      },
      "source": [
        "nock = 'what is %s + %s?'\n",
        "print(nock %(1,5))"
      ],
      "execution_count": null,
      "outputs": [
        {
          "output_type": "stream",
          "name": "stdout",
          "text": [
            "what is 1 + 5?\n"
          ]
        }
      ]
    },
    {
      "cell_type": "markdown",
      "metadata": {
        "id": "7LCmvY6EW1tZ"
      },
      "source": [
        "Multiplying strings  - pg 31"
      ]
    },
    {
      "cell_type": "code",
      "metadata": {
        "id": "wuKeTIfgWLtL",
        "colab": {
          "base_uri": "https://localhost:8080/"
        },
        "outputId": "974a0909-adc6-49b0-9318-5d2a464c0de2"
      },
      "source": [
        "print(10*'hello ')"
      ],
      "execution_count": null,
      "outputs": [
        {
          "output_type": "stream",
          "name": "stdout",
          "text": [
            "hello hello hello hello hello hello hello hello hello hello \n"
          ]
        }
      ]
    },
    {
      "cell_type": "markdown",
      "metadata": {
        "id": "zcWJO7_VXTZQ"
      },
      "source": [
        "Strings"
      ]
    },
    {
      "cell_type": "code",
      "metadata": {
        "id": "6J4Chz4qXCwl",
        "colab": {
          "base_uri": "https://localhost:8080/"
        },
        "outputId": "424b0933-5cfb-450f-d2ad-9c61fb810c0d"
      },
      "source": [
        "mylist = 'water, food, air, games, house, bed, tv, soap'     # This is a variable\n",
        "print(mylist)"
      ],
      "execution_count": null,
      "outputs": [
        {
          "output_type": "stream",
          "name": "stdout",
          "text": [
            "water, food, air, games, house, bed, tv, soap\n"
          ]
        }
      ]
    },
    {
      "cell_type": "code",
      "metadata": {
        "id": "lFx5ELhWX0yJ",
        "colab": {
          "base_uri": "https://localhost:8080/"
        },
        "outputId": "41a195b4-b148-41d6-bcb5-d9cb9c2eef4f"
      },
      "source": [
        "mylist = ['water', 'food', 'air', 'games', 'house', 'bed', 'tv', 'soap']\n",
        "print(mylist)"
      ],
      "execution_count": null,
      "outputs": [
        {
          "output_type": "stream",
          "name": "stdout",
          "text": [
            "['water', 'food', 'air', 'games', 'house', 'bed', 'tv', 'soap']\n"
          ]
        }
      ]
    },
    {
      "cell_type": "code",
      "metadata": {
        "id": "vtx0jRalYFSq",
        "colab": {
          "base_uri": "https://localhost:8080/"
        },
        "outputId": "8b2aa161-79bd-4ddd-d00a-f39aa1c4642d"
      },
      "source": [
        "mylist = ['water', 'food', 'air', 'games', 'house', 'bed', 'tv', 'soap']\n",
        "print(mylist[2])    # Although it says no.2 , the no. 3 item is shown at the list starts with 0"
      ],
      "execution_count": null,
      "outputs": [
        {
          "output_type": "stream",
          "name": "stdout",
          "text": [
            "air\n"
          ]
        }
      ]
    },
    {
      "cell_type": "code",
      "metadata": {
        "id": "4eaCUHxpYYCg",
        "colab": {
          "base_uri": "https://localhost:8080/"
        },
        "outputId": "b95a68ce-e883-4064-e7ba-cca9f7aa2852"
      },
      "source": [
        "mylist = ['water', 'food', 'air', 'games', 'house', 'bed', 'tv', 'soap']\n",
        "print(mylist[0]) "
      ],
      "execution_count": null,
      "outputs": [
        {
          "output_type": "stream",
          "name": "stdout",
          "text": [
            "water\n"
          ]
        }
      ]
    },
    {
      "cell_type": "code",
      "metadata": {
        "id": "ahoRbvxjYrkO",
        "colab": {
          "base_uri": "https://localhost:8080/"
        },
        "outputId": "2d864679-c418-44eb-84ad-b5cfd30808c3"
      },
      "source": [
        "mylist = ['water', 'food', 'air', 'games', 'house', 'bed', 'tv', 'soap']\n",
        "\n",
        "mylist[2] = 'oxygen'     # It is very easy to change the item (from air to oxygen)     -> Replacing\n",
        "print(mylist)"
      ],
      "execution_count": null,
      "outputs": [
        {
          "output_type": "stream",
          "name": "stdout",
          "text": [
            "['water', 'food', 'oxygen', 'games', 'house', 'bed', 'tv', 'soap']\n"
          ]
        }
      ]
    },
    {
      "cell_type": "code",
      "metadata": {
        "id": "KQiYVBphZusl",
        "colab": {
          "base_uri": "https://localhost:8080/"
        },
        "outputId": "def3253a-c26b-4593-d8a6-d5284e30f6d7"
      },
      "source": [
        "mylist = ['water', 'food', 'air', 'games', 'house', 'bed', 'tv', 'soap']\n",
        "print(mylist[1:4])   "
      ],
      "execution_count": null,
      "outputs": [
        {
          "output_type": "stream",
          "name": "stdout",
          "text": [
            "['food', 'air', 'games']\n"
          ]
        }
      ]
    },
    {
      "cell_type": "code",
      "metadata": {
        "id": "kpdBTDMranyE",
        "colab": {
          "base_uri": "https://localhost:8080/"
        },
        "outputId": "d5a86371-dce0-4a3d-89c1-878c25b5c5e9"
      },
      "source": [
        "nums = ['1','3','5','7','9']\n",
        "words =['one','three','five','seven','nine']\n",
        "print(nums + words)"
      ],
      "execution_count": null,
      "outputs": [
        {
          "output_type": "stream",
          "name": "stdout",
          "text": [
            "['1', '3', '5', '7', '9', 'one', 'three', 'five', 'seven', 'nine']\n"
          ]
        }
      ]
    },
    {
      "cell_type": "code",
      "metadata": {
        "id": "lRY0uvTmbP5Q",
        "colab": {
          "base_uri": "https://localhost:8080/"
        },
        "outputId": "5de526aa-6bbe-468a-f0ed-e19d12b2f314"
      },
      "source": [
        "nums = ['1','3','5','7','9']\n",
        "words =['one','three','five','seven','nine']\n",
        "print(nums[1] + words[1])"
      ],
      "execution_count": null,
      "outputs": [
        {
          "output_type": "stream",
          "name": "stdout",
          "text": [
            "3three\n"
          ]
        }
      ]
    },
    {
      "cell_type": "code",
      "metadata": {
        "id": "0ECbtAKOYvgr",
        "colab": {
          "base_uri": "https://localhost:8080/"
        },
        "outputId": "638e57be-0d0a-4df0-b41e-9bcde1971e73"
      },
      "source": [
        "mylist = ['water', 'food', 'air', 'games', 'house', 'bed', 'tv', 'soap']\n",
        "\n",
        "mylist.append('cook')      # It is very easy to add items to the list\n",
        "print(mylist)"
      ],
      "execution_count": null,
      "outputs": [
        {
          "output_type": "stream",
          "name": "stdout",
          "text": [
            "['water', 'food', 'air', 'games', 'house', 'bed', 'tv', 'soap', 'cook']\n"
          ]
        }
      ]
    },
    {
      "cell_type": "code",
      "metadata": {
        "id": "SIORmlvxZjub",
        "colab": {
          "base_uri": "https://localhost:8080/"
        },
        "outputId": "31d28f04-ec2d-4fa0-e5fc-a241e5dd3319"
      },
      "source": [
        "mylist = ['water', 'food', 'air', 'games', 'house', 'bed', 'tv', 'soap']\n",
        "\n",
        "del mylist[7]     # It is also very easy to delete a item from the list\n",
        "print(mylist)"
      ],
      "execution_count": null,
      "outputs": [
        {
          "output_type": "stream",
          "name": "stdout",
          "text": [
            "['water', 'food', 'air', 'games', 'house', 'bed', 'tv']\n"
          ]
        }
      ]
    },
    {
      "cell_type": "code",
      "metadata": {
        "id": "pskP6lbTaiAI",
        "colab": {
          "base_uri": "https://localhost:8080/"
        },
        "outputId": "2cb004b5-ba11-43a1-becf-b281d5b3d5ee"
      },
      "source": [
        "mylist = ['water', 'food', 'air', 'games', 'house', 'bed', 'tv', 'soap']\n",
        "nums = [1,2,3,4]\n",
        "add = nums + mylist\n",
        "\n",
        "print(add)"
      ],
      "execution_count": null,
      "outputs": [
        {
          "output_type": "stream",
          "name": "stdout",
          "text": [
            "[1, 2, 3, 4, 'water', 'food', 'air', 'games', 'house', 'bed', 'tv', 'soap']\n"
          ]
        }
      ]
    },
    {
      "cell_type": "code",
      "metadata": {
        "id": "WiUMTd3RbGND",
        "colab": {
          "base_uri": "https://localhost:8080/"
        },
        "outputId": "13581fe3-4fbd-4dcc-e44c-3e002bed2558"
      },
      "source": [
        "words = ['a','b']\n",
        "\n",
        "print(words * 5)"
      ],
      "execution_count": null,
      "outputs": [
        {
          "output_type": "stream",
          "name": "stdout",
          "text": [
            "['a', 'b', 'a', 'b', 'a', 'b', 'a', 'b', 'a', 'b']\n"
          ]
        }
      ]
    },
    {
      "cell_type": "markdown",
      "metadata": {
        "id": "z6OfvYdQ0KnF"
      },
      "source": [
        "note that you cannot divide or subtract a list \n",
        "\n",
        "and you can only add a list to a list but not another variable, number or word"
      ]
    },
    {
      "cell_type": "markdown",
      "metadata": {
        "id": "6OwMqNlk1ksT"
      },
      "source": [
        "**Tuples are like lists, however items cannot be added or removed with a code**"
      ]
    },
    {
      "cell_type": "code",
      "metadata": {
        "id": "lVT3hjsl1VsK",
        "colab": {
          "base_uri": "https://localhost:8080/"
        },
        "outputId": "28bc1d67-900d-4630-990a-26acd1ae5050"
      },
      "source": [
        "what = (0,1,2,3,4)    # It is used because it is sometimes more useful to not be \n",
        "print(what[3])        # able to change items inside a tuples easily"
      ],
      "execution_count": null,
      "outputs": [
        {
          "output_type": "stream",
          "name": "stdout",
          "text": [
            "3\n"
          ]
        }
      ]
    },
    {
      "cell_type": "markdown",
      "metadata": {
        "id": "zySgzDUz45AK"
      },
      "source": [
        "Python map"
      ]
    },
    {
      "cell_type": "code",
      "metadata": {
        "id": "3mbp1mNOD4Pz",
        "colab": {
          "base_uri": "https://localhost:8080/"
        },
        "outputId": "26d24a13-6f02-43c8-c4f0-a56f6853e0ee"
      },
      "source": [
        "favorite_sports = ['Ralph Williams, Football',    # This is a list\n",
        " 'Michael Tippett, Basketball',\n",
        " 'Edward Elgar, Baseball',\n",
        " 'Rebecca Clarke, Netball',\n",
        " 'Ethel Smyth, Badminton',\n",
        " 'Frank Bridge, Rugby']\n",
        "\n",
        "print(favorite_sports)"
      ],
      "execution_count": null,
      "outputs": [
        {
          "output_type": "stream",
          "name": "stdout",
          "text": [
            "['Ralph Williams, Football', 'Michael Tippett, Basketball', 'Edward Elgar, Baseball', 'Rebecca Clarke, Netball', 'Ethel Smyth, Badminton', 'Frank Bridge, Rugby']\n"
          ]
        }
      ]
    },
    {
      "cell_type": "code",
      "metadata": {
        "id": "YDbpHRJpD82q",
        "colab": {
          "base_uri": "https://localhost:8080/"
        },
        "outputId": "320d2186-1184-4a41-969d-dd9779ea7732"
      },
      "source": [
        " favorite_sports = {'Ralph Williams' : 'Football',   # This is a map\n",
        " 'Michael Tippett' : 'Basketball',\n",
        " 'Edward Elgar' : 'Baseball',\n",
        " 'Rebecca Clarke' : 'Netball',\n",
        " 'Ethel Smyth' : 'Badminton',    # Uses {}\n",
        " 'Frank Bridge' : 'Rugby'}\n",
        "\n",
        " print(favorite_sports)"
      ],
      "execution_count": null,
      "outputs": [
        {
          "output_type": "stream",
          "name": "stdout",
          "text": [
            "{'Ralph Williams': 'Football', 'Michael Tippett': 'Basketball', 'Edward Elgar': 'Baseball', 'Rebecca Clarke': 'Netball', 'Ethel Smyth': 'Badminton', 'Frank Bridge': 'Rugby'}\n"
          ]
        }
      ]
    },
    {
      "cell_type": "code",
      "metadata": {
        "id": "Z0EyJ1zaErxk",
        "colab": {
          "base_uri": "https://localhost:8080/"
        },
        "outputId": "2fe51cd0-a763-454f-cd18-df0081754765"
      },
      "source": [
        " favorite_sports = {'Ralph Williams' : 'Football',  \n",
        " 'Michael Tippett' : 'Basketball',\n",
        " 'Edward Elgar' : 'Baseball',\n",
        " 'Rebecca Clarke' : 'Netball',\n",
        " 'Ethel Smyth' : 'Badminton',    # You can easily find the sport\n",
        " 'Frank Bridge' : 'Rugby'}\n",
        "\n",
        " print(favorite_sports['Rebecca Clarke'])"
      ],
      "execution_count": null,
      "outputs": [
        {
          "output_type": "stream",
          "name": "stdout",
          "text": [
            "Netball\n"
          ]
        }
      ]
    },
    {
      "cell_type": "code",
      "metadata": {
        "id": "c9H7gC4FFdsa",
        "colab": {
          "base_uri": "https://localhost:8080/"
        },
        "outputId": "d2e3d5d8-31a8-4201-85fc-ab14ccd9e8be"
      },
      "source": [
        "favorite_sports = {'Ralph Williams' : 'Football',  \n",
        " 'Michael Tippett' : 'Basketball',\n",
        " 'Edward Elgar' : 'Baseball',\n",
        " 'Rebecca Clarke' : 'Netball',\n",
        " 'Ethel Smyth' : 'Badminton',    \n",
        " 'Frank Bridge' : 'Rugby'}\n",
        "\n",
        "del favorite_sports['Frank Bridge']    # Easy to delete a name/item\n",
        "\n",
        "print(favorite_sports)"
      ],
      "execution_count": null,
      "outputs": [
        {
          "output_type": "stream",
          "name": "stdout",
          "text": [
            "{'Ralph Williams': 'Football', 'Michael Tippett': 'Basketball', 'Edward Elgar': 'Baseball', 'Rebecca Clarke': 'Netball', 'Ethel Smyth': 'Badminton'}\n"
          ]
        }
      ]
    },
    {
      "cell_type": "code",
      "metadata": {
        "id": "kmiQQV-4HKaJ",
        "colab": {
          "base_uri": "https://localhost:8080/"
        },
        "outputId": "7155ba97-f72d-4868-b068-68d8682d0404"
      },
      "source": [
        "favorite_sports = {'Ralph Williams' : 'Football',  \n",
        " 'Michael Tippett' : 'Basketball',\n",
        " 'Edward Elgar' : 'Baseball',\n",
        " 'Rebecca Clarke' : 'Netball',\n",
        " 'Ethel Smyth' : 'Badminton',    \n",
        " 'Frank Bridge' : 'Rugby'}\n",
        "\n",
        "favorite_sports['Ethel Smyth']= 'Hockey'\n",
        "\n",
        "print(favorite_sports)"
      ],
      "execution_count": null,
      "outputs": [
        {
          "output_type": "stream",
          "name": "stdout",
          "text": [
            "{'Ralph Williams': 'Football', 'Michael Tippett': 'Basketball', 'Edward Elgar': 'Baseball', 'Rebecca Clarke': 'Netball', 'Ethel Smyth': 'Hockey', 'Frank Bridge': 'Rugby'}\n"
          ]
        }
      ]
    },
    {
      "cell_type": "code",
      "metadata": {
        "id": "sRI3Uu0nZau6"
      },
      "source": [
        "favorite_sports = {'Ralph Williams' : 'Football',  \n",
        " 'Michael Tippett' : 'Basketball',\n",
        " 'Edward Elgar' : 'Baseball',\n",
        " 'Rebecca Clarke' : 'Netball',\n",
        " 'Ethel Smyth' : 'Badminton',    \n",
        " 'Frank Bridge' : 'Rugby'}           # Adding two maps does not work\n",
        "\n",
        "favorite_colors = {'Malcolm Warner' : 'Pink polka dots',\n",
        " 'James Baxter' : 'Orange stripes',\n",
        " 'Sue Lee' : 'Purple paisley'}\n",
        "\n",
        "# print(favorite_sports + favorite_colors)"
      ],
      "execution_count": null,
      "outputs": []
    },
    {
      "cell_type": "markdown",
      "metadata": {
        "id": "O2kb2K30Z3oe"
      },
      "source": [
        "Programming puzzles (pg 41)"
      ]
    },
    {
      "cell_type": "markdown",
      "metadata": {
        "id": "WU-DDa8WaBE1"
      },
      "source": [
        "\n",
        "\n",
        "***1: Favorites***\n",
        "\n",
        "Make a list of your favorite hobbies and give the list the variable\n",
        "name games. Now make a list of your favorite foods and name the\n",
        "variable foods. Join the two lists and name the result favorites.\n",
        "Finally, print the variable favorites.\n",
        "\n"
      ]
    },
    {
      "cell_type": "code",
      "metadata": {
        "id": "XNM92y5cZ9q-",
        "colab": {
          "base_uri": "https://localhost:8080/"
        },
        "outputId": "6780b239-1d9f-43ff-9e35-af73c2fbd1f7"
      },
      "source": [
        "games = ['videogames','badminton','cycling']\n",
        "foods = ['pizza','burger','friedchicken']\n",
        "favorites = games + foods\n",
        "print(favorites)"
      ],
      "execution_count": null,
      "outputs": [
        {
          "output_type": "stream",
          "name": "stdout",
          "text": [
            "['videogames', 'badminton', 'cycling', 'pizza', 'burger', 'friedchicken']\n"
          ]
        }
      ]
    },
    {
      "cell_type": "markdown",
      "metadata": {
        "id": "yHiUEdXaat5W"
      },
      "source": [
        "***2: Counting Combatants***\n",
        "\n",
        "If there are 3 buildings with 25 ninjas hiding on each roof and\n",
        "2 tunnels with 40 samurai hiding inside each tunnel, how many\n",
        "ninjas and samurai are about to do battle? (You can do this with\n",
        "one equation in the Python shell.)"
      ]
    },
    {
      "cell_type": "code",
      "metadata": {
        "id": "RdTCBDT2a9nh",
        "colab": {
          "base_uri": "https://localhost:8080/"
        },
        "outputId": "042df5bf-8514-4c5b-862b-1bc955a80534"
      },
      "source": [
        "print((3*25)+(2*40))"
      ],
      "execution_count": null,
      "outputs": [
        {
          "output_type": "stream",
          "name": "stdout",
          "text": [
            "155\n"
          ]
        }
      ]
    },
    {
      "cell_type": "markdown",
      "metadata": {
        "id": "HPX4Hcn3jPND"
      },
      "source": [
        "***3: Greetings!***\n",
        "\n",
        "Create two variables: one that points to your first name and\n",
        "one that points to your last name. Now create a string and use\n",
        "placeholders to print your name with a message using those two\n",
        "variables, such as “Hi there, Brando Ickett!”"
      ]
    },
    {
      "cell_type": "code",
      "metadata": {
        "id": "b1CaM1m1jbw_",
        "colab": {
          "base_uri": "https://localhost:8080/"
        },
        "outputId": "81df35f2-9d28-4cfb-a803-8fd3be5b8553"
      },
      "source": [
        "name1 ='Mehrab'\n",
        "name2 ='Rahman'\n",
        "string ='Hi there, %s %s'\n",
        "print(string %(name1,name2) )"
      ],
      "execution_count": null,
      "outputs": [
        {
          "output_type": "stream",
          "name": "stdout",
          "text": [
            "Hi there, Mehrab Rahman\n"
          ]
        }
      ]
    },
    {
      "cell_type": "markdown",
      "metadata": {
        "id": "ZkuCyHfCk5t2"
      },
      "source": [
        "#Chapter 4 - Drawing  with turtles"
      ]
    },
    {
      "cell_type": "markdown",
      "metadata": {
        "id": "Uh5rQNj-lKvt"
      },
      "source": [
        " ***Skipped***    - hard to use turtle in colab"
      ]
    },
    {
      "cell_type": "markdown",
      "metadata": {
        "id": "z62rE6Kvn_rg"
      },
      "source": [
        "# Chapter 5 - Asking Questions with if and else"
      ]
    },
    {
      "cell_type": "markdown",
      "metadata": {
        "id": "68oiwhF1CfVN"
      },
      "source": [
        "If Statments"
      ]
    },
    {
      "cell_type": "code",
      "metadata": {
        "id": "ma1I6alaoUz7",
        "colab": {
          "base_uri": "https://localhost:8080/"
        },
        "outputId": "d6007c10-212a-4c56-fb0e-0d72cb9308ea"
      },
      "source": [
        "age = 14       # This is an 'if' statement\n",
        "if age > 10:      # Don't forgetg to add the semicolon :\n",
        "  print('you are very old indeed')     # Always leave four spaces/tab before print or else\n",
        "                                       # syntax error will occur as the code does not alline"
      ],
      "execution_count": null,
      "outputs": [
        {
          "output_type": "stream",
          "name": "stdout",
          "text": [
            "you are very old indeed\n"
          ]
        }
      ]
    },
    {
      "cell_type": "code",
      "metadata": {
        "id": "bd9kUpIUClpo",
        "colab": {
          "base_uri": "https://localhost:8080/"
        },
        "outputId": "db2a10eb-1913-4445-d15c-d7b9812b0ca8"
      },
      "source": [
        " age = 9\n",
        "\n",
        " if age < 10:\n",
        "   print('You are too young!')\n",
        "   print('You shall not pass!')\n",
        "   print('Why are you still here?')"
      ],
      "execution_count": null,
      "outputs": [
        {
          "output_type": "stream",
          "name": "stdout",
          "text": [
            "You are too young!\n",
            "You shall not pass!\n",
            "Why are you still here?\n"
          ]
        }
      ]
    },
    {
      "cell_type": "code",
      "metadata": {
        "id": "nhgLGqToFY9e",
        "colab": {
          "base_uri": "https://localhost:8080/"
        },
        "outputId": "1b6a1fe3-0bfe-43a7-c8cc-0aba77631374"
      },
      "source": [
        "age = 10\n",
        "if age == 10:\n",
        "  print('perfect!')"
      ],
      "execution_count": null,
      "outputs": [
        {
          "output_type": "stream",
          "name": "stdout",
          "text": [
            "perfect!\n"
          ]
        }
      ]
    },
    {
      "cell_type": "code",
      "metadata": {
        "id": "v2gVG0zTFrkN",
        "colab": {
          "base_uri": "https://localhost:8080/"
        },
        "outputId": "4c52f906-d9ed-4f0a-e6e1-7e19665b127d"
      },
      "source": [
        "age = 14\n",
        "if age >= 14:\n",
        "  print('What is 123+123')"
      ],
      "execution_count": null,
      "outputs": [
        {
          "output_type": "stream",
          "name": "stdout",
          "text": [
            "What is 123+123\n"
          ]
        }
      ]
    },
    {
      "cell_type": "markdown",
      "metadata": {
        "id": "9U264f87GUh-"
      },
      "source": [
        "***If-then-Else Statement***"
      ]
    },
    {
      "cell_type": "code",
      "metadata": {
        "id": "DLCEPuQQGD29",
        "colab": {
          "base_uri": "https://localhost:8080/"
        },
        "outputId": "f26b12cc-9d98-47e4-d965-c1c6eec0a251"
      },
      "source": [
        "age = 10\n",
        "if age <= 10:\n",
        "  print('You are too young')\n",
        "else:                                     # Dont forget : after 'else'\n",
        "  print('You can keep on readinng this')"
      ],
      "execution_count": null,
      "outputs": [
        {
          "output_type": "stream",
          "name": "stdout",
          "text": [
            "You are too young\n"
          ]
        }
      ]
    },
    {
      "cell_type": "code",
      "metadata": {
        "id": "UQLsm_x0GEBn",
        "colab": {
          "base_uri": "https://localhost:8080/"
        },
        "outputId": "21867de0-d5e7-416e-8b45-e1b6f28cb968"
      },
      "source": [
        "age = 14\n",
        "if age <= 10:\n",
        "  print('You are too young')\n",
        "else:                                     \n",
        "  print('You can keep on readinng this')"
      ],
      "execution_count": null,
      "outputs": [
        {
          "output_type": "stream",
          "name": "stdout",
          "text": [
            "You can keep on readinng this\n"
          ]
        }
      ]
    },
    {
      "cell_type": "markdown",
      "metadata": {
        "id": "OGZL0_C7JF5W"
      },
      "source": [
        "***if and elif Statements***"
      ]
    },
    {
      "cell_type": "markdown",
      "metadata": {
        "id": "Gv-4cLKxJP7r"
      },
      "source": [
        "elif means else if.      \n",
        "This is used as elif can be repeated unlike if"
      ]
    },
    {
      "cell_type": "code",
      "metadata": {
        "id": "wJcykkkwI5aX",
        "colab": {
          "base_uri": "https://localhost:8080/"
        },
        "outputId": "dc79752b-54c0-41fb-f150-9cc1827165bb"
      },
      "source": [
        "joke = 0                   # Joke list\n",
        "\n",
        "if joke == 1:\n",
        "  print('What’s the best thing about Switzerland?')\n",
        "  print('I don’t know, but the flag is a big plus.')\n",
        "elif joke == 2:\n",
        "  print('Why do we tell actors to “break a leg?”')\n",
        "  print('Because every play has a cast.')\n",
        "elif joke == 3:\n",
        "  print('Heard about the new restaurant called Karma?')\n",
        "  print('There’s no menu: You get what you deserve.')\n",
        "elif joke == 4:\n",
        "  print('Did you hear about the actor who fell through the floorboards?')\n",
        "  print('He was just going through a stage.')\n",
        "elif joke == 5:\n",
        "  print('Did you hear about the claustrophobic astronaut?')\n",
        "  print('He just needed a little space.')\n",
        "elif joke == 6:\n",
        "  print('''Why don’t scientists trust atoms? \n",
        "Because they make up everything.''')\n",
        "elif joke == 7:\n",
        "  print('''Why should the number 288 never be mentioned?\n",
        "It’s two gross. - 1 gross is 144''')\n",
        "else: \n",
        "  print('Joke list from 1 to 7')"
      ],
      "execution_count": null,
      "outputs": [
        {
          "output_type": "stream",
          "name": "stdout",
          "text": [
            "Joke list from 1 to 7\n"
          ]
        }
      ]
    },
    {
      "cell_type": "markdown",
      "metadata": {
        "id": "zjz2V0U3J2Gg"
      },
      "source": [
        "You can use 'or' and 'and' to produce simpler and shorter codes"
      ]
    },
    {
      "cell_type": "code",
      "metadata": {
        "id": "1hz2hGDpJGMo",
        "colab": {
          "base_uri": "https://localhost:8080/"
        },
        "outputId": "8b3776bc-40cd-4f63-fe65-a4f0ab907326"
      },
      "source": [
        "age = 10       \n",
        "\n",
        "if age == 10 or age == 11 or age == 12 or age == 13:    \n",
        "  print('What is 13 + 49 + 84 + 155 + 97? A headache!')\n",
        "else:\n",
        "  print('You do not meet the age requirements!')"
      ],
      "execution_count": null,
      "outputs": [
        {
          "output_type": "stream",
          "name": "stdout",
          "text": [
            "What is 13 + 49 + 84 + 155 + 97? A headache!\n"
          ]
        }
      ]
    },
    {
      "cell_type": "code",
      "metadata": {
        "id": "FJJlWEMtJjkL",
        "colab": {
          "base_uri": "https://localhost:8080/"
        },
        "outputId": "7c81bc63-c32e-4173-8fc6-65f1f8bf3144"
      },
      "source": [
        "age =  12\n",
        "\n",
        "if age >= 10 and age <= 15:\n",
        "  print('So you are interested to learn coding?')\n",
        "else:\n",
        "  print('Sorry your age does not meet the requirements :(')"
      ],
      "execution_count": null,
      "outputs": [
        {
          "output_type": "stream",
          "name": "stdout",
          "text": [
            "So you are interested to learn coding?\n"
          ]
        }
      ]
    },
    {
      "cell_type": "markdown",
      "metadata": {
        "id": "-HMv7IpONuEj"
      },
      "source": [
        "0 is a number. None is not a number"
      ]
    },
    {
      "cell_type": "code",
      "metadata": {
        "id": "1fb7G7SZN_6R",
        "colab": {
          "base_uri": "https://localhost:8080/"
        },
        "outputId": "f91436d9-475d-49b4-e8e9-6bb4c214286e"
      },
      "source": [
        "num = None\n",
        "print(num)"
      ],
      "execution_count": null,
      "outputs": [
        {
          "output_type": "stream",
          "name": "stdout",
          "text": [
            "None\n"
          ]
        }
      ]
    },
    {
      "cell_type": "code",
      "metadata": {
        "id": "6_AbrTUFOJdi",
        "colab": {
          "base_uri": "https://localhost:8080/"
        },
        "outputId": "437d1737-c961-4f81-a31b-3922d3e14f9f"
      },
      "source": [
        "num = None\n",
        "if num == None:\n",
        "  print('None does not have a value')"
      ],
      "execution_count": null,
      "outputs": [
        {
          "output_type": "stream",
          "name": "stdout",
          "text": [
            "None does not have a value\n"
          ]
        }
      ]
    },
    {
      "cell_type": "markdown",
      "metadata": {
        "id": "ZQuCMTZGOm_l"
      },
      "source": [
        "You cannot add a string to if"
      ]
    },
    {
      "cell_type": "code",
      "metadata": {
        "id": "KAdF3f7eOiVU",
        "colab": {
          "base_uri": "https://localhost:8080/"
        },
        "outputId": "cb11a17f-ff37-4ca3-9a2c-c484c722e7be"
      },
      "source": [
        "num = 10\n",
        "if num == 10: \n",
        "  print('This is a number')"
      ],
      "execution_count": null,
      "outputs": [
        {
          "output_type": "stream",
          "name": "stdout",
          "text": [
            "This is a number\n"
          ]
        }
      ]
    },
    {
      "cell_type": "code",
      "metadata": {
        "id": "aHR47IgrO8Dc"
      },
      "source": [
        "num = '10'      # Nothing runs as this is a string and not a number \n",
        "if num == 10:        \n",
        "  print('This is a string')"
      ],
      "execution_count": null,
      "outputs": []
    },
    {
      "cell_type": "markdown",
      "metadata": {
        "id": "JSnx2GZGSvxU"
      },
      "source": [
        "To solve this problem, we need to convert it using *int*.  This is useful in the future.   *int* converts a string into a number"
      ]
    },
    {
      "cell_type": "code",
      "metadata": {
        "id": "PjzXmUAIRubO",
        "colab": {
          "base_uri": "https://localhost:8080/"
        },
        "outputId": "33b22397-11e4-4a99-e7e0-5330aa55b5b0"
      },
      "source": [
        "num = '10'      \n",
        "new_num = int(num)    # Use int(-)\n",
        "\n",
        "if new_num == 10:        \n",
        "  print('This is a string')"
      ],
      "execution_count": null,
      "outputs": [
        {
          "output_type": "stream",
          "name": "stdout",
          "text": [
            "This is a string\n"
          ]
        }
      ]
    },
    {
      "cell_type": "markdown",
      "metadata": {
        "id": "9gchz9rHTfdQ"
      },
      "source": [
        "To convert a number into a string, we use *str*"
      ]
    },
    {
      "cell_type": "code",
      "metadata": {
        "id": "lzN64kRHTsbE",
        "colab": {
          "base_uri": "https://localhost:8080/"
        },
        "outputId": "88adf882-b1ca-497b-9a0e-1388cd09d1d4"
      },
      "source": [
        "num = 10\n",
        "new_num = str(num)\n",
        "\n",
        "print(new_num + ' wow')   # Numbers and strings dont go together so we can see that new num is a string"
      ],
      "execution_count": null,
      "outputs": [
        {
          "output_type": "stream",
          "name": "stdout",
          "text": [
            "10 wow\n"
          ]
        }
      ]
    },
    {
      "cell_type": "markdown",
      "metadata": {
        "id": "YHweHsZ1UL1V"
      },
      "source": [
        "However, you will get an error if you try to convert a decimal as it only accepts integer(whole no.). So you must use float"
      ]
    },
    {
      "cell_type": "code",
      "metadata": {
        "id": "8xG39XA0UKF-",
        "colab": {
          "base_uri": "https://localhost:8080/"
        },
        "outputId": "8837be2d-0fb4-4a5b-bc51-47a7e5dc9818"
      },
      "source": [
        "num = '10.5'\n",
        "new_num = float(num)\n",
        "print(new_num)"
      ],
      "execution_count": null,
      "outputs": [
        {
          "output_type": "stream",
          "name": "stdout",
          "text": [
            "10.5\n"
          ]
        }
      ]
    },
    {
      "cell_type": "markdown",
      "metadata": {
        "id": "w30yd41SKn1D"
      },
      "source": [
        "You will get a ValueError if you try converting a string that does not contain a number"
      ]
    },
    {
      "cell_type": "markdown",
      "metadata": {
        "id": "do7RemTULECV"
      },
      "source": [
        "***Programming puzzle - pg 65***"
      ]
    },
    {
      "cell_type": "markdown",
      "metadata": {
        "id": "vnOqTwoiLKkj"
      },
      "source": [
        "***1: Are You Rich?***\n",
        "\n",
        "What do you think the following code will do? Try to figure out\n",
        "the answer without typing it into the shell, and then check your\n",
        "answer."
      ]
    },
    {
      "cell_type": "code",
      "metadata": {
        "id": "T6i0bC0nLRa6",
        "colab": {
          "base_uri": "https://localhost:8080/"
        },
        "outputId": "7d541e49-08c9-41d4-8703-05517fd5b759"
      },
      "source": [
        "money = 2000\n",
        "if money > 1000:\n",
        " print(\"I'm rich!!\")\n",
        "else:\n",
        " print(\"I'm not rich!!\")\n",
        " print(\"But I might be later...\")"
      ],
      "execution_count": null,
      "outputs": [
        {
          "output_type": "stream",
          "name": "stdout",
          "text": [
            "I'm rich!!\n"
          ]
        }
      ]
    },
    {
      "cell_type": "markdown",
      "metadata": {
        "id": "DjuUT-QbLewU"
      },
      "source": [
        "The programme checks if you are rich. If you have more than 1000 money, you are considered rich."
      ]
    },
    {
      "cell_type": "markdown",
      "metadata": {
        "id": "6LgHWDenLs0Y"
      },
      "source": [
        "***2: Twinkies!***\n",
        "\n",
        "Create an if statement that checks whether a number of Twinkies\n",
        "(in the variable twinkies) is less than 100 or greater than 500. Your\n",
        "program should print the message “Too few or too many” if the\n",
        "condition is true."
      ]
    },
    {
      "cell_type": "code",
      "metadata": {
        "id": "ZS3rf1OxL0pR"
      },
      "source": [
        "twinkies = 500\n",
        "if twinkies < 100 or twinkies > 500:\n",
        "  print('Too few or too many')"
      ],
      "execution_count": null,
      "outputs": []
    },
    {
      "cell_type": "markdown",
      "metadata": {
        "id": "zq0h_8BHMT2d"
      },
      "source": [
        "***3: Just the Right Number***\n",
        "\n",
        "Create an if statement that checks whether the amount of money\n",
        "contained in the variable money is between 100 and 500 or between\n",
        "1,000 and 5,000."
      ]
    },
    {
      "cell_type": "code",
      "metadata": {
        "id": "neeZMIFSMZbx",
        "colab": {
          "base_uri": "https://localhost:8080/"
        },
        "outputId": "0c7de75d-3927-4bc6-ad1f-96a899ac8fad"
      },
      "source": [
        "money = 1005\n",
        "if money > 100 and money < 500:\n",
        "  print('Money between 100 and 500')\n",
        "elif money > 1000 and money < 5000:\n",
        "  print('Money between 1000 and 5000')"
      ],
      "execution_count": null,
      "outputs": [
        {
          "output_type": "stream",
          "name": "stdout",
          "text": [
            "Money between 1000 and 5000\n"
          ]
        }
      ]
    },
    {
      "cell_type": "markdown",
      "metadata": {
        "id": "zxpvy0n-Ow9O"
      },
      "source": [
        "***4: I Can Fight Those Ninjas***\n",
        "Create an if statement that prints the string “That’s too many”\n",
        "if the variable ninjas contains a number that’s less than 50, prints\n",
        "“It’ll be a struggle, but I can take ’em” if it’s less than 30, and\n",
        "prints “I can fight those ninjas!” if it’s less than 10. You might\n",
        "try out your code with: ninjas = 5"
      ]
    },
    {
      "cell_type": "code",
      "metadata": {
        "id": "y1dqmusePcwQ",
        "colab": {
          "base_uri": "https://localhost:8080/"
        },
        "outputId": "799c7c93-8ffb-4107-d33c-881aa8c51256"
      },
      "source": [
        "ninjas = 9\n",
        "if ninjas < 50 and ninjas >= 30:\n",
        "  print('That’s too many')\n",
        "elif ninjas < 30 and ninjas >= 10:\n",
        "  print('''It’ll be a struggle, but I can take ’em''')\n",
        "elif ninjas < 10:\n",
        "  print('I can fight those ninjas!')"
      ],
      "execution_count": null,
      "outputs": [
        {
          "output_type": "stream",
          "name": "stdout",
          "text": [
            "I can fight those ninjas!\n"
          ]
        }
      ]
    },
    {
      "cell_type": "markdown",
      "metadata": {
        "id": "4dqRqQt1RX2y"
      },
      "source": [
        "# Chapter 6 - Going loopy"
      ]
    },
    {
      "cell_type": "markdown",
      "metadata": {
        "id": "TfgLf6oLRi9l"
      },
      "source": [
        "for loops repeat a set of codes a number of times until it is complete. This can help us reduce the amount of codes we need to write if we need to repeat a set of codes multiple times."
      ]
    },
    {
      "cell_type": "code",
      "metadata": {
        "id": "AT22Wo7uRgXg",
        "colab": {
          "base_uri": "https://localhost:8080/"
        },
        "outputId": "c93dcc61-ffa1-4d5b-d5ba-8a2ef4b42fe9"
      },
      "source": [
        "for x in range(0,5):   # Don't forget :\n",
        "  print('hello')"
      ],
      "execution_count": null,
      "outputs": [
        {
          "output_type": "stream",
          "name": "stdout",
          "text": [
            "hello\n",
            "hello\n",
            "hello\n",
            "hello\n",
            "hello\n"
          ]
        }
      ]
    },
    {
      "cell_type": "code",
      "metadata": {
        "id": "7e51_sI1SrVG",
        "colab": {
          "base_uri": "https://localhost:8080/"
        },
        "outputId": "ce858cab-e613-4a90-80de-eff3c9d6f6ce"
      },
      "source": [
        "print(list(range(10,20)))"
      ],
      "execution_count": null,
      "outputs": [
        {
          "output_type": "stream",
          "name": "stdout",
          "text": [
            "[10, 11, 12, 13, 14, 15, 16, 17, 18, 19]\n"
          ]
        }
      ]
    },
    {
      "cell_type": "markdown",
      "metadata": {
        "id": "-wRFXHPkS0eB"
      },
      "source": [
        "The code is telling Python to \n",
        "\n",
        "start counting from 0 and stop before reaching 5 and \n",
        "\n",
        "for each number we count, store the value in the variable x."
      ]
    },
    {
      "cell_type": "code",
      "metadata": {
        "id": "n5vI9W1JTH7X",
        "colab": {
          "base_uri": "https://localhost:8080/"
        },
        "outputId": "f1faf0a9-93d2-4124-d6a6-2975245eeb43"
      },
      "source": [
        "for x in range(0,5):\n",
        "  print('hello %s' % x)"
      ],
      "execution_count": null,
      "outputs": [
        {
          "output_type": "stream",
          "name": "stdout",
          "text": [
            "hello 0\n",
            "hello 1\n",
            "hello 2\n",
            "hello 3\n",
            "hello 4\n"
          ]
        }
      ]
    },
    {
      "cell_type": "code",
      "metadata": {
        "id": "AaiY62gjT6aF",
        "colab": {
          "base_uri": "https://localhost:8080/"
        },
        "outputId": "94b7667c-ac1a-43bc-bb3b-87f8749ee161"
      },
      "source": [
        "mylist = ['water', 'food', 'air', 'games', 'house', 'bed', 'tv', 'soap']\n",
        "for i in mylist:    # The code is asking Python to store each mylist variable in i\n",
        "  print(i)"
      ],
      "execution_count": null,
      "outputs": [
        {
          "output_type": "stream",
          "name": "stdout",
          "text": [
            "water\n",
            "food\n",
            "air\n",
            "games\n",
            "house\n",
            "bed\n",
            "tv\n",
            "soap\n"
          ]
        }
      ]
    },
    {
      "cell_type": "code",
      "metadata": {
        "id": "2OiMvrv9UZkF",
        "colab": {
          "base_uri": "https://localhost:8080/"
        },
        "outputId": "07db42b8-e97d-4f05-d552-90788f66264d"
      },
      "source": [
        "foodlist = ['water','mango','apple']\n",
        "for i in foodlist:\n",
        "  print(i)    # This command prints two of each item in the list\n",
        "  print(i)    # Dont forget about indentation error"
      ],
      "execution_count": null,
      "outputs": [
        {
          "output_type": "stream",
          "name": "stdout",
          "text": [
            "water\n",
            "water\n",
            "mango\n",
            "mango\n",
            "apple\n",
            "apple\n"
          ]
        }
      ]
    },
    {
      "cell_type": "code",
      "metadata": {
        "id": "n6ICZ8cfXPIq",
        "colab": {
          "base_uri": "https://localhost:8080/"
        },
        "outputId": "4b07f981-d785-4ae5-9c3e-6aa4a5bbddd7"
      },
      "source": [
        "found_coins = 20\n",
        "magic_coins = 70\n",
        "stolen_coins = 3\n",
        "coins = found_coins\n",
        "for week in range(1, 53):\n",
        "  coins = coins + magic_coins - stolen_coins\n",
        "  print('Week %s = %s' % (week, coins))"
      ],
      "execution_count": null,
      "outputs": [
        {
          "output_type": "stream",
          "name": "stdout",
          "text": [
            "Week 1 = 87\n",
            "Week 2 = 154\n",
            "Week 3 = 221\n",
            "Week 4 = 288\n",
            "Week 5 = 355\n",
            "Week 6 = 422\n",
            "Week 7 = 489\n",
            "Week 8 = 556\n",
            "Week 9 = 623\n",
            "Week 10 = 690\n",
            "Week 11 = 757\n",
            "Week 12 = 824\n",
            "Week 13 = 891\n",
            "Week 14 = 958\n",
            "Week 15 = 1025\n",
            "Week 16 = 1092\n",
            "Week 17 = 1159\n",
            "Week 18 = 1226\n",
            "Week 19 = 1293\n",
            "Week 20 = 1360\n",
            "Week 21 = 1427\n",
            "Week 22 = 1494\n",
            "Week 23 = 1561\n",
            "Week 24 = 1628\n",
            "Week 25 = 1695\n",
            "Week 26 = 1762\n",
            "Week 27 = 1829\n",
            "Week 28 = 1896\n",
            "Week 29 = 1963\n",
            "Week 30 = 2030\n",
            "Week 31 = 2097\n",
            "Week 32 = 2164\n",
            "Week 33 = 2231\n",
            "Week 34 = 2298\n",
            "Week 35 = 2365\n",
            "Week 36 = 2432\n",
            "Week 37 = 2499\n",
            "Week 38 = 2566\n",
            "Week 39 = 2633\n",
            "Week 40 = 2700\n",
            "Week 41 = 2767\n",
            "Week 42 = 2834\n",
            "Week 43 = 2901\n",
            "Week 44 = 2968\n",
            "Week 45 = 3035\n",
            "Week 46 = 3102\n",
            "Week 47 = 3169\n",
            "Week 48 = 3236\n",
            "Week 49 = 3303\n",
            "Week 50 = 3370\n",
            "Week 51 = 3437\n",
            "Week 52 = 3504\n"
          ]
        }
      ]
    },
    {
      "cell_type": "code",
      "metadata": {
        "id": "AqIbUrlcYWS3",
        "colab": {
          "base_uri": "https://localhost:8080/"
        },
        "outputId": "4b27fe24-1bbc-4e76-9bd9-26b38f14681b"
      },
      "source": [
        "raws1 = 20\n",
        "raws2 = 19\n",
        "for x in range(0,10):\n",
        "  totals = (raws1*x)+(raws2*x)\n",
        "  print( x + totals)"
      ],
      "execution_count": null,
      "outputs": [
        {
          "output_type": "stream",
          "name": "stdout",
          "text": [
            "0\n",
            "40\n",
            "80\n",
            "120\n",
            "160\n",
            "200\n",
            "240\n",
            "280\n",
            "320\n",
            "360\n"
          ]
        }
      ]
    },
    {
      "cell_type": "markdown",
      "metadata": {
        "id": "edvu4CCRuW8O"
      },
      "source": [
        "While loops ->"
      ]
    },
    {
      "cell_type": "code",
      "metadata": {
        "id": "3ZAgsACevkue",
        "colab": {
          "base_uri": "https://localhost:8080/"
        },
        "outputId": "3c31803a-6fbf-4127-d704-451948daa051"
      },
      "source": [
        "step = 0\n",
        "while step < 10:   # Command for while loop  \n",
        "                    # This programme will run until step reacher 9 (< 10)\n",
        "  step = step + 1   # Pythin will execute the rest of the command  until step reaches 9\n",
        "  print(step)"
      ],
      "execution_count": null,
      "outputs": [
        {
          "output_type": "stream",
          "name": "stdout",
          "text": [
            "1\n",
            "2\n",
            "3\n",
            "4\n",
            "5\n",
            "6\n",
            "7\n",
            "8\n",
            "9\n",
            "10\n"
          ]
        }
      ]
    },
    {
      "cell_type": "code",
      "metadata": {
        "colab": {
          "base_uri": "https://localhost:8080/"
        },
        "id": "TGF4oHQSGIiT",
        "outputId": "5023fff1-d44c-4f82-eeed-41895a87d363"
      },
      "source": [
        "step = 0\n",
        "while step < 10:\n",
        "  step = step +1\n",
        "  print(step)       # break is the keyword to jump out of the loop\n",
        "  if step == 8:      # In this case the loop will end once step=8 \n",
        "    break           # The code will stop once it has done 8 loops"
      ],
      "execution_count": null,
      "outputs": [
        {
          "output_type": "stream",
          "name": "stdout",
          "text": [
            "1\n",
            "2\n",
            "3\n",
            "4\n",
            "5\n",
            "6\n",
            "7\n",
            "8\n"
          ]
        }
      ]
    },
    {
      "cell_type": "code",
      "metadata": {
        "colab": {
          "base_uri": "https://localhost:8080/"
        },
        "id": "sqyWTtZ1FsDx",
        "outputId": "967cd9d8-fe9a-4dc3-c030-7533f0048872"
      },
      "source": [
        "x = 45 \n",
        "y = 80         # While loop is usually used together with other variables\n",
        "while x < 50 and y < 100:\n",
        "  x = x + 1 \n",
        "  y = y + 1 \n",
        "  print(x,y)"
      ],
      "execution_count": null,
      "outputs": [
        {
          "output_type": "stream",
          "name": "stdout",
          "text": [
            "46 81\n",
            "47 82\n",
            "48 83\n",
            "49 84\n",
            "50 85\n"
          ]
        }
      ]
    },
    {
      "cell_type": "markdown",
      "metadata": {
        "id": "2pP2A8BeIw_0"
      },
      "source": [
        "***1: The Hello Loop***\n",
        "\n",
        "What do you think the following code will do? First, guess what\n",
        "will happen, and then run the code in Python to see if you were\n",
        "right."
      ]
    },
    {
      "cell_type": "code",
      "metadata": {
        "colab": {
          "base_uri": "https://localhost:8080/"
        },
        "id": "zZ9aqrLoIzLx",
        "outputId": "639df7e0-e23d-435f-e76b-1ec11d16a8c1"
      },
      "source": [
        "for x in range(0, 20):\n",
        " print('hello %s' % x)\n",
        " if x < 9:\n",
        "  break"
      ],
      "execution_count": null,
      "outputs": [
        {
          "output_type": "stream",
          "name": "stdout",
          "text": [
            "hello 0\n"
          ]
        }
      ]
    },
    {
      "cell_type": "markdown",
      "metadata": {
        "id": "hZxj1SNBJBTx"
      },
      "source": [
        "The code will say hello 0\n",
        "\n",
        "it will run once as when x is less than 9 which is when you run x = 0"
      ]
    },
    {
      "cell_type": "markdown",
      "metadata": {
        "id": "x2EvCM56L2Oq"
      },
      "source": [
        "\n",
        "\n",
        "***2: Even Numbers***\n",
        "\n",
        "Create a loop that prints even numbers until it reaches your year\n",
        "of age or, if your age is an odd number, prints out odd numbers\n",
        "until it reaches your age. For example, it might print out something like this:\n",
        "\n",
        "2\n",
        "\n",
        "4\n",
        "\n",
        "6\n",
        "\n",
        "8\n",
        "\n",
        "10\n",
        "\n",
        "12\n",
        "\n",
        "14\n",
        "\n",
        "\n",
        "\n"
      ]
    },
    {
      "cell_type": "code",
      "metadata": {
        "colab": {
          "base_uri": "https://localhost:8080/"
        },
        "id": "Fk1r-LKBLQ4d",
        "outputId": "57b148a2-b6ee-4bd4-e7a2-26c4a22dded4"
      },
      "source": [
        "x = 0\n",
        "while x < 100:\n",
        "  x = x + 2\n",
        "  print(x)\n",
        "  if x == 14:\n",
        "    break"
      ],
      "execution_count": null,
      "outputs": [
        {
          "output_type": "stream",
          "name": "stdout",
          "text": [
            "2\n",
            "4\n",
            "6\n",
            "8\n",
            "10\n",
            "12\n",
            "14\n"
          ]
        }
      ]
    },
    {
      "cell_type": "markdown",
      "metadata": {
        "id": "8WGvsyHndbc6"
      },
      "source": [
        "***3: My Five Favorite Ingredients***\n",
        "Create a list containing five different sandwich ingredients, such\n",
        "as the following:\n",
        "\n",
        "*ingredients = ['snails', 'leeches', 'gorilla belly-button lint',\n",
        " 'caterpillar eyebrows', 'centipede toes']*\n",
        "\n",
        "**Now create a loop that prints out the list (including the numbers):**\n",
        "\n",
        "\n",
        "1 snails\n",
        "\n",
        "2 leeches\n",
        "\n",
        "3 gorilla belly-button lint\n",
        "\n",
        "4 caterpillar eyebrows\n",
        "\n",
        "5 centipede toes"
      ]
    },
    {
      "cell_type": "code",
      "metadata": {
        "colab": {
          "base_uri": "https://localhost:8080/"
        },
        "id": "kU09nP8rdkGc",
        "outputId": "106d0e62-7b26-4fcb-bcce-f7ed5a2b5bb3"
      },
      "source": [
        "ingredients = ['snails', 'leeches', 'gorilla belly-button lint', 'caterpillar eyebrows', 'centipede toes']\n",
        "\n",
        "for x in range(0,5):\n",
        "  y = x \n",
        "  x = x + 1\n",
        "  print( x, ingredients[y])"
      ],
      "execution_count": null,
      "outputs": [
        {
          "output_type": "stream",
          "name": "stdout",
          "text": [
            "1 snails\n",
            "2 leeches\n",
            "3 gorilla belly-button lint\n",
            "4 caterpillar eyebrows\n",
            "5 centipede toes\n"
          ]
        }
      ]
    },
    {
      "cell_type": "markdown",
      "metadata": {
        "id": "mI5MiYfPfKvj"
      },
      "source": [
        "***4: Your Weight on the Moon***\n",
        "\n",
        "If you were standing on the moon right now, your weight would be\n",
        "16.5 percent of what it is on Earth. You can calculate that by multiplying your Earth weight by 0.165.\n",
        "If you gained a kilo in weight every year for the next 15 years,\n",
        "what would your weight be when you visited the moon each year\n",
        "and at the end of the 15 years? Write a program using a for loop\n",
        "that prints your moon weight for each year."
      ]
    },
    {
      "cell_type": "code",
      "metadata": {
        "colab": {
          "base_uri": "https://localhost:8080/"
        },
        "id": "3PIBFv_1fRWu",
        "outputId": "27ed0d34-85ff-43a7-c147-6f5b313cbcf1"
      },
      "source": [
        "weight = 60\n",
        "for x in range(1,16):\n",
        "  print( x, (weight+x*1)*0.165)"
      ],
      "execution_count": null,
      "outputs": [
        {
          "output_type": "stream",
          "name": "stdout",
          "text": [
            "1 10.065000000000001\n",
            "2 10.23\n",
            "3 10.395000000000001\n",
            "4 10.56\n",
            "5 10.725\n",
            "6 10.89\n",
            "7 11.055\n",
            "8 11.22\n",
            "9 11.385\n",
            "10 11.55\n",
            "11 11.715\n",
            "12 11.88\n",
            "13 12.045\n",
            "14 12.21\n",
            "15 12.375\n"
          ]
        }
      ]
    },
    {
      "cell_type": "markdown",
      "metadata": {
        "id": "UYJeNGiTgeKt"
      },
      "source": [
        "# Chapter 7 - Recycling Your Code with Functions and Modules"
      ]
    },
    {
      "cell_type": "markdown",
      "metadata": {
        "id": "2FUUGYAzgxCu"
      },
      "source": [
        "Functions are a set of code that tell Python to do something. They are one way to reuse code — you can use functions in your\n",
        "programs again and again.   ***It is like a set of instructions***"
      ]
    },
    {
      "cell_type": "code",
      "metadata": {
        "colab": {
          "base_uri": "https://localhost:8080/"
        },
        "id": "DpFNsopigqPw",
        "outputId": "e1ded90b-e82d-4578-9c8c-2e5c4b18eeec"
      },
      "source": [
        "def testfunc(myname):   # You start a function by writing def, then the name you want to give the \n",
        "                        # function then write the parametre (special variable) inside the bracket\n",
        " print('hello %s' % myname)      # After that you give the instructions for what the function\n",
        "                                 # will do.\n",
        "\n",
        "\n",
        "testfunc('mehrab')       # Now you write the function name and set values to the parametres"
      ],
      "execution_count": null,
      "outputs": [
        {
          "output_type": "stream",
          "name": "stdout",
          "text": [
            "hello mehrab\n"
          ]
        }
      ]
    },
    {
      "cell_type": "markdown",
      "metadata": {
        "id": "fJBHlC_5rZxw"
      },
      "source": [
        "Parametres are special variables that can only be used inside a function."
      ]
    },
    {
      "cell_type": "code",
      "metadata": {
        "colab": {
          "base_uri": "https://localhost:8080/"
        },
        "id": "Xmkttkv0jJvK",
        "outputId": "203a236b-375e-4bbb-e328-db0267024234"
      },
      "source": [
        "def name(name1,name2):\n",
        "  print('hello %s %s' %(name1,name2))\n",
        "\n",
        "name('mehrab','rahman')"
      ],
      "execution_count": null,
      "outputs": [
        {
          "output_type": "stream",
          "name": "stdout",
          "text": [
            "hello mehrab rahman\n"
          ]
        }
      ]
    },
    {
      "cell_type": "code",
      "metadata": {
        "colab": {
          "base_uri": "https://localhost:8080/"
        },
        "id": "j-Y35Jgpjvk4",
        "outputId": "f6e08e37-a332-48d1-ab07-c406106c772e"
      },
      "source": [
        "def savings(pocket_money, paper_route, spending):\n",
        " return pocket_money + paper_route - spending   # Return is used to return the function\n",
        "\n",
        "print(savings(10,15,20))"
      ],
      "execution_count": null,
      "outputs": [
        {
          "output_type": "stream",
          "name": "stdout",
          "text": [
            "5\n"
          ]
        }
      ]
    },
    {
      "cell_type": "code",
      "metadata": {
        "colab": {
          "base_uri": "https://localhost:8080/"
        },
        "id": "nQ4_E8fWqkjR",
        "outputId": "79dd8da9-f4e5-43ad-faf5-300bf524173e"
      },
      "source": [
        "def vartest():         # This is a function that uses variables instead of parametres\n",
        "  var1 = 10            # However this variable still cant be used outside of the function\n",
        "  var2 = 20\n",
        "  return var1 + var2\n",
        "\n",
        "print(vartest())"
      ],
      "execution_count": null,
      "outputs": [
        {
          "output_type": "stream",
          "name": "stdout",
          "text": [
            "30\n"
          ]
        }
      ]
    },
    {
      "cell_type": "code",
      "metadata": {
        "colab": {
          "base_uri": "https://localhost:8080/"
        },
        "id": "0mfpR4Ogrhnl",
        "outputId": "8524b98a-5ffe-4b7f-eda0-01dc8c5a61ee"
      },
      "source": [
        "var3 = 30\n",
        "def vartest():\n",
        "  var1 = 10\n",
        "  var2 = 20\n",
        "  return var1 + var2 + var3\n",
        "\n",
        "print(vartest())\n"
      ],
      "execution_count": null,
      "outputs": [
        {
          "output_type": "stream",
          "name": "stdout",
          "text": [
            "60\n"
          ]
        }
      ]
    },
    {
      "cell_type": "code",
      "metadata": {
        "colab": {
          "base_uri": "https://localhost:8080/"
        },
        "id": "MoKQHai5fJPB",
        "outputId": "850e6f6f-deef-46ec-a714-ed43e292d928"
      },
      "source": [
        "def moonweight(weight,increase,year):\n",
        "  return (weight+increase*year)*0.165\n",
        "\n",
        "print(moonweight(60,1,15))"
      ],
      "execution_count": null,
      "outputs": [
        {
          "output_type": "stream",
          "name": "stdout",
          "text": [
            "12.375\n"
          ]
        }
      ]
    },
    {
      "cell_type": "code",
      "metadata": {
        "colab": {
          "base_uri": "https://localhost:8080/"
        },
        "id": "aFvi8oPIiDQd",
        "outputId": "85e9a507-f1cf-49ef-da4e-e9745f29136e"
      },
      "source": [
        "def moonweight(weight,increase,year):\n",
        "  for x in range(1,year+1):\n",
        "    monw = (weight+increase*x)*0.165\n",
        "    print('year %s = %s' %(x,monw))\n",
        "\n",
        "moonweight(60,1,15)"
      ],
      "execution_count": null,
      "outputs": [
        {
          "output_type": "stream",
          "name": "stdout",
          "text": [
            "year 1 = 10.065000000000001\n",
            "year 2 = 10.23\n",
            "year 3 = 10.395000000000001\n",
            "year 4 = 10.56\n",
            "year 5 = 10.725\n",
            "year 6 = 10.89\n",
            "year 7 = 11.055\n",
            "year 8 = 11.22\n",
            "year 9 = 11.385\n",
            "year 10 = 11.55\n",
            "year 11 = 11.715\n",
            "year 12 = 11.88\n",
            "year 13 = 12.045\n",
            "year 14 = 12.21\n",
            "year 15 = 12.375\n"
          ]
        }
      ]
    },
    {
      "cell_type": "markdown",
      "metadata": {
        "id": "E84vHWodmFre"
      },
      "source": [
        "***Modules***\n",
        "\n",
        "Modules are used to group functions, variables, and other things\n",
        "together into larger, more powerful programs. Some modules are\n",
        "built in to Python, and you\n",
        "can download other modules\n",
        "separately."
      ]
    },
    {
      "cell_type": "code",
      "metadata": {
        "colab": {
          "base_uri": "https://localhost:8080/"
        },
        "id": "eHc2bQ44lduZ",
        "outputId": "2137721d-d54b-42ee-df33-43df2f4184f1"
      },
      "source": [
        "import time           # For time\n",
        "print(time.asctime())"
      ],
      "execution_count": null,
      "outputs": [
        {
          "output_type": "stream",
          "name": "stdout",
          "text": [
            "Sun Dec  5 05:47:54 2021\n"
          ]
        }
      ]
    },
    {
      "cell_type": "code",
      "metadata": {
        "colab": {
          "base_uri": "https://localhost:8080/"
        },
        "id": "CVyLMdWinsz3",
        "outputId": "b90bcd95-5672-46a3-de44-feb2ba343e4a"
      },
      "source": [
        "import sys                               # Use this in other IDLE\n",
        "print(sys.stdin.readline())              # Colab cannot use this\n",
        "\n",
        "name = input('What is your name: ')      # Colab uses input only\n",
        "print('hello %s'% name)"
      ],
      "execution_count": null,
      "outputs": [
        {
          "output_type": "stream",
          "name": "stdout",
          "text": [
            "\n",
            "What is your name: m\n",
            "hello m\n"
          ]
        }
      ]
    },
    {
      "cell_type": "code",
      "metadata": {
        "colab": {
          "base_uri": "https://localhost:8080/"
        },
        "id": "iqgxlPs3otsk",
        "outputId": "30ecbb6e-bf79-49e0-8384-0f0cc6343f40"
      },
      "source": [
        "\n",
        "\n",
        "def silly_age_joke():\n",
        " age1 = input('How old are you?: ')\n",
        " age = int(age1)                    # Use int to convert the string into a integer\n",
        " if age >= 10 and age <= 13:\n",
        "  print('What is 13 + 49 + 84 + 155 + 97? A headache!')\n",
        " else:\n",
        "  print('Huh?')\n",
        "\n",
        "silly_age_joke()"
      ],
      "execution_count": null,
      "outputs": [
        {
          "output_type": "stream",
          "name": "stdout",
          "text": [
            "How old are you?: 14\n",
            "Huh?\n"
          ]
        }
      ]
    },
    {
      "cell_type": "markdown",
      "metadata": {
        "id": "shIhHKXzr3SL"
      },
      "source": [
        "Programming puzzles have been done above  (pg 90)"
      ]
    },
    {
      "cell_type": "markdown",
      "metadata": {
        "id": "gJ_7CR_Fr-Yi"
      },
      "source": [
        "# Chapter 8 - How to Use Classes and Objects"
      ]
    },
    {
      "cell_type": "markdown",
      "metadata": {
        "id": "621cI4VWFzb_"
      },
      "source": [
        "Classes are a category of things\n",
        "\n",
        "Objects are items that can be catagorised into classes\n",
        "\n",
        "Classes are used to organise things into classes"
      ]
    },
    {
      "cell_type": "code",
      "metadata": {
        "id": "G1eT3mQsGAod"
      },
      "source": [
        "class Things:    # Things is the name of the class\n",
        "  pass        # pass to let Python know that we are not going to give any more information\n",
        "\n",
        "class Inanimate(Things):  # If a class is part of another class it is a children\n",
        "  pass                    # and the other class is the parent. In this case Inanimate is the \n",
        "                          # children of Things and Things is the parent\n",
        "class Animate(Things):\n",
        "  pass\n",
        "\n",
        "class Animals(Animate):\n",
        "  pass \n",
        "\n",
        "class Mammles(Animals):\n",
        "  pass\n",
        "\n",
        "class Dog(Mammles):\n",
        "  pass\n",
        "\n",
        "\n",
        "stan = Dog()       # The name of the dog is stan. This is how we add an object to a class\n",
        "                   # This code tells Python to create an object in the "
      ],
      "execution_count": null,
      "outputs": []
    },
    {
      "cell_type": "code",
      "metadata": {
        "colab": {
          "base_uri": "https://localhost:8080/"
        },
        "id": "uldh2ND-LmHe",
        "outputId": "248e9b1c-3cab-42b8-fe1d-b0a8a06561ef"
      },
      "source": [
        "class Things:             # Refer to pg 95\n",
        "  pass\n",
        "\n",
        "class Inanimate(Things):\n",
        "  pass\n",
        "\n",
        "class Animate(Things):\n",
        "  pass\n",
        "\n",
        "class Animals(Animate):\n",
        "  def breathe(self):     # Defining a function self parameter is a way for one function \n",
        "    print('breathing')   # in the class to call another function in the\n",
        "                         # class (and in the parent class)\n",
        "  def move(self):\n",
        "    print('moving')\n",
        "\n",
        "  def eat_food(self):\n",
        "    print('eating food')\n",
        "\n",
        "class Mammals(Animals):\n",
        "  def feed_young_with_milk(self):\n",
        "    pass\n",
        "\n",
        "class Dog(Mammals):\n",
        "  def eat_dog_food(self):           # The dog has all the characteristics of animal and mammal\n",
        "    pass                            # The dog can still use the function of animals and mammal\n",
        "\n",
        "stan = Dog()\n",
        "stan.move()\n",
        "\n",
        "\n",
        "ralph = Dog()     # New object\n",
        "ralph.move()      \n",
        "\n"
      ],
      "execution_count": null,
      "outputs": [
        {
          "output_type": "stream",
          "name": "stdout",
          "text": [
            "moving\n",
            "moving\n"
          ]
        }
      ]
    },
    {
      "cell_type": "code",
      "metadata": {
        "colab": {
          "base_uri": "https://localhost:8080/"
        },
        "id": "_rI40Kg8twbE",
        "outputId": "e2822c78-9ecd-4920-cd16-240451f588c5"
      },
      "source": [
        "\n",
        " \n",
        "class Giraffes:\n",
        "  def move(self):\n",
        "   print('move')\n",
        "  \n",
        "  def find_food(self):           # You can make a function do another function using self\n",
        "    self.move()                  # More example in #1 programming puzzle in chap 8\n",
        "    print(\"I've found food!\")\n",
        "    self.eat_food()\n",
        "  def eat_leaves_from_trees(self):\n",
        "    self.eat_food()\n",
        "  def dance_a_jig(self):\n",
        "    self.move()\n",
        "    self.move()\n",
        "    self.move()\n",
        "    self.move()\n",
        "\n",
        "reginald = Giraffes()\n",
        "reginald.dance_a_jig()"
      ],
      "execution_count": null,
      "outputs": [
        {
          "output_type": "stream",
          "name": "stdout",
          "text": [
            "move\n",
            "move\n",
            "move\n",
            "move\n"
          ]
        }
      ]
    },
    {
      "cell_type": "markdown",
      "metadata": {
        "id": "7v4FkBpTvX6x"
      },
      "source": [
        "Initializing an object\n",
        "\n",
        "We initialize an object when we are getting it ready to be used\n",
        "\n",
        "e.g. when you want to set the number of spots on the dog, we need to initialize it\n",
        "\n",
        "We need to create a __init __function\n",
        "\n",
        "The init function is a way to set the properties for an\n",
        "object when the object is first created, and Python will automatically call this function when we create a new object."
      ]
    },
    {
      "cell_type": "code",
      "metadata": {
        "colab": {
          "base_uri": "https://localhost:8080/"
        },
        "id": "dccZCzInwUom",
        "outputId": "48f5de51-a8c0-4f5b-bac0-da83c14d6061"
      },
      "source": [
        "class Dog:\n",
        "  def __init__(self,spots):\n",
        "    self.dog_spots = spots\n",
        "\n",
        "tom = Dog(100)\n",
        "print(tom.dog_spots)\n",
        "\n",
        "dan = Dog(57)\n",
        "print(dan.dog_spots)"
      ],
      "execution_count": null,
      "outputs": [
        {
          "output_type": "stream",
          "name": "stdout",
          "text": [
            "100\n",
            "57\n"
          ]
        }
      ]
    },
    {
      "cell_type": "markdown",
      "metadata": {
        "id": "-o2atDiLD6F2"
      },
      "source": [
        "Programming puzzles - pg 107"
      ]
    },
    {
      "cell_type": "markdown",
      "metadata": {
        "id": "t2V4hKhTDTd8"
      },
      "source": [
        "***1: The Giraffe Shuffle***\n",
        "\n",
        ">Add functions to the Giraffes class to move the giraffe’s left and\n",
        "right feet forward and backward. A function for moving the left\n",
        "foot forward might look like this:\n",
        "\n",
        "def left_Foot_Forward(self):\n",
        "\n",
        "print('left foot forward')\n",
        "\n",
        ">Then create a function called dance to teach Reginald to dance\n",
        "(the function will call the four foot functions you’ve just created).\n",
        "The result of calling this new function will be a simple dance:\n",
        "\n",
        "reginald = Giraffes()\n",
        "\n",
        "reginald.dance()\n",
        "\n",
        "left foot forward\n",
        "\n",
        "left foot back\n",
        "\n",
        "right foot forward\n",
        "\n",
        "right foot back\n",
        "\n",
        "left foot back\n",
        "\n",
        "right foot back\n",
        "\n",
        "right foot forward\n",
        "\n",
        "left foot forward"
      ]
    },
    {
      "cell_type": "code",
      "metadata": {
        "colab": {
          "base_uri": "https://localhost:8080/"
        },
        "id": "VjQwzrU6D4xN",
        "outputId": "a98900d6-2657-4577-b112-0a484879490e"
      },
      "source": [
        "\n",
        "class Giraffes:\n",
        "  def left_foot_forward(self):\n",
        "    print('left foot forward')\n",
        "\n",
        "  def left_foot_back(self):\n",
        "    print('left foot back')\n",
        "\n",
        "  def right_foot_forward(self):\n",
        "    print('right foot forward')\n",
        "\n",
        "  def right_foot_back(self):\n",
        "    print('right foor back')\n",
        "\n",
        "\n",
        "  def dance(self):\n",
        "    self.left_foot_forward()\n",
        "    self.left_foot_back()\n",
        "    self.right_foot_forward()\n",
        "    self.right_foot_back()\n",
        "    self.left_foot_back()\n",
        "    self.right_foot_back()\n",
        "    self.right_foot_forward()\n",
        "    self.left_foot_forward()\n",
        "\n",
        "reginald = Giraffes()\n",
        "reginald.dance()"
      ],
      "execution_count": null,
      "outputs": [
        {
          "output_type": "stream",
          "name": "stdout",
          "text": [
            "left foot forward\n",
            "left foot back\n",
            "right foot forward\n",
            "right foor back\n",
            "left foot back\n",
            "right foor back\n",
            "right foot forward\n",
            "left foot forward\n"
          ]
        }
      ]
    },
    {
      "cell_type": "markdown",
      "metadata": {
        "id": "ob83190ZI91U"
      },
      "source": [
        "# Chapter 9 - Python’s Built-in Functions"
      ]
    },
    {
      "cell_type": "markdown",
      "metadata": {
        "id": "yuCDkLUglhQR"
      },
      "source": [
        "Python has a large number of functions and modules that are ready-made for use. Python's built in functions do not need to be imported and they are already available inside colab"
      ]
    },
    {
      "cell_type": "markdown",
      "metadata": {
        "id": "4a7Y35f69CrB"
      },
      "source": [
        "***The abs Function***\n",
        "\n",
        "The abs function returns the absolute value of a number (value of a number without itds sign), which is\n",
        "the value of a number without its sign. For example, the absolute\n",
        "value of 10 is 10, and the absolute value of –10 is 10.\n",
        "To use the abs function, simply call it with a number or variable as its parameter, like this:"
      ]
    },
    {
      "cell_type": "code",
      "metadata": {
        "colab": {
          "base_uri": "https://localhost:8080/"
        },
        "id": "_4lD2RHu9HJF",
        "outputId": "86794742-ff93-492e-ae29-ccd6c0eab794"
      },
      "source": [
        "print(abs(10))"
      ],
      "execution_count": 1,
      "outputs": [
        {
          "output_type": "stream",
          "name": "stdout",
          "text": [
            "10\n"
          ]
        }
      ]
    },
    {
      "cell_type": "code",
      "metadata": {
        "colab": {
          "base_uri": "https://localhost:8080/"
        },
        "id": "G2kEAINk9Nuj",
        "outputId": "c6015935-fce8-4697-ba30-6c784b771234"
      },
      "source": [
        "print(abs(-10))"
      ],
      "execution_count": 2,
      "outputs": [
        {
          "output_type": "stream",
          "name": "stdout",
          "text": [
            "10\n"
          ]
        }
      ]
    },
    {
      "cell_type": "markdown",
      "metadata": {
        "id": "2HlhRtAi9qE4"
      },
      "source": [
        "Example of usage -> When counting the total number to steps taken in a game"
      ]
    },
    {
      "cell_type": "code",
      "metadata": {
        "colab": {
          "base_uri": "https://localhost:8080/"
        },
        "id": "Qrh65Oi49zf3",
        "outputId": "dec3d638-f46b-4b73-a3a4-e73d8860b793"
      },
      "source": [
        "steps = -3          # When moving 3 steps left\n",
        "\n",
        "if abs(steps) > 0:      # If not using abs, if steps < 0 or steps > 0:\n",
        "  print('Moving')       #                     print('Moving')"
      ],
      "execution_count": 4,
      "outputs": [
        {
          "output_type": "stream",
          "name": "stdout",
          "text": [
            "Moving\n"
          ]
        }
      ]
    },
    {
      "cell_type": "code",
      "metadata": {
        "colab": {
          "base_uri": "https://localhost:8080/"
        },
        "id": "c_0wUOjp-D-g",
        "outputId": "71a2eb32-6e16-41fb-e925-91de8720d76a"
      },
      "source": [
        "steps = 10          # When moving 10 steps right\n",
        "\n",
        "if abs(steps) > 0:\n",
        "  print('Moving')"
      ],
      "execution_count": 5,
      "outputs": [
        {
          "output_type": "stream",
          "name": "stdout",
          "text": [
            "Moving\n"
          ]
        }
      ]
    },
    {
      "cell_type": "markdown",
      "metadata": {
        "id": "HDp9uxHF_SCU"
      },
      "source": [
        "***The bool Function***\n",
        "\n",
        "   The name bool is short for Boolean, the word programmers use to\n",
        "describe a type of data that can have one of two possible values,\n",
        "usually either true or false.\n",
        "\n",
        "   The bool function takes a single parameter and returns either\n",
        "True or False based on its value. When using bool for numbers, 0\n",
        "returns False, while any other number returns True. Here’s how\n",
        "you might use bool with various numbers:"
      ]
    },
    {
      "cell_type": "code",
      "metadata": {
        "colab": {
          "base_uri": "https://localhost:8080/"
        },
        "id": "MpnE_cUT_W3a",
        "outputId": "1ba15527-ff02-4222-96a3-ba199d6cab66"
      },
      "source": [
        "print(bool(0))"
      ],
      "execution_count": 6,
      "outputs": [
        {
          "output_type": "stream",
          "name": "stdout",
          "text": [
            "False\n"
          ]
        }
      ]
    },
    {
      "cell_type": "code",
      "metadata": {
        "colab": {
          "base_uri": "https://localhost:8080/"
        },
        "id": "GOarZt29_yjP",
        "outputId": "fdf688c2-4cf5-4e18-c515-955d67c6ee50"
      },
      "source": [
        "print(bool(124))"
      ],
      "execution_count": 7,
      "outputs": [
        {
          "output_type": "stream",
          "name": "stdout",
          "text": [
            "True\n"
          ]
        }
      ]
    },
    {
      "cell_type": "code",
      "metadata": {
        "colab": {
          "base_uri": "https://localhost:8080/"
        },
        "id": "FJnmQUKs_1OI",
        "outputId": "3bb2c6e7-944b-4e8c-80a9-7843351e99dc"
      },
      "source": [
        "print(bool(-12))"
      ],
      "execution_count": 9,
      "outputs": [
        {
          "output_type": "stream",
          "name": "stdout",
          "text": [
            "True\n"
          ]
        }
      ]
    },
    {
      "cell_type": "code",
      "metadata": {
        "colab": {
          "base_uri": "https://localhost:8080/"
        },
        "id": "Zb3ticfe_7Pu",
        "outputId": "f4c75ab8-b691-4c7f-ed52-ec0543345f2e"
      },
      "source": [
        "print(bool(15.67))"
      ],
      "execution_count": 10,
      "outputs": [
        {
          "output_type": "stream",
          "name": "stdout",
          "text": [
            "True\n"
          ]
        }
      ]
    },
    {
      "cell_type": "markdown",
      "metadata": {
        "id": "nf8oxivnAIYR"
      },
      "source": [
        "When you use bool for other values, like strings, it returns False\n",
        "if there’s no value for the string (in other words, the keyword None\n",
        "or an empty string). Otherwise, it will return True, as shown here:"
      ]
    },
    {
      "cell_type": "code",
      "metadata": {
        "colab": {
          "base_uri": "https://localhost:8080/"
        },
        "id": "f5y9pkdhAglw",
        "outputId": "3c94db47-2915-4cdd-f667-2c5be8ec246c"
      },
      "source": [
        "print(bool())"
      ],
      "execution_count": 18,
      "outputs": [
        {
          "output_type": "stream",
          "name": "stdout",
          "text": [
            "False\n"
          ]
        }
      ]
    },
    {
      "cell_type": "code",
      "metadata": {
        "colab": {
          "base_uri": "https://localhost:8080/"
        },
        "id": "QtSGyG1gAJTD",
        "outputId": "227ce8fc-fa29-496a-a954-0ce5024251d7"
      },
      "source": [
        "print(bool(None))"
      ],
      "execution_count": 11,
      "outputs": [
        {
          "output_type": "stream",
          "name": "stdout",
          "text": [
            "False\n"
          ]
        }
      ]
    },
    {
      "cell_type": "code",
      "metadata": {
        "colab": {
          "base_uri": "https://localhost:8080/"
        },
        "id": "CfBjcS8xAM6q",
        "outputId": "5559a97e-dc91-4008-d8ac-5ed566fcefca"
      },
      "source": [
        "print(bool('hello'))"
      ],
      "execution_count": 13,
      "outputs": [
        {
          "output_type": "stream",
          "name": "stdout",
          "text": [
            "True\n"
          ]
        }
      ]
    },
    {
      "cell_type": "code",
      "metadata": {
        "colab": {
          "base_uri": "https://localhost:8080/"
        },
        "id": "vmBokDVEAWzz",
        "outputId": "c2755c4b-2dc5-4975-ca33-e68e2c333fd3"
      },
      "source": [
        "print(bool(' '))"
      ],
      "execution_count": 1,
      "outputs": [
        {
          "output_type": "stream",
          "name": "stdout",
          "text": [
            "True\n"
          ]
        }
      ]
    },
    {
      "cell_type": "markdown",
      "metadata": {
        "id": "FAziXzPe4T7x"
      },
      "source": [
        "Example of usage"
      ]
    },
    {
      "cell_type": "code",
      "metadata": {
        "colab": {
          "base_uri": "https://localhost:8080/"
        },
        "id": "WYfl8jD14SDN",
        "outputId": "5f7ceabd-5531-43b6-ded8-c6776feff2ac"
      },
      "source": [
        "year = input('Year of birth: ')\n",
        "if not bool(year.rstrip()):      # If you press enter without typing anything\n",
        " print('You need to enter a value for your year of birth')"
      ],
      "execution_count": 12,
      "outputs": [
        {
          "output_type": "stream",
          "name": "stdout",
          "text": [
            "Year of birth: \n",
            "You need to enter a value for your year of birth\n"
          ]
        }
      ]
    },
    {
      "cell_type": "markdown",
      "metadata": {
        "id": "2oJduCZN6QSe"
      },
      "source": [
        "***The dir Function***\n",
        "\n",
        "The dir function (short for directory) returns information about any\n",
        "value.\n",
        "\n",
        " Basically, it tells you the functions that can be used with\n",
        "that value in alphabetical order.\n",
        "\n",
        "\n",
        "For example, to display the functions that are available for a\n",
        "list value, enter this:"
      ]
    },
    {
      "cell_type": "code",
      "metadata": {
        "colab": {
          "base_uri": "https://localhost:8080/"
        },
        "id": "m0IA1uF-6WgJ",
        "outputId": "4ce97730-be6e-4bcf-e48f-7ac947168f40"
      },
      "source": [
        "dir(['a', 'short', 'list'])"
      ],
      "execution_count": 13,
      "outputs": [
        {
          "output_type": "execute_result",
          "data": {
            "text/plain": [
              "['__add__',\n",
              " '__class__',\n",
              " '__contains__',\n",
              " '__delattr__',\n",
              " '__delitem__',\n",
              " '__dir__',\n",
              " '__doc__',\n",
              " '__eq__',\n",
              " '__format__',\n",
              " '__ge__',\n",
              " '__getattribute__',\n",
              " '__getitem__',\n",
              " '__gt__',\n",
              " '__hash__',\n",
              " '__iadd__',\n",
              " '__imul__',\n",
              " '__init__',\n",
              " '__init_subclass__',\n",
              " '__iter__',\n",
              " '__le__',\n",
              " '__len__',\n",
              " '__lt__',\n",
              " '__mul__',\n",
              " '__ne__',\n",
              " '__new__',\n",
              " '__reduce__',\n",
              " '__reduce_ex__',\n",
              " '__repr__',\n",
              " '__reversed__',\n",
              " '__rmul__',\n",
              " '__setattr__',\n",
              " '__setitem__',\n",
              " '__sizeof__',\n",
              " '__str__',\n",
              " '__subclasshook__',\n",
              " 'append',\n",
              " 'clear',\n",
              " 'copy',\n",
              " 'count',\n",
              " 'extend',\n",
              " 'index',\n",
              " 'insert',\n",
              " 'pop',\n",
              " 'remove',\n",
              " 'reverse',\n",
              " 'sort']"
            ]
          },
          "metadata": {},
          "execution_count": 13
        }
      ]
    },
    {
      "cell_type": "markdown",
      "metadata": {
        "id": "Fi7ttPeW6l5e"
      },
      "source": [
        "   The dir function works on pretty much anything, including strings, numbers, functions, modules, objects, and classes.\n",
        "\n",
        "But sometimes the information it returns may not be very useful.\n",
        "\n",
        "For example, if you call dir on the number 1, it displays a number\n",
        "of special functions (those that start and end with underscores)\n",
        "used by Python itself, which isn’t really useful (you can usually\n",
        "ignore most of them):"
      ]
    },
    {
      "cell_type": "code",
      "metadata": {
        "colab": {
          "base_uri": "https://localhost:8080/"
        },
        "id": "83y2-68A6vA8",
        "outputId": "243c63be-60af-4cd5-8cde-5fcb5bb7b96b"
      },
      "source": [
        "dir(1)"
      ],
      "execution_count": 16,
      "outputs": [
        {
          "output_type": "execute_result",
          "data": {
            "text/plain": [
              "['__abs__',\n",
              " '__add__',\n",
              " '__and__',\n",
              " '__bool__',\n",
              " '__ceil__',\n",
              " '__class__',\n",
              " '__delattr__',\n",
              " '__dir__',\n",
              " '__divmod__',\n",
              " '__doc__',\n",
              " '__eq__',\n",
              " '__float__',\n",
              " '__floor__',\n",
              " '__floordiv__',\n",
              " '__format__',\n",
              " '__ge__',\n",
              " '__getattribute__',\n",
              " '__getnewargs__',\n",
              " '__gt__',\n",
              " '__hash__',\n",
              " '__index__',\n",
              " '__init__',\n",
              " '__init_subclass__',\n",
              " '__int__',\n",
              " '__invert__',\n",
              " '__le__',\n",
              " '__lshift__',\n",
              " '__lt__',\n",
              " '__mod__',\n",
              " '__mul__',\n",
              " '__ne__',\n",
              " '__neg__',\n",
              " '__new__',\n",
              " '__or__',\n",
              " '__pos__',\n",
              " '__pow__',\n",
              " '__radd__',\n",
              " '__rand__',\n",
              " '__rdivmod__',\n",
              " '__reduce__',\n",
              " '__reduce_ex__',\n",
              " '__repr__',\n",
              " '__rfloordiv__',\n",
              " '__rlshift__',\n",
              " '__rmod__',\n",
              " '__rmul__',\n",
              " '__ror__',\n",
              " '__round__',\n",
              " '__rpow__',\n",
              " '__rrshift__',\n",
              " '__rshift__',\n",
              " '__rsub__',\n",
              " '__rtruediv__',\n",
              " '__rxor__',\n",
              " '__setattr__',\n",
              " '__sizeof__',\n",
              " '__str__',\n",
              " '__sub__',\n",
              " '__subclasshook__',\n",
              " '__truediv__',\n",
              " '__trunc__',\n",
              " '__xor__',\n",
              " 'bit_length',\n",
              " 'conjugate',\n",
              " 'denominator',\n",
              " 'from_bytes',\n",
              " 'imag',\n",
              " 'numerator',\n",
              " 'real',\n",
              " 'to_bytes']"
            ]
          },
          "metadata": {},
          "execution_count": 16
        }
      ]
    },
    {
      "cell_type": "markdown",
      "metadata": {
        "id": "ioKeOPN97B38"
      },
      "source": [
        "The dir function can be useful when you have a variable and\n",
        "quickly want to find out what you can do with it. \n",
        "\n",
        "For example, run dir using the variable popcorn containing a string value, and you\n",
        "get the list of functions provided by the string class (all strings are\n",
        "members of the string class):"
      ]
    },
    {
      "cell_type": "code",
      "metadata": {
        "colab": {
          "base_uri": "https://localhost:8080/"
        },
        "id": "-GHv2W4t7JTh",
        "outputId": "e702979b-b368-4887-9714-dc191cc199be"
      },
      "source": [
        "popcorn = 'i like popcorn'\n",
        "dir(popcorn)"
      ],
      "execution_count": 18,
      "outputs": [
        {
          "output_type": "execute_result",
          "data": {
            "text/plain": [
              "['__add__',\n",
              " '__class__',\n",
              " '__contains__',\n",
              " '__delattr__',\n",
              " '__dir__',\n",
              " '__doc__',\n",
              " '__eq__',\n",
              " '__format__',\n",
              " '__ge__',\n",
              " '__getattribute__',\n",
              " '__getitem__',\n",
              " '__getnewargs__',\n",
              " '__gt__',\n",
              " '__hash__',\n",
              " '__init__',\n",
              " '__init_subclass__',\n",
              " '__iter__',\n",
              " '__le__',\n",
              " '__len__',\n",
              " '__lt__',\n",
              " '__mod__',\n",
              " '__mul__',\n",
              " '__ne__',\n",
              " '__new__',\n",
              " '__reduce__',\n",
              " '__reduce_ex__',\n",
              " '__repr__',\n",
              " '__rmod__',\n",
              " '__rmul__',\n",
              " '__setattr__',\n",
              " '__sizeof__',\n",
              " '__str__',\n",
              " '__subclasshook__',\n",
              " 'capitalize',\n",
              " 'casefold',\n",
              " 'center',\n",
              " 'count',\n",
              " 'encode',\n",
              " 'endswith',\n",
              " 'expandtabs',\n",
              " 'find',\n",
              " 'format',\n",
              " 'format_map',\n",
              " 'index',\n",
              " 'isalnum',\n",
              " 'isalpha',\n",
              " 'isascii',\n",
              " 'isdecimal',\n",
              " 'isdigit',\n",
              " 'isidentifier',\n",
              " 'islower',\n",
              " 'isnumeric',\n",
              " 'isprintable',\n",
              " 'isspace',\n",
              " 'istitle',\n",
              " 'isupper',\n",
              " 'join',\n",
              " 'ljust',\n",
              " 'lower',\n",
              " 'lstrip',\n",
              " 'maketrans',\n",
              " 'partition',\n",
              " 'replace',\n",
              " 'rfind',\n",
              " 'rindex',\n",
              " 'rjust',\n",
              " 'rpartition',\n",
              " 'rsplit',\n",
              " 'rstrip',\n",
              " 'split',\n",
              " 'splitlines',\n",
              " 'startswith',\n",
              " 'strip',\n",
              " 'swapcase',\n",
              " 'title',\n",
              " 'translate',\n",
              " 'upper',\n",
              " 'zfill']"
            ]
          },
          "metadata": {},
          "execution_count": 18
        }
      ]
    },
    {
      "cell_type": "markdown",
      "metadata": {
        "id": "UzCqkyLd7Zzi"
      },
      "source": [
        "At this point, you could use help to get a short description of\n",
        "any function in the list.\n",
        "\n",
        " Here’s an example of running help against\n",
        "the upper function:"
      ]
    },
    {
      "cell_type": "code",
      "metadata": {
        "colab": {
          "base_uri": "https://localhost:8080/"
        },
        "id": "neUc5rPJ7fgC",
        "outputId": "d6f5148b-05ee-45eb-b605-9b97acffee68"
      },
      "source": [
        "help(popcorn.upper)"
      ],
      "execution_count": 21,
      "outputs": [
        {
          "output_type": "stream",
          "name": "stdout",
          "text": [
            "Help on built-in function upper:\n",
            "\n",
            "upper() method of builtins.str instance\n",
            "    Return a copy of the string converted to uppercase.\n",
            "\n"
          ]
        }
      ]
    },
    {
      "cell_type": "markdown",
      "metadata": {
        "id": "peHdig0Z9q6e"
      },
      "source": [
        "This code will return a string to uppercase"
      ]
    },
    {
      "cell_type": "markdown",
      "metadata": {
        "id": "4AecFyq29yX1"
      },
      "source": [
        "***The eval Function***\n",
        "\n",
        "The eval function (short for evaluate) takes a string as a parameter\n",
        "and runs it as though it were a Python expression. \n",
        "\n",
        "For example,\n",
        "eval('print(\"wow\")') will actually run the statement print(\"wow\").\n",
        "\n",
        " **NOTE**: The eval function works only with simple expressions, such as\n",
        "the following:"
      ]
    },
    {
      "cell_type": "code",
      "metadata": {
        "colab": {
          "base_uri": "https://localhost:8080/"
        },
        "id": "FFzPN4Y69_Ud",
        "outputId": "7e4bf7c0-40e3-4665-832f-b37fcae51cfe"
      },
      "source": [
        "eval('10*5')"
      ],
      "execution_count": 22,
      "outputs": [
        {
          "output_type": "execute_result",
          "data": {
            "text/plain": [
              "50"
            ]
          },
          "metadata": {},
          "execution_count": 22
        }
      ]
    },
    {
      "cell_type": "markdown",
      "metadata": {
        "id": "TbE8huEd-OYf"
      },
      "source": [
        "The eval function is often used to turn user input into Python\n",
        "expressions.\n",
        "\n",
        " For example, you could write a simple calculator program that reads equations entered into Python and then calculates\n",
        "(evaluates) the answers.\n",
        "\n",
        "\n",
        "Since user input is read in as a string, Python needs to convert\n",
        "it into numbers and operators before doing any calculations.\n",
        "\n",
        " The\n",
        "eval function makes that conversion easy:"
      ]
    },
    {
      "cell_type": "code",
      "metadata": {
        "colab": {
          "base_uri": "https://localhost:8080/"
        },
        "id": "2dlS6njq-OKX",
        "outputId": "3dc7a74e-eee0-43eb-82a9-c109ef1001e0"
      },
      "source": [
        "your_calculation = input('Enter a calculation: ')\n",
        "eval(your_calculation)"
      ],
      "execution_count": 26,
      "outputs": [
        {
          "name": "stdout",
          "output_type": "stream",
          "text": [
            "Enter a calculation: 12*52\n"
          ]
        },
        {
          "output_type": "execute_result",
          "data": {
            "text/plain": [
              "624"
            ]
          },
          "metadata": {},
          "execution_count": 26
        }
      ]
    },
    {
      "cell_type": "markdown",
      "metadata": {
        "id": "FeBsRhlgATyw"
      },
      "source": [
        "In this example, we use input to read what the user enters into\n",
        "the variable your_calculation.\n",
        "\n",
        " On the next line, we enter the expression 12*52 (perhaps your age multiplied by the number of weeks\n",
        "in a year). \n",
        "\n",
        "We use eval to run this calculation, and the result is\n",
        "printed on the final line."
      ]
    },
    {
      "cell_type": "markdown",
      "metadata": {
        "id": "Nx8cnU58Afp9"
      },
      "source": [
        "***The exec Function***\n",
        "\n",
        "The exec function is like eval, except that you can use it to run more\n",
        "complicated programs. \n",
        "\n",
        "The difference between the two is that eval\n",
        "returns a value (something that you can save in a variable), whereas\n",
        "exec does not. \n",
        "\n",
        "Here’s an example:"
      ]
    },
    {
      "cell_type": "code",
      "metadata": {
        "colab": {
          "base_uri": "https://localhost:8080/"
        },
        "id": "Uk6GLfNNAwKD",
        "outputId": "9c5afaee-b7ae-4928-fd57-b9d28dce3270"
      },
      "source": [
        "my_small_program = '''print('ham')\n",
        "print('sandwich')'''\n",
        "exec(my_small_program)"
      ],
      "execution_count": 1,
      "outputs": [
        {
          "output_type": "stream",
          "name": "stdout",
          "text": [
            "ham\n",
            "sandwich\n"
          ]
        }
      ]
    },
    {
      "cell_type": "markdown",
      "metadata": {
        "id": "RPVwGgI6Bh-8"
      },
      "source": [
        "In the first two lines, we create a variable with a multiline\n",
        "string containing two print statements, and then use exec to run\n",
        "the string.\n",
        "\n",
        "\n",
        "You could use exec to run mini programs that your Python program reads in from files—really, programs inside programs!\n",
        "\n",
        " This\n",
        "can be quite useful when writing long, complicated applications.\n",
        "\n",
        "\n",
        "For example, you could create a Dueling Robots game, where two\n",
        "robots move around a screen and try to attack each other. \n",
        "\n",
        "Players\n",
        "of the game would provide the instructions for their robot as mini\n",
        "Python programs. \n",
        "\n",
        "The Dueling Robots game would read in these\n",
        "scripts and use exec to run."
      ]
    },
    {
      "cell_type": "code",
      "metadata": {
        "colab": {
          "base_uri": "https://localhost:8080/"
        },
        "id": "0dVwYKuqs8sc",
        "outputId": "40a69f02-4c3b-4b53-ab62-b04addaea698"
      },
      "source": [
        "code1 = '''print('wow')\n",
        "print('im surprised')'''\n",
        "\n",
        "code2 = '''print(1+1)'''\n",
        "\n",
        "\n",
        "exec(code1)\n",
        "  "
      ],
      "execution_count": 19,
      "outputs": [
        {
          "output_type": "stream",
          "name": "stdout",
          "text": [
            "wow\n",
            "im surprised\n"
          ]
        }
      ]
    },
    {
      "cell_type": "markdown",
      "metadata": {
        "id": "iG23kqOquosi"
      },
      "source": [
        "***The float Function***\n",
        "\n",
        "The float function converts a\n",
        "string or a number into a floatingpoint number, which is a number\n",
        "with a decimal place (also called\n",
        "a real number). \n",
        "\n",
        "For example, the\n",
        "number 10 is an integer (also\n",
        "called a whole number), but 10.0,\n",
        "10.1, and 10.253 are all floatingpoint numbers (also called floats).\n",
        "\n",
        "you can convert a string to float by calling float:"
      ]
    },
    {
      "cell_type": "code",
      "metadata": {
        "colab": {
          "base_uri": "https://localhost:8080/"
        },
        "id": "YZZL-AsNwO8c",
        "outputId": "39c9def9-7b82-4674-a38b-5fe669ef60c4"
      },
      "source": [
        "float('12')"
      ],
      "execution_count": 22,
      "outputs": [
        {
          "output_type": "execute_result",
          "data": {
            "text/plain": [
              "12.0"
            ]
          },
          "metadata": {},
          "execution_count": 22
        }
      ]
    },
    {
      "cell_type": "code",
      "metadata": {
        "colab": {
          "base_uri": "https://localhost:8080/"
        },
        "id": "orcRaTQOxMP3",
        "outputId": "389a7aa5-2a34-41ba-b851-eb457c31c137"
      },
      "source": [
        "float('10.93845')"
      ],
      "execution_count": 25,
      "outputs": [
        {
          "output_type": "execute_result",
          "data": {
            "text/plain": [
              "10.93845"
            ]
          },
          "metadata": {},
          "execution_count": 25
        }
      ]
    },
    {
      "cell_type": "markdown",
      "metadata": {
        "id": "OUaChkq-xf8K"
      },
      "source": [
        "You might use float to convert values entered into your program into proper numbers, which is particularly useful when you\n",
        "need to compare the value a person enters with other values.\n",
        "\n",
        " For\n",
        "example, to check whether a person’s age is above a certain number, we could do this:"
      ]
    },
    {
      "cell_type": "code",
      "metadata": {
        "colab": {
          "base_uri": "https://localhost:8080/"
        },
        "id": "sgNpCz70x-Jt",
        "outputId": "96b0136a-fbd2-4e65-a1db-e884d2d4b937"
      },
      "source": [
        "your_age = input('Enter your age: ')\n",
        "age = float(your_age)\n",
        "if age > 13:\n",
        "  print('You are %s years too old' % (age - 13))"
      ],
      "execution_count": 24,
      "outputs": [
        {
          "output_type": "stream",
          "name": "stdout",
          "text": [
            "Enter your age: 20\n",
            "You are 7.0 years too old\n"
          ]
        }
      ]
    },
    {
      "cell_type": "markdown",
      "metadata": {
        "id": "ScrDLs51yN8B"
      },
      "source": [
        "****The int Function****  ---- VERY USEFULL\n",
        "\n",
        "The int function converts a string or a number into a whole number (or integer), which basically means that everything after the\n",
        "decimal point is dropped.\n",
        "\n",
        "---> # It can also convert a string to integer\n",
        "\n",
        " For example, here’s how to convert a\n",
        "floating-point number into a plain integer:"
      ]
    },
    {
      "cell_type": "code",
      "metadata": {
        "colab": {
          "base_uri": "https://localhost:8080/"
        },
        "id": "Vl0UT1Il0Tfu",
        "outputId": "04ef5c07-3fd4-4002-c267-b16b9e8ccdbc"
      },
      "source": [
        "int(123.456)"
      ],
      "execution_count": 26,
      "outputs": [
        {
          "output_type": "execute_result",
          "data": {
            "text/plain": [
              "123"
            ]
          },
          "metadata": {},
          "execution_count": 26
        }
      ]
    },
    {
      "cell_type": "code",
      "metadata": {
        "colab": {
          "base_uri": "https://localhost:8080/"
        },
        "id": "P2NOeBpM0rSS",
        "outputId": "aa59d697-41c1-46b0-905d-ba6f8523b73b"
      },
      "source": [
        "int('123')"
      ],
      "execution_count": 27,
      "outputs": [
        {
          "output_type": "execute_result",
          "data": {
            "text/plain": [
              "123"
            ]
          },
          "metadata": {},
          "execution_count": 27
        }
      ]
    },
    {
      "cell_type": "markdown",
      "metadata": {
        "id": "LmPhXoPz0zhQ"
      },
      "source": [
        "However floating number string do not work and an error will pop up. (floating numbers are numbers with decimals)\n",
        "\n",
        "It also makes the floating number into an integer if using floating numbers"
      ]
    },
    {
      "cell_type": "code",
      "metadata": {
        "colab": {
          "base_uri": "https://localhost:8080/"
        },
        "id": "Bawofie71b3y",
        "outputId": "faf5a4b2-62cd-4d69-fa24-83ff0985a642"
      },
      "source": [
        "int(12.345)"
      ],
      "execution_count": 4,
      "outputs": [
        {
          "output_type": "execute_result",
          "data": {
            "text/plain": [
              "12"
            ]
          },
          "metadata": {},
          "execution_count": 4
        }
      ]
    },
    {
      "cell_type": "markdown",
      "metadata": {
        "id": "XN4jFn9U5H_T"
      },
      "source": [
        "***The len Function***\n",
        "\n",
        "\n",
        "The len function returns\n",
        "the length of an object or,\n",
        "in the case of a string, the\n",
        "number of characters in the\n",
        "string.\n",
        "\n",
        " For example, to get\n",
        "the length of this is a test\n",
        "string, you would do this:"
      ]
    },
    {
      "cell_type": "code",
      "metadata": {
        "colab": {
          "base_uri": "https://localhost:8080/"
        },
        "id": "uvscO3AU5DZS",
        "outputId": "19c70587-b918-4d25-85c1-0581d04a8032"
      },
      "source": [
        "len('this is a test string')"
      ],
      "execution_count": 5,
      "outputs": [
        {
          "output_type": "execute_result",
          "data": {
            "text/plain": [
              "21"
            ]
          },
          "metadata": {},
          "execution_count": 5
        }
      ]
    },
    {
      "cell_type": "markdown",
      "metadata": {
        "id": "Icvu6e4e5UXU"
      },
      "source": [
        "When used with a list or a tuple, len returns the number of\n",
        "items in that list or tuple:"
      ]
    },
    {
      "cell_type": "code",
      "metadata": {
        "colab": {
          "base_uri": "https://localhost:8080/"
        },
        "id": "YrKTQGWk5UDA",
        "outputId": "958bb77c-3636-4fda-fff9-cfdaa9585ebf"
      },
      "source": [
        " creature_list = ['unicorn', 'cyclops', 'fairy', 'elf', 'dragon',\n",
        " 'troll']\n",
        "\n",
        "print(len(creature_list))"
      ],
      "execution_count": 7,
      "outputs": [
        {
          "output_type": "stream",
          "name": "stdout",
          "text": [
            "6\n"
          ]
        }
      ]
    },
    {
      "cell_type": "markdown",
      "metadata": {
        "id": "dRmg1BoX7LdC"
      },
      "source": [
        "Used with a map, len also returns the number of items in\n",
        "the map:"
      ]
    },
    {
      "cell_type": "code",
      "metadata": {
        "colab": {
          "base_uri": "https://localhost:8080/"
        },
        "id": "g4Nwk6Wj7IHI",
        "outputId": "9cf54dec-26f7-428b-92d6-1f154dd16232"
      },
      "source": [
        "enemies_map = {'Batman' : 'Joker',\n",
        " 'Superman' : 'Lex Luthor',\n",
        " 'Spiderman' : 'Green Goblin'}\n",
        "\n",
        "print(len(enemies_map))"
      ],
      "execution_count": 8,
      "outputs": [
        {
          "output_type": "stream",
          "name": "stdout",
          "text": [
            "3\n"
          ]
        }
      ]
    },
    {
      "cell_type": "markdown",
      "metadata": {
        "id": "rxhDLKpm7ojm"
      },
      "source": [
        "The len function is particularly useful when you’re working\n",
        "with loops.\n",
        "\n",
        " For example, we could use it to display the index positions of the elements in a list like this:"
      ]
    },
    {
      "cell_type": "code",
      "metadata": {
        "colab": {
          "base_uri": "https://localhost:8080/"
        },
        "id": "fZ3VbRyv7tHA",
        "outputId": "d2b680de-0da3-4d00-f357-1f2f92461a0f"
      },
      "source": [
        "fruit = ['apple', 'banana', 'clementine', 'dragon fruit']\n",
        "length = len(fruit)\n",
        "\n",
        "for x in range(0, length):\n",
        "  print('the fruit at index %s is %s' % (x, fruit[x]))"
      ],
      "execution_count": 9,
      "outputs": [
        {
          "output_type": "stream",
          "name": "stdout",
          "text": [
            "the fruit at index 0 is apple\n",
            "the fruit at index 1 is banana\n",
            "the fruit at index 2 is clementine\n",
            "the fruit at index 3 is dragon fruit\n"
          ]
        }
      ]
    },
    {
      "cell_type": "markdown",
      "metadata": {
        "id": "1BGp3ADP87Kt"
      },
      "source": [
        "Here, we store the length of the list in\n",
        "the variable length, and then use that\n",
        "variable in the range function to create our\n",
        "loop. As we loop through each item\n",
        "in the list, we print a message showing the\n",
        "item’s index position and value. You could\n",
        "also use the len function, if you had a list of\n",
        "strings and wanted to print every second or\n",
        "third item in the list."
      ]
    },
    {
      "cell_type": "markdown",
      "metadata": {
        "id": "XMzXLPpL9MWp"
      },
      "source": [
        "***The max and min Functions***\n",
        "\n",
        "\n",
        "The max function returns the largest item in a\n",
        "list, tuple, or string. \n",
        "\n",
        "For example, here’s how\n",
        "to use it with a list of numbers:"
      ]
    },
    {
      "cell_type": "code",
      "metadata": {
        "colab": {
          "base_uri": "https://localhost:8080/"
        },
        "id": "TLv3mwZx9O2B",
        "outputId": "53396371-b914-4da2-9862-b4fcaff1ced2"
      },
      "source": [
        " numbers = [5, 4, 10, 30, 22]\n",
        " print(max(numbers))"
      ],
      "execution_count": 10,
      "outputs": [
        {
          "output_type": "stream",
          "name": "stdout",
          "text": [
            "30\n"
          ]
        }
      ]
    },
    {
      "cell_type": "markdown",
      "metadata": {
        "id": "h25tPfEU9e32"
      },
      "source": [
        "A string with the characters separated by commas or spaces\n",
        "will also work: "
      ]
    },
    {
      "cell_type": "code",
      "metadata": {
        "colab": {
          "base_uri": "https://localhost:8080/"
        },
        "id": "I8m6IWzb9hIs",
        "outputId": "90eb7197-e8cf-438b-ea5e-2fca41269f6e"
      },
      "source": [
        "strings = 's,t,r,i,n,g,S,T,R,I,N,G'\n",
        "print(max(strings))"
      ],
      "execution_count": 11,
      "outputs": [
        {
          "output_type": "stream",
          "name": "stdout",
          "text": [
            "t\n"
          ]
        }
      ]
    },
    {
      "cell_type": "markdown",
      "metadata": {
        "id": "_JVU2hul9qy2"
      },
      "source": [
        "As this example shows, letters are ranked alphabetically, and\n",
        "lowercase letters come after uppercase letters, so t is more than T.\n",
        "\n",
        "But you don’t have to use lists, tuples, or strings. \n",
        "\n",
        "You can also\n",
        "call the max function directly, and enter the items that you want to\n",
        "compare into the parentheses as parameters:"
      ]
    },
    {
      "cell_type": "code",
      "metadata": {
        "colab": {
          "base_uri": "https://localhost:8080/"
        },
        "id": "8JsiN6-_9v7t",
        "outputId": "6df0bc06-3270-4865-9a76-65eb4370fdc5"
      },
      "source": [
        "print(max(10, 300, 450, 50, 90))"
      ],
      "execution_count": 12,
      "outputs": [
        {
          "output_type": "stream",
          "name": "stdout",
          "text": [
            "450\n"
          ]
        }
      ]
    },
    {
      "cell_type": "markdown",
      "metadata": {
        "id": "7t6XLIcoxsxb"
      },
      "source": [
        "The min function works like max, except that it returns the\n",
        "smallest item in the list, tuple, or string. \n",
        "\n",
        "Here’s our list of numbers example using min instead of max:"
      ]
    },
    {
      "cell_type": "code",
      "metadata": {
        "colab": {
          "base_uri": "https://localhost:8080/"
        },
        "id": "HgkeBoaAxqBE",
        "outputId": "423ccb10-db22-4ec0-eb19-6b401c6656b9"
      },
      "source": [
        "numbers = [5, 4, 10, 30, 22]\n",
        "print(min(numbers))"
      ],
      "execution_count": 2,
      "outputs": [
        {
          "output_type": "stream",
          "name": "stdout",
          "text": [
            "4\n"
          ]
        }
      ]
    },
    {
      "cell_type": "markdown",
      "metadata": {
        "id": "X9V0AsTbyAuM"
      },
      "source": [
        "Suppose you were playing a guessing game with a team of four\n",
        "players, and each had to guess a number that was less than your\n",
        "number.\n",
        "\n",
        " If any player guesses above your number, all players lose,\n",
        "but if they all guess lower, they win. \n",
        "\n",
        "We could use max to quickly\n",
        "find whether all of the guesses are lower, like so:"
      ]
    },
    {
      "cell_type": "code",
      "metadata": {
        "colab": {
          "base_uri": "https://localhost:8080/"
        },
        "id": "n0icC2zqyFzM",
        "outputId": "28c25258-2dd6-46bd-dc19-d7a62b1ce09b"
      },
      "source": [
        "guess_this_number = 61\n",
        "player_guesses = [12, 15, 70, 45]\n",
        "if max(player_guesses) > guess_this_number:\n",
        "  print('Boom! You all lose')\n",
        "\n",
        "else:\n",
        "  print('You win')"
      ],
      "execution_count": 5,
      "outputs": [
        {
          "output_type": "stream",
          "name": "stdout",
          "text": [
            "Boom! You all lose\n"
          ]
        }
      ]
    },
    {
      "cell_type": "markdown",
      "metadata": {
        "id": "HbcqOPMuygK3"
      },
      "source": [
        "In this example, we store the number to guess using the variable guess_this_number.\n",
        "\n",
        " The team members’ guesses are stored in\n",
        "the list player_guesses.\n",
        "\n",
        "  The if statement checks the maximum guess\n",
        "against the number in guess_this_number, and if any player guesses\n",
        "over the number, we print the message “Boom! You all lose.”"
      ]
    },
    {
      "cell_type": "markdown",
      "metadata": {
        "id": "DKUGnONLzE1j"
      },
      "source": [
        "***The range Function***\n",
        "\n",
        "The range function, as we’ve\n",
        "seen before, is mainly used in\n",
        "for loops, to loop through a section of code a specific number of\n",
        "times. \n",
        "\n",
        "The first two parameters\n",
        "given to range are called the start\n",
        "and the stop. \n",
        "\n",
        "You saw range with\n",
        "these two parameters in the earlier example of using the len\n",
        "function to work with a loop.\n",
        "\n",
        "\n",
        "The numbers that range generates begin with the number given\n",
        "as the first parameter and end with the number that’s one less than\n",
        "the second parameter. \n",
        "\n",
        "For example, the following shows what happens when we print the numbers that range creates between 0 and 5:"
      ]
    },
    {
      "cell_type": "code",
      "metadata": {
        "colab": {
          "base_uri": "https://localhost:8080/"
        },
        "id": "e0BomWFU0Tho",
        "outputId": "438a81e2-5962-446b-a307-7a989c9fd7e4"
      },
      "source": [
        "for x in range(0, 5):\n",
        "  print(x)"
      ],
      "execution_count": 6,
      "outputs": [
        {
          "output_type": "stream",
          "name": "stdout",
          "text": [
            "0\n",
            "1\n",
            "2\n",
            "3\n",
            "4\n"
          ]
        }
      ]
    },
    {
      "cell_type": "markdown",
      "metadata": {
        "id": "gyH5Zsb00cyW"
      },
      "source": [
        "The range function actually returns a special object called an\n",
        "iterator that repeats an action a number of times. \n",
        "\n",
        "In this case, it\n",
        "returns the next highest number each time it is called.\n",
        "\n",
        "You can convert the iterator into a list (using the function list).\n",
        "\n",
        "If you then print the returned value when calling range, you’ll see\n",
        "the numbers it contains as well:"
      ]
    },
    {
      "cell_type": "code",
      "metadata": {
        "colab": {
          "base_uri": "https://localhost:8080/"
        },
        "id": "8N0723GA0uHM",
        "outputId": "12478aaf-31f4-4bb3-e537-0011f4ae2a56"
      },
      "source": [
        "print(list(range(0, 5)))"
      ],
      "execution_count": 7,
      "outputs": [
        {
          "output_type": "stream",
          "name": "stdout",
          "text": [
            "[0, 1, 2, 3, 4]\n"
          ]
        }
      ]
    },
    {
      "cell_type": "markdown",
      "metadata": {
        "id": "QSk2tpiQ1F1S"
      },
      "source": [
        "You can also add a third parameter to range, called step.\n",
        "\n",
        " If the step value is not included, the number 1 is used as the step by\n",
        "default.\n",
        "\n",
        " But what happens when we pass in the number 2 as the step? \n",
        " \n",
        " Here’s the result:"
      ]
    },
    {
      "cell_type": "code",
      "metadata": {
        "colab": {
          "base_uri": "https://localhost:8080/"
        },
        "id": "HELO_Akq1Mtv",
        "outputId": "5bf47d05-8dc8-40d0-e093-872fceb53993"
      },
      "source": [
        "count_by_twos = list(range(0, 30, 2))\n",
        "print(count_by_twos)"
      ],
      "execution_count": 8,
      "outputs": [
        {
          "output_type": "stream",
          "name": "stdout",
          "text": [
            "[0, 2, 4, 6, 8, 10, 12, 14, 16, 18, 20, 22, 24, 26, 28]\n"
          ]
        }
      ]
    },
    {
      "cell_type": "markdown",
      "metadata": {
        "id": "FBRLBRNP1dYc"
      },
      "source": [
        "Each number in the list increases by two from the previous\n",
        "number, and the list ends with the number 28, which is 2 less\n",
        "than 30.\n",
        "\n",
        " You can also use negative steps:"
      ]
    },
    {
      "cell_type": "code",
      "metadata": {
        "colab": {
          "base_uri": "https://localhost:8080/"
        },
        "id": "tRMYtbh21gPo",
        "outputId": "f4920306-77cf-4b35-bbff-69d6f5d66a73"
      },
      "source": [
        "count_down_by_twos = list(range(40, 10, -2))\n",
        "print(count_down_by_twos)"
      ],
      "execution_count": 9,
      "outputs": [
        {
          "output_type": "stream",
          "name": "stdout",
          "text": [
            "[40, 38, 36, 34, 32, 30, 28, 26, 24, 22, 20, 18, 16, 14, 12]\n"
          ]
        }
      ]
    },
    {
      "cell_type": "markdown",
      "metadata": {
        "id": "MdlgFQ4W1tW1"
      },
      "source": [
        "Steps are basically how many numbers it will take skip before reaching the next number. \n",
        "\n",
        "This can be useful when printing even/odd numbers"
      ]
    },
    {
      "cell_type": "markdown",
      "metadata": {
        "id": "jOaneG3Z2wXb"
      },
      "source": [
        "***The sum Function***\n",
        "\n",
        "The sum function adds items in a list and returns the total. Here’s\n",
        "an example:"
      ]
    },
    {
      "cell_type": "code",
      "metadata": {
        "colab": {
          "base_uri": "https://localhost:8080/"
        },
        "id": "EhIpG4xFVhHE",
        "outputId": "95633527-aea1-4e74-b5cc-1f7afa753733"
      },
      "source": [
        "my_list_of_numbers = list(range(0, 500, 50))\n",
        "print(my_list_of_numbers)\n",
        "print(sum(my_list_of_numbers))"
      ],
      "execution_count": 2,
      "outputs": [
        {
          "output_type": "stream",
          "name": "stdout",
          "text": [
            "[0, 50, 100, 150, 200, 250, 300, 350, 400, 450]\n",
            "2250\n"
          ]
        }
      ]
    },
    {
      "cell_type": "markdown",
      "metadata": {
        "id": "jJB5RJohV-Ne"
      },
      "source": [
        "On the first line, we create a list of numbers between 0 and\n",
        "500, using range with a step of 50.\n",
        "\n",
        " Next, we print the list to see the\n",
        "result. \n",
        "\n",
        "Finally, passing the variable my_list_of_numbers to the sum\n",
        "function with print(sum(my_list_of_numbers)) adds all the items in\n",
        "the list, giving the total of 2250."
      ]
    },
    {
      "cell_type": "markdown",
      "metadata": {
        "id": "2kf4xDa2WDYa"
      },
      "source": [
        "***Working with Files***\n",
        "\n",
        "Python files are the same as other files on your computer: documents, pictures, music, games . . . indeed, everything on your\n",
        "computer is stored as files.\n",
        "\n",
        "Let’s look at how to open and work with files in Python by\n",
        "using the built-in function open.\n",
        "\n",
        " But first we need to create a\n",
        "new file to play with."
      ]
    },
    {
      "cell_type": "markdown",
      "metadata": {
        "id": "OyTK7IbTWTh7"
      },
      "source": [
        "To create a file in colab, open **File** then select **Upload notebook** to upload a colab file to a new or another file.\n",
        "\n",
        "After that choose a place where you would like to upload."
      ]
    },
    {
      "cell_type": "markdown",
      "metadata": {
        "id": "zn0VLoTNcPOY"
      },
      "source": [
        "***Programming Puzzles*** - pg 127"
      ]
    },
    {
      "cell_type": "markdown",
      "metadata": {
        "id": "lVwdumatcWXT"
      },
      "source": [
        "***1: Mystery Code***\n",
        "\n",
        "What will be the result of running the following code? Guess, and\n",
        "then run the code to see if you’re right."
      ]
    },
    {
      "cell_type": "code",
      "metadata": {
        "id": "eftX8aWyc0Q9",
        "outputId": "ecdda0c2-5977-45a7-da9b-d406ff4e3ab4",
        "colab": {
          "base_uri": "https://localhost:8080/"
        }
      },
      "source": [
        "a = abs(10) + abs(-10)\n",
        "print(a)\n",
        "\n",
        "b = abs(-10) + -10\n",
        "print(b)"
      ],
      "execution_count": 3,
      "outputs": [
        {
          "output_type": "stream",
          "name": "stdout",
          "text": [
            "20\n",
            "0\n"
          ]
        }
      ]
    },
    {
      "cell_type": "markdown",
      "metadata": {
        "id": "DEkCdbUjcthd"
      },
      "source": [
        "a will print out 20  -> 10 + 10\n",
        "\n",
        "b will print out 0   -> 10 - 10"
      ]
    },
    {
      "cell_type": "markdown",
      "metadata": {
        "id": "n00RNY8Td4W_"
      },
      "source": [
        "***2: A Hidden Message***\n",
        "\n",
        "Try using dir and help to find out how to break a string into words,\n",
        "and then create a small program to print every other word in the\n",
        "following string, starting with the first word (this):"
      ]
    },
    {
      "cell_type": "code",
      "metadata": {
        "id": "dKpObfpxd9jH",
        "outputId": "0a960ac0-1974-4d3a-b693-410577c496ee",
        "colab": {
          "base_uri": "https://localhost:8080/",
          "height": 37
        }
      },
      "source": [
        "\"this if is you not are a reading very this good then way you to have hide done a it message wrong\""
      ],
      "execution_count": 4,
      "outputs": [
        {
          "output_type": "execute_result",
          "data": {
            "application/vnd.google.colaboratory.intrinsic+json": {
              "type": "string"
            },
            "text/plain": [
              "'this if is you not are a reading very this good then way you to have hide done a it message wrong'"
            ]
          },
          "metadata": {},
          "execution_count": 4
        }
      ]
    },
    {
      "cell_type": "code",
      "metadata": {
        "id": "9AX1AOI5eBhx",
        "outputId": "de4b56e9-9329-420e-eef3-1e53e85095ee",
        "colab": {
          "base_uri": "https://localhost:8080/"
        }
      },
      "source": [
        "dir(\"this if is you not are a reading very this good then way you to have hide done a it message wrong\")"
      ],
      "execution_count": 6,
      "outputs": [
        {
          "output_type": "execute_result",
          "data": {
            "text/plain": [
              "['__add__',\n",
              " '__class__',\n",
              " '__contains__',\n",
              " '__delattr__',\n",
              " '__dir__',\n",
              " '__doc__',\n",
              " '__eq__',\n",
              " '__format__',\n",
              " '__ge__',\n",
              " '__getattribute__',\n",
              " '__getitem__',\n",
              " '__getnewargs__',\n",
              " '__gt__',\n",
              " '__hash__',\n",
              " '__init__',\n",
              " '__init_subclass__',\n",
              " '__iter__',\n",
              " '__le__',\n",
              " '__len__',\n",
              " '__lt__',\n",
              " '__mod__',\n",
              " '__mul__',\n",
              " '__ne__',\n",
              " '__new__',\n",
              " '__reduce__',\n",
              " '__reduce_ex__',\n",
              " '__repr__',\n",
              " '__rmod__',\n",
              " '__rmul__',\n",
              " '__setattr__',\n",
              " '__sizeof__',\n",
              " '__str__',\n",
              " '__subclasshook__',\n",
              " 'capitalize',\n",
              " 'casefold',\n",
              " 'center',\n",
              " 'count',\n",
              " 'encode',\n",
              " 'endswith',\n",
              " 'expandtabs',\n",
              " 'find',\n",
              " 'format',\n",
              " 'format_map',\n",
              " 'index',\n",
              " 'isalnum',\n",
              " 'isalpha',\n",
              " 'isascii',\n",
              " 'isdecimal',\n",
              " 'isdigit',\n",
              " 'isidentifier',\n",
              " 'islower',\n",
              " 'isnumeric',\n",
              " 'isprintable',\n",
              " 'isspace',\n",
              " 'istitle',\n",
              " 'isupper',\n",
              " 'join',\n",
              " 'ljust',\n",
              " 'lower',\n",
              " 'lstrip',\n",
              " 'maketrans',\n",
              " 'partition',\n",
              " 'replace',\n",
              " 'rfind',\n",
              " 'rindex',\n",
              " 'rjust',\n",
              " 'rpartition',\n",
              " 'rsplit',\n",
              " 'rstrip',\n",
              " 'split',\n",
              " 'splitlines',\n",
              " 'startswith',\n",
              " 'strip',\n",
              " 'swapcase',\n",
              " 'title',\n",
              " 'translate',\n",
              " 'upper',\n",
              " 'zfill']"
            ]
          },
          "metadata": {},
          "execution_count": 6
        }
      ]
    },
    {
      "cell_type": "code",
      "metadata": {
        "id": "9uqYx4nueWq4",
        "outputId": "88e924c3-cff7-48ac-c257-e36e0a24187e",
        "colab": {
          "base_uri": "https://localhost:8080/"
        }
      },
      "source": [
        "word= \"this if is you not are a reading very this good then way you to have hide done a it message wrong\"\n",
        "\n",
        "help(word.strip)\n"
      ],
      "execution_count": 13,
      "outputs": [
        {
          "output_type": "stream",
          "name": "stdout",
          "text": [
            "Help on built-in function strip:\n",
            "\n",
            "strip(chars=None, /) method of builtins.str instance\n",
            "    Return a copy of the string with leading and trailing whitespace removed.\n",
            "    \n",
            "    If chars is given and not None, remove characters in chars instead.\n",
            "\n"
          ]
        }
      ]
    },
    {
      "cell_type": "code",
      "metadata": {
        "id": "d-AOyexefWUU",
        "outputId": "9b28d399-b7a5-43e0-ea8b-18c776c3d070",
        "colab": {
          "base_uri": "https://localhost:8080/"
        }
      },
      "source": [
        "string = \"this if is you not are a reading very this good then way you to have hide done a it message wrong\"\n",
        "\n",
        "x = string.split()\n",
        "\n",
        "\n",
        "for y in range(0,22,2):\n",
        "  print(x[y])"
      ],
      "execution_count": 6,
      "outputs": [
        {
          "output_type": "stream",
          "name": "stdout",
          "text": [
            "this\n",
            "is\n",
            "not\n",
            "a\n",
            "very\n",
            "good\n",
            "way\n",
            "to\n",
            "hide\n",
            "a\n",
            "message\n"
          ]
        }
      ]
    }
  ]
}