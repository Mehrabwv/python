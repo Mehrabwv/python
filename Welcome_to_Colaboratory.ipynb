{
  "nbformat": 4,
  "nbformat_minor": 0,
  "metadata": {
    "colab": {
      "name": "Welcome to Colaboratory",
      "provenance": [],
      "collapsed_sections": [],
      "toc_visible": true,
      "include_colab_link": true
    },
    "kernelspec": {
      "display_name": "Python 3",
      "name": "python3"
    }
  },
  "cells": [
    {
      "cell_type": "markdown",
      "metadata": {
        "id": "view-in-github",
        "colab_type": "text"
      },
      "source": [
        "<a href=\"https://colab.research.google.com/github/Mehrabwv/python/blob/main/Welcome_to_Colaboratory.ipynb\" target=\"_parent\"><img src=\"https://colab.research.google.com/assets/colab-badge.svg\" alt=\"Open In Colab\"/></a>"
      ]
    },
    {
      "cell_type": "code",
      "metadata": {
        "id": "yP31XhqWIAXk",
        "colab": {
          "base_uri": "https://localhost:8080/"
        },
        "outputId": "97a21dc3-6f3e-490e-f080-b371a7e27b1f"
      },
      "source": [
        "weight1= input('What is your weight now?: ')\n",
        "increase1= input('How much increase do you expect?: ')\n",
        "year1= input('In how many years?: ')\n",
        "\n",
        "weight = int(weight1)\n",
        "increase = int(increase1)\n",
        "yeare = int(year1)\n",
        "year2 = yeare\n",
        "\n",
        "\n",
        "for year2 in range(0,year2):\n",
        "  moonweight=(weight+(increase*year2))*0.165\n",
        "  print(year2,moonweight)"
      ],
      "execution_count": 58,
      "outputs": [
        {
          "output_type": "stream",
          "name": "stdout",
          "text": [
            "What is your weight now?: 1\n",
            "How much increase do you expect?: 1\n",
            "In how many years?: 1\n",
            "0 0.165\n"
          ]
        }
      ]
    },
    {
      "cell_type": "markdown",
      "metadata": {
        "id": "b-_vPk9YFSyP"
      },
      "source": [
        "# ***Python For Kids***   \n"
      ]
    },
    {
      "cell_type": "markdown",
      "metadata": {
        "id": "BplOc5A9FkvO"
      },
      "source": [
        "# Chapter 1 - Not all snakes slither\n",
        "# (Basics)"
      ]
    },
    {
      "cell_type": "code",
      "metadata": {
        "id": "e1rOLP78Hl6F",
        "colab": {
          "base_uri": "https://localhost:8080/"
        },
        "outputId": "f0df0b26-0aee-45e2-b475-8ef42c7063d9"
      },
      "source": [
        "print('How are you?')"
      ],
      "execution_count": 59,
      "outputs": [
        {
          "output_type": "stream",
          "name": "stdout",
          "text": [
            "How are you?\n"
          ]
        }
      ]
    },
    {
      "cell_type": "code",
      "metadata": {
        "id": "-Lm3KuQrJ2Vs",
        "colab": {
          "base_uri": "https://localhost:8080/"
        },
        "outputId": "89d9523b-d944-4147-acea-82f0ac6d8be4"
      },
      "source": [
        "print(\"hello world\")"
      ],
      "execution_count": 60,
      "outputs": [
        {
          "output_type": "stream",
          "name": "stdout",
          "text": [
            "hello world\n"
          ]
        }
      ]
    },
    {
      "cell_type": "code",
      "metadata": {
        "id": "19p9Iu0wJ840",
        "colab": {
          "base_uri": "https://localhost:8080/"
        },
        "outputId": "f79b5385-375f-456d-f7d5-2f3dc89e6134"
      },
      "source": [
        "print('''hello world''')"
      ],
      "execution_count": 61,
      "outputs": [
        {
          "output_type": "stream",
          "name": "stdout",
          "text": [
            "hello world\n"
          ]
        }
      ]
    },
    {
      "cell_type": "markdown",
      "metadata": {
        "id": "kHrp0NgNKFdq"
      },
      "source": [
        "#Chapter 2 - Calculations and Variables\n",
        "#Calculations"
      ]
    },
    {
      "cell_type": "code",
      "metadata": {
        "id": "31jkHigHKYiC",
        "colab": {
          "base_uri": "https://localhost:8080/"
        },
        "outputId": "e82a7b75-47c3-4fab-9d44-bf7ae1a14e54"
      },
      "source": [
        "8*3.57   #8 times 3.57 = 28.56"
      ],
      "execution_count": 62,
      "outputs": [
        {
          "output_type": "execute_result",
          "data": {
            "text/plain": [
              "28.56"
            ]
          },
          "metadata": {},
          "execution_count": 62
        }
      ]
    },
    {
      "cell_type": "markdown",
      "metadata": {
        "id": "Yz3O2FZuLeW-"
      },
      "source": [
        "Pg 16 - puzzle"
      ]
    },
    {
      "cell_type": "code",
      "metadata": {
        "id": "IDt-F1_BKlTd",
        "colab": {
          "base_uri": "https://localhost:8080/"
        },
        "outputId": "b1578777-0d22-4ef6-af6a-1bcfd1ab7c5f"
      },
      "source": [
        "10*365"
      ],
      "execution_count": 63,
      "outputs": [
        {
          "output_type": "execute_result",
          "data": {
            "text/plain": [
              "3650"
            ]
          },
          "metadata": {},
          "execution_count": 63
        }
      ]
    },
    {
      "cell_type": "code",
      "metadata": {
        "id": "sQ_35pdPK05i",
        "colab": {
          "base_uri": "https://localhost:8080/"
        },
        "outputId": "49dea931-aee2-40c2-8eb7-ad23b3edb87d"
      },
      "source": [
        "20+3650"
      ],
      "execution_count": 64,
      "outputs": [
        {
          "output_type": "execute_result",
          "data": {
            "text/plain": [
              "3670"
            ]
          },
          "metadata": {},
          "execution_count": 64
        }
      ]
    },
    {
      "cell_type": "code",
      "metadata": {
        "id": "RMP33JlNLoy9",
        "colab": {
          "base_uri": "https://localhost:8080/"
        },
        "outputId": "d995c024-c76c-4070-8cf9-bef90a7a197d"
      },
      "source": [
        "3*52"
      ],
      "execution_count": 65,
      "outputs": [
        {
          "output_type": "execute_result",
          "data": {
            "text/plain": [
              "156"
            ]
          },
          "metadata": {},
          "execution_count": 65
        }
      ]
    },
    {
      "cell_type": "code",
      "metadata": {
        "id": "y-5hU36BL3qd",
        "colab": {
          "base_uri": "https://localhost:8080/"
        },
        "outputId": "0acf0fd1-5495-4560-99b4-baac80fa63f4"
      },
      "source": [
        "3670-156"
      ],
      "execution_count": 66,
      "outputs": [
        {
          "output_type": "execute_result",
          "data": {
            "text/plain": [
              "3514"
            ]
          },
          "metadata": {},
          "execution_count": 66
        }
      ]
    },
    {
      "cell_type": "markdown",
      "metadata": {
        "id": "YkhUCC52w50N"
      },
      "source": [
        "BODMAS\n",
        "\n",
        "\n",
        "add\n",
        "5 to 30, and then multiply the result\n",
        "by 20"
      ]
    },
    {
      "cell_type": "code",
      "metadata": {
        "id": "eNneJtqfL_7X",
        "colab": {
          "base_uri": "https://localhost:8080/"
        },
        "outputId": "84418202-98a9-4300-dba5-4e148b6698de"
      },
      "source": [
        "(5+30)*20"
      ],
      "execution_count": 67,
      "outputs": [
        {
          "output_type": "execute_result",
          "data": {
            "text/plain": [
              "700"
            ]
          },
          "metadata": {},
          "execution_count": 67
        }
      ]
    },
    {
      "cell_type": "markdown",
      "metadata": {
        "id": "jmgJIMJgzV9F"
      },
      "source": [
        " Adding 5 to 30 gives 35.\n",
        "\n",
        " Multiplying 35 by 20 gives 700.\n",
        "\n",
        " Dividing 700 by 10 gives the final answer of 70."
      ]
    },
    {
      "cell_type": "code",
      "metadata": {
        "id": "8eRWdxvwzOEn",
        "colab": {
          "base_uri": "https://localhost:8080/"
        },
        "outputId": "787ad122-da3e-4b7c-c888-44e29a42579d"
      },
      "source": [
        " ((5 + 30) * 20) / 10"
      ],
      "execution_count": 68,
      "outputs": [
        {
          "output_type": "execute_result",
          "data": {
            "text/plain": [
              "70.0"
            ]
          },
          "metadata": {},
          "execution_count": 68
        }
      ]
    },
    {
      "cell_type": "markdown",
      "metadata": {
        "id": "SzebuoECzsSH"
      },
      "source": [
        "Variables"
      ]
    },
    {
      "cell_type": "code",
      "metadata": {
        "id": "G6kzzALRzucy",
        "colab": {
          "base_uri": "https://localhost:8080/"
        },
        "outputId": "ea16b95d-ca75-487b-81bf-32176ff5c4d6"
      },
      "source": [
        "fred=100\n",
        "print(fred)"
      ],
      "execution_count": 69,
      "outputs": [
        {
          "output_type": "stream",
          "name": "stdout",
          "text": [
            "100\n"
          ]
        }
      ]
    },
    {
      "cell_type": "code",
      "metadata": {
        "id": "n-ddBOayz3Ot",
        "colab": {
          "base_uri": "https://localhost:8080/"
        },
        "outputId": "56b88455-a82d-4d27-d51e-4832ed632f1f"
      },
      "source": [
        "fred=100\n",
        "john=fred+5\n",
        "print(john)"
      ],
      "execution_count": 70,
      "outputs": [
        {
          "output_type": "stream",
          "name": "stdout",
          "text": [
            "105\n"
          ]
        }
      ]
    },
    {
      "cell_type": "code",
      "metadata": {
        "id": "F6bkX0lS0Sci",
        "colab": {
          "base_uri": "https://localhost:8080/"
        },
        "outputId": "00d3b28b-576b-461d-9ca2-39497f20b477"
      },
      "source": [
        "# You cant start a variable with a number!\n",
        "number_of_coins = 200\n",
        "print(number_of_coins)"
      ],
      "execution_count": 71,
      "outputs": [
        {
          "output_type": "stream",
          "name": "stdout",
          "text": [
            "200\n"
          ]
        }
      ]
    },
    {
      "cell_type": "markdown",
      "metadata": {
        "id": "KMU5DCRS0usv"
      },
      "source": [
        "Pg 21 - more info"
      ]
    },
    {
      "cell_type": "code",
      "metadata": {
        "id": "Rm2GZ1gJ05ee",
        "colab": {
          "base_uri": "https://localhost:8080/"
        },
        "outputId": "88f75ddd-93a1-4edf-d8c4-4dfc8774cbb6"
      },
      "source": [
        " 20 + 10 * 365 - 3 * 52"
      ],
      "execution_count": 72,
      "outputs": [
        {
          "output_type": "execute_result",
          "data": {
            "text/plain": [
              "3514"
            ]
          },
          "metadata": {},
          "execution_count": 72
        }
      ]
    },
    {
      "cell_type": "code",
      "metadata": {
        "id": "pEPqkgjh1vqR",
        "colab": {
          "base_uri": "https://localhost:8080/"
        },
        "outputId": "f375d412-443c-466e-9c50-cf29c90d9e45"
      },
      "source": [
        "found_coins = 20\n",
        "magic_coins = 10\n",
        "stolen_coins = 3\n",
        "\n",
        "found_coins + magic_coins * 365 - stolen_coins * 52"
      ],
      "execution_count": 73,
      "outputs": [
        {
          "output_type": "execute_result",
          "data": {
            "text/plain": [
              "3514"
            ]
          },
          "metadata": {},
          "execution_count": 73
        }
      ]
    },
    {
      "cell_type": "code",
      "metadata": {
        "id": "eVfRfL6z2R9u",
        "colab": {
          "base_uri": "https://localhost:8080/"
        },
        "outputId": "15aca63e-f1fb-46ee-aadc-5505e58a01d9"
      },
      "source": [
        "found_coins = 20\n",
        "magic_coins = 10\n",
        "\n",
        "stolen_coins = 2   # Very easy to change the variable if neeeded\n",
        "\n",
        "found_coins + magic_coins * 365 - stolen_coins * 52"
      ],
      "execution_count": 74,
      "outputs": [
        {
          "output_type": "execute_result",
          "data": {
            "text/plain": [
              "3566"
            ]
          },
          "metadata": {},
          "execution_count": 74
        }
      ]
    },
    {
      "cell_type": "markdown",
      "metadata": {
        "id": "_y7K5N333cv_"
      },
      "source": [
        "# Chapter 3 - Strings, Lists, Tuples, and Maps"
      ]
    },
    {
      "cell_type": "markdown",
      "metadata": {
        "id": "IQ1kJqgM3_Z8"
      },
      "source": [
        "A string is a text"
      ]
    },
    {
      "cell_type": "code",
      "metadata": {
        "id": "h0cgOagD3pli",
        "colab": {
          "base_uri": "https://localhost:8080/"
        },
        "outputId": "c4e6482d-41ba-48f2-efb0-be9f851fdd2e"
      },
      "source": [
        "fred = \"What is 1 + 1?\"\n",
        "print(fred)"
      ],
      "execution_count": 75,
      "outputs": [
        {
          "output_type": "stream",
          "name": "stdout",
          "text": [
            "What is 1 + 1?\n"
          ]
        }
      ]
    },
    {
      "cell_type": "code",
      "metadata": {
        "id": "sG1IhMza4osw",
        "colab": {
          "base_uri": "https://localhost:8080/"
        },
        "outputId": "cfb89f9a-e0af-4918-e601-4e4ca14a2e1a"
      },
      "source": [
        "#To create multiple line string, use '''\n",
        "fred = '''How do dinosaurs pay their bills?\n",
        "With tyrannosaurus checks!'''\n",
        "print(fred)"
      ],
      "execution_count": 76,
      "outputs": [
        {
          "output_type": "stream",
          "name": "stdout",
          "text": [
            "How do dinosaurs pay their bills?\n",
            "With tyrannosaurus checks!\n"
          ]
        }
      ]
    },
    {
      "cell_type": "code",
      "metadata": {
        "id": "S9Ui0fjVWhpE",
        "colab": {
          "base_uri": "https://localhost:8080/"
        },
        "outputId": "b80f9051-1b8f-4788-cb70-6c53c0d50685"
      },
      "source": [
        "silly_string = '''He said, \"Aren't can't shouldn't wouldn't.\"'''\n",
        "print(silly_string)"
      ],
      "execution_count": 77,
      "outputs": [
        {
          "output_type": "stream",
          "name": "stdout",
          "text": [
            "He said, \"Aren't can't shouldn't wouldn't.\"\n"
          ]
        }
      ]
    },
    {
      "cell_type": "code",
      "metadata": {
        "id": "nIxFlGkIR-u-",
        "colab": {
          "base_uri": "https://localhost:8080/"
        },
        "outputId": "fd2c8f40-85f8-4a12-8157-67847782c6b8"
      },
      "source": [
        "single_quote_str = 'He said, \"Aren\\'t can\\'t shouldn\\'t wouldn\\'t.\"'\n",
        "print(single_quote_str)"
      ],
      "execution_count": 78,
      "outputs": [
        {
          "output_type": "stream",
          "name": "stdout",
          "text": [
            "He said, \"Aren't can't shouldn't wouldn't.\"\n"
          ]
        }
      ]
    },
    {
      "cell_type": "code",
      "metadata": {
        "id": "dkB8k431Ssub",
        "colab": {
          "base_uri": "https://localhost:8080/"
        },
        "outputId": "89ffd9b1-6fe2-47ac-e828-5a8619a18117"
      },
      "source": [
        "myname = 'mehrab'\n",
        "string = 'hello my name is %s '    #Dont forget to put %s or error will occur\n",
        "print(string % myname)"
      ],
      "execution_count": 79,
      "outputs": [
        {
          "output_type": "stream",
          "name": "stdout",
          "text": [
            "hello my name is mehrab \n"
          ]
        }
      ]
    },
    {
      "cell_type": "code",
      "metadata": {
        "id": "pvNsAECsV4bC",
        "colab": {
          "base_uri": "https://localhost:8080/"
        },
        "outputId": "56b460d3-4b93-41bf-e1f4-e384822a3bcd"
      },
      "source": [
        "nock = 'what is %s + %s?'\n",
        "print(nock %(1,5))"
      ],
      "execution_count": 80,
      "outputs": [
        {
          "output_type": "stream",
          "name": "stdout",
          "text": [
            "what is 1 + 5?\n"
          ]
        }
      ]
    },
    {
      "cell_type": "markdown",
      "metadata": {
        "id": "7LCmvY6EW1tZ"
      },
      "source": [
        "Multiplying strings  - pg 31"
      ]
    },
    {
      "cell_type": "code",
      "metadata": {
        "id": "wuKeTIfgWLtL",
        "colab": {
          "base_uri": "https://localhost:8080/"
        },
        "outputId": "974a0909-adc6-49b0-9318-5d2a464c0de2"
      },
      "source": [
        "print(10*'hello ')"
      ],
      "execution_count": 81,
      "outputs": [
        {
          "output_type": "stream",
          "name": "stdout",
          "text": [
            "hello hello hello hello hello hello hello hello hello hello \n"
          ]
        }
      ]
    },
    {
      "cell_type": "markdown",
      "metadata": {
        "id": "zcWJO7_VXTZQ"
      },
      "source": [
        "Strings"
      ]
    },
    {
      "cell_type": "code",
      "metadata": {
        "id": "6J4Chz4qXCwl",
        "colab": {
          "base_uri": "https://localhost:8080/"
        },
        "outputId": "424b0933-5cfb-450f-d2ad-9c61fb810c0d"
      },
      "source": [
        "mylist = 'water, food, air, games, house, bed, tv, soap'     # This is a variable\n",
        "print(mylist)"
      ],
      "execution_count": 82,
      "outputs": [
        {
          "output_type": "stream",
          "name": "stdout",
          "text": [
            "water, food, air, games, house, bed, tv, soap\n"
          ]
        }
      ]
    },
    {
      "cell_type": "code",
      "metadata": {
        "id": "lFx5ELhWX0yJ",
        "colab": {
          "base_uri": "https://localhost:8080/"
        },
        "outputId": "41a195b4-b148-41d6-bcb5-d9cb9c2eef4f"
      },
      "source": [
        "mylist = ['water', 'food', 'air', 'games', 'house', 'bed', 'tv', 'soap']\n",
        "print(mylist)"
      ],
      "execution_count": 83,
      "outputs": [
        {
          "output_type": "stream",
          "name": "stdout",
          "text": [
            "['water', 'food', 'air', 'games', 'house', 'bed', 'tv', 'soap']\n"
          ]
        }
      ]
    },
    {
      "cell_type": "code",
      "metadata": {
        "id": "vtx0jRalYFSq",
        "colab": {
          "base_uri": "https://localhost:8080/"
        },
        "outputId": "8b2aa161-79bd-4ddd-d00a-f39aa1c4642d"
      },
      "source": [
        "mylist = ['water', 'food', 'air', 'games', 'house', 'bed', 'tv', 'soap']\n",
        "print(mylist[2])    # Although it says no.2 , the no. 3 item is shown at the list starts with 0"
      ],
      "execution_count": 84,
      "outputs": [
        {
          "output_type": "stream",
          "name": "stdout",
          "text": [
            "air\n"
          ]
        }
      ]
    },
    {
      "cell_type": "code",
      "metadata": {
        "id": "4eaCUHxpYYCg",
        "colab": {
          "base_uri": "https://localhost:8080/"
        },
        "outputId": "b95a68ce-e883-4064-e7ba-cca9f7aa2852"
      },
      "source": [
        "mylist = ['water', 'food', 'air', 'games', 'house', 'bed', 'tv', 'soap']\n",
        "print(mylist[0]) "
      ],
      "execution_count": 85,
      "outputs": [
        {
          "output_type": "stream",
          "name": "stdout",
          "text": [
            "water\n"
          ]
        }
      ]
    },
    {
      "cell_type": "code",
      "metadata": {
        "id": "ahoRbvxjYrkO",
        "colab": {
          "base_uri": "https://localhost:8080/"
        },
        "outputId": "2d864679-c418-44eb-84ad-b5cfd30808c3"
      },
      "source": [
        "mylist = ['water', 'food', 'air', 'games', 'house', 'bed', 'tv', 'soap']\n",
        "\n",
        "mylist[2] = 'oxygen'     # It is very easy to change the item (from air to oxygen)     -> Replacing\n",
        "print(mylist)"
      ],
      "execution_count": 86,
      "outputs": [
        {
          "output_type": "stream",
          "name": "stdout",
          "text": [
            "['water', 'food', 'oxygen', 'games', 'house', 'bed', 'tv', 'soap']\n"
          ]
        }
      ]
    },
    {
      "cell_type": "code",
      "metadata": {
        "id": "KQiYVBphZusl",
        "colab": {
          "base_uri": "https://localhost:8080/"
        },
        "outputId": "def3253a-c26b-4593-d8a6-d5284e30f6d7"
      },
      "source": [
        "mylist = ['water', 'food', 'air', 'games', 'house', 'bed', 'tv', 'soap']\n",
        "print(mylist[1:4])   "
      ],
      "execution_count": 87,
      "outputs": [
        {
          "output_type": "stream",
          "name": "stdout",
          "text": [
            "['food', 'air', 'games']\n"
          ]
        }
      ]
    },
    {
      "cell_type": "code",
      "metadata": {
        "id": "kpdBTDMranyE",
        "colab": {
          "base_uri": "https://localhost:8080/"
        },
        "outputId": "d5a86371-dce0-4a3d-89c1-878c25b5c5e9"
      },
      "source": [
        "nums = ['1','3','5','7','9']\n",
        "words =['one','three','five','seven','nine']\n",
        "print(nums + words)"
      ],
      "execution_count": 88,
      "outputs": [
        {
          "output_type": "stream",
          "name": "stdout",
          "text": [
            "['1', '3', '5', '7', '9', 'one', 'three', 'five', 'seven', 'nine']\n"
          ]
        }
      ]
    },
    {
      "cell_type": "code",
      "metadata": {
        "id": "lRY0uvTmbP5Q",
        "colab": {
          "base_uri": "https://localhost:8080/"
        },
        "outputId": "5de526aa-6bbe-468a-f0ed-e19d12b2f314"
      },
      "source": [
        "nums = ['1','3','5','7','9']\n",
        "words =['one','three','five','seven','nine']\n",
        "print(nums[1] + words[1])"
      ],
      "execution_count": 89,
      "outputs": [
        {
          "output_type": "stream",
          "name": "stdout",
          "text": [
            "3three\n"
          ]
        }
      ]
    },
    {
      "cell_type": "code",
      "metadata": {
        "id": "0ECbtAKOYvgr",
        "colab": {
          "base_uri": "https://localhost:8080/"
        },
        "outputId": "638e57be-0d0a-4df0-b41e-9bcde1971e73"
      },
      "source": [
        "mylist = ['water', 'food', 'air', 'games', 'house', 'bed', 'tv', 'soap']\n",
        "\n",
        "mylist.append('cook')      # It is very easy to add items to the list\n",
        "print(mylist)"
      ],
      "execution_count": 90,
      "outputs": [
        {
          "output_type": "stream",
          "name": "stdout",
          "text": [
            "['water', 'food', 'air', 'games', 'house', 'bed', 'tv', 'soap', 'cook']\n"
          ]
        }
      ]
    },
    {
      "cell_type": "code",
      "metadata": {
        "id": "SIORmlvxZjub",
        "colab": {
          "base_uri": "https://localhost:8080/"
        },
        "outputId": "31d28f04-ec2d-4fa0-e5fc-a241e5dd3319"
      },
      "source": [
        "mylist = ['water', 'food', 'air', 'games', 'house', 'bed', 'tv', 'soap']\n",
        "\n",
        "del mylist[7]     # It is also very easy to delete a item from the list\n",
        "print(mylist)"
      ],
      "execution_count": 91,
      "outputs": [
        {
          "output_type": "stream",
          "name": "stdout",
          "text": [
            "['water', 'food', 'air', 'games', 'house', 'bed', 'tv']\n"
          ]
        }
      ]
    },
    {
      "cell_type": "code",
      "metadata": {
        "id": "pskP6lbTaiAI",
        "colab": {
          "base_uri": "https://localhost:8080/"
        },
        "outputId": "2cb004b5-ba11-43a1-becf-b281d5b3d5ee"
      },
      "source": [
        "mylist = ['water', 'food', 'air', 'games', 'house', 'bed', 'tv', 'soap']\n",
        "nums = [1,2,3,4]\n",
        "add = nums + mylist\n",
        "\n",
        "print(add)"
      ],
      "execution_count": 92,
      "outputs": [
        {
          "output_type": "stream",
          "name": "stdout",
          "text": [
            "[1, 2, 3, 4, 'water', 'food', 'air', 'games', 'house', 'bed', 'tv', 'soap']\n"
          ]
        }
      ]
    },
    {
      "cell_type": "code",
      "metadata": {
        "id": "WiUMTd3RbGND",
        "colab": {
          "base_uri": "https://localhost:8080/"
        },
        "outputId": "13581fe3-4fbd-4dcc-e44c-3e002bed2558"
      },
      "source": [
        "words = ['a','b']\n",
        "\n",
        "print(words * 5)"
      ],
      "execution_count": 93,
      "outputs": [
        {
          "output_type": "stream",
          "name": "stdout",
          "text": [
            "['a', 'b', 'a', 'b', 'a', 'b', 'a', 'b', 'a', 'b']\n"
          ]
        }
      ]
    },
    {
      "cell_type": "markdown",
      "metadata": {
        "id": "z6OfvYdQ0KnF"
      },
      "source": [
        "note that you cannot divide or subtract a list \n",
        "\n",
        "and you can only add a list to a list but not another variable, number or word"
      ]
    },
    {
      "cell_type": "markdown",
      "metadata": {
        "id": "6OwMqNlk1ksT"
      },
      "source": [
        "**Tuples are like lists, however items cannot be added or removed with a code**"
      ]
    },
    {
      "cell_type": "code",
      "metadata": {
        "id": "lVT3hjsl1VsK",
        "colab": {
          "base_uri": "https://localhost:8080/"
        },
        "outputId": "28bc1d67-900d-4630-990a-26acd1ae5050"
      },
      "source": [
        "what = (0,1,2,3,4)    # It is used because it is sometimes more useful to not be \n",
        "print(what[3])        # able to change items inside a tuples easily"
      ],
      "execution_count": 94,
      "outputs": [
        {
          "output_type": "stream",
          "name": "stdout",
          "text": [
            "3\n"
          ]
        }
      ]
    },
    {
      "cell_type": "markdown",
      "metadata": {
        "id": "zySgzDUz45AK"
      },
      "source": [
        "Python map"
      ]
    },
    {
      "cell_type": "code",
      "metadata": {
        "id": "3mbp1mNOD4Pz",
        "colab": {
          "base_uri": "https://localhost:8080/"
        },
        "outputId": "26d24a13-6f02-43c8-c4f0-a56f6853e0ee"
      },
      "source": [
        "favorite_sports = ['Ralph Williams, Football',    # This is a list\n",
        " 'Michael Tippett, Basketball',\n",
        " 'Edward Elgar, Baseball',\n",
        " 'Rebecca Clarke, Netball',\n",
        " 'Ethel Smyth, Badminton',\n",
        " 'Frank Bridge, Rugby']\n",
        "\n",
        "print(favorite_sports)"
      ],
      "execution_count": 95,
      "outputs": [
        {
          "output_type": "stream",
          "name": "stdout",
          "text": [
            "['Ralph Williams, Football', 'Michael Tippett, Basketball', 'Edward Elgar, Baseball', 'Rebecca Clarke, Netball', 'Ethel Smyth, Badminton', 'Frank Bridge, Rugby']\n"
          ]
        }
      ]
    },
    {
      "cell_type": "code",
      "metadata": {
        "id": "YDbpHRJpD82q",
        "colab": {
          "base_uri": "https://localhost:8080/"
        },
        "outputId": "320d2186-1184-4a41-969d-dd9779ea7732"
      },
      "source": [
        " favorite_sports = {'Ralph Williams' : 'Football',   # This is a map\n",
        " 'Michael Tippett' : 'Basketball',\n",
        " 'Edward Elgar' : 'Baseball',\n",
        " 'Rebecca Clarke' : 'Netball',\n",
        " 'Ethel Smyth' : 'Badminton',    # Uses {}\n",
        " 'Frank Bridge' : 'Rugby'}\n",
        "\n",
        " print(favorite_sports)"
      ],
      "execution_count": 96,
      "outputs": [
        {
          "output_type": "stream",
          "name": "stdout",
          "text": [
            "{'Ralph Williams': 'Football', 'Michael Tippett': 'Basketball', 'Edward Elgar': 'Baseball', 'Rebecca Clarke': 'Netball', 'Ethel Smyth': 'Badminton', 'Frank Bridge': 'Rugby'}\n"
          ]
        }
      ]
    },
    {
      "cell_type": "code",
      "metadata": {
        "id": "Z0EyJ1zaErxk",
        "colab": {
          "base_uri": "https://localhost:8080/"
        },
        "outputId": "2fe51cd0-a763-454f-cd18-df0081754765"
      },
      "source": [
        " favorite_sports = {'Ralph Williams' : 'Football',  \n",
        " 'Michael Tippett' : 'Basketball',\n",
        " 'Edward Elgar' : 'Baseball',\n",
        " 'Rebecca Clarke' : 'Netball',\n",
        " 'Ethel Smyth' : 'Badminton',    # You can easily find the sport\n",
        " 'Frank Bridge' : 'Rugby'}\n",
        "\n",
        " print(favorite_sports['Rebecca Clarke'])"
      ],
      "execution_count": 97,
      "outputs": [
        {
          "output_type": "stream",
          "name": "stdout",
          "text": [
            "Netball\n"
          ]
        }
      ]
    },
    {
      "cell_type": "code",
      "metadata": {
        "id": "c9H7gC4FFdsa",
        "colab": {
          "base_uri": "https://localhost:8080/"
        },
        "outputId": "d2e3d5d8-31a8-4201-85fc-ab14ccd9e8be"
      },
      "source": [
        "favorite_sports = {'Ralph Williams' : 'Football',  \n",
        " 'Michael Tippett' : 'Basketball',\n",
        " 'Edward Elgar' : 'Baseball',\n",
        " 'Rebecca Clarke' : 'Netball',\n",
        " 'Ethel Smyth' : 'Badminton',    \n",
        " 'Frank Bridge' : 'Rugby'}\n",
        "\n",
        "del favorite_sports['Frank Bridge']    # Easy to delete a name/item\n",
        "\n",
        "print(favorite_sports)"
      ],
      "execution_count": 98,
      "outputs": [
        {
          "output_type": "stream",
          "name": "stdout",
          "text": [
            "{'Ralph Williams': 'Football', 'Michael Tippett': 'Basketball', 'Edward Elgar': 'Baseball', 'Rebecca Clarke': 'Netball', 'Ethel Smyth': 'Badminton'}\n"
          ]
        }
      ]
    },
    {
      "cell_type": "code",
      "metadata": {
        "id": "kmiQQV-4HKaJ",
        "colab": {
          "base_uri": "https://localhost:8080/"
        },
        "outputId": "7155ba97-f72d-4868-b068-68d8682d0404"
      },
      "source": [
        "favorite_sports = {'Ralph Williams' : 'Football',  \n",
        " 'Michael Tippett' : 'Basketball',\n",
        " 'Edward Elgar' : 'Baseball',\n",
        " 'Rebecca Clarke' : 'Netball',\n",
        " 'Ethel Smyth' : 'Badminton',    \n",
        " 'Frank Bridge' : 'Rugby'}\n",
        "\n",
        "favorite_sports['Ethel Smyth']= 'Hockey'\n",
        "\n",
        "print(favorite_sports)"
      ],
      "execution_count": 99,
      "outputs": [
        {
          "output_type": "stream",
          "name": "stdout",
          "text": [
            "{'Ralph Williams': 'Football', 'Michael Tippett': 'Basketball', 'Edward Elgar': 'Baseball', 'Rebecca Clarke': 'Netball', 'Ethel Smyth': 'Hockey', 'Frank Bridge': 'Rugby'}\n"
          ]
        }
      ]
    },
    {
      "cell_type": "code",
      "metadata": {
        "id": "sRI3Uu0nZau6"
      },
      "source": [
        "favorite_sports = {'Ralph Williams' : 'Football',  \n",
        " 'Michael Tippett' : 'Basketball',\n",
        " 'Edward Elgar' : 'Baseball',\n",
        " 'Rebecca Clarke' : 'Netball',\n",
        " 'Ethel Smyth' : 'Badminton',    \n",
        " 'Frank Bridge' : 'Rugby'}           # Adding two maps does not work\n",
        "\n",
        "favorite_colors = {'Malcolm Warner' : 'Pink polka dots',\n",
        " 'James Baxter' : 'Orange stripes',\n",
        " 'Sue Lee' : 'Purple paisley'}\n",
        "\n",
        "# print(favorite_sports + favorite_colors)"
      ],
      "execution_count": 100,
      "outputs": []
    },
    {
      "cell_type": "markdown",
      "metadata": {
        "id": "O2kb2K30Z3oe"
      },
      "source": [
        "Programming puzzles (pg 41)"
      ]
    },
    {
      "cell_type": "markdown",
      "metadata": {
        "id": "WU-DDa8WaBE1"
      },
      "source": [
        "\n",
        "\n",
        "***1: Favorites***\n",
        "\n",
        "Make a list of your favorite hobbies and give the list the variable\n",
        "name games. Now make a list of your favorite foods and name the\n",
        "variable foods. Join the two lists and name the result favorites.\n",
        "Finally, print the variable favorites.\n",
        "\n"
      ]
    },
    {
      "cell_type": "code",
      "metadata": {
        "id": "XNM92y5cZ9q-",
        "colab": {
          "base_uri": "https://localhost:8080/"
        },
        "outputId": "6780b239-1d9f-43ff-9e35-af73c2fbd1f7"
      },
      "source": [
        "games = ['videogames','badminton','cycling']\n",
        "foods = ['pizza','burger','friedchicken']\n",
        "favorites = games + foods\n",
        "print(favorites)"
      ],
      "execution_count": 101,
      "outputs": [
        {
          "output_type": "stream",
          "name": "stdout",
          "text": [
            "['videogames', 'badminton', 'cycling', 'pizza', 'burger', 'friedchicken']\n"
          ]
        }
      ]
    },
    {
      "cell_type": "markdown",
      "metadata": {
        "id": "yHiUEdXaat5W"
      },
      "source": [
        "***2: Counting Combatants***\n",
        "\n",
        "If there are 3 buildings with 25 ninjas hiding on each roof and\n",
        "2 tunnels with 40 samurai hiding inside each tunnel, how many\n",
        "ninjas and samurai are about to do battle? (You can do this with\n",
        "one equation in the Python shell.)"
      ]
    },
    {
      "cell_type": "code",
      "metadata": {
        "id": "RdTCBDT2a9nh",
        "colab": {
          "base_uri": "https://localhost:8080/"
        },
        "outputId": "042df5bf-8514-4c5b-862b-1bc955a80534"
      },
      "source": [
        "print((3*25)+(2*40))"
      ],
      "execution_count": 102,
      "outputs": [
        {
          "output_type": "stream",
          "name": "stdout",
          "text": [
            "155\n"
          ]
        }
      ]
    },
    {
      "cell_type": "markdown",
      "metadata": {
        "id": "HPX4Hcn3jPND"
      },
      "source": [
        "***3: Greetings!***\n",
        "\n",
        "Create two variables: one that points to your first name and\n",
        "one that points to your last name. Now create a string and use\n",
        "placeholders to print your name with a message using those two\n",
        "variables, such as “Hi there, Brando Ickett!”"
      ]
    },
    {
      "cell_type": "code",
      "metadata": {
        "id": "b1CaM1m1jbw_",
        "colab": {
          "base_uri": "https://localhost:8080/"
        },
        "outputId": "81df35f2-9d28-4cfb-a803-8fd3be5b8553"
      },
      "source": [
        "name1 ='Mehrab'\n",
        "name2 ='Rahman'\n",
        "string ='Hi there, %s %s'\n",
        "print(string %(name1,name2) )"
      ],
      "execution_count": 103,
      "outputs": [
        {
          "output_type": "stream",
          "name": "stdout",
          "text": [
            "Hi there, Mehrab Rahman\n"
          ]
        }
      ]
    },
    {
      "cell_type": "markdown",
      "metadata": {
        "id": "ZkuCyHfCk5t2"
      },
      "source": [
        "#Chapter 4 - Drawing  with turtles"
      ]
    },
    {
      "cell_type": "markdown",
      "metadata": {
        "id": "Uh5rQNj-lKvt"
      },
      "source": [
        " ***Skipped***    - hard to use turtle in colab"
      ]
    },
    {
      "cell_type": "markdown",
      "metadata": {
        "id": "z62rE6Kvn_rg"
      },
      "source": [
        "# Chapter 5 - Asking Questions with if and else"
      ]
    },
    {
      "cell_type": "markdown",
      "metadata": {
        "id": "68oiwhF1CfVN"
      },
      "source": [
        "If Statments"
      ]
    },
    {
      "cell_type": "code",
      "metadata": {
        "id": "ma1I6alaoUz7",
        "colab": {
          "base_uri": "https://localhost:8080/"
        },
        "outputId": "d6007c10-212a-4c56-fb0e-0d72cb9308ea"
      },
      "source": [
        "age = 14       # This is an 'if' statement\n",
        "if age > 10:      # Don't forgetg to add the semicolon :\n",
        "  print('you are very old indeed')     # Always leave four spaces/tab before print or else\n",
        "                                       # syntax error will occur as the code does not alline"
      ],
      "execution_count": 104,
      "outputs": [
        {
          "output_type": "stream",
          "name": "stdout",
          "text": [
            "you are very old indeed\n"
          ]
        }
      ]
    },
    {
      "cell_type": "code",
      "metadata": {
        "id": "bd9kUpIUClpo",
        "colab": {
          "base_uri": "https://localhost:8080/"
        },
        "outputId": "db2a10eb-1913-4445-d15c-d7b9812b0ca8"
      },
      "source": [
        " age = 9\n",
        "\n",
        " if age < 10:\n",
        "   print('You are too young!')\n",
        "   print('You shall not pass!')\n",
        "   print('Why are you still here?')"
      ],
      "execution_count": 105,
      "outputs": [
        {
          "output_type": "stream",
          "name": "stdout",
          "text": [
            "You are too young!\n",
            "You shall not pass!\n",
            "Why are you still here?\n"
          ]
        }
      ]
    },
    {
      "cell_type": "code",
      "metadata": {
        "id": "nhgLGqToFY9e",
        "colab": {
          "base_uri": "https://localhost:8080/"
        },
        "outputId": "1b6a1fe3-0bfe-43a7-c8cc-0aba77631374"
      },
      "source": [
        "age = 10\n",
        "if age == 10:\n",
        "  print('perfect!')"
      ],
      "execution_count": 106,
      "outputs": [
        {
          "output_type": "stream",
          "name": "stdout",
          "text": [
            "perfect!\n"
          ]
        }
      ]
    },
    {
      "cell_type": "code",
      "metadata": {
        "id": "v2gVG0zTFrkN",
        "colab": {
          "base_uri": "https://localhost:8080/"
        },
        "outputId": "4c52f906-d9ed-4f0a-e6e1-7e19665b127d"
      },
      "source": [
        "age = 14\n",
        "if age >= 14:\n",
        "  print('What is 123+123')"
      ],
      "execution_count": 107,
      "outputs": [
        {
          "output_type": "stream",
          "name": "stdout",
          "text": [
            "What is 123+123\n"
          ]
        }
      ]
    },
    {
      "cell_type": "markdown",
      "metadata": {
        "id": "9U264f87GUh-"
      },
      "source": [
        "***If-then-Else Statement***"
      ]
    },
    {
      "cell_type": "code",
      "metadata": {
        "id": "DLCEPuQQGD29",
        "colab": {
          "base_uri": "https://localhost:8080/"
        },
        "outputId": "f26b12cc-9d98-47e4-d965-c1c6eec0a251"
      },
      "source": [
        "age = 10\n",
        "if age <= 10:\n",
        "  print('You are too young')\n",
        "else:                                     # Dont forget : after 'else'\n",
        "  print('You can keep on readinng this')"
      ],
      "execution_count": 108,
      "outputs": [
        {
          "output_type": "stream",
          "name": "stdout",
          "text": [
            "You are too young\n"
          ]
        }
      ]
    },
    {
      "cell_type": "code",
      "metadata": {
        "id": "UQLsm_x0GEBn",
        "colab": {
          "base_uri": "https://localhost:8080/"
        },
        "outputId": "21867de0-d5e7-416e-8b45-e1b6f28cb968"
      },
      "source": [
        "age = 14\n",
        "if age <= 10:\n",
        "  print('You are too young')\n",
        "else:                                     \n",
        "  print('You can keep on readinng this')"
      ],
      "execution_count": 109,
      "outputs": [
        {
          "output_type": "stream",
          "name": "stdout",
          "text": [
            "You can keep on readinng this\n"
          ]
        }
      ]
    },
    {
      "cell_type": "markdown",
      "metadata": {
        "id": "OGZL0_C7JF5W"
      },
      "source": [
        "***if and elif Statements***"
      ]
    },
    {
      "cell_type": "markdown",
      "metadata": {
        "id": "Gv-4cLKxJP7r"
      },
      "source": [
        "elif means else if.      \n",
        "This is used as elif can be repeated unlike if"
      ]
    },
    {
      "cell_type": "code",
      "metadata": {
        "id": "wJcykkkwI5aX",
        "colab": {
          "base_uri": "https://localhost:8080/"
        },
        "outputId": "dc79752b-54c0-41fb-f150-9cc1827165bb"
      },
      "source": [
        "joke = 0                   # Joke list\n",
        "\n",
        "if joke == 1:\n",
        "  print('What’s the best thing about Switzerland?')\n",
        "  print('I don’t know, but the flag is a big plus.')\n",
        "elif joke == 2:\n",
        "  print('Why do we tell actors to “break a leg?”')\n",
        "  print('Because every play has a cast.')\n",
        "elif joke == 3:\n",
        "  print('Heard about the new restaurant called Karma?')\n",
        "  print('There’s no menu: You get what you deserve.')\n",
        "elif joke == 4:\n",
        "  print('Did you hear about the actor who fell through the floorboards?')\n",
        "  print('He was just going through a stage.')\n",
        "elif joke == 5:\n",
        "  print('Did you hear about the claustrophobic astronaut?')\n",
        "  print('He just needed a little space.')\n",
        "elif joke == 6:\n",
        "  print('''Why don’t scientists trust atoms? \n",
        "Because they make up everything.''')\n",
        "elif joke == 7:\n",
        "  print('''Why should the number 288 never be mentioned?\n",
        "It’s two gross. - 1 gross is 144''')\n",
        "else: \n",
        "  print('Joke list from 1 to 7')"
      ],
      "execution_count": 110,
      "outputs": [
        {
          "output_type": "stream",
          "name": "stdout",
          "text": [
            "Joke list from 1 to 7\n"
          ]
        }
      ]
    },
    {
      "cell_type": "markdown",
      "metadata": {
        "id": "zjz2V0U3J2Gg"
      },
      "source": [
        "You can use 'or' and 'and' to produce simpler and shorter codes"
      ]
    },
    {
      "cell_type": "code",
      "metadata": {
        "id": "1hz2hGDpJGMo",
        "colab": {
          "base_uri": "https://localhost:8080/"
        },
        "outputId": "8b3776bc-40cd-4f63-fe65-a4f0ab907326"
      },
      "source": [
        "age = 10       \n",
        "\n",
        "if age == 10 or age == 11 or age == 12 or age == 13:    \n",
        "  print('What is 13 + 49 + 84 + 155 + 97? A headache!')\n",
        "else:\n",
        "  print('You do not meet the age requirements!')"
      ],
      "execution_count": 111,
      "outputs": [
        {
          "output_type": "stream",
          "name": "stdout",
          "text": [
            "What is 13 + 49 + 84 + 155 + 97? A headache!\n"
          ]
        }
      ]
    },
    {
      "cell_type": "code",
      "metadata": {
        "id": "FJJlWEMtJjkL",
        "colab": {
          "base_uri": "https://localhost:8080/"
        },
        "outputId": "7c81bc63-c32e-4173-8fc6-65f1f8bf3144"
      },
      "source": [
        "age =  12\n",
        "\n",
        "if age >= 10 and age <= 15:\n",
        "  print('So you are interested to learn coding?')\n",
        "else:\n",
        "  print('Sorry your age does not meet the requirements :(')"
      ],
      "execution_count": 112,
      "outputs": [
        {
          "output_type": "stream",
          "name": "stdout",
          "text": [
            "So you are interested to learn coding?\n"
          ]
        }
      ]
    },
    {
      "cell_type": "markdown",
      "metadata": {
        "id": "-HMv7IpONuEj"
      },
      "source": [
        "0 is a number. None is not a number"
      ]
    },
    {
      "cell_type": "code",
      "metadata": {
        "id": "1fb7G7SZN_6R",
        "colab": {
          "base_uri": "https://localhost:8080/"
        },
        "outputId": "f91436d9-475d-49b4-e8e9-6bb4c214286e"
      },
      "source": [
        "num = None\n",
        "print(num)"
      ],
      "execution_count": 113,
      "outputs": [
        {
          "output_type": "stream",
          "name": "stdout",
          "text": [
            "None\n"
          ]
        }
      ]
    },
    {
      "cell_type": "code",
      "metadata": {
        "id": "6_AbrTUFOJdi",
        "colab": {
          "base_uri": "https://localhost:8080/"
        },
        "outputId": "437d1737-c961-4f81-a31b-3922d3e14f9f"
      },
      "source": [
        "num = None\n",
        "if num == None:\n",
        "  print('None does not have a value')"
      ],
      "execution_count": 114,
      "outputs": [
        {
          "output_type": "stream",
          "name": "stdout",
          "text": [
            "None does not have a value\n"
          ]
        }
      ]
    },
    {
      "cell_type": "markdown",
      "metadata": {
        "id": "ZQuCMTZGOm_l"
      },
      "source": [
        "You cannot add a string to if"
      ]
    },
    {
      "cell_type": "code",
      "metadata": {
        "id": "KAdF3f7eOiVU",
        "colab": {
          "base_uri": "https://localhost:8080/"
        },
        "outputId": "cb11a17f-ff37-4ca3-9a2c-c484c722e7be"
      },
      "source": [
        "num = 10\n",
        "if num == 10: \n",
        "  print('This is a number')"
      ],
      "execution_count": 115,
      "outputs": [
        {
          "output_type": "stream",
          "name": "stdout",
          "text": [
            "This is a number\n"
          ]
        }
      ]
    },
    {
      "cell_type": "code",
      "metadata": {
        "id": "aHR47IgrO8Dc"
      },
      "source": [
        "num = '10'      # Nothing runs as this is a string and not a number \n",
        "if num == 10:        \n",
        "  print('This is a string')"
      ],
      "execution_count": 116,
      "outputs": []
    },
    {
      "cell_type": "markdown",
      "metadata": {
        "id": "JSnx2GZGSvxU"
      },
      "source": [
        "To solve this problem, we need to convert it using *int*.  This is useful in the future.   *int* converts a string into a number"
      ]
    },
    {
      "cell_type": "code",
      "metadata": {
        "id": "PjzXmUAIRubO",
        "colab": {
          "base_uri": "https://localhost:8080/"
        },
        "outputId": "33b22397-11e4-4a99-e7e0-5330aa55b5b0"
      },
      "source": [
        "num = '10'      \n",
        "new_num = int(num)    # Use int(-)\n",
        "\n",
        "if new_num == 10:        \n",
        "  print('This is a string')"
      ],
      "execution_count": 117,
      "outputs": [
        {
          "output_type": "stream",
          "name": "stdout",
          "text": [
            "This is a string\n"
          ]
        }
      ]
    },
    {
      "cell_type": "markdown",
      "metadata": {
        "id": "9gchz9rHTfdQ"
      },
      "source": [
        "To convert a number into a string, we use *str*"
      ]
    },
    {
      "cell_type": "code",
      "metadata": {
        "id": "lzN64kRHTsbE",
        "colab": {
          "base_uri": "https://localhost:8080/"
        },
        "outputId": "88adf882-b1ca-497b-9a0e-1388cd09d1d4"
      },
      "source": [
        "num = 10\n",
        "new_num = str(num)\n",
        "\n",
        "print(new_num + ' wow')   # Numbers and strings dont go together so we can see that new num is a string"
      ],
      "execution_count": 118,
      "outputs": [
        {
          "output_type": "stream",
          "name": "stdout",
          "text": [
            "10 wow\n"
          ]
        }
      ]
    },
    {
      "cell_type": "markdown",
      "metadata": {
        "id": "YHweHsZ1UL1V"
      },
      "source": [
        "However, you will get an error if you try to convert a decimal as it only accepts integer(whole no.). So you must use float"
      ]
    },
    {
      "cell_type": "code",
      "metadata": {
        "id": "8xG39XA0UKF-",
        "colab": {
          "base_uri": "https://localhost:8080/"
        },
        "outputId": "8837be2d-0fb4-4a5b-bc51-47a7e5dc9818"
      },
      "source": [
        "num = '10.5'\n",
        "new_num = float(num)\n",
        "print(new_num)"
      ],
      "execution_count": 119,
      "outputs": [
        {
          "output_type": "stream",
          "name": "stdout",
          "text": [
            "10.5\n"
          ]
        }
      ]
    },
    {
      "cell_type": "markdown",
      "metadata": {
        "id": "w30yd41SKn1D"
      },
      "source": [
        "You will get a ValueError if you try converting a string that does not contain a number"
      ]
    },
    {
      "cell_type": "markdown",
      "metadata": {
        "id": "do7RemTULECV"
      },
      "source": [
        "***Programming puzzle - pg 65***"
      ]
    },
    {
      "cell_type": "markdown",
      "metadata": {
        "id": "vnOqTwoiLKkj"
      },
      "source": [
        "***1: Are You Rich?***\n",
        "\n",
        "What do you think the following code will do? Try to figure out\n",
        "the answer without typing it into the shell, and then check your\n",
        "answer."
      ]
    },
    {
      "cell_type": "code",
      "metadata": {
        "id": "T6i0bC0nLRa6",
        "colab": {
          "base_uri": "https://localhost:8080/"
        },
        "outputId": "7d541e49-08c9-41d4-8703-05517fd5b759"
      },
      "source": [
        "money = 2000\n",
        "if money > 1000:\n",
        " print(\"I'm rich!!\")\n",
        "else:\n",
        " print(\"I'm not rich!!\")\n",
        " print(\"But I might be later...\")"
      ],
      "execution_count": 120,
      "outputs": [
        {
          "output_type": "stream",
          "name": "stdout",
          "text": [
            "I'm rich!!\n"
          ]
        }
      ]
    },
    {
      "cell_type": "markdown",
      "metadata": {
        "id": "DjuUT-QbLewU"
      },
      "source": [
        "The programme checks if you are rich. If you have more than 1000 money, you are considered rich."
      ]
    },
    {
      "cell_type": "markdown",
      "metadata": {
        "id": "6LgHWDenLs0Y"
      },
      "source": [
        "***2: Twinkies!***\n",
        "\n",
        "Create an if statement that checks whether a number of Twinkies\n",
        "(in the variable twinkies) is less than 100 or greater than 500. Your\n",
        "program should print the message “Too few or too many” if the\n",
        "condition is true."
      ]
    },
    {
      "cell_type": "code",
      "metadata": {
        "id": "ZS3rf1OxL0pR"
      },
      "source": [
        "twinkies = 500\n",
        "if twinkies < 100 or twinkies > 500:\n",
        "  print('Too few or too many')"
      ],
      "execution_count": 121,
      "outputs": []
    },
    {
      "cell_type": "markdown",
      "metadata": {
        "id": "zq0h_8BHMT2d"
      },
      "source": [
        "***3: Just the Right Number***\n",
        "\n",
        "Create an if statement that checks whether the amount of money\n",
        "contained in the variable money is between 100 and 500 or between\n",
        "1,000 and 5,000."
      ]
    },
    {
      "cell_type": "code",
      "metadata": {
        "id": "neeZMIFSMZbx",
        "colab": {
          "base_uri": "https://localhost:8080/"
        },
        "outputId": "0c7de75d-3927-4bc6-ad1f-96a899ac8fad"
      },
      "source": [
        "money = 1005\n",
        "if money > 100 and money < 500:\n",
        "  print('Money between 100 and 500')\n",
        "elif money > 1000 and money < 5000:\n",
        "  print('Money between 1000 and 5000')"
      ],
      "execution_count": 122,
      "outputs": [
        {
          "output_type": "stream",
          "name": "stdout",
          "text": [
            "Money between 1000 and 5000\n"
          ]
        }
      ]
    },
    {
      "cell_type": "markdown",
      "metadata": {
        "id": "zxpvy0n-Ow9O"
      },
      "source": [
        "***4: I Can Fight Those Ninjas***\n",
        "Create an if statement that prints the string “That’s too many”\n",
        "if the variable ninjas contains a number that’s less than 50, prints\n",
        "“It’ll be a struggle, but I can take ’em” if it’s less than 30, and\n",
        "prints “I can fight those ninjas!” if it’s less than 10. You might\n",
        "try out your code with: ninjas = 5"
      ]
    },
    {
      "cell_type": "code",
      "metadata": {
        "id": "y1dqmusePcwQ",
        "colab": {
          "base_uri": "https://localhost:8080/"
        },
        "outputId": "799c7c93-8ffb-4107-d33c-881aa8c51256"
      },
      "source": [
        "ninjas = 9\n",
        "if ninjas < 50 and ninjas >= 30:\n",
        "  print('That’s too many')\n",
        "elif ninjas < 30 and ninjas >= 10:\n",
        "  print('''It’ll be a struggle, but I can take ’em''')\n",
        "elif ninjas < 10:\n",
        "  print('I can fight those ninjas!')"
      ],
      "execution_count": 123,
      "outputs": [
        {
          "output_type": "stream",
          "name": "stdout",
          "text": [
            "I can fight those ninjas!\n"
          ]
        }
      ]
    },
    {
      "cell_type": "markdown",
      "metadata": {
        "id": "4dqRqQt1RX2y"
      },
      "source": [
        "# Chapter 6 - Going loopy"
      ]
    },
    {
      "cell_type": "markdown",
      "metadata": {
        "id": "TfgLf6oLRi9l"
      },
      "source": [
        "for loops repeat a set of codes a number of times until it is complete. This can help us reduce the amount of codes we need to write if we need to repeat a set of codes multiple times."
      ]
    },
    {
      "cell_type": "code",
      "metadata": {
        "id": "AT22Wo7uRgXg",
        "colab": {
          "base_uri": "https://localhost:8080/"
        },
        "outputId": "c93dcc61-ffa1-4d5b-d5ba-8a2ef4b42fe9"
      },
      "source": [
        "for x in range(0,5):   # Don't forget :\n",
        "  print('hello')"
      ],
      "execution_count": 124,
      "outputs": [
        {
          "output_type": "stream",
          "name": "stdout",
          "text": [
            "hello\n",
            "hello\n",
            "hello\n",
            "hello\n",
            "hello\n"
          ]
        }
      ]
    },
    {
      "cell_type": "code",
      "metadata": {
        "id": "7e51_sI1SrVG",
        "colab": {
          "base_uri": "https://localhost:8080/"
        },
        "outputId": "ce858cab-e613-4a90-80de-eff3c9d6f6ce"
      },
      "source": [
        "print(list(range(10,20)))"
      ],
      "execution_count": 125,
      "outputs": [
        {
          "output_type": "stream",
          "name": "stdout",
          "text": [
            "[10, 11, 12, 13, 14, 15, 16, 17, 18, 19]\n"
          ]
        }
      ]
    },
    {
      "cell_type": "markdown",
      "metadata": {
        "id": "-wRFXHPkS0eB"
      },
      "source": [
        "The code is telling Python to \n",
        "\n",
        "start counting from 0 and stop before reaching 5 and \n",
        "\n",
        "for each number we count, store the value in the variable x."
      ]
    },
    {
      "cell_type": "code",
      "metadata": {
        "id": "n5vI9W1JTH7X",
        "colab": {
          "base_uri": "https://localhost:8080/"
        },
        "outputId": "f1faf0a9-93d2-4124-d6a6-2975245eeb43"
      },
      "source": [
        "for x in range(0,5):\n",
        "  print('hello %s' % x)"
      ],
      "execution_count": 126,
      "outputs": [
        {
          "output_type": "stream",
          "name": "stdout",
          "text": [
            "hello 0\n",
            "hello 1\n",
            "hello 2\n",
            "hello 3\n",
            "hello 4\n"
          ]
        }
      ]
    },
    {
      "cell_type": "code",
      "metadata": {
        "id": "AaiY62gjT6aF",
        "colab": {
          "base_uri": "https://localhost:8080/"
        },
        "outputId": "94b7667c-ac1a-43bc-bb3b-87f8749ee161"
      },
      "source": [
        "mylist = ['water', 'food', 'air', 'games', 'house', 'bed', 'tv', 'soap']\n",
        "for i in mylist:    # The code is asking Python to store each mylist variable in i\n",
        "  print(i)"
      ],
      "execution_count": 127,
      "outputs": [
        {
          "output_type": "stream",
          "name": "stdout",
          "text": [
            "water\n",
            "food\n",
            "air\n",
            "games\n",
            "house\n",
            "bed\n",
            "tv\n",
            "soap\n"
          ]
        }
      ]
    },
    {
      "cell_type": "code",
      "metadata": {
        "id": "2OiMvrv9UZkF",
        "colab": {
          "base_uri": "https://localhost:8080/"
        },
        "outputId": "07db42b8-e97d-4f05-d552-90788f66264d"
      },
      "source": [
        "foodlist = ['water','mango','apple']\n",
        "for i in foodlist:\n",
        "  print(i)    # This command prints two of each item in the list\n",
        "  print(i)    # Dont forget about indentation error"
      ],
      "execution_count": 128,
      "outputs": [
        {
          "output_type": "stream",
          "name": "stdout",
          "text": [
            "water\n",
            "water\n",
            "mango\n",
            "mango\n",
            "apple\n",
            "apple\n"
          ]
        }
      ]
    },
    {
      "cell_type": "code",
      "metadata": {
        "id": "n6ICZ8cfXPIq",
        "colab": {
          "base_uri": "https://localhost:8080/"
        },
        "outputId": "4b07f981-d785-4ae5-9c3e-6aa4a5bbddd7"
      },
      "source": [
        "found_coins = 20\n",
        "magic_coins = 70\n",
        "stolen_coins = 3\n",
        "coins = found_coins\n",
        "for week in range(1, 53):\n",
        "  coins = coins + magic_coins - stolen_coins\n",
        "  print('Week %s = %s' % (week, coins))"
      ],
      "execution_count": 129,
      "outputs": [
        {
          "output_type": "stream",
          "name": "stdout",
          "text": [
            "Week 1 = 87\n",
            "Week 2 = 154\n",
            "Week 3 = 221\n",
            "Week 4 = 288\n",
            "Week 5 = 355\n",
            "Week 6 = 422\n",
            "Week 7 = 489\n",
            "Week 8 = 556\n",
            "Week 9 = 623\n",
            "Week 10 = 690\n",
            "Week 11 = 757\n",
            "Week 12 = 824\n",
            "Week 13 = 891\n",
            "Week 14 = 958\n",
            "Week 15 = 1025\n",
            "Week 16 = 1092\n",
            "Week 17 = 1159\n",
            "Week 18 = 1226\n",
            "Week 19 = 1293\n",
            "Week 20 = 1360\n",
            "Week 21 = 1427\n",
            "Week 22 = 1494\n",
            "Week 23 = 1561\n",
            "Week 24 = 1628\n",
            "Week 25 = 1695\n",
            "Week 26 = 1762\n",
            "Week 27 = 1829\n",
            "Week 28 = 1896\n",
            "Week 29 = 1963\n",
            "Week 30 = 2030\n",
            "Week 31 = 2097\n",
            "Week 32 = 2164\n",
            "Week 33 = 2231\n",
            "Week 34 = 2298\n",
            "Week 35 = 2365\n",
            "Week 36 = 2432\n",
            "Week 37 = 2499\n",
            "Week 38 = 2566\n",
            "Week 39 = 2633\n",
            "Week 40 = 2700\n",
            "Week 41 = 2767\n",
            "Week 42 = 2834\n",
            "Week 43 = 2901\n",
            "Week 44 = 2968\n",
            "Week 45 = 3035\n",
            "Week 46 = 3102\n",
            "Week 47 = 3169\n",
            "Week 48 = 3236\n",
            "Week 49 = 3303\n",
            "Week 50 = 3370\n",
            "Week 51 = 3437\n",
            "Week 52 = 3504\n"
          ]
        }
      ]
    },
    {
      "cell_type": "code",
      "metadata": {
        "id": "AqIbUrlcYWS3",
        "colab": {
          "base_uri": "https://localhost:8080/"
        },
        "outputId": "4b27fe24-1bbc-4e76-9bd9-26b38f14681b"
      },
      "source": [
        "raws1 = 20\n",
        "raws2 = 19\n",
        "for x in range(0,10):\n",
        "  totals = (raws1*x)+(raws2*x)\n",
        "  print( x + totals)"
      ],
      "execution_count": 130,
      "outputs": [
        {
          "output_type": "stream",
          "name": "stdout",
          "text": [
            "0\n",
            "40\n",
            "80\n",
            "120\n",
            "160\n",
            "200\n",
            "240\n",
            "280\n",
            "320\n",
            "360\n"
          ]
        }
      ]
    },
    {
      "cell_type": "markdown",
      "metadata": {
        "id": "edvu4CCRuW8O"
      },
      "source": [
        "While loops ->"
      ]
    },
    {
      "cell_type": "code",
      "metadata": {
        "id": "3ZAgsACevkue",
        "colab": {
          "base_uri": "https://localhost:8080/"
        },
        "outputId": "3c31803a-6fbf-4127-d704-451948daa051"
      },
      "source": [
        "step = 0\n",
        "while step < 10:   # Command for while loop  \n",
        "                    # This programme will run until step reacher 9 (< 10)\n",
        "  step = step + 1   # Pythin will execute the rest of the command  until step reaches 9\n",
        "  print(step)"
      ],
      "execution_count": 131,
      "outputs": [
        {
          "output_type": "stream",
          "name": "stdout",
          "text": [
            "1\n",
            "2\n",
            "3\n",
            "4\n",
            "5\n",
            "6\n",
            "7\n",
            "8\n",
            "9\n",
            "10\n"
          ]
        }
      ]
    },
    {
      "cell_type": "code",
      "metadata": {
        "colab": {
          "base_uri": "https://localhost:8080/"
        },
        "id": "TGF4oHQSGIiT",
        "outputId": "5023fff1-d44c-4f82-eeed-41895a87d363"
      },
      "source": [
        "step = 0\n",
        "while step < 10:\n",
        "  step = step +1\n",
        "  print(step)       # break is the keyword to jump out of the loop\n",
        "  if step == 8:      # In this case the loop will end once step=8 \n",
        "    break           # The code will stop once it has done 8 loops"
      ],
      "execution_count": 132,
      "outputs": [
        {
          "output_type": "stream",
          "name": "stdout",
          "text": [
            "1\n",
            "2\n",
            "3\n",
            "4\n",
            "5\n",
            "6\n",
            "7\n",
            "8\n"
          ]
        }
      ]
    },
    {
      "cell_type": "code",
      "metadata": {
        "colab": {
          "base_uri": "https://localhost:8080/"
        },
        "id": "sqyWTtZ1FsDx",
        "outputId": "967cd9d8-fe9a-4dc3-c030-7533f0048872"
      },
      "source": [
        "x = 45 \n",
        "y = 80         # While loop is usually used together with other variables\n",
        "while x < 50 and y < 100:\n",
        "  x = x + 1 \n",
        "  y = y + 1 \n",
        "  print(x,y)"
      ],
      "execution_count": 133,
      "outputs": [
        {
          "output_type": "stream",
          "name": "stdout",
          "text": [
            "46 81\n",
            "47 82\n",
            "48 83\n",
            "49 84\n",
            "50 85\n"
          ]
        }
      ]
    },
    {
      "cell_type": "markdown",
      "metadata": {
        "id": "2pP2A8BeIw_0"
      },
      "source": [
        "***1: The Hello Loop***\n",
        "\n",
        "What do you think the following code will do? First, guess what\n",
        "will happen, and then run the code in Python to see if you were\n",
        "right."
      ]
    },
    {
      "cell_type": "code",
      "metadata": {
        "colab": {
          "base_uri": "https://localhost:8080/"
        },
        "id": "zZ9aqrLoIzLx",
        "outputId": "639df7e0-e23d-435f-e76b-1ec11d16a8c1"
      },
      "source": [
        "for x in range(0, 20):\n",
        " print('hello %s' % x)\n",
        " if x < 9:\n",
        "  break"
      ],
      "execution_count": 134,
      "outputs": [
        {
          "output_type": "stream",
          "name": "stdout",
          "text": [
            "hello 0\n"
          ]
        }
      ]
    },
    {
      "cell_type": "markdown",
      "metadata": {
        "id": "hZxj1SNBJBTx"
      },
      "source": [
        "The code will say hello 0\n",
        "\n",
        "it will run once as when x is less than 9 which is when you run x = 0"
      ]
    },
    {
      "cell_type": "markdown",
      "metadata": {
        "id": "x2EvCM56L2Oq"
      },
      "source": [
        "\n",
        "\n",
        "***2: Even Numbers***\n",
        "\n",
        "Create a loop that prints even numbers until it reaches your year\n",
        "of age or, if your age is an odd number, prints out odd numbers\n",
        "until it reaches your age. For example, it might print out something like this:\n",
        "\n",
        "2\n",
        "\n",
        "4\n",
        "\n",
        "6\n",
        "\n",
        "8\n",
        "\n",
        "10\n",
        "\n",
        "12\n",
        "\n",
        "14\n",
        "\n",
        "\n",
        "\n"
      ]
    },
    {
      "cell_type": "code",
      "metadata": {
        "colab": {
          "base_uri": "https://localhost:8080/"
        },
        "id": "Fk1r-LKBLQ4d",
        "outputId": "57b148a2-b6ee-4bd4-e7a2-26c4a22dded4"
      },
      "source": [
        "x = 0\n",
        "while x < 100:\n",
        "  x = x + 2\n",
        "  print(x)\n",
        "  if x == 14:\n",
        "    break"
      ],
      "execution_count": 135,
      "outputs": [
        {
          "output_type": "stream",
          "name": "stdout",
          "text": [
            "2\n",
            "4\n",
            "6\n",
            "8\n",
            "10\n",
            "12\n",
            "14\n"
          ]
        }
      ]
    },
    {
      "cell_type": "markdown",
      "metadata": {
        "id": "8WGvsyHndbc6"
      },
      "source": [
        "***3: My Five Favorite Ingredients***\n",
        "Create a list containing five different sandwich ingredients, such\n",
        "as the following:\n",
        "\n",
        "*ingredients = ['snails', 'leeches', 'gorilla belly-button lint',\n",
        " 'caterpillar eyebrows', 'centipede toes']*\n",
        "\n",
        "**Now create a loop that prints out the list (including the numbers):**\n",
        "\n",
        "\n",
        "1 snails\n",
        "\n",
        "2 leeches\n",
        "\n",
        "3 gorilla belly-button lint\n",
        "\n",
        "4 caterpillar eyebrows\n",
        "\n",
        "5 centipede toes"
      ]
    },
    {
      "cell_type": "code",
      "metadata": {
        "colab": {
          "base_uri": "https://localhost:8080/"
        },
        "id": "kU09nP8rdkGc",
        "outputId": "106d0e62-7b26-4fcb-bcce-f7ed5a2b5bb3"
      },
      "source": [
        "ingredients = ['snails', 'leeches', 'gorilla belly-button lint', 'caterpillar eyebrows', 'centipede toes']\n",
        "\n",
        "for x in range(0,5):\n",
        "  y = x \n",
        "  x = x + 1\n",
        "  print( x, ingredients[y])"
      ],
      "execution_count": 136,
      "outputs": [
        {
          "output_type": "stream",
          "name": "stdout",
          "text": [
            "1 snails\n",
            "2 leeches\n",
            "3 gorilla belly-button lint\n",
            "4 caterpillar eyebrows\n",
            "5 centipede toes\n"
          ]
        }
      ]
    },
    {
      "cell_type": "markdown",
      "metadata": {
        "id": "mI5MiYfPfKvj"
      },
      "source": [
        "***4: Your Weight on the Moon***\n",
        "\n",
        "If you were standing on the moon right now, your weight would be\n",
        "16.5 percent of what it is on Earth. You can calculate that by multiplying your Earth weight by 0.165.\n",
        "If you gained a kilo in weight every year for the next 15 years,\n",
        "what would your weight be when you visited the moon each year\n",
        "and at the end of the 15 years? Write a program using a for loop\n",
        "that prints your moon weight for each year."
      ]
    },
    {
      "cell_type": "code",
      "metadata": {
        "colab": {
          "base_uri": "https://localhost:8080/"
        },
        "id": "3PIBFv_1fRWu",
        "outputId": "27ed0d34-85ff-43a7-c147-6f5b313cbcf1"
      },
      "source": [
        "weight = 60\n",
        "for x in range(1,16):\n",
        "  print( x, (weight+x*1)*0.165)"
      ],
      "execution_count": 137,
      "outputs": [
        {
          "output_type": "stream",
          "name": "stdout",
          "text": [
            "1 10.065000000000001\n",
            "2 10.23\n",
            "3 10.395000000000001\n",
            "4 10.56\n",
            "5 10.725\n",
            "6 10.89\n",
            "7 11.055\n",
            "8 11.22\n",
            "9 11.385\n",
            "10 11.55\n",
            "11 11.715\n",
            "12 11.88\n",
            "13 12.045\n",
            "14 12.21\n",
            "15 12.375\n"
          ]
        }
      ]
    },
    {
      "cell_type": "markdown",
      "metadata": {
        "id": "UYJeNGiTgeKt"
      },
      "source": [
        "# Chapter 7 - Recycling Your Code with Functions and Modules"
      ]
    },
    {
      "cell_type": "markdown",
      "metadata": {
        "id": "2FUUGYAzgxCu"
      },
      "source": [
        "Functions are a set of code that tell Python to do something. They are one way to reuse code — you can use functions in your\n",
        "programs again and again.   ***It is like a set of instructions***"
      ]
    },
    {
      "cell_type": "code",
      "metadata": {
        "colab": {
          "base_uri": "https://localhost:8080/"
        },
        "id": "DpFNsopigqPw",
        "outputId": "e1ded90b-e82d-4578-9c8c-2e5c4b18eeec"
      },
      "source": [
        "def testfunc(myname):   # You start a function by writing def, then the name you want to give the \n",
        "                        # function then write the parametre (special variable) inside the bracket\n",
        " print('hello %s' % myname)      # After that you give the instructions for what the function\n",
        "                                 # will do.\n",
        "\n",
        "\n",
        "testfunc('mehrab')       # Now you write the function name and set values to the parametres"
      ],
      "execution_count": 138,
      "outputs": [
        {
          "output_type": "stream",
          "name": "stdout",
          "text": [
            "hello mehrab\n"
          ]
        }
      ]
    },
    {
      "cell_type": "markdown",
      "metadata": {
        "id": "fJBHlC_5rZxw"
      },
      "source": [
        "Parametres are special variables that can only be used inside a function."
      ]
    },
    {
      "cell_type": "code",
      "metadata": {
        "colab": {
          "base_uri": "https://localhost:8080/"
        },
        "id": "Xmkttkv0jJvK",
        "outputId": "203a236b-375e-4bbb-e328-db0267024234"
      },
      "source": [
        "def name(name1,name2):\n",
        "  print('hello %s %s' %(name1,name2))\n",
        "\n",
        "name('mehrab','rahman')"
      ],
      "execution_count": 139,
      "outputs": [
        {
          "output_type": "stream",
          "name": "stdout",
          "text": [
            "hello mehrab rahman\n"
          ]
        }
      ]
    },
    {
      "cell_type": "code",
      "metadata": {
        "colab": {
          "base_uri": "https://localhost:8080/"
        },
        "id": "j-Y35Jgpjvk4",
        "outputId": "f6e08e37-a332-48d1-ab07-c406106c772e"
      },
      "source": [
        "def savings(pocket_money, paper_route, spending):\n",
        " return pocket_money + paper_route - spending   # Return is used to return the function\n",
        "\n",
        "print(savings(10,15,20))"
      ],
      "execution_count": 140,
      "outputs": [
        {
          "output_type": "stream",
          "name": "stdout",
          "text": [
            "5\n"
          ]
        }
      ]
    },
    {
      "cell_type": "code",
      "metadata": {
        "colab": {
          "base_uri": "https://localhost:8080/"
        },
        "id": "nQ4_E8fWqkjR",
        "outputId": "79dd8da9-f4e5-43ad-faf5-300bf524173e"
      },
      "source": [
        "def vartest():         # This is a function that uses variables instead of parametres\n",
        "  var1 = 10            # However this variable still cant be used outside of the function\n",
        "  var2 = 20\n",
        "  return var1 + var2\n",
        "\n",
        "print(vartest())"
      ],
      "execution_count": 141,
      "outputs": [
        {
          "output_type": "stream",
          "name": "stdout",
          "text": [
            "30\n"
          ]
        }
      ]
    },
    {
      "cell_type": "code",
      "metadata": {
        "colab": {
          "base_uri": "https://localhost:8080/"
        },
        "id": "0mfpR4Ogrhnl",
        "outputId": "8524b98a-5ffe-4b7f-eda0-01dc8c5a61ee"
      },
      "source": [
        "var3 = 30\n",
        "def vartest():\n",
        "  var1 = 10\n",
        "  var2 = 20\n",
        "  return var1 + var2 + var3\n",
        "\n",
        "print(vartest())\n"
      ],
      "execution_count": 142,
      "outputs": [
        {
          "output_type": "stream",
          "name": "stdout",
          "text": [
            "60\n"
          ]
        }
      ]
    },
    {
      "cell_type": "code",
      "metadata": {
        "colab": {
          "base_uri": "https://localhost:8080/"
        },
        "id": "MoKQHai5fJPB",
        "outputId": "850e6f6f-deef-46ec-a714-ed43e292d928"
      },
      "source": [
        "def moonweight(weight,increase,year):\n",
        "  return (weight+increase*year)*0.165\n",
        "\n",
        "print(moonweight(60,1,15))"
      ],
      "execution_count": 143,
      "outputs": [
        {
          "output_type": "stream",
          "name": "stdout",
          "text": [
            "12.375\n"
          ]
        }
      ]
    },
    {
      "cell_type": "code",
      "metadata": {
        "colab": {
          "base_uri": "https://localhost:8080/"
        },
        "id": "aFvi8oPIiDQd",
        "outputId": "85e9a507-f1cf-49ef-da4e-e9745f29136e"
      },
      "source": [
        "def moonweight(weight,increase,year):\n",
        "  for x in range(1,year+1):\n",
        "    monw = (weight+increase*x)*0.165\n",
        "    print('year %s = %s' %(x,monw))\n",
        "\n",
        "moonweight(60,1,15)"
      ],
      "execution_count": 144,
      "outputs": [
        {
          "output_type": "stream",
          "name": "stdout",
          "text": [
            "year 1 = 10.065000000000001\n",
            "year 2 = 10.23\n",
            "year 3 = 10.395000000000001\n",
            "year 4 = 10.56\n",
            "year 5 = 10.725\n",
            "year 6 = 10.89\n",
            "year 7 = 11.055\n",
            "year 8 = 11.22\n",
            "year 9 = 11.385\n",
            "year 10 = 11.55\n",
            "year 11 = 11.715\n",
            "year 12 = 11.88\n",
            "year 13 = 12.045\n",
            "year 14 = 12.21\n",
            "year 15 = 12.375\n"
          ]
        }
      ]
    },
    {
      "cell_type": "markdown",
      "metadata": {
        "id": "E84vHWodmFre"
      },
      "source": [
        "***Modules***\n",
        "\n",
        "Modules are used to group functions, variables, and other things\n",
        "together into larger, more powerful programs. Some modules are\n",
        "built in to Python, and you\n",
        "can download other modules\n",
        "separately."
      ]
    },
    {
      "cell_type": "code",
      "metadata": {
        "colab": {
          "base_uri": "https://localhost:8080/"
        },
        "id": "eHc2bQ44lduZ",
        "outputId": "2137721d-d54b-42ee-df33-43df2f4184f1"
      },
      "source": [
        "import time           # For time\n",
        "print(time.asctime())"
      ],
      "execution_count": 145,
      "outputs": [
        {
          "output_type": "stream",
          "name": "stdout",
          "text": [
            "Sun Dec  5 05:47:54 2021\n"
          ]
        }
      ]
    },
    {
      "cell_type": "code",
      "metadata": {
        "colab": {
          "base_uri": "https://localhost:8080/"
        },
        "id": "CVyLMdWinsz3",
        "outputId": "b90bcd95-5672-46a3-de44-feb2ba343e4a"
      },
      "source": [
        "import sys                               # Use this in other IDLE\n",
        "print(sys.stdin.readline())              # Colab cannot use this\n",
        "\n",
        "name = input('What is your name: ')      # Colab uses input only\n",
        "print('hello %s'% name)"
      ],
      "execution_count": 146,
      "outputs": [
        {
          "output_type": "stream",
          "name": "stdout",
          "text": [
            "\n",
            "What is your name: m\n",
            "hello m\n"
          ]
        }
      ]
    },
    {
      "cell_type": "code",
      "metadata": {
        "colab": {
          "base_uri": "https://localhost:8080/"
        },
        "id": "iqgxlPs3otsk",
        "outputId": "30ecbb6e-bf79-49e0-8384-0f0cc6343f40"
      },
      "source": [
        "\n",
        "\n",
        "def silly_age_joke():\n",
        " age1 = input('How old are you?: ')\n",
        " age = int(age1)                    # Use int to convert the string into a integer\n",
        " if age >= 10 and age <= 13:\n",
        "  print('What is 13 + 49 + 84 + 155 + 97? A headache!')\n",
        " else:\n",
        "  print('Huh?')\n",
        "\n",
        "silly_age_joke()"
      ],
      "execution_count": 147,
      "outputs": [
        {
          "output_type": "stream",
          "name": "stdout",
          "text": [
            "How old are you?: 14\n",
            "Huh?\n"
          ]
        }
      ]
    },
    {
      "cell_type": "markdown",
      "metadata": {
        "id": "shIhHKXzr3SL"
      },
      "source": [
        "Programming puzzles have been done above  (pg 90)"
      ]
    },
    {
      "cell_type": "markdown",
      "metadata": {
        "id": "gJ_7CR_Fr-Yi"
      },
      "source": [
        "# Chapter 8 - How to Use Classes and Objects"
      ]
    },
    {
      "cell_type": "markdown",
      "metadata": {
        "id": "621cI4VWFzb_"
      },
      "source": [
        "Classes are a category of things\n",
        "\n",
        "Objects are items that can be catagorised into classes\n",
        "\n",
        "Classes are used to organise things into classes"
      ]
    },
    {
      "cell_type": "code",
      "metadata": {
        "id": "G1eT3mQsGAod"
      },
      "source": [
        "class Things:    # Things is the name of the class\n",
        "  pass        # pass to let Python know that we are not going to give any more information\n",
        "\n",
        "class Inanimate(Things):  # If a class is part of another class it is a children\n",
        "  pass                    # and the other class is the parent. In this case Inanimate is the \n",
        "                          # children of Things and Things is the parent\n",
        "class Animate(Things):\n",
        "  pass\n",
        "\n",
        "class Animals(Animate):\n",
        "  pass \n",
        "\n",
        "class Mammles(Animals):\n",
        "  pass\n",
        "\n",
        "class Dog(Mammles):\n",
        "  pass\n",
        "\n",
        "\n",
        "stan = Dog()       # The name of the dog is stan. This is how we add an object to a class\n",
        "                   # This code tells Python to create an object in the "
      ],
      "execution_count": 148,
      "outputs": []
    },
    {
      "cell_type": "code",
      "metadata": {
        "colab": {
          "base_uri": "https://localhost:8080/"
        },
        "id": "uldh2ND-LmHe",
        "outputId": "248e9b1c-3cab-42b8-fe1d-b0a8a06561ef"
      },
      "source": [
        "class Things:             # Refer to pg 95\n",
        "  pass\n",
        "\n",
        "class Inanimate(Things):\n",
        "  pass\n",
        "\n",
        "class Animate(Things):\n",
        "  pass\n",
        "\n",
        "class Animals(Animate):\n",
        "  def breathe(self):     # Defining a function self parameter is a way for one function \n",
        "    print('breathing')   # in the class to call another function in the\n",
        "                         # class (and in the parent class)\n",
        "  def move(self):\n",
        "    print('moving')\n",
        "\n",
        "  def eat_food(self):\n",
        "    print('eating food')\n",
        "\n",
        "class Mammals(Animals):\n",
        "  def feed_young_with_milk(self):\n",
        "    pass\n",
        "\n",
        "class Dog(Mammals):\n",
        "  def eat_dog_food(self):           # The dog has all the characteristics of animal and mammal\n",
        "    pass                            # The dog can still use the function of animals and mammal\n",
        "\n",
        "stan = Dog()\n",
        "stan.move()\n",
        "\n",
        "\n",
        "ralph = Dog()     # New object\n",
        "ralph.move()      \n",
        "\n"
      ],
      "execution_count": 149,
      "outputs": [
        {
          "output_type": "stream",
          "name": "stdout",
          "text": [
            "moving\n",
            "moving\n"
          ]
        }
      ]
    },
    {
      "cell_type": "code",
      "metadata": {
        "colab": {
          "base_uri": "https://localhost:8080/"
        },
        "id": "_rI40Kg8twbE",
        "outputId": "e2822c78-9ecd-4920-cd16-240451f588c5"
      },
      "source": [
        "\n",
        " \n",
        "class Giraffes:\n",
        "  def move(self):\n",
        "   print('move')\n",
        "  \n",
        "  def find_food(self):           # You can make a function do another function using self\n",
        "    self.move()                  # More example in #1 programming puzzle in chap 8\n",
        "    print(\"I've found food!\")\n",
        "    self.eat_food()\n",
        "  def eat_leaves_from_trees(self):\n",
        "    self.eat_food()\n",
        "  def dance_a_jig(self):\n",
        "    self.move()\n",
        "    self.move()\n",
        "    self.move()\n",
        "    self.move()\n",
        "\n",
        "reginald = Giraffes()\n",
        "reginald.dance_a_jig()"
      ],
      "execution_count": 151,
      "outputs": [
        {
          "output_type": "stream",
          "name": "stdout",
          "text": [
            "move\n",
            "move\n",
            "move\n",
            "move\n"
          ]
        }
      ]
    },
    {
      "cell_type": "markdown",
      "metadata": {
        "id": "7v4FkBpTvX6x"
      },
      "source": [
        "Initializing an object\n",
        "\n",
        "We initialize an object when we are getting it ready to be used\n",
        "\n",
        "e.g. when you want to set the number of spots on the dog, we need to initialize it\n",
        "\n",
        "We need to create a __init __function\n",
        "\n",
        "The init function is a way to set the properties for an\n",
        "object when the object is first created, and Python will automatically call this function when we create a new object."
      ]
    },
    {
      "cell_type": "code",
      "metadata": {
        "colab": {
          "base_uri": "https://localhost:8080/"
        },
        "id": "dccZCzInwUom",
        "outputId": "48f5de51-a8c0-4f5b-bac0-da83c14d6061"
      },
      "source": [
        "class Dog:\n",
        "  def __init__(self,spots):\n",
        "    self.dog_spots = spots\n",
        "\n",
        "tom = Dog(100)\n",
        "print(tom.dog_spots)\n",
        "\n",
        "dan = Dog(57)\n",
        "print(dan.dog_spots)"
      ],
      "execution_count": 152,
      "outputs": [
        {
          "output_type": "stream",
          "name": "stdout",
          "text": [
            "100\n",
            "57\n"
          ]
        }
      ]
    },
    {
      "cell_type": "markdown",
      "metadata": {
        "id": "-o2atDiLD6F2"
      },
      "source": [
        "Programming puzzles - pg 107"
      ]
    },
    {
      "cell_type": "markdown",
      "metadata": {
        "id": "t2V4hKhTDTd8"
      },
      "source": [
        "***1: The Giraffe Shuffle***\n",
        "\n",
        ">Add functions to the Giraffes class to move the giraffe’s left and\n",
        "right feet forward and backward. A function for moving the left\n",
        "foot forward might look like this:\n",
        "\n",
        "def left_Foot_Forward(self):\n",
        "\n",
        "print('left foot forward')\n",
        "\n",
        ">Then create a function called dance to teach Reginald to dance\n",
        "(the function will call the four foot functions you’ve just created).\n",
        "The result of calling this new function will be a simple dance:\n",
        "\n",
        "reginald = Giraffes()\n",
        "\n",
        "reginald.dance()\n",
        "\n",
        "left foot forward\n",
        "\n",
        "left foot back\n",
        "\n",
        "right foot forward\n",
        "\n",
        "right foot back\n",
        "\n",
        "left foot back\n",
        "\n",
        "right foot back\n",
        "\n",
        "right foot forward\n",
        "\n",
        "left foot forward"
      ]
    },
    {
      "cell_type": "code",
      "metadata": {
        "colab": {
          "base_uri": "https://localhost:8080/"
        },
        "id": "VjQwzrU6D4xN",
        "outputId": "a98900d6-2657-4577-b112-0a484879490e"
      },
      "source": [
        "\n",
        "class Giraffes:\n",
        "  def left_foot_forward(self):\n",
        "    print('left foot forward')\n",
        "\n",
        "  def left_foot_back(self):\n",
        "    print('left foot back')\n",
        "\n",
        "  def right_foot_forward(self):\n",
        "    print('right foot forward')\n",
        "\n",
        "  def right_foot_back(self):\n",
        "    print('right foor back')\n",
        "\n",
        "\n",
        "  def dance(self):\n",
        "    self.left_foot_forward()\n",
        "    self.left_foot_back()\n",
        "    self.right_foot_forward()\n",
        "    self.right_foot_back()\n",
        "    self.left_foot_back()\n",
        "    self.right_foot_back()\n",
        "    self.right_foot_forward()\n",
        "    self.left_foot_forward()\n",
        "\n",
        "reginald = Giraffes()\n",
        "reginald.dance()"
      ],
      "execution_count": 153,
      "outputs": [
        {
          "output_type": "stream",
          "name": "stdout",
          "text": [
            "left foot forward\n",
            "left foot back\n",
            "right foot forward\n",
            "right foor back\n",
            "left foot back\n",
            "right foor back\n",
            "right foot forward\n",
            "left foot forward\n"
          ]
        }
      ]
    }
  ]
}