{
  "nbformat": 4,
  "nbformat_minor": 0,
  "metadata": {
    "colab": {
      "name": "Welcome to Colaboratory",
      "provenance": [],
      "collapsed_sections": [],
      "toc_visible": true,
      "include_colab_link": true
    },
    "kernelspec": {
      "display_name": "Python 3",
      "name": "python3"
    }
  },
  "cells": [
    {
      "cell_type": "markdown",
      "metadata": {
        "id": "view-in-github",
        "colab_type": "text"
      },
      "source": [
        "<a href=\"https://colab.research.google.com/github/Mehrabwv/python/blob/main/Welcome_to_Colaboratory.ipynb\" target=\"_parent\"><img src=\"https://colab.research.google.com/assets/colab-badge.svg\" alt=\"Open In Colab\"/></a>"
      ]
    },
    {
      "cell_type": "code",
      "metadata": {
        "colab": {
          "base_uri": "https://localhost:8080/"
        },
        "id": "8faetyUptsuv",
        "outputId": "2dd17590-4c3d-4f5c-8ede-0c0e01b46a8a"
      },
      "source": [
        "ingredients = ['snails', 'leeches', 'gorilla belly-button lint',\n",
        " 'caterpillar eyebrows', 'centipede toes']\n",
        "number = ['1','2','3','4','5']\n",
        "for x in range(0,5):\n",
        "  y = 1 + x\n",
        "  print( y , ingredients[x])"
      ],
      "execution_count": null,
      "outputs": [
        {
          "output_type": "stream",
          "name": "stdout",
          "text": [
            "1 snails\n",
            "2 leeches\n",
            "3 gorilla belly-button lint\n",
            "4 caterpillar eyebrows\n",
            "5 centipede toes\n"
          ]
        }
      ]
    },
    {
      "cell_type": "code",
      "metadata": {
        "colab": {
          "base_uri": "https://localhost:8080/"
        },
        "id": "6rdaf6u4t4J_",
        "outputId": "af5f93d0-79df-4d2e-addf-f5329686f32b"
      },
      "source": [
        "ingredients = ['snails', 'leeches', 'gorilla belly-button lint',\n",
        " 'caterpillar eyebrows', 'centipede toes']\n",
        "number = ['1','2','3','4','5']\n",
        "for x in range(0,5):\n",
        "  y = 1 + x\n",
        "  print( y , ingredients[x])"
      ],
      "execution_count": null,
      "outputs": [
        {
          "output_type": "stream",
          "name": "stdout",
          "text": [
            "1 snails\n",
            "2 leeches\n",
            "3 gorilla belly-button lint\n",
            "4 caterpillar eyebrows\n",
            "5 centipede toes\n"
          ]
        }
      ]
    },
    {
      "cell_type": "code",
      "metadata": {
        "colab": {
          "base_uri": "https://localhost:8080/"
        },
        "id": "D92czHOJyjfP",
        "outputId": "4ec1dddb-091f-413b-d91b-e94fdf327b7c"
      },
      "source": [
        "weight = 60\n",
        "for y in range(1,16):\n",
        "  weight=weight+1\n",
        "  print(y,weight*0.165) "
      ],
      "execution_count": null,
      "outputs": [
        {
          "output_type": "stream",
          "name": "stdout",
          "text": [
            "1 10.065000000000001\n",
            "2 10.23\n",
            "3 10.395000000000001\n",
            "4 10.56\n",
            "5 10.725\n",
            "6 10.89\n",
            "7 11.055\n",
            "8 11.22\n",
            "9 11.385\n",
            "10 11.55\n",
            "11 11.715\n",
            "12 11.88\n",
            "13 12.045\n",
            "14 12.21\n",
            "15 12.375\n"
          ]
        }
      ]
    },
    {
      "cell_type": "code",
      "metadata": {
        "colab": {
          "base_uri": "https://localhost:8080/"
        },
        "id": "oaHZudD2GADH",
        "outputId": "c21732c8-7ef2-416b-876b-2cf3df397a35"
      },
      "source": [
        "def moonweight(weight,year,increase):\n",
        "  return (weight+(increase*year))*0.165\n",
        "\n",
        "\n",
        "print(moonweight(60,15,1))"
      ],
      "execution_count": null,
      "outputs": [
        {
          "output_type": "stream",
          "name": "stdout",
          "text": [
            "12.375\n"
          ]
        }
      ]
    },
    {
      "cell_type": "code",
      "metadata": {
        "id": "yP31XhqWIAXk",
        "outputId": "cde76783-5e43-4752-ca33-4ec443e23e5e",
        "colab": {
          "base_uri": "https://localhost:8080/",
          "height": 595
        }
      },
      "source": [
        "weight1= input('What is your weight now?: ')\n",
        "increase1= input('How much increase do you expect?: ')\n",
        "year1= input('In how many years?: ')\n",
        "\n",
        "weight = int(weight1)\n",
        "increase = int(increase1)\n",
        "yeare = int(year1)\n",
        "year2 = yeare+15\n",
        "\n",
        "\n",
        "for year2 in range(0,year2):\n",
        "  moonweight=(weight+(increase*year2))*0.165\n",
        "  print(year2,moonweight)"
      ],
      "execution_count": 63,
      "outputs": [
        {
          "output_type": "error",
          "ename": "KeyboardInterrupt",
          "evalue": "ignored",
          "traceback": [
            "\u001b[0;31m---------------------------------------------------------------------------\u001b[0m",
            "\u001b[0;31mKeyboardInterrupt\u001b[0m                         Traceback (most recent call last)",
            "\u001b[0;32m/usr/local/lib/python3.7/dist-packages/ipykernel/kernelbase.py\u001b[0m in \u001b[0;36m_input_request\u001b[0;34m(self, prompt, ident, parent, password)\u001b[0m\n\u001b[1;32m    728\u001b[0m             \u001b[0;32mtry\u001b[0m\u001b[0;34m:\u001b[0m\u001b[0;34m\u001b[0m\u001b[0;34m\u001b[0m\u001b[0m\n\u001b[0;32m--> 729\u001b[0;31m                 \u001b[0mident\u001b[0m\u001b[0;34m,\u001b[0m \u001b[0mreply\u001b[0m \u001b[0;34m=\u001b[0m \u001b[0mself\u001b[0m\u001b[0;34m.\u001b[0m\u001b[0msession\u001b[0m\u001b[0;34m.\u001b[0m\u001b[0mrecv\u001b[0m\u001b[0;34m(\u001b[0m\u001b[0mself\u001b[0m\u001b[0;34m.\u001b[0m\u001b[0mstdin_socket\u001b[0m\u001b[0;34m,\u001b[0m \u001b[0;36m0\u001b[0m\u001b[0;34m)\u001b[0m\u001b[0;34m\u001b[0m\u001b[0;34m\u001b[0m\u001b[0m\n\u001b[0m\u001b[1;32m    730\u001b[0m             \u001b[0;32mexcept\u001b[0m \u001b[0mException\u001b[0m\u001b[0;34m:\u001b[0m\u001b[0;34m\u001b[0m\u001b[0;34m\u001b[0m\u001b[0m\n",
            "\u001b[0;32m/usr/local/lib/python3.7/dist-packages/jupyter_client/session.py\u001b[0m in \u001b[0;36mrecv\u001b[0;34m(self, socket, mode, content, copy)\u001b[0m\n\u001b[1;32m    802\u001b[0m         \u001b[0;32mtry\u001b[0m\u001b[0;34m:\u001b[0m\u001b[0;34m\u001b[0m\u001b[0;34m\u001b[0m\u001b[0m\n\u001b[0;32m--> 803\u001b[0;31m             \u001b[0mmsg_list\u001b[0m \u001b[0;34m=\u001b[0m \u001b[0msocket\u001b[0m\u001b[0;34m.\u001b[0m\u001b[0mrecv_multipart\u001b[0m\u001b[0;34m(\u001b[0m\u001b[0mmode\u001b[0m\u001b[0;34m,\u001b[0m \u001b[0mcopy\u001b[0m\u001b[0;34m=\u001b[0m\u001b[0mcopy\u001b[0m\u001b[0;34m)\u001b[0m\u001b[0;34m\u001b[0m\u001b[0;34m\u001b[0m\u001b[0m\n\u001b[0m\u001b[1;32m    804\u001b[0m         \u001b[0;32mexcept\u001b[0m \u001b[0mzmq\u001b[0m\u001b[0;34m.\u001b[0m\u001b[0mZMQError\u001b[0m \u001b[0;32mas\u001b[0m \u001b[0me\u001b[0m\u001b[0;34m:\u001b[0m\u001b[0;34m\u001b[0m\u001b[0;34m\u001b[0m\u001b[0m\n",
            "\u001b[0;32m/usr/local/lib/python3.7/dist-packages/zmq/sugar/socket.py\u001b[0m in \u001b[0;36mrecv_multipart\u001b[0;34m(self, flags, copy, track)\u001b[0m\n\u001b[1;32m    624\u001b[0m         \"\"\"\n\u001b[0;32m--> 625\u001b[0;31m         \u001b[0mparts\u001b[0m \u001b[0;34m=\u001b[0m \u001b[0;34m[\u001b[0m\u001b[0mself\u001b[0m\u001b[0;34m.\u001b[0m\u001b[0mrecv\u001b[0m\u001b[0;34m(\u001b[0m\u001b[0mflags\u001b[0m\u001b[0;34m,\u001b[0m \u001b[0mcopy\u001b[0m\u001b[0;34m=\u001b[0m\u001b[0mcopy\u001b[0m\u001b[0;34m,\u001b[0m \u001b[0mtrack\u001b[0m\u001b[0;34m=\u001b[0m\u001b[0mtrack\u001b[0m\u001b[0;34m)\u001b[0m\u001b[0;34m]\u001b[0m\u001b[0;34m\u001b[0m\u001b[0;34m\u001b[0m\u001b[0m\n\u001b[0m\u001b[1;32m    626\u001b[0m         \u001b[0;31m# have first part already, only loop while more to receive\u001b[0m\u001b[0;34m\u001b[0m\u001b[0;34m\u001b[0m\u001b[0;34m\u001b[0m\u001b[0m\n",
            "\u001b[0;32mzmq/backend/cython/socket.pyx\u001b[0m in \u001b[0;36mzmq.backend.cython.socket.Socket.recv\u001b[0;34m()\u001b[0m\n",
            "\u001b[0;32mzmq/backend/cython/socket.pyx\u001b[0m in \u001b[0;36mzmq.backend.cython.socket.Socket.recv\u001b[0;34m()\u001b[0m\n",
            "\u001b[0;32mzmq/backend/cython/socket.pyx\u001b[0m in \u001b[0;36mzmq.backend.cython.socket._recv_copy\u001b[0;34m()\u001b[0m\n",
            "\u001b[0;32m/usr/local/lib/python3.7/dist-packages/zmq/backend/cython/checkrc.pxd\u001b[0m in \u001b[0;36mzmq.backend.cython.checkrc._check_rc\u001b[0;34m()\u001b[0m\n",
            "\u001b[0;31mKeyboardInterrupt\u001b[0m: ",
            "\nDuring handling of the above exception, another exception occurred:\n",
            "\u001b[0;31mKeyboardInterrupt\u001b[0m                         Traceback (most recent call last)",
            "\u001b[0;32m<ipython-input-63-7e507982c7d8>\u001b[0m in \u001b[0;36m<module>\u001b[0;34m()\u001b[0m\n\u001b[0;32m----> 1\u001b[0;31m \u001b[0mweight1\u001b[0m\u001b[0;34m=\u001b[0m \u001b[0minput\u001b[0m\u001b[0;34m(\u001b[0m\u001b[0;34m'What is your weight now?: '\u001b[0m\u001b[0;34m)\u001b[0m\u001b[0;34m\u001b[0m\u001b[0;34m\u001b[0m\u001b[0m\n\u001b[0m\u001b[1;32m      2\u001b[0m \u001b[0mincrease1\u001b[0m\u001b[0;34m=\u001b[0m \u001b[0minput\u001b[0m\u001b[0;34m(\u001b[0m\u001b[0;34m'How much increase do you expect?: '\u001b[0m\u001b[0;34m)\u001b[0m\u001b[0;34m\u001b[0m\u001b[0;34m\u001b[0m\u001b[0m\n\u001b[1;32m      3\u001b[0m \u001b[0myear1\u001b[0m\u001b[0;34m=\u001b[0m \u001b[0minput\u001b[0m\u001b[0;34m(\u001b[0m\u001b[0;34m'In how many years?: '\u001b[0m\u001b[0;34m)\u001b[0m\u001b[0;34m\u001b[0m\u001b[0;34m\u001b[0m\u001b[0m\n\u001b[1;32m      4\u001b[0m \u001b[0;34m\u001b[0m\u001b[0m\n\u001b[1;32m      5\u001b[0m \u001b[0mweight\u001b[0m \u001b[0;34m=\u001b[0m \u001b[0mint\u001b[0m\u001b[0;34m(\u001b[0m\u001b[0mweight1\u001b[0m\u001b[0;34m)\u001b[0m\u001b[0;34m\u001b[0m\u001b[0;34m\u001b[0m\u001b[0m\n",
            "\u001b[0;32m/usr/local/lib/python3.7/dist-packages/ipykernel/kernelbase.py\u001b[0m in \u001b[0;36mraw_input\u001b[0;34m(self, prompt)\u001b[0m\n\u001b[1;32m    702\u001b[0m             \u001b[0mself\u001b[0m\u001b[0;34m.\u001b[0m\u001b[0m_parent_ident\u001b[0m\u001b[0;34m,\u001b[0m\u001b[0;34m\u001b[0m\u001b[0;34m\u001b[0m\u001b[0m\n\u001b[1;32m    703\u001b[0m             \u001b[0mself\u001b[0m\u001b[0;34m.\u001b[0m\u001b[0m_parent_header\u001b[0m\u001b[0;34m,\u001b[0m\u001b[0;34m\u001b[0m\u001b[0;34m\u001b[0m\u001b[0m\n\u001b[0;32m--> 704\u001b[0;31m             \u001b[0mpassword\u001b[0m\u001b[0;34m=\u001b[0m\u001b[0;32mFalse\u001b[0m\u001b[0;34m,\u001b[0m\u001b[0;34m\u001b[0m\u001b[0;34m\u001b[0m\u001b[0m\n\u001b[0m\u001b[1;32m    705\u001b[0m         )\n\u001b[1;32m    706\u001b[0m \u001b[0;34m\u001b[0m\u001b[0m\n",
            "\u001b[0;32m/usr/local/lib/python3.7/dist-packages/ipykernel/kernelbase.py\u001b[0m in \u001b[0;36m_input_request\u001b[0;34m(self, prompt, ident, parent, password)\u001b[0m\n\u001b[1;32m    732\u001b[0m             \u001b[0;32mexcept\u001b[0m \u001b[0mKeyboardInterrupt\u001b[0m\u001b[0;34m:\u001b[0m\u001b[0;34m\u001b[0m\u001b[0;34m\u001b[0m\u001b[0m\n\u001b[1;32m    733\u001b[0m                 \u001b[0;31m# re-raise KeyboardInterrupt, to truncate traceback\u001b[0m\u001b[0;34m\u001b[0m\u001b[0;34m\u001b[0m\u001b[0;34m\u001b[0m\u001b[0m\n\u001b[0;32m--> 734\u001b[0;31m                 \u001b[0;32mraise\u001b[0m \u001b[0mKeyboardInterrupt\u001b[0m\u001b[0;34m\u001b[0m\u001b[0;34m\u001b[0m\u001b[0m\n\u001b[0m\u001b[1;32m    735\u001b[0m             \u001b[0;32melse\u001b[0m\u001b[0;34m:\u001b[0m\u001b[0;34m\u001b[0m\u001b[0;34m\u001b[0m\u001b[0m\n\u001b[1;32m    736\u001b[0m                 \u001b[0;32mbreak\u001b[0m\u001b[0;34m\u001b[0m\u001b[0;34m\u001b[0m\u001b[0m\n",
            "\u001b[0;31mKeyboardInterrupt\u001b[0m: "
          ]
        }
      ]
    },
    {
      "cell_type": "markdown",
      "metadata": {
        "id": "b-_vPk9YFSyP"
      },
      "source": [
        "# ***Python For Kids***   \n"
      ]
    },
    {
      "cell_type": "markdown",
      "metadata": {
        "id": "BplOc5A9FkvO"
      },
      "source": [
        "# Chapter 1 - Not all snakes slither\n",
        "# (Basics)"
      ]
    },
    {
      "cell_type": "code",
      "metadata": {
        "id": "e1rOLP78Hl6F"
      },
      "source": [
        "print('How are you?')"
      ],
      "execution_count": null,
      "outputs": []
    },
    {
      "cell_type": "code",
      "metadata": {
        "id": "-Lm3KuQrJ2Vs"
      },
      "source": [
        "print(\"hello world\")"
      ],
      "execution_count": null,
      "outputs": []
    },
    {
      "cell_type": "code",
      "metadata": {
        "id": "19p9Iu0wJ840"
      },
      "source": [
        "print('''hello world''')"
      ],
      "execution_count": null,
      "outputs": []
    },
    {
      "cell_type": "markdown",
      "metadata": {
        "id": "kHrp0NgNKFdq"
      },
      "source": [
        "#Chapter 2 - Calculations and Variables\n",
        "#Calculations"
      ]
    },
    {
      "cell_type": "code",
      "metadata": {
        "id": "31jkHigHKYiC"
      },
      "source": [
        "8*3.57   #8 times 3.57 = 28.56"
      ],
      "execution_count": null,
      "outputs": []
    },
    {
      "cell_type": "markdown",
      "metadata": {
        "id": "Yz3O2FZuLeW-"
      },
      "source": [
        "Pg 16 - puzzle"
      ]
    },
    {
      "cell_type": "code",
      "metadata": {
        "id": "IDt-F1_BKlTd"
      },
      "source": [
        "10*365"
      ],
      "execution_count": null,
      "outputs": []
    },
    {
      "cell_type": "code",
      "metadata": {
        "id": "sQ_35pdPK05i"
      },
      "source": [
        "20+3650"
      ],
      "execution_count": null,
      "outputs": []
    },
    {
      "cell_type": "code",
      "metadata": {
        "id": "RMP33JlNLoy9"
      },
      "source": [
        "3*52"
      ],
      "execution_count": null,
      "outputs": []
    },
    {
      "cell_type": "code",
      "metadata": {
        "id": "y-5hU36BL3qd"
      },
      "source": [
        "3670-156"
      ],
      "execution_count": null,
      "outputs": []
    },
    {
      "cell_type": "markdown",
      "metadata": {
        "id": "YkhUCC52w50N"
      },
      "source": [
        "BODMAS\n",
        "\n",
        "\n",
        "add\n",
        "5 to 30, and then multiply the result\n",
        "by 20"
      ]
    },
    {
      "cell_type": "code",
      "metadata": {
        "id": "eNneJtqfL_7X"
      },
      "source": [
        "(5+30)*20"
      ],
      "execution_count": null,
      "outputs": []
    },
    {
      "cell_type": "markdown",
      "metadata": {
        "id": "jmgJIMJgzV9F"
      },
      "source": [
        " Adding 5 to 30 gives 35.\n",
        "\n",
        " Multiplying 35 by 20 gives 700.\n",
        "\n",
        " Dividing 700 by 10 gives the final answer of 70."
      ]
    },
    {
      "cell_type": "code",
      "metadata": {
        "id": "8eRWdxvwzOEn"
      },
      "source": [
        " ((5 + 30) * 20) / 10"
      ],
      "execution_count": null,
      "outputs": []
    },
    {
      "cell_type": "markdown",
      "metadata": {
        "id": "SzebuoECzsSH"
      },
      "source": [
        "Variables"
      ]
    },
    {
      "cell_type": "code",
      "metadata": {
        "id": "G6kzzALRzucy"
      },
      "source": [
        "fred=100\n",
        "print(fred)"
      ],
      "execution_count": null,
      "outputs": []
    },
    {
      "cell_type": "code",
      "metadata": {
        "id": "n-ddBOayz3Ot"
      },
      "source": [
        "fred=100\n",
        "john=fred+5\n",
        "print(john)"
      ],
      "execution_count": null,
      "outputs": []
    },
    {
      "cell_type": "code",
      "metadata": {
        "id": "F6bkX0lS0Sci"
      },
      "source": [
        "# You cant start a variable with a number!\n",
        "number_of_coins = 200\n",
        "print(number_of_coins)"
      ],
      "execution_count": null,
      "outputs": []
    },
    {
      "cell_type": "markdown",
      "metadata": {
        "id": "KMU5DCRS0usv"
      },
      "source": [
        "Pg 21 - more info"
      ]
    },
    {
      "cell_type": "code",
      "metadata": {
        "id": "Rm2GZ1gJ05ee"
      },
      "source": [
        " 20 + 10 * 365 - 3 * 52"
      ],
      "execution_count": null,
      "outputs": []
    },
    {
      "cell_type": "code",
      "metadata": {
        "id": "pEPqkgjh1vqR"
      },
      "source": [
        "found_coins = 20\n",
        "magic_coins = 10\n",
        "stolen_coins = 3\n",
        "\n",
        "found_coins + magic_coins * 365 - stolen_coins * 52"
      ],
      "execution_count": null,
      "outputs": []
    },
    {
      "cell_type": "code",
      "metadata": {
        "id": "eVfRfL6z2R9u"
      },
      "source": [
        "found_coins = 20\n",
        "magic_coins = 10\n",
        "\n",
        "stolen_coins = 2   # Very easy to change the variable if neeeded\n",
        "\n",
        "found_coins + magic_coins * 365 - stolen_coins * 52"
      ],
      "execution_count": null,
      "outputs": []
    },
    {
      "cell_type": "markdown",
      "metadata": {
        "id": "_y7K5N333cv_"
      },
      "source": [
        "# Chapter 3 - Strings, Lists, Tuples, and Maps"
      ]
    },
    {
      "cell_type": "markdown",
      "metadata": {
        "id": "IQ1kJqgM3_Z8"
      },
      "source": [
        "A string is a text"
      ]
    },
    {
      "cell_type": "code",
      "metadata": {
        "id": "h0cgOagD3pli"
      },
      "source": [
        "fred = \"What is 1 + 1?\"\n",
        "print(fred)"
      ],
      "execution_count": null,
      "outputs": []
    },
    {
      "cell_type": "code",
      "metadata": {
        "id": "sG1IhMza4osw"
      },
      "source": [
        "#To create multiple line string, use '''\n",
        "fred = '''How do dinosaurs pay their bills?\n",
        "With tyrannosaurus checks!'''\n",
        "print(fred)"
      ],
      "execution_count": null,
      "outputs": []
    },
    {
      "cell_type": "code",
      "metadata": {
        "id": "S9Ui0fjVWhpE"
      },
      "source": [
        "silly_string = '''He said, \"Aren't can't shouldn't wouldn't.\"'''\n",
        "print(silly_string)"
      ],
      "execution_count": null,
      "outputs": []
    },
    {
      "cell_type": "code",
      "metadata": {
        "id": "nIxFlGkIR-u-"
      },
      "source": [
        "single_quote_str = 'He said, \"Aren\\'t can\\'t shouldn\\'t wouldn\\'t.\"'\n",
        "print(single_quote_str)"
      ],
      "execution_count": null,
      "outputs": []
    },
    {
      "cell_type": "code",
      "metadata": {
        "id": "dkB8k431Ssub"
      },
      "source": [
        "myname = 'mehrab'\n",
        "string = 'hello my name is %s '    #Dont forget to put %s or error will occur\n",
        "print(string % myname)"
      ],
      "execution_count": null,
      "outputs": []
    },
    {
      "cell_type": "code",
      "metadata": {
        "id": "pvNsAECsV4bC"
      },
      "source": [
        "nock = 'what is %s + %s?'\n",
        "print(nock %(1,5))"
      ],
      "execution_count": null,
      "outputs": []
    },
    {
      "cell_type": "markdown",
      "metadata": {
        "id": "7LCmvY6EW1tZ"
      },
      "source": [
        "Multiplying strings  - pg 31"
      ]
    },
    {
      "cell_type": "code",
      "metadata": {
        "id": "wuKeTIfgWLtL"
      },
      "source": [
        "print(10*'hello ')"
      ],
      "execution_count": null,
      "outputs": []
    },
    {
      "cell_type": "markdown",
      "metadata": {
        "id": "zcWJO7_VXTZQ"
      },
      "source": [
        "Strings"
      ]
    },
    {
      "cell_type": "code",
      "metadata": {
        "id": "6J4Chz4qXCwl"
      },
      "source": [
        "mylist = 'water, food, air, games, house, bed, tv, soap'     # This is a variable\n",
        "print(mylist)"
      ],
      "execution_count": null,
      "outputs": []
    },
    {
      "cell_type": "code",
      "metadata": {
        "id": "lFx5ELhWX0yJ"
      },
      "source": [
        "mylist = ['water', 'food', 'air', 'games', 'house', 'bed', 'tv', 'soap']\n",
        "print(mylist)"
      ],
      "execution_count": null,
      "outputs": []
    },
    {
      "cell_type": "code",
      "metadata": {
        "id": "vtx0jRalYFSq"
      },
      "source": [
        "mylist = ['water', 'food', 'air', 'games', 'house', 'bed', 'tv', 'soap']\n",
        "print(mylist[2])    # Although it says no.2 , the no. 3 item is shown at the list starts with 0"
      ],
      "execution_count": null,
      "outputs": []
    },
    {
      "cell_type": "code",
      "metadata": {
        "id": "4eaCUHxpYYCg"
      },
      "source": [
        "mylist = ['water', 'food', 'air', 'games', 'house', 'bed', 'tv', 'soap']\n",
        "print(mylist[0]) "
      ],
      "execution_count": null,
      "outputs": []
    },
    {
      "cell_type": "code",
      "metadata": {
        "id": "ahoRbvxjYrkO"
      },
      "source": [
        "mylist = ['water', 'food', 'air', 'games', 'house', 'bed', 'tv', 'soap']\n",
        "\n",
        "mylist[2] = 'oxygen'     # It is very easy to change the item (from air to oxygen)     -> Replacing\n",
        "print(mylist)"
      ],
      "execution_count": null,
      "outputs": []
    },
    {
      "cell_type": "code",
      "metadata": {
        "id": "KQiYVBphZusl"
      },
      "source": [
        "mylist = ['water', 'food', 'air', 'games', 'house', 'bed', 'tv', 'soap']\n",
        "print(mylist[1:4])   "
      ],
      "execution_count": null,
      "outputs": []
    },
    {
      "cell_type": "code",
      "metadata": {
        "id": "kpdBTDMranyE"
      },
      "source": [
        "nums = ['1','3','5','7','9']\n",
        "words =['one','three','five','seven','nine']\n",
        "print(nums + words)"
      ],
      "execution_count": null,
      "outputs": []
    },
    {
      "cell_type": "code",
      "metadata": {
        "id": "lRY0uvTmbP5Q"
      },
      "source": [
        "nums = ['1','3','5','7','9']\n",
        "words =['one','three','five','seven','nine']\n",
        "print(nums[1] + words[1])"
      ],
      "execution_count": null,
      "outputs": []
    },
    {
      "cell_type": "code",
      "metadata": {
        "id": "0ECbtAKOYvgr"
      },
      "source": [
        "mylist = ['water', 'food', 'air', 'games', 'house', 'bed', 'tv', 'soap']\n",
        "\n",
        "mylist.append('cook')      # It is very easy to add items to the list\n",
        "print(mylist)"
      ],
      "execution_count": null,
      "outputs": []
    },
    {
      "cell_type": "code",
      "metadata": {
        "id": "SIORmlvxZjub"
      },
      "source": [
        "mylist = ['water', 'food', 'air', 'games', 'house', 'bed', 'tv', 'soap']\n",
        "\n",
        "del mylist[7]     # It is also very easy to delete a item from the list\n",
        "print(mylist)"
      ],
      "execution_count": null,
      "outputs": []
    },
    {
      "cell_type": "code",
      "metadata": {
        "id": "pskP6lbTaiAI"
      },
      "source": [
        "mylist = ['water', 'food', 'air', 'games', 'house', 'bed', 'tv', 'soap']\n",
        "nums = [1,2,3,4]\n",
        "add = nums + mylist\n",
        "\n",
        "print(add)"
      ],
      "execution_count": null,
      "outputs": []
    },
    {
      "cell_type": "code",
      "metadata": {
        "id": "WiUMTd3RbGND"
      },
      "source": [
        "words = ['a','b']\n",
        "\n",
        "print(words * 5)"
      ],
      "execution_count": null,
      "outputs": []
    },
    {
      "cell_type": "markdown",
      "metadata": {
        "id": "z6OfvYdQ0KnF"
      },
      "source": [
        "note that you cannot divide or subtract a list \n",
        "\n",
        "and you can only add a list to a list but not another variable, number or word"
      ]
    },
    {
      "cell_type": "markdown",
      "metadata": {
        "id": "6OwMqNlk1ksT"
      },
      "source": [
        "**Tuples are like lists, however items cannot be added or removed with a code**"
      ]
    },
    {
      "cell_type": "code",
      "metadata": {
        "id": "lVT3hjsl1VsK"
      },
      "source": [
        "what = (0,1,2,3,4)    # It is used because it is sometimes more useful to not be \n",
        "print(what[3])        # able to change items inside a tuples easily"
      ],
      "execution_count": null,
      "outputs": []
    },
    {
      "cell_type": "markdown",
      "metadata": {
        "id": "zySgzDUz45AK"
      },
      "source": [
        "Python map"
      ]
    },
    {
      "cell_type": "code",
      "metadata": {
        "id": "3mbp1mNOD4Pz"
      },
      "source": [
        "favorite_sports = ['Ralph Williams, Football',    # This is a list\n",
        " 'Michael Tippett, Basketball',\n",
        " 'Edward Elgar, Baseball',\n",
        " 'Rebecca Clarke, Netball',\n",
        " 'Ethel Smyth, Badminton',\n",
        " 'Frank Bridge, Rugby']\n",
        "\n",
        "print(favorite_sports)"
      ],
      "execution_count": null,
      "outputs": []
    },
    {
      "cell_type": "code",
      "metadata": {
        "id": "YDbpHRJpD82q"
      },
      "source": [
        " favorite_sports = {'Ralph Williams' : 'Football',   # This is a map\n",
        " 'Michael Tippett' : 'Basketball',\n",
        " 'Edward Elgar' : 'Baseball',\n",
        " 'Rebecca Clarke' : 'Netball',\n",
        " 'Ethel Smyth' : 'Badminton',    # Uses {}\n",
        " 'Frank Bridge' : 'Rugby'}\n",
        "\n",
        " print(favorite_sports)"
      ],
      "execution_count": null,
      "outputs": []
    },
    {
      "cell_type": "code",
      "metadata": {
        "id": "Z0EyJ1zaErxk"
      },
      "source": [
        " favorite_sports = {'Ralph Williams' : 'Football',  \n",
        " 'Michael Tippett' : 'Basketball',\n",
        " 'Edward Elgar' : 'Baseball',\n",
        " 'Rebecca Clarke' : 'Netball',\n",
        " 'Ethel Smyth' : 'Badminton',    # You can easily find the sport\n",
        " 'Frank Bridge' : 'Rugby'}\n",
        "\n",
        " print(favorite_sports['Rebecca Clarke'])"
      ],
      "execution_count": null,
      "outputs": []
    },
    {
      "cell_type": "code",
      "metadata": {
        "id": "c9H7gC4FFdsa"
      },
      "source": [
        "favorite_sports = {'Ralph Williams' : 'Football',  \n",
        " 'Michael Tippett' : 'Basketball',\n",
        " 'Edward Elgar' : 'Baseball',\n",
        " 'Rebecca Clarke' : 'Netball',\n",
        " 'Ethel Smyth' : 'Badminton',    \n",
        " 'Frank Bridge' : 'Rugby'}\n",
        "\n",
        "del favorite_sports['Frank Bridge']    # Easy to delete a name/item\n",
        "\n",
        "print(favorite_sports)"
      ],
      "execution_count": null,
      "outputs": []
    },
    {
      "cell_type": "code",
      "metadata": {
        "id": "kmiQQV-4HKaJ"
      },
      "source": [
        "favorite_sports = {'Ralph Williams' : 'Football',  \n",
        " 'Michael Tippett' : 'Basketball',\n",
        " 'Edward Elgar' : 'Baseball',\n",
        " 'Rebecca Clarke' : 'Netball',\n",
        " 'Ethel Smyth' : 'Badminton',    \n",
        " 'Frank Bridge' : 'Rugby'}\n",
        "\n",
        "favorite_sports['Ethel Smyth']= 'Hockey'\n",
        "\n",
        "print(favorite_sports)"
      ],
      "execution_count": null,
      "outputs": []
    },
    {
      "cell_type": "code",
      "metadata": {
        "id": "sRI3Uu0nZau6"
      },
      "source": [
        "favorite_sports = {'Ralph Williams' : 'Football',  \n",
        " 'Michael Tippett' : 'Basketball',\n",
        " 'Edward Elgar' : 'Baseball',\n",
        " 'Rebecca Clarke' : 'Netball',\n",
        " 'Ethel Smyth' : 'Badminton',    \n",
        " 'Frank Bridge' : 'Rugby'}           # Adding two maps does not work\n",
        "\n",
        "favorite_colors = {'Malcolm Warner' : 'Pink polka dots',\n",
        " 'James Baxter' : 'Orange stripes',\n",
        " 'Sue Lee' : 'Purple paisley'}\n",
        "\n",
        "print(favorite_sports + favorite_colors)"
      ],
      "execution_count": null,
      "outputs": []
    },
    {
      "cell_type": "markdown",
      "metadata": {
        "id": "O2kb2K30Z3oe"
      },
      "source": [
        "Programming puzzles (pg 41)"
      ]
    },
    {
      "cell_type": "markdown",
      "metadata": {
        "id": "WU-DDa8WaBE1"
      },
      "source": [
        "\n",
        "\n",
        "***1: Favorites***\n",
        "\n",
        "Make a list of your favorite hobbies and give the list the variable\n",
        "name games. Now make a list of your favorite foods and name the\n",
        "variable foods. Join the two lists and name the result favorites.\n",
        "Finally, print the variable favorites.\n",
        "\n"
      ]
    },
    {
      "cell_type": "code",
      "metadata": {
        "id": "XNM92y5cZ9q-"
      },
      "source": [
        "games = ['videogames','badminton','cycling']\n",
        "foods = ['pizza','burger','friedchicken']\n",
        "favorites = games + foods\n",
        "print(favorites)"
      ],
      "execution_count": null,
      "outputs": []
    },
    {
      "cell_type": "markdown",
      "metadata": {
        "id": "yHiUEdXaat5W"
      },
      "source": [
        "***2: Counting Combatants***\n",
        "\n",
        "If there are 3 buildings with 25 ninjas hiding on each roof and\n",
        "2 tunnels with 40 samurai hiding inside each tunnel, how many\n",
        "ninjas and samurai are about to do battle? (You can do this with\n",
        "one equation in the Python shell.)"
      ]
    },
    {
      "cell_type": "code",
      "metadata": {
        "id": "RdTCBDT2a9nh"
      },
      "source": [
        "print((3*25)+(2*40))"
      ],
      "execution_count": null,
      "outputs": []
    },
    {
      "cell_type": "markdown",
      "metadata": {
        "id": "HPX4Hcn3jPND"
      },
      "source": [
        "***3: Greetings!***\n",
        "\n",
        "Create two variables: one that points to your first name and\n",
        "one that points to your last name. Now create a string and use\n",
        "placeholders to print your name with a message using those two\n",
        "variables, such as “Hi there, Brando Ickett!”"
      ]
    },
    {
      "cell_type": "code",
      "metadata": {
        "id": "b1CaM1m1jbw_"
      },
      "source": [
        "name1 ='Mehrab'\n",
        "name2 ='Rahman'\n",
        "string ='Hi there, %s %s'\n",
        "print(string %(name1,name2) )"
      ],
      "execution_count": null,
      "outputs": []
    },
    {
      "cell_type": "markdown",
      "metadata": {
        "id": "ZkuCyHfCk5t2"
      },
      "source": [
        "#Chapter 4 - Drawing  with turtles"
      ]
    },
    {
      "cell_type": "markdown",
      "metadata": {
        "id": "Uh5rQNj-lKvt"
      },
      "source": [
        " ***Skipped***    - hard to use turtle in colab"
      ]
    },
    {
      "cell_type": "markdown",
      "metadata": {
        "id": "z62rE6Kvn_rg"
      },
      "source": [
        "# Chapter 5 - Asking Questions with if and else"
      ]
    },
    {
      "cell_type": "markdown",
      "metadata": {
        "id": "68oiwhF1CfVN"
      },
      "source": [
        "If Statments"
      ]
    },
    {
      "cell_type": "code",
      "metadata": {
        "id": "ma1I6alaoUz7"
      },
      "source": [
        "age = 14       # This is an 'if' statement\n",
        "if age > 10:      # Don't forgetg to add the semicolon :\n",
        "  print('you are very old indeed')     # Always leave four spaces/tab before print or else\n",
        "                                       # syntax error will occur as the code does not alline"
      ],
      "execution_count": null,
      "outputs": []
    },
    {
      "cell_type": "code",
      "metadata": {
        "id": "bd9kUpIUClpo"
      },
      "source": [
        " age = 9\n",
        "\n",
        " if age < 10:\n",
        "   print('You are too young!')\n",
        "   print('You shall not pass!')\n",
        "   print('Why are you still here?')"
      ],
      "execution_count": null,
      "outputs": []
    },
    {
      "cell_type": "code",
      "metadata": {
        "id": "nhgLGqToFY9e"
      },
      "source": [
        "age = 10\n",
        "if age == 10:\n",
        "  print('perfect!')"
      ],
      "execution_count": null,
      "outputs": []
    },
    {
      "cell_type": "code",
      "metadata": {
        "id": "v2gVG0zTFrkN"
      },
      "source": [
        "age = 14\n",
        "if age >= 14:\n",
        "  print('What is 123+123')"
      ],
      "execution_count": null,
      "outputs": []
    },
    {
      "cell_type": "markdown",
      "metadata": {
        "id": "9U264f87GUh-"
      },
      "source": [
        "***If-then-Else Statement***"
      ]
    },
    {
      "cell_type": "code",
      "metadata": {
        "id": "DLCEPuQQGD29"
      },
      "source": [
        "age = 10\n",
        "if age <= 10:\n",
        "  print('You are too young')\n",
        "else:                                     # Dont forget : after 'else'\n",
        "  print('You can keep on readinng this')"
      ],
      "execution_count": null,
      "outputs": []
    },
    {
      "cell_type": "code",
      "metadata": {
        "id": "UQLsm_x0GEBn"
      },
      "source": [
        "age = 14\n",
        "if age <= 10:\n",
        "  print('You are too young')\n",
        "else:                                     \n",
        "  print('You can keep on readinng this')"
      ],
      "execution_count": null,
      "outputs": []
    },
    {
      "cell_type": "markdown",
      "metadata": {
        "id": "OGZL0_C7JF5W"
      },
      "source": [
        "***if and elif Statements***"
      ]
    },
    {
      "cell_type": "markdown",
      "metadata": {
        "id": "Gv-4cLKxJP7r"
      },
      "source": [
        "elif means else if.      \n",
        "This is used as elif can be repeated unlike if"
      ]
    },
    {
      "cell_type": "code",
      "metadata": {
        "id": "wJcykkkwI5aX"
      },
      "source": [
        "joke = 0                   # Joke list\n",
        "\n",
        "if joke == 1:\n",
        "  print('What’s the best thing about Switzerland?')\n",
        "  print('I don’t know, but the flag is a big plus.')\n",
        "elif joke == 2:\n",
        "  print('Why do we tell actors to “break a leg?”')\n",
        "  print('Because every play has a cast.')\n",
        "elif joke == 3:\n",
        "  print('Heard about the new restaurant called Karma?')\n",
        "  print('There’s no menu: You get what you deserve.')\n",
        "elif joke == 4:\n",
        "  print('Did you hear about the actor who fell through the floorboards?')\n",
        "  print('He was just going through a stage.')\n",
        "elif joke == 5:\n",
        "  print('Did you hear about the claustrophobic astronaut?')\n",
        "  print('He just needed a little space.')\n",
        "elif joke == 6:\n",
        "  print('''Why don’t scientists trust atoms? \n",
        "Because they make up everything.''')\n",
        "elif joke == 7:\n",
        "  print('''Why should the number 288 never be mentioned?\n",
        "It’s two gross. - 1 gross is 144''')\n",
        "else: \n",
        "  print('Joke list from 1 to 7')"
      ],
      "execution_count": null,
      "outputs": []
    },
    {
      "cell_type": "markdown",
      "metadata": {
        "id": "zjz2V0U3J2Gg"
      },
      "source": [
        "You can use 'or' and 'and' to produce simpler and shorter codes"
      ]
    },
    {
      "cell_type": "code",
      "metadata": {
        "id": "1hz2hGDpJGMo"
      },
      "source": [
        "age = 10       \n",
        "\n",
        "if age == 10 or age == 11 or age == 12 or age == 13:    \n",
        "  print('What is 13 + 49 + 84 + 155 + 97? A headache!')\n",
        "else:\n",
        "  print('You do not meet the age requirements!')"
      ],
      "execution_count": null,
      "outputs": []
    },
    {
      "cell_type": "code",
      "metadata": {
        "id": "FJJlWEMtJjkL"
      },
      "source": [
        "age =  12\n",
        "\n",
        "if age >= 10 and age <= 15:\n",
        "  print('So you are interested to learn coding?')\n",
        "else:\n",
        "  print('Sorry your age does not meet the requirements :(')"
      ],
      "execution_count": null,
      "outputs": []
    },
    {
      "cell_type": "markdown",
      "metadata": {
        "id": "-HMv7IpONuEj"
      },
      "source": [
        "0 is a number. None is not a number"
      ]
    },
    {
      "cell_type": "code",
      "metadata": {
        "id": "1fb7G7SZN_6R"
      },
      "source": [
        "num = None\n",
        "print(num)"
      ],
      "execution_count": null,
      "outputs": []
    },
    {
      "cell_type": "code",
      "metadata": {
        "id": "6_AbrTUFOJdi"
      },
      "source": [
        "num = None\n",
        "if num == None:\n",
        "  print('None does not have a value')"
      ],
      "execution_count": null,
      "outputs": []
    },
    {
      "cell_type": "markdown",
      "metadata": {
        "id": "ZQuCMTZGOm_l"
      },
      "source": [
        "You cannot add a string to if"
      ]
    },
    {
      "cell_type": "code",
      "metadata": {
        "id": "KAdF3f7eOiVU"
      },
      "source": [
        "num = 10\n",
        "if num == 10: \n",
        "  print('This is a number')"
      ],
      "execution_count": null,
      "outputs": []
    },
    {
      "cell_type": "code",
      "metadata": {
        "id": "aHR47IgrO8Dc"
      },
      "source": [
        "num = '10'      # Nothing runs as this is a string and not a number \n",
        "if num == 10:        \n",
        "  print('This is a string')"
      ],
      "execution_count": null,
      "outputs": []
    },
    {
      "cell_type": "markdown",
      "metadata": {
        "id": "JSnx2GZGSvxU"
      },
      "source": [
        "To solve this problem, we need to convert it using *int*.  This is useful in the future.   *int* converts a string into a number"
      ]
    },
    {
      "cell_type": "code",
      "metadata": {
        "id": "PjzXmUAIRubO"
      },
      "source": [
        "num = '10'      \n",
        "new_num = int(num)    # Use int(-)\n",
        "\n",
        "if new_num == 10:        \n",
        "  print('This is a string')"
      ],
      "execution_count": null,
      "outputs": []
    },
    {
      "cell_type": "markdown",
      "metadata": {
        "id": "9gchz9rHTfdQ"
      },
      "source": [
        "To convert a number into a string, we use *str*"
      ]
    },
    {
      "cell_type": "code",
      "metadata": {
        "id": "lzN64kRHTsbE"
      },
      "source": [
        "num = 10\n",
        "new_num = str(num)\n",
        "\n",
        "print(new_num + ' wow')   # Numbers and strings dont go together so we can see that new num is a string"
      ],
      "execution_count": null,
      "outputs": []
    },
    {
      "cell_type": "markdown",
      "metadata": {
        "id": "YHweHsZ1UL1V"
      },
      "source": [
        "However, you will get an error if you try to convert a decimal as it only accepts integer(whole no.). So you must use float"
      ]
    },
    {
      "cell_type": "code",
      "metadata": {
        "id": "8xG39XA0UKF-"
      },
      "source": [
        "num = '10.5'\n",
        "new_num = float(num)\n",
        "print(new_num)"
      ],
      "execution_count": null,
      "outputs": []
    },
    {
      "cell_type": "markdown",
      "metadata": {
        "id": "w30yd41SKn1D"
      },
      "source": [
        "You will get a ValueError if you try converting a string that does not contain a number"
      ]
    },
    {
      "cell_type": "markdown",
      "metadata": {
        "id": "do7RemTULECV"
      },
      "source": [
        "***Programming puzzle - pg 65***"
      ]
    },
    {
      "cell_type": "markdown",
      "metadata": {
        "id": "vnOqTwoiLKkj"
      },
      "source": [
        "***1: Are You Rich?***\n",
        "\n",
        "What do you think the following code will do? Try to figure out\n",
        "the answer without typing it into the shell, and then check your\n",
        "answer."
      ]
    },
    {
      "cell_type": "code",
      "metadata": {
        "id": "T6i0bC0nLRa6"
      },
      "source": [
        "money = 2000\n",
        "if money > 1000:\n",
        " print(\"I'm rich!!\")\n",
        "else:\n",
        " print(\"I'm not rich!!\")\n",
        " print(\"But I might be later...\")"
      ],
      "execution_count": null,
      "outputs": []
    },
    {
      "cell_type": "markdown",
      "metadata": {
        "id": "DjuUT-QbLewU"
      },
      "source": [
        "The programme checks if you are rich. If you have more than 1000 money, you are considered rich."
      ]
    },
    {
      "cell_type": "markdown",
      "metadata": {
        "id": "6LgHWDenLs0Y"
      },
      "source": [
        "***2: Twinkies!***\n",
        "\n",
        "Create an if statement that checks whether a number of Twinkies\n",
        "(in the variable twinkies) is less than 100 or greater than 500. Your\n",
        "program should print the message “Too few or too many” if the\n",
        "condition is true."
      ]
    },
    {
      "cell_type": "code",
      "metadata": {
        "id": "ZS3rf1OxL0pR"
      },
      "source": [
        "twinkies = 500\n",
        "if twinkies < 100 or twinkies > 500:\n",
        "  print('Too few or too many')"
      ],
      "execution_count": null,
      "outputs": []
    },
    {
      "cell_type": "markdown",
      "metadata": {
        "id": "zq0h_8BHMT2d"
      },
      "source": [
        "***3: Just the Right Number***\n",
        "\n",
        "Create an if statement that checks whether the amount of money\n",
        "contained in the variable money is between 100 and 500 or between\n",
        "1,000 and 5,000."
      ]
    },
    {
      "cell_type": "code",
      "metadata": {
        "id": "neeZMIFSMZbx"
      },
      "source": [
        "money = 1005\n",
        "if money > 100 and money < 500:\n",
        "  print('Money between 100 and 500')\n",
        "elif money > 1000 and money < 5000:\n",
        "  print('Money between 1000 and 5000')"
      ],
      "execution_count": null,
      "outputs": []
    },
    {
      "cell_type": "markdown",
      "metadata": {
        "id": "zxpvy0n-Ow9O"
      },
      "source": [
        "***4: I Can Fight Those Ninjas***\n",
        "Create an if statement that prints the string “That’s too many”\n",
        "if the variable ninjas contains a number that’s less than 50, prints\n",
        "“It’ll be a struggle, but I can take ’em” if it’s less than 30, and\n",
        "prints “I can fight those ninjas!” if it’s less than 10. You might\n",
        "try out your code with: ninjas = 5"
      ]
    },
    {
      "cell_type": "code",
      "metadata": {
        "id": "y1dqmusePcwQ"
      },
      "source": [
        "ninjas = 9\n",
        "if ninjas < 50 and ninjas >= 30:\n",
        "  print('That’s too many')\n",
        "elif ninjas < 30 and ninjas >= 10:\n",
        "  print('''It’ll be a struggle, but I can take ’em''')\n",
        "elif ninjas < 10:\n",
        "  print('I can fight those ninjas!')"
      ],
      "execution_count": null,
      "outputs": []
    },
    {
      "cell_type": "markdown",
      "metadata": {
        "id": "4dqRqQt1RX2y"
      },
      "source": [
        "# Chapter 6 - Going loopy"
      ]
    },
    {
      "cell_type": "markdown",
      "metadata": {
        "id": "TfgLf6oLRi9l"
      },
      "source": [
        "Loops repeat a set of codes a number of times until it is complete. This can help us reduce the amount of codes we need to write if we need to repeat a set of codes multiple times."
      ]
    },
    {
      "cell_type": "code",
      "metadata": {
        "id": "AT22Wo7uRgXg"
      },
      "source": [
        "for x in range(0,5):   # Don't forget :\n",
        "  print('hello')"
      ],
      "execution_count": null,
      "outputs": []
    },
    {
      "cell_type": "code",
      "metadata": {
        "id": "7e51_sI1SrVG"
      },
      "source": [
        "print(list(range(10,20)))"
      ],
      "execution_count": null,
      "outputs": []
    },
    {
      "cell_type": "markdown",
      "metadata": {
        "id": "-wRFXHPkS0eB"
      },
      "source": [
        "The code is telling Python to \n",
        "\n",
        "start counting from 0 and stop before reaching 5 and \n",
        "\n",
        "for each number we count, store the value in the variable x."
      ]
    },
    {
      "cell_type": "code",
      "metadata": {
        "id": "n5vI9W1JTH7X"
      },
      "source": [
        "for x in range(0,5):\n",
        "  print('hello %s' % x)"
      ],
      "execution_count": null,
      "outputs": []
    },
    {
      "cell_type": "code",
      "metadata": {
        "id": "AaiY62gjT6aF"
      },
      "source": [
        "mylist = ['water', 'food', 'air', 'games', 'house', 'bed', 'tv', 'soap']\n",
        "for i in mylist:    # The code is asking Python to store each mylist variable in i\n",
        "  print(i)"
      ],
      "execution_count": null,
      "outputs": []
    },
    {
      "cell_type": "code",
      "metadata": {
        "id": "2OiMvrv9UZkF"
      },
      "source": [
        "foodlist = ['water','mango','apple']\n",
        "for i in foodlist:\n",
        "  print(i)    # This command prints two of each item in the list\n",
        "  print(i)    # Dont forget about indentation error"
      ],
      "execution_count": null,
      "outputs": []
    },
    {
      "cell_type": "code",
      "metadata": {
        "id": "n6ICZ8cfXPIq"
      },
      "source": [
        "found_coins = 20\n",
        "magic_coins = 70\n",
        "stolen_coins = 3\n",
        "coins = found_coins\n",
        "for week in range(1, 53):\n",
        "  coins = coins + magic_coins - stolen_coins\n",
        "  print('Week %s = %s' % (week, coins))"
      ],
      "execution_count": null,
      "outputs": []
    },
    {
      "cell_type": "code",
      "metadata": {
        "id": "AqIbUrlcYWS3"
      },
      "source": [
        "raws1 = 20\n",
        "raws2 = 19\n",
        "for x in range(0,10):\n",
        "  totals = (raws1*x)+(raws2*x)\n",
        "  print( x + totals)"
      ],
      "execution_count": null,
      "outputs": []
    },
    {
      "cell_type": "markdown",
      "metadata": {
        "id": "edvu4CCRuW8O"
      },
      "source": [
        "While loops ->"
      ]
    },
    {
      "cell_type": "code",
      "metadata": {
        "id": "3ZAgsACevkue",
        "outputId": "b93ac979-184f-4b4a-ea55-378957de7f96",
        "colab": {
          "base_uri": "https://localhost:8080/"
        }
      },
      "source": [
        "step = 0\n",
        "while step < 10:   # Command for while loop  \n",
        "                    # This programme will run until step reacher 9 (< 10)\n",
        "  step = step + 1   # Pythin will execute the rest of the command  until step reaches 9\n",
        "  print(step)"
      ],
      "execution_count": 10,
      "outputs": [
        {
          "output_type": "stream",
          "name": "stdout",
          "text": [
            "1\n",
            "2\n",
            "3\n",
            "4\n",
            "5\n",
            "6\n",
            "7\n",
            "8\n",
            "9\n",
            "10\n"
          ]
        }
      ]
    },
    {
      "cell_type": "code",
      "metadata": {
        "id": "TGF4oHQSGIiT",
        "outputId": "8aa203e6-3abb-44fd-bd4d-fe75c4cc9606",
        "colab": {
          "base_uri": "https://localhost:8080/"
        }
      },
      "source": [
        "step = 0\n",
        "while step < 10:\n",
        "  step = step +1\n",
        "  print(step)       # break is the keyword to jump out of the loop\n",
        "  if step == 8:      # In this case the loop will end once step=8 \n",
        "    break           # The code will stop once it has done 8 loops"
      ],
      "execution_count": 12,
      "outputs": [
        {
          "output_type": "stream",
          "name": "stdout",
          "text": [
            "1\n",
            "2\n",
            "3\n",
            "4\n",
            "5\n",
            "6\n",
            "7\n",
            "8\n"
          ]
        }
      ]
    },
    {
      "cell_type": "code",
      "metadata": {
        "id": "sqyWTtZ1FsDx",
        "outputId": "47d5e122-9000-4c5c-e078-c140552d7950",
        "colab": {
          "base_uri": "https://localhost:8080/"
        }
      },
      "source": [
        "x = 45 \n",
        "y = 80         # While loop is usually used together with other variables\n",
        "while x < 50 and y < 100:\n",
        "  x = x + 1 \n",
        "  y = y + 1 \n",
        "  print(x,y)"
      ],
      "execution_count": 18,
      "outputs": [
        {
          "output_type": "stream",
          "name": "stdout",
          "text": [
            "46 81\n",
            "47 82\n",
            "48 83\n",
            "49 84\n",
            "50 85\n"
          ]
        }
      ]
    },
    {
      "cell_type": "markdown",
      "metadata": {
        "id": "2pP2A8BeIw_0"
      },
      "source": [
        "***1: The Hello Loop***\n",
        "\n",
        "What do you think the following code will do? First, guess what\n",
        "will happen, and then run the code in Python to see if you were\n",
        "right."
      ]
    },
    {
      "cell_type": "code",
      "metadata": {
        "id": "zZ9aqrLoIzLx",
        "outputId": "19679855-f710-4878-9d1d-01335c2d2822",
        "colab": {
          "base_uri": "https://localhost:8080/"
        }
      },
      "source": [
        "for x in range(0, 20):\n",
        " print('hello %s' % x)\n",
        " if x < 9:\n",
        "  break"
      ],
      "execution_count": 21,
      "outputs": [
        {
          "output_type": "stream",
          "name": "stdout",
          "text": [
            "hello 0\n"
          ]
        }
      ]
    },
    {
      "cell_type": "markdown",
      "metadata": {
        "id": "hZxj1SNBJBTx"
      },
      "source": [
        "The code will say hello 0\n",
        "\n",
        "it will run once as when x is less than 9 which is when you run x = 0"
      ]
    },
    {
      "cell_type": "markdown",
      "metadata": {
        "id": "x2EvCM56L2Oq"
      },
      "source": [
        "\n",
        "\n",
        "***2: Even Numbers***\n",
        "\n",
        "Create a loop that prints even numbers until it reaches your year\n",
        "of age or, if your age is an odd number, prints out odd numbers\n",
        "until it reaches your age. For example, it might print out something like this:\n",
        "\n",
        "2\n",
        "\n",
        "4\n",
        "\n",
        "6\n",
        "\n",
        "8\n",
        "\n",
        "10\n",
        "\n",
        "12\n",
        "\n",
        "14\n",
        "\n",
        "\n",
        "\n"
      ]
    },
    {
      "cell_type": "code",
      "metadata": {
        "id": "Fk1r-LKBLQ4d",
        "outputId": "58ce252d-0b60-40cc-ef1f-a3a1170dd5bd",
        "colab": {
          "base_uri": "https://localhost:8080/"
        }
      },
      "source": [
        "x = 0\n",
        "while x < 100:\n",
        "  x = x + 2\n",
        "  print(x)\n",
        "  if x == 14:\n",
        "    break"
      ],
      "execution_count": 30,
      "outputs": [
        {
          "output_type": "stream",
          "name": "stdout",
          "text": [
            "2\n",
            "4\n",
            "6\n",
            "8\n",
            "10\n",
            "12\n",
            "14\n"
          ]
        }
      ]
    }
  ]
}