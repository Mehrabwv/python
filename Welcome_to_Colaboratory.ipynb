{
  "nbformat": 4,
  "nbformat_minor": 0,
  "metadata": {
    "colab": {
      "name": "Welcome to Colaboratory",
      "provenance": [],
      "collapsed_sections": [],
      "toc_visible": true,
      "include_colab_link": true
    },
    "kernelspec": {
      "display_name": "Python 3",
      "name": "python3"
    }
  },
  "cells": [
    {
      "cell_type": "markdown",
      "metadata": {
        "id": "view-in-github",
        "colab_type": "text"
      },
      "source": [
        "<a href=\"https://colab.research.google.com/github/Mehrabwv/python/blob/main/Welcome_to_Colaboratory.ipynb\" target=\"_parent\"><img src=\"https://colab.research.google.com/assets/colab-badge.svg\" alt=\"Open In Colab\"/></a>"
      ]
    },
    {
      "cell_type": "code",
      "metadata": {
        "colab": {
          "base_uri": "https://localhost:8080/"
        },
        "id": "8faetyUptsuv",
        "outputId": "736e7e77-9bf9-4af4-c8ac-273204661001"
      },
      "source": [
        "ingredients = ['snails', 'leeches', 'gorilla belly-button lint',\n",
        " 'caterpillar eyebrows', 'centipede toes']\n",
        "number = ['1','2','3','4','5']\n",
        "for x in range(0,5):\n",
        "  y = 1 + x\n",
        "  print( y , ingredients[x])"
      ],
      "execution_count": null,
      "outputs": [
        {
          "output_type": "stream",
          "name": "stdout",
          "text": [
            "1 snails\n",
            "2 leeches\n",
            "3 gorilla belly-button lint\n",
            "4 caterpillar eyebrows\n",
            "5 centipede toes\n"
          ]
        }
      ]
    },
    {
      "cell_type": "code",
      "metadata": {
        "colab": {
          "base_uri": "https://localhost:8080/"
        },
        "id": "D92czHOJyjfP",
        "outputId": "4c135032-08a3-4a01-bcd1-756ab6e80ff7"
      },
      "source": [
        "weight = 60\n",
        "for y in range(1,16):\n",
        "  weight=weight+1\n",
        "  print(y,weight*0.165) "
      ],
      "execution_count": null,
      "outputs": [
        {
          "output_type": "stream",
          "name": "stdout",
          "text": [
            "1 10.065000000000001\n",
            "2 10.23\n",
            "3 10.395000000000001\n",
            "4 10.56\n",
            "5 10.725\n",
            "6 10.89\n",
            "7 11.055\n",
            "8 11.22\n",
            "9 11.385\n",
            "10 11.55\n",
            "11 11.715\n",
            "12 11.88\n",
            "13 12.045\n",
            "14 12.21\n",
            "15 12.375\n"
          ]
        }
      ]
    },
    {
      "cell_type": "code",
      "metadata": {
        "colab": {
          "base_uri": "https://localhost:8080/"
        },
        "id": "oaHZudD2GADH",
        "outputId": "5a6c255e-2b03-4ff1-b78e-9f9ccca04318"
      },
      "source": [
        "def moonweight(weight,year,increase):\n",
        "  return (weight+(increase*year))*0.165\n",
        "\n",
        "\n",
        "print(moonweight(60,15,1))"
      ],
      "execution_count": null,
      "outputs": [
        {
          "output_type": "stream",
          "name": "stdout",
          "text": [
            "12.375\n"
          ]
        }
      ]
    },
    {
      "cell_type": "code",
      "metadata": {
        "colab": {
          "base_uri": "https://localhost:8080/"
        },
        "id": "yP31XhqWIAXk",
        "outputId": "ac327ce2-f643-4204-fcb4-901fc8114699"
      },
      "source": [
        "weight1= input('What is your weight now?: ')\n",
        "increase1= input('How much increase do you expect?: ')\n",
        "year1= input('In how many years?: ')\n",
        "\n",
        "weight = int(weight1)\n",
        "increase = int(increase1)\n",
        "yeare = int(year1)\n",
        "year2 = yeare+15a\n",
        "\n",
        "\n",
        "for year2 in range(0,year2):\n",
        "  moonweight=(weight+(increase*year2))*0.165\n",
        "  print(year2,moonweight)"
      ],
      "execution_count": null,
      "outputs": [
        {
          "output_type": "stream",
          "name": "stdout",
          "text": [
            "What is your weight now?: 60\n",
            "How much increase do you expect?: 1\n",
            "In how many years?: 15\n",
            "0 9.9\n",
            "1 10.065000000000001\n",
            "2 10.23\n",
            "3 10.395000000000001\n",
            "4 10.56\n",
            "5 10.725\n",
            "6 10.89\n",
            "7 11.055\n",
            "8 11.22\n",
            "9 11.385\n",
            "10 11.55\n",
            "11 11.715\n",
            "12 11.88\n",
            "13 12.045\n",
            "14 12.21\n",
            "15 12.375\n"
          ]
        }
      ]
    },
    {
      "cell_type": "markdown",
      "metadata": {
        "id": "b-_vPk9YFSyP"
      },
      "source": [
        "# ***Python For Kids***   \n"
      ]
    },
    {
      "cell_type": "markdown",
      "metadata": {
        "id": "BplOc5A9FkvO"
      },
      "source": [
        "# Chapter 1 - Not all snakes slither\n",
        "# (Basics)"
      ]
    },
    {
      "cell_type": "code",
      "metadata": {
        "colab": {
          "base_uri": "https://localhost:8080/"
        },
        "id": "e1rOLP78Hl6F",
        "outputId": "6bf35e32-8bcc-46ab-ae64-2a8343c91f86"
      },
      "source": [
        "print('How are you?')"
      ],
      "execution_count": null,
      "outputs": [
        {
          "output_type": "stream",
          "name": "stdout",
          "text": [
            "How are you?\n"
          ]
        }
      ]
    },
    {
      "cell_type": "code",
      "metadata": {
        "colab": {
          "base_uri": "https://localhost:8080/"
        },
        "id": "-Lm3KuQrJ2Vs",
        "outputId": "6ae10417-26b4-4ba1-af3c-30bb8b41ec6c"
      },
      "source": [
        "print(\"hello world\")"
      ],
      "execution_count": null,
      "outputs": [
        {
          "output_type": "stream",
          "name": "stdout",
          "text": [
            "hello world\n"
          ]
        }
      ]
    },
    {
      "cell_type": "code",
      "metadata": {
        "colab": {
          "base_uri": "https://localhost:8080/"
        },
        "id": "19p9Iu0wJ840",
        "outputId": "3cafc1dc-07de-4b48-eb95-e1c0fb228ac9"
      },
      "source": [
        "print('''hello world''')"
      ],
      "execution_count": null,
      "outputs": [
        {
          "output_type": "stream",
          "name": "stdout",
          "text": [
            "hello world\n"
          ]
        }
      ]
    },
    {
      "cell_type": "markdown",
      "metadata": {
        "id": "kHrp0NgNKFdq"
      },
      "source": [
        "#Chapter 2 - Calculations and Variables\n",
        "#Calculations"
      ]
    },
    {
      "cell_type": "code",
      "metadata": {
        "colab": {
          "base_uri": "https://localhost:8080/"
        },
        "id": "31jkHigHKYiC",
        "outputId": "0f7f1fa2-c0b0-4c47-f778-ab27cdd59ab0"
      },
      "source": [
        "8*3.57   #8 times 3.57 = 28.56"
      ],
      "execution_count": null,
      "outputs": [
        {
          "output_type": "execute_result",
          "data": {
            "text/plain": [
              "28.56"
            ]
          },
          "metadata": {},
          "execution_count": 5
        }
      ]
    },
    {
      "cell_type": "markdown",
      "metadata": {
        "id": "Yz3O2FZuLeW-"
      },
      "source": [
        "Pg 16 - puzzle"
      ]
    },
    {
      "cell_type": "code",
      "metadata": {
        "colab": {
          "base_uri": "https://localhost:8080/"
        },
        "id": "IDt-F1_BKlTd",
        "outputId": "faea075a-aaf1-458c-9a94-5387149f451c"
      },
      "source": [
        "10*365"
      ],
      "execution_count": null,
      "outputs": [
        {
          "output_type": "execute_result",
          "data": {
            "text/plain": [
              "3650"
            ]
          },
          "metadata": {},
          "execution_count": 9
        }
      ]
    },
    {
      "cell_type": "code",
      "metadata": {
        "colab": {
          "base_uri": "https://localhost:8080/"
        },
        "id": "sQ_35pdPK05i",
        "outputId": "f678c95e-0487-4e69-9e90-aef689bbf27d"
      },
      "source": [
        "20+3650"
      ],
      "execution_count": null,
      "outputs": [
        {
          "output_type": "execute_result",
          "data": {
            "text/plain": [
              "3670"
            ]
          },
          "metadata": {},
          "execution_count": 11
        }
      ]
    },
    {
      "cell_type": "code",
      "metadata": {
        "colab": {
          "base_uri": "https://localhost:8080/"
        },
        "id": "RMP33JlNLoy9",
        "outputId": "544a8935-5a4b-44ff-f1f7-c339496cd23a"
      },
      "source": [
        "3*52"
      ],
      "execution_count": null,
      "outputs": [
        {
          "output_type": "execute_result",
          "data": {
            "text/plain": [
              "156"
            ]
          },
          "metadata": {},
          "execution_count": 12
        }
      ]
    },
    {
      "cell_type": "code",
      "metadata": {
        "colab": {
          "base_uri": "https://localhost:8080/"
        },
        "id": "y-5hU36BL3qd",
        "outputId": "b140727e-8769-45bb-b65b-d01115a9ad43"
      },
      "source": [
        "3670-156"
      ],
      "execution_count": null,
      "outputs": [
        {
          "output_type": "execute_result",
          "data": {
            "text/plain": [
              "3514"
            ]
          },
          "metadata": {},
          "execution_count": 13
        }
      ]
    },
    {
      "cell_type": "markdown",
      "metadata": {
        "id": "YkhUCC52w50N"
      },
      "source": [
        "BODMAS\n",
        "\n",
        "\n",
        "add\n",
        "5 to 30, and then multiply the result\n",
        "by 20"
      ]
    },
    {
      "cell_type": "code",
      "metadata": {
        "colab": {
          "base_uri": "https://localhost:8080/"
        },
        "id": "eNneJtqfL_7X",
        "outputId": "73cc4be0-65c1-4e03-fd2a-03b426eaabfc"
      },
      "source": [
        "(5+30)*20"
      ],
      "execution_count": null,
      "outputs": [
        {
          "output_type": "execute_result",
          "data": {
            "text/plain": [
              "700"
            ]
          },
          "metadata": {},
          "execution_count": 1
        }
      ]
    },
    {
      "cell_type": "markdown",
      "metadata": {
        "id": "jmgJIMJgzV9F"
      },
      "source": [
        " Adding 5 to 30 gives 35.\n",
        "\n",
        " Multiplying 35 by 20 gives 700.\n",
        "\n",
        " Dividing 700 by 10 gives the final answer of 70."
      ]
    },
    {
      "cell_type": "code",
      "metadata": {
        "colab": {
          "base_uri": "https://localhost:8080/"
        },
        "id": "8eRWdxvwzOEn",
        "outputId": "9315e7ae-c952-40e2-a45b-c9394578fd61"
      },
      "source": [
        " ((5 + 30) * 20) / 10"
      ],
      "execution_count": null,
      "outputs": [
        {
          "output_type": "execute_result",
          "data": {
            "text/plain": [
              "70.0"
            ]
          },
          "metadata": {},
          "execution_count": 2
        }
      ]
    },
    {
      "cell_type": "markdown",
      "metadata": {
        "id": "SzebuoECzsSH"
      },
      "source": [
        "Variables"
      ]
    },
    {
      "cell_type": "code",
      "metadata": {
        "colab": {
          "base_uri": "https://localhost:8080/"
        },
        "id": "G6kzzALRzucy",
        "outputId": "33befe0d-0ff9-4ddf-90bb-4a9031d03399"
      },
      "source": [
        "fred=100\n",
        "print(fred)"
      ],
      "execution_count": null,
      "outputs": [
        {
          "output_type": "stream",
          "name": "stdout",
          "text": [
            "100\n"
          ]
        }
      ]
    },
    {
      "cell_type": "code",
      "metadata": {
        "colab": {
          "base_uri": "https://localhost:8080/"
        },
        "id": "n-ddBOayz3Ot",
        "outputId": "e4287a4b-90a2-4e9f-9caf-4c2a2ba5237c"
      },
      "source": [
        "fred=100\n",
        "john=fred+5\n",
        "print(john)"
      ],
      "execution_count": null,
      "outputs": [
        {
          "output_type": "stream",
          "name": "stdout",
          "text": [
            "105\n"
          ]
        }
      ]
    },
    {
      "cell_type": "code",
      "metadata": {
        "colab": {
          "base_uri": "https://localhost:8080/"
        },
        "id": "F6bkX0lS0Sci",
        "outputId": "a01372de-8105-4ee9-ce9d-ffe93e42c2f2"
      },
      "source": [
        "# You cant start a variable with a number!\n",
        "number_of_coins = 200\n",
        "print(number_of_coins)"
      ],
      "execution_count": null,
      "outputs": [
        {
          "output_type": "stream",
          "name": "stdout",
          "text": [
            "200\n"
          ]
        }
      ]
    },
    {
      "cell_type": "markdown",
      "metadata": {
        "id": "KMU5DCRS0usv"
      },
      "source": [
        "Pg 21 - more info"
      ]
    },
    {
      "cell_type": "code",
      "metadata": {
        "colab": {
          "base_uri": "https://localhost:8080/"
        },
        "id": "Rm2GZ1gJ05ee",
        "outputId": "405d9171-fade-46c4-c55d-21a78d655efd"
      },
      "source": [
        " 20 + 10 * 365 - 3 * 52"
      ],
      "execution_count": null,
      "outputs": [
        {
          "output_type": "execute_result",
          "data": {
            "text/plain": [
              "3514"
            ]
          },
          "metadata": {},
          "execution_count": 8
        }
      ]
    },
    {
      "cell_type": "code",
      "metadata": {
        "colab": {
          "base_uri": "https://localhost:8080/"
        },
        "id": "pEPqkgjh1vqR",
        "outputId": "ef0e03e5-b571-4ac4-c4e9-a814edf410b1"
      },
      "source": [
        "found_coins = 20\n",
        "magic_coins = 10\n",
        "stolen_coins = 3\n",
        "\n",
        "found_coins + magic_coins * 365 - stolen_coins * 52"
      ],
      "execution_count": null,
      "outputs": [
        {
          "output_type": "execute_result",
          "data": {
            "text/plain": [
              "3514"
            ]
          },
          "metadata": {},
          "execution_count": 11
        }
      ]
    },
    {
      "cell_type": "code",
      "metadata": {
        "colab": {
          "base_uri": "https://localhost:8080/"
        },
        "id": "eVfRfL6z2R9u",
        "outputId": "46e6f526-c5c9-415d-fba3-1ffeb5a9bec3"
      },
      "source": [
        "found_coins = 20\n",
        "magic_coins = 10\n",
        "\n",
        "stolen_coins = 2   # Very easy to change the variable if neeeded\n",
        "\n",
        "found_coins + magic_coins * 365 - stolen_coins * 52"
      ],
      "execution_count": null,
      "outputs": [
        {
          "output_type": "execute_result",
          "data": {
            "text/plain": [
              "3566"
            ]
          },
          "metadata": {},
          "execution_count": 5
        }
      ]
    },
    {
      "cell_type": "markdown",
      "metadata": {
        "id": "_y7K5N333cv_"
      },
      "source": [
        "# Chapter 3 - Strings, Lists, Tuples, and Maps"
      ]
    },
    {
      "cell_type": "markdown",
      "metadata": {
        "id": "IQ1kJqgM3_Z8"
      },
      "source": [
        "A string is a text"
      ]
    },
    {
      "cell_type": "code",
      "metadata": {
        "colab": {
          "base_uri": "https://localhost:8080/"
        },
        "id": "h0cgOagD3pli",
        "outputId": "a0b74e30-ac6f-44c3-d456-27173420a940"
      },
      "source": [
        "fred = \"What is 1 + 1?\"\n",
        "print(fred)"
      ],
      "execution_count": null,
      "outputs": [
        {
          "output_type": "stream",
          "name": "stdout",
          "text": [
            "What is 1 + 1?\n"
          ]
        }
      ]
    },
    {
      "cell_type": "code",
      "metadata": {
        "colab": {
          "base_uri": "https://localhost:8080/"
        },
        "id": "sG1IhMza4osw",
        "outputId": "f7f34483-bef7-4561-a93d-5edff7d1fe5f"
      },
      "source": [
        "#To create multiple line string, use '''\n",
        "fred = '''How do dinosaurs pay their bills?\n",
        "With tyrannosaurus checks!'''\n",
        "print(fred)"
      ],
      "execution_count": null,
      "outputs": [
        {
          "output_type": "stream",
          "name": "stdout",
          "text": [
            "How do dinosaurs pay their bills?\n",
            "With tyrannosaurus checks!\n"
          ]
        }
      ]
    },
    {
      "cell_type": "code",
      "metadata": {
        "colab": {
          "base_uri": "https://localhost:8080/"
        },
        "id": "S9Ui0fjVWhpE",
        "outputId": "48412319-4cbe-4dc3-ff88-e6fb1e362056"
      },
      "source": [
        "silly_string = '''He said, \"Aren't can't shouldn't wouldn't.\"'''\n",
        "print(silly_string)"
      ],
      "execution_count": null,
      "outputs": [
        {
          "output_type": "stream",
          "name": "stdout",
          "text": [
            "He said, \"Aren't can't shouldn't wouldn't.\"\n"
          ]
        }
      ]
    },
    {
      "cell_type": "code",
      "metadata": {
        "colab": {
          "base_uri": "https://localhost:8080/"
        },
        "id": "nIxFlGkIR-u-",
        "outputId": "17714e6f-901d-4b8a-8ecc-165d6a83e072"
      },
      "source": [
        "single_quote_str = 'He said, \"Aren\\'t can\\'t shouldn\\'t wouldn\\'t.\"'\n",
        "print(single_quote_str)"
      ],
      "execution_count": null,
      "outputs": [
        {
          "output_type": "stream",
          "name": "stdout",
          "text": [
            "He said, \"Aren't can't shouldn't wouldn't.\"\n"
          ]
        }
      ]
    },
    {
      "cell_type": "code",
      "metadata": {
        "colab": {
          "base_uri": "https://localhost:8080/"
        },
        "id": "dkB8k431Ssub",
        "outputId": "ccdd0522-96f7-445c-e0b8-8b0b2c6437a5"
      },
      "source": [
        "myname = 'mehrab'\n",
        "string = 'hello my name is %s '    #Dont forget to put %s or error will occur\n",
        "print(string % myname)"
      ],
      "execution_count": null,
      "outputs": [
        {
          "output_type": "stream",
          "name": "stdout",
          "text": [
            "hello my name is mehrab \n"
          ]
        }
      ]
    },
    {
      "cell_type": "code",
      "metadata": {
        "colab": {
          "base_uri": "https://localhost:8080/"
        },
        "id": "pvNsAECsV4bC",
        "outputId": "bd03f28a-d97c-47c2-b00f-2606b7fb6338"
      },
      "source": [
        "nock = 'what is %s + %s?'\n",
        "print(nock %(1,5))"
      ],
      "execution_count": null,
      "outputs": [
        {
          "output_type": "stream",
          "name": "stdout",
          "text": [
            "what is 1 + 5?\n"
          ]
        }
      ]
    },
    {
      "cell_type": "markdown",
      "metadata": {
        "id": "7LCmvY6EW1tZ"
      },
      "source": [
        "Multiplying strings  - pg 31"
      ]
    },
    {
      "cell_type": "code",
      "metadata": {
        "colab": {
          "base_uri": "https://localhost:8080/"
        },
        "id": "wuKeTIfgWLtL",
        "outputId": "4bfb8f76-0508-4daf-c56c-0f00b3c11b86"
      },
      "source": [
        "print(10*'hello ')"
      ],
      "execution_count": null,
      "outputs": [
        {
          "output_type": "stream",
          "name": "stdout",
          "text": [
            "hello hello hello hello hello hello hello hello hello hello \n"
          ]
        }
      ]
    },
    {
      "cell_type": "markdown",
      "metadata": {
        "id": "zcWJO7_VXTZQ"
      },
      "source": [
        "Strings"
      ]
    },
    {
      "cell_type": "code",
      "metadata": {
        "colab": {
          "base_uri": "https://localhost:8080/"
        },
        "id": "6J4Chz4qXCwl",
        "outputId": "d156f671-df47-4fe9-e34d-7bffadef395e"
      },
      "source": [
        "mylist = 'water, food, air, games, house, bed, tv, soap'     # This is a variable\n",
        "print(mylist)"
      ],
      "execution_count": null,
      "outputs": [
        {
          "output_type": "stream",
          "name": "stdout",
          "text": [
            "water, food, air, games, house, bed, tv, soap\n"
          ]
        }
      ]
    },
    {
      "cell_type": "code",
      "metadata": {
        "colab": {
          "base_uri": "https://localhost:8080/"
        },
        "id": "lFx5ELhWX0yJ",
        "outputId": "a55dbf40-30c1-4cd0-bcef-6c8cc7f3910c"
      },
      "source": [
        "mylist = ['water', 'food', 'air', 'games', 'house', 'bed', 'tv', 'soap']\n",
        "print(mylist)"
      ],
      "execution_count": null,
      "outputs": [
        {
          "output_type": "stream",
          "name": "stdout",
          "text": [
            "['water', 'food', 'air', 'games', 'house', 'bed', 'tv', 'soap']\n"
          ]
        }
      ]
    },
    {
      "cell_type": "code",
      "metadata": {
        "colab": {
          "base_uri": "https://localhost:8080/"
        },
        "id": "vtx0jRalYFSq",
        "outputId": "0b5b06b0-48ea-41f2-bac9-3a75aa563e2f"
      },
      "source": [
        "mylist = ['water', 'food', 'air', 'games', 'house', 'bed', 'tv', 'soap']\n",
        "print(mylist[2])    # Although it says no.2 , the no. 3 item is shown at the list starts with 0"
      ],
      "execution_count": null,
      "outputs": [
        {
          "output_type": "stream",
          "name": "stdout",
          "text": [
            "air\n"
          ]
        }
      ]
    },
    {
      "cell_type": "code",
      "metadata": {
        "colab": {
          "base_uri": "https://localhost:8080/"
        },
        "id": "4eaCUHxpYYCg",
        "outputId": "9a84a07d-ac21-4d71-d473-c929cc6c8019"
      },
      "source": [
        "mylist = ['water', 'food', 'air', 'games', 'house', 'bed', 'tv', 'soap']\n",
        "print(mylist[0]) "
      ],
      "execution_count": null,
      "outputs": [
        {
          "output_type": "stream",
          "name": "stdout",
          "text": [
            "water\n"
          ]
        }
      ]
    },
    {
      "cell_type": "code",
      "metadata": {
        "colab": {
          "base_uri": "https://localhost:8080/"
        },
        "id": "ahoRbvxjYrkO",
        "outputId": "c416a126-154c-4773-884e-7025877b8b3f"
      },
      "source": [
        "mylist = ['water', 'food', 'air', 'games', 'house', 'bed', 'tv', 'soap']\n",
        "\n",
        "mylist[2] = 'oxygen'     # It is very easy to change the item (from air to oxygen)     -> Replacing\n",
        "print(mylist)"
      ],
      "execution_count": null,
      "outputs": [
        {
          "output_type": "stream",
          "name": "stdout",
          "text": [
            "['water', 'food', 'oxygen', 'games', 'house', 'bed', 'tv', 'soap']\n"
          ]
        }
      ]
    },
    {
      "cell_type": "code",
      "metadata": {
        "colab": {
          "base_uri": "https://localhost:8080/"
        },
        "id": "KQiYVBphZusl",
        "outputId": "92f61262-4daa-4165-a395-f3ddedc07f0d"
      },
      "source": [
        "mylist = ['water', 'food', 'air', 'games', 'house', 'bed', 'tv', 'soap']\n",
        "print(mylist[1:4])   "
      ],
      "execution_count": null,
      "outputs": [
        {
          "output_type": "stream",
          "name": "stdout",
          "text": [
            "['food', 'air', 'games']\n"
          ]
        }
      ]
    },
    {
      "cell_type": "code",
      "metadata": {
        "colab": {
          "base_uri": "https://localhost:8080/"
        },
        "id": "kpdBTDMranyE",
        "outputId": "1ea536db-a45a-4ebe-d594-d19fbfb84bed"
      },
      "source": [
        "nums = ['1','3','5','7','9']\n",
        "words =['one','three','five','seven','nine']\n",
        "print(nums + words)"
      ],
      "execution_count": null,
      "outputs": [
        {
          "output_type": "stream",
          "name": "stdout",
          "text": [
            "['1', '3', '5', '7', '9', 'one', 'three', 'five', 'seven', 'nine']\n"
          ]
        }
      ]
    },
    {
      "cell_type": "code",
      "metadata": {
        "colab": {
          "base_uri": "https://localhost:8080/"
        },
        "id": "lRY0uvTmbP5Q",
        "outputId": "aa0c0d62-fdef-494f-93ca-c3e0b9b0373a"
      },
      "source": [
        "nums = ['1','3','5','7','9']\n",
        "words =['one','three','five','seven','nine']\n",
        "print(nums[1] + words[1])"
      ],
      "execution_count": null,
      "outputs": [
        {
          "output_type": "stream",
          "name": "stdout",
          "text": [
            "3three\n"
          ]
        }
      ]
    },
    {
      "cell_type": "code",
      "metadata": {
        "colab": {
          "base_uri": "https://localhost:8080/"
        },
        "id": "0ECbtAKOYvgr",
        "outputId": "9c548853-b0cc-4757-d3d2-756e722b28ce"
      },
      "source": [
        "mylist = ['water', 'food', 'air', 'games', 'house', 'bed', 'tv', 'soap']\n",
        "\n",
        "mylist.append('cook')      # It is very easy to add items to the list\n",
        "print(mylist)"
      ],
      "execution_count": null,
      "outputs": [
        {
          "output_type": "stream",
          "name": "stdout",
          "text": [
            "['water', 'food', 'air', 'games', 'house', 'bed', 'tv', 'soap', 'cook']\n"
          ]
        }
      ]
    },
    {
      "cell_type": "code",
      "metadata": {
        "colab": {
          "base_uri": "https://localhost:8080/"
        },
        "id": "SIORmlvxZjub",
        "outputId": "8ad31e71-b8fc-4e2e-c05c-df49a3e32a5d"
      },
      "source": [
        "mylist = ['water', 'food', 'air', 'games', 'house', 'bed', 'tv', 'soap']\n",
        "\n",
        "del mylist[7]     # It is also very easy to delete a item from the list\n",
        "print(mylist)"
      ],
      "execution_count": null,
      "outputs": [
        {
          "output_type": "stream",
          "name": "stdout",
          "text": [
            "['water', 'food', 'air', 'games', 'house', 'bed', 'tv']\n"
          ]
        }
      ]
    },
    {
      "cell_type": "code",
      "metadata": {
        "colab": {
          "base_uri": "https://localhost:8080/"
        },
        "id": "pskP6lbTaiAI",
        "outputId": "0b26dd8c-c9e7-4043-c771-b1a822a4201b"
      },
      "source": [
        "mylist = ['water', 'food', 'air', 'games', 'house', 'bed', 'tv', 'soap']\n",
        "nums = [1,2,3,4]\n",
        "add = nums + mylist\n",
        "\n",
        "print(add)"
      ],
      "execution_count": null,
      "outputs": [
        {
          "output_type": "stream",
          "name": "stdout",
          "text": [
            "[1, 2, 3, 4, 'water', 'food', 'air', 'games', 'house', 'bed', 'tv', 'soap']\n"
          ]
        }
      ]
    },
    {
      "cell_type": "code",
      "metadata": {
        "colab": {
          "base_uri": "https://localhost:8080/"
        },
        "id": "WiUMTd3RbGND",
        "outputId": "cee603d6-6308-4850-9241-7405cc68645c"
      },
      "source": [
        "words = ['a','b']\n",
        "\n",
        "print(words * 5)"
      ],
      "execution_count": null,
      "outputs": [
        {
          "output_type": "stream",
          "name": "stdout",
          "text": [
            "['a', 'b', 'a', 'b', 'a', 'b', 'a', 'b', 'a', 'b']\n"
          ]
        }
      ]
    },
    {
      "cell_type": "markdown",
      "metadata": {
        "id": "z6OfvYdQ0KnF"
      },
      "source": [
        "note that you cannot divide or subtract a list \n",
        "\n",
        "and you can only add a list to a list but not another variable, number or word"
      ]
    },
    {
      "cell_type": "markdown",
      "metadata": {
        "id": "6OwMqNlk1ksT"
      },
      "source": [
        "**Tuples are like lists, however items cannot be added or removed with a code**"
      ]
    },
    {
      "cell_type": "code",
      "metadata": {
        "id": "lVT3hjsl1VsK",
        "colab": {
          "base_uri": "https://localhost:8080/"
        },
        "outputId": "0780d307-89eb-4496-95f7-fc9e2ae8a799"
      },
      "source": [
        "what = (0,1,2,3,4)    # It is used because it is sometimes more useful to not be \n",
        "print(what[3])        # able to change items inside a tuples easily"
      ],
      "execution_count": null,
      "outputs": [
        {
          "output_type": "stream",
          "name": "stdout",
          "text": [
            "3\n"
          ]
        }
      ]
    },
    {
      "cell_type": "markdown",
      "metadata": {
        "id": "zySgzDUz45AK"
      },
      "source": [
        "Python map"
      ]
    },
    {
      "cell_type": "code",
      "metadata": {
        "id": "3mbp1mNOD4Pz",
        "outputId": "6c9c8e87-16f0-4983-f69b-3b079748109e",
        "colab": {
          "base_uri": "https://localhost:8080/"
        }
      },
      "source": [
        "favorite_sports = ['Ralph Williams, Football',    # This is a list\n",
        " 'Michael Tippett, Basketball',\n",
        " 'Edward Elgar, Baseball',\n",
        " 'Rebecca Clarke, Netball',\n",
        " 'Ethel Smyth, Badminton',\n",
        " 'Frank Bridge, Rugby']\n",
        "\n",
        "print(favorite_sports)"
      ],
      "execution_count": 4,
      "outputs": [
        {
          "output_type": "stream",
          "name": "stdout",
          "text": [
            "['Ralph Williams, Football', 'Michael Tippett, Basketball', 'Edward Elgar, Baseball', 'Rebecca Clarke, Netball', 'Ethel Smyth, Badminton', 'Frank Bridge, Rugby']\n"
          ]
        }
      ]
    },
    {
      "cell_type": "code",
      "metadata": {
        "id": "YDbpHRJpD82q",
        "outputId": "9ef438fd-fb1e-4569-d915-19c4e6365fa1",
        "colab": {
          "base_uri": "https://localhost:8080/"
        }
      },
      "source": [
        " favorite_sports = {'Ralph Williams' : 'Football',   # This is a map\n",
        " 'Michael Tippett' : 'Basketball',\n",
        " 'Edward Elgar' : 'Baseball',\n",
        " 'Rebecca Clarke' : 'Netball',\n",
        " 'Ethel Smyth' : 'Badminton',    # Uses {}\n",
        " 'Frank Bridge' : 'Rugby'}\n",
        "\n",
        " print(favorite_sports)"
      ],
      "execution_count": 5,
      "outputs": [
        {
          "output_type": "stream",
          "name": "stdout",
          "text": [
            "{'Ralph Williams': 'Football', 'Michael Tippett': 'Basketball', 'Edward Elgar': 'Baseball', 'Rebecca Clarke': 'Netball', 'Ethel Smyth': 'Badminton', 'Frank Bridge': 'Rugby'}\n"
          ]
        }
      ]
    },
    {
      "cell_type": "code",
      "metadata": {
        "id": "Z0EyJ1zaErxk",
        "outputId": "c97f5500-1470-46d6-845b-4abf6fdc77f4",
        "colab": {
          "base_uri": "https://localhost:8080/"
        }
      },
      "source": [
        " favorite_sports = {'Ralph Williams' : 'Football',  \n",
        " 'Michael Tippett' : 'Basketball',\n",
        " 'Edward Elgar' : 'Baseball',\n",
        " 'Rebecca Clarke' : 'Netball',\n",
        " 'Ethel Smyth' : 'Badminton',    # You can easily find the sport\n",
        " 'Frank Bridge' : 'Rugby'}\n",
        "\n",
        " print(favorite_sports['Rebecca Clarke'])"
      ],
      "execution_count": 6,
      "outputs": [
        {
          "output_type": "stream",
          "name": "stdout",
          "text": [
            "Netball\n"
          ]
        }
      ]
    },
    {
      "cell_type": "code",
      "metadata": {
        "id": "c9H7gC4FFdsa",
        "outputId": "7b468ef7-7b8c-4b8c-893a-835227436593",
        "colab": {
          "base_uri": "https://localhost:8080/"
        }
      },
      "source": [
        "favorite_sports = {'Ralph Williams' : 'Football',  \n",
        " 'Michael Tippett' : 'Basketball',\n",
        " 'Edward Elgar' : 'Baseball',\n",
        " 'Rebecca Clarke' : 'Netball',\n",
        " 'Ethel Smyth' : 'Badminton',    \n",
        " 'Frank Bridge' : 'Rugby'}\n",
        "\n",
        "del favorite_sports['Frank Bridge']    # Easy to delete a name/item\n",
        "\n",
        "print(favorite_sports)"
      ],
      "execution_count": 8,
      "outputs": [
        {
          "output_type": "stream",
          "name": "stdout",
          "text": [
            "{'Ralph Williams': 'Football', 'Michael Tippett': 'Basketball', 'Edward Elgar': 'Baseball', 'Rebecca Clarke': 'Netball', 'Ethel Smyth': 'Badminton'}\n"
          ]
        }
      ]
    },
    {
      "cell_type": "code",
      "metadata": {
        "id": "kmiQQV-4HKaJ",
        "outputId": "599f660c-3019-478a-dc10-6097d6f517e0",
        "colab": {
          "base_uri": "https://localhost:8080/"
        }
      },
      "source": [
        "favorite_sports = {'Ralph Williams' : 'Football',  \n",
        " 'Michael Tippett' : 'Basketball',\n",
        " 'Edward Elgar' : 'Baseball',\n",
        " 'Rebecca Clarke' : 'Netball',\n",
        " 'Ethel Smyth' : 'Badminton',    \n",
        " 'Frank Bridge' : 'Rugby'}\n",
        "\n",
        "favorite_sports['Ethel Smyth']= 'Hockey'\n",
        "\n",
        "print(favorite_sports)"
      ],
      "execution_count": 10,
      "outputs": [
        {
          "output_type": "stream",
          "name": "stdout",
          "text": [
            "{'Ralph Williams': 'Football', 'Michael Tippett': 'Basketball', 'Edward Elgar': 'Baseball', 'Rebecca Clarke': 'Netball', 'Ethel Smyth': 'Hockey', 'Frank Bridge': 'Rugby'}\n"
          ]
        }
      ]
    }
  ]
}