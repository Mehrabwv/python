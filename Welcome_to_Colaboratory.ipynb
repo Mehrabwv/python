{
  "nbformat": 4,
  "nbformat_minor": 0,
  "metadata": {
    "colab": {
      "name": "Welcome to Colaboratory",
      "provenance": [],
      "collapsed_sections": [],
      "include_colab_link": true
    },
    "kernelspec": {
      "display_name": "Python 3",
      "name": "python3"
    }
  },
  "cells": [
    {
      "cell_type": "markdown",
      "metadata": {
        "id": "view-in-github",
        "colab_type": "text"
      },
      "source": [
        "<a href=\"https://colab.research.google.com/github/Mehrabwv/python/blob/main/Welcome_to_Colaboratory.ipynb\" target=\"_parent\"><img src=\"https://colab.research.google.com/assets/colab-badge.svg\" alt=\"Open In Colab\"/></a>"
      ]
    },
    {
      "cell_type": "code",
      "metadata": {
        "colab": {
          "base_uri": "https://localhost:8080/"
        },
        "id": "8faetyUptsuv",
        "outputId": "736e7e77-9bf9-4af4-c8ac-273204661001"
      },
      "source": [
        "ingredients = ['snails', 'leeches', 'gorilla belly-button lint',\n",
        " 'caterpillar eyebrows', 'centipede toes']\n",
        "number = ['1','2','3','4','5']\n",
        "for x in range(0,5):\n",
        "  y = 1 + x\n",
        "  print( y , ingredients[x])"
      ],
      "execution_count": 18,
      "outputs": [
        {
          "output_type": "stream",
          "name": "stdout",
          "text": [
            "1 snails\n",
            "2 leeches\n",
            "3 gorilla belly-button lint\n",
            "4 caterpillar eyebrows\n",
            "5 centipede toes\n"
          ]
        }
      ]
    },
    {
      "cell_type": "code",
      "metadata": {
        "colab": {
          "base_uri": "https://localhost:8080/"
        },
        "id": "D92czHOJyjfP",
        "outputId": "4c135032-08a3-4a01-bcd1-756ab6e80ff7"
      },
      "source": [
        "weight = 60\n",
        "for y in range(1,16):\n",
        "  weight=weight+1\n",
        "  print(y,weight*0.165) "
      ],
      "execution_count": 51,
      "outputs": [
        {
          "output_type": "stream",
          "name": "stdout",
          "text": [
            "1 10.065000000000001\n",
            "2 10.23\n",
            "3 10.395000000000001\n",
            "4 10.56\n",
            "5 10.725\n",
            "6 10.89\n",
            "7 11.055\n",
            "8 11.22\n",
            "9 11.385\n",
            "10 11.55\n",
            "11 11.715\n",
            "12 11.88\n",
            "13 12.045\n",
            "14 12.21\n",
            "15 12.375\n"
          ]
        }
      ]
    },
    {
      "cell_type": "code",
      "metadata": {
        "colab": {
          "base_uri": "https://localhost:8080/"
        },
        "id": "oaHZudD2GADH",
        "outputId": "5a6c255e-2b03-4ff1-b78e-9f9ccca04318"
      },
      "source": [
        "def moonweight(weight,year,increase):\n",
        "  return (weight+(increase*year))*0.165\n",
        "\n",
        "\n",
        "print(moonweight(60,15,1))"
      ],
      "execution_count": 16,
      "outputs": [
        {
          "output_type": "stream",
          "name": "stdout",
          "text": [
            "12.375\n"
          ]
        }
      ]
    },
    {
      "cell_type": "code",
      "metadata": {
        "colab": {
          "base_uri": "https://localhost:8080/"
        },
        "id": "yP31XhqWIAXk",
        "outputId": "ac327ce2-f643-4204-fcb4-901fc8114699"
      },
      "source": [
        "weight1= input('What is your weight now?: ')\n",
        "increase1= input('How much increase do you expect?: ')\n",
        "year1= input('In how many years?: ')\n",
        "\n",
        "weight = int(weight1)\n",
        "increase = int(increase1)\n",
        "yeare = int(year1)\n",
        "year2 = yeare+15a\n",
        "\n",
        "\n",
        "for year2 in range(0,year2):\n",
        "  moonweight=(weight+(increase*year2))*0.165\n",
        "  print(year2,moonweight)"
      ],
      "execution_count": 45,
      "outputs": [
        {
          "output_type": "stream",
          "name": "stdout",
          "text": [
            "What is your weight now?: 60\n",
            "How much increase do you expect?: 1\n",
            "In how many years?: 15\n",
            "0 9.9\n",
            "1 10.065000000000001\n",
            "2 10.23\n",
            "3 10.395000000000001\n",
            "4 10.56\n",
            "5 10.725\n",
            "6 10.89\n",
            "7 11.055\n",
            "8 11.22\n",
            "9 11.385\n",
            "10 11.55\n",
            "11 11.715\n",
            "12 11.88\n",
            "13 12.045\n",
            "14 12.21\n",
            "15 12.375\n"
          ]
        }
      ]
    }
  ]
}