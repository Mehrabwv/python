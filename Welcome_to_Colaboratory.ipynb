{
  "nbformat": 4,
  "nbformat_minor": 0,
  "metadata": {
    "colab": {
      "name": "Welcome to Colaboratory",
      "provenance": [],
      "collapsed_sections": [],
      "toc_visible": true,
      "include_colab_link": true
    },
    "kernelspec": {
      "display_name": "Python 3",
      "name": "python3"
    }
  },
  "cells": [
    {
      "cell_type": "markdown",
      "metadata": {
        "id": "view-in-github",
        "colab_type": "text"
      },
      "source": [
        "<a href=\"https://colab.research.google.com/github/Mehrabwv/python/blob/main/Welcome_to_Colaboratory.ipynb\" target=\"_parent\"><img src=\"https://colab.research.google.com/assets/colab-badge.svg\" alt=\"Open In Colab\"/></a>"
      ]
    },
    {
      "cell_type": "code",
      "metadata": {
        "colab": {
          "base_uri": "https://localhost:8080/"
        },
        "id": "8faetyUptsuv",
        "outputId": "736e7e77-9bf9-4af4-c8ac-273204661001"
      },
      "source": [
        "ingredients = ['snails', 'leeches', 'gorilla belly-button lint',\n",
        " 'caterpillar eyebrows', 'centipede toes']\n",
        "number = ['1','2','3','4','5']\n",
        "for x in range(0,5):\n",
        "  y = 1 + x\n",
        "  print( y , ingredients[x])"
      ],
      "execution_count": null,
      "outputs": [
        {
          "output_type": "stream",
          "name": "stdout",
          "text": [
            "1 snails\n",
            "2 leeches\n",
            "3 gorilla belly-button lint\n",
            "4 caterpillar eyebrows\n",
            "5 centipede toes\n"
          ]
        }
      ]
    },
    {
      "cell_type": "code",
      "metadata": {
        "colab": {
          "base_uri": "https://localhost:8080/"
        },
        "id": "D92czHOJyjfP",
        "outputId": "4c135032-08a3-4a01-bcd1-756ab6e80ff7"
      },
      "source": [
        "weight = 60\n",
        "for y in range(1,16):\n",
        "  weight=weight+1\n",
        "  print(y,weight*0.165) "
      ],
      "execution_count": null,
      "outputs": [
        {
          "output_type": "stream",
          "name": "stdout",
          "text": [
            "1 10.065000000000001\n",
            "2 10.23\n",
            "3 10.395000000000001\n",
            "4 10.56\n",
            "5 10.725\n",
            "6 10.89\n",
            "7 11.055\n",
            "8 11.22\n",
            "9 11.385\n",
            "10 11.55\n",
            "11 11.715\n",
            "12 11.88\n",
            "13 12.045\n",
            "14 12.21\n",
            "15 12.375\n"
          ]
        }
      ]
    },
    {
      "cell_type": "code",
      "metadata": {
        "colab": {
          "base_uri": "https://localhost:8080/"
        },
        "id": "oaHZudD2GADH",
        "outputId": "5a6c255e-2b03-4ff1-b78e-9f9ccca04318"
      },
      "source": [
        "def moonweight(weight,year,increase):\n",
        "  return (weight+(increase*year))*0.165\n",
        "\n",
        "\n",
        "print(moonweight(60,15,1))"
      ],
      "execution_count": null,
      "outputs": [
        {
          "output_type": "stream",
          "name": "stdout",
          "text": [
            "12.375\n"
          ]
        }
      ]
    },
    {
      "cell_type": "code",
      "metadata": {
        "colab": {
          "base_uri": "https://localhost:8080/"
        },
        "id": "yP31XhqWIAXk",
        "outputId": "ac327ce2-f643-4204-fcb4-901fc8114699"
      },
      "source": [
        "weight1= input('What is your weight now?: ')\n",
        "increase1= input('How much increase do you expect?: ')\n",
        "year1= input('In how many years?: ')\n",
        "\n",
        "weight = int(weight1)\n",
        "increase = int(increase1)\n",
        "yeare = int(year1)\n",
        "year2 = yeare+15a\n",
        "\n",
        "\n",
        "for year2 in range(0,year2):\n",
        "  moonweight=(weight+(increase*year2))*0.165\n",
        "  print(year2,moonweight)"
      ],
      "execution_count": null,
      "outputs": [
        {
          "output_type": "stream",
          "name": "stdout",
          "text": [
            "What is your weight now?: 60\n",
            "How much increase do you expect?: 1\n",
            "In how many years?: 15\n",
            "0 9.9\n",
            "1 10.065000000000001\n",
            "2 10.23\n",
            "3 10.395000000000001\n",
            "4 10.56\n",
            "5 10.725\n",
            "6 10.89\n",
            "7 11.055\n",
            "8 11.22\n",
            "9 11.385\n",
            "10 11.55\n",
            "11 11.715\n",
            "12 11.88\n",
            "13 12.045\n",
            "14 12.21\n",
            "15 12.375\n"
          ]
        }
      ]
    },
    {
      "cell_type": "markdown",
      "metadata": {
        "id": "b-_vPk9YFSyP"
      },
      "source": [
        "# ***Python For Kids***   \n"
      ]
    },
    {
      "cell_type": "markdown",
      "metadata": {
        "id": "BplOc5A9FkvO"
      },
      "source": [
        "# Chapter 1 - Not all snakes slither\n",
        "# (Basics)"
      ]
    },
    {
      "cell_type": "code",
      "metadata": {
        "colab": {
          "base_uri": "https://localhost:8080/"
        },
        "id": "e1rOLP78Hl6F",
        "outputId": "6bf35e32-8bcc-46ab-ae64-2a8343c91f86"
      },
      "source": [
        "print('How are you?')"
      ],
      "execution_count": 1,
      "outputs": [
        {
          "output_type": "stream",
          "name": "stdout",
          "text": [
            "How are you?\n"
          ]
        }
      ]
    },
    {
      "cell_type": "code",
      "metadata": {
        "colab": {
          "base_uri": "https://localhost:8080/"
        },
        "id": "-Lm3KuQrJ2Vs",
        "outputId": "6ae10417-26b4-4ba1-af3c-30bb8b41ec6c"
      },
      "source": [
        "print(\"hello world\")"
      ],
      "execution_count": 2,
      "outputs": [
        {
          "output_type": "stream",
          "name": "stdout",
          "text": [
            "hello world\n"
          ]
        }
      ]
    },
    {
      "cell_type": "code",
      "metadata": {
        "colab": {
          "base_uri": "https://localhost:8080/"
        },
        "id": "19p9Iu0wJ840",
        "outputId": "3cafc1dc-07de-4b48-eb95-e1c0fb228ac9"
      },
      "source": [
        "print('''hello world''')"
      ],
      "execution_count": 3,
      "outputs": [
        {
          "output_type": "stream",
          "name": "stdout",
          "text": [
            "hello world\n"
          ]
        }
      ]
    },
    {
      "cell_type": "markdown",
      "metadata": {
        "id": "kHrp0NgNKFdq"
      },
      "source": [
        "#Chapter 2 - Calculations and Variables\n",
        "#Calculations"
      ]
    },
    {
      "cell_type": "code",
      "metadata": {
        "colab": {
          "base_uri": "https://localhost:8080/"
        },
        "id": "31jkHigHKYiC",
        "outputId": "0f7f1fa2-c0b0-4c47-f778-ab27cdd59ab0"
      },
      "source": [
        "8*3.57   #8 times 3.57 = 28.56"
      ],
      "execution_count": 5,
      "outputs": [
        {
          "output_type": "execute_result",
          "data": {
            "text/plain": [
              "28.56"
            ]
          },
          "metadata": {},
          "execution_count": 5
        }
      ]
    },
    {
      "cell_type": "markdown",
      "metadata": {
        "id": "Yz3O2FZuLeW-"
      },
      "source": [
        "Pg 16 - puzzle"
      ]
    },
    {
      "cell_type": "code",
      "metadata": {
        "colab": {
          "base_uri": "https://localhost:8080/"
        },
        "id": "IDt-F1_BKlTd",
        "outputId": "faea075a-aaf1-458c-9a94-5387149f451c"
      },
      "source": [
        "10*365"
      ],
      "execution_count": 9,
      "outputs": [
        {
          "output_type": "execute_result",
          "data": {
            "text/plain": [
              "3650"
            ]
          },
          "metadata": {},
          "execution_count": 9
        }
      ]
    },
    {
      "cell_type": "code",
      "metadata": {
        "colab": {
          "base_uri": "https://localhost:8080/"
        },
        "id": "sQ_35pdPK05i",
        "outputId": "f678c95e-0487-4e69-9e90-aef689bbf27d"
      },
      "source": [
        "20+3650"
      ],
      "execution_count": 11,
      "outputs": [
        {
          "output_type": "execute_result",
          "data": {
            "text/plain": [
              "3670"
            ]
          },
          "metadata": {},
          "execution_count": 11
        }
      ]
    },
    {
      "cell_type": "code",
      "metadata": {
        "colab": {
          "base_uri": "https://localhost:8080/"
        },
        "id": "RMP33JlNLoy9",
        "outputId": "544a8935-5a4b-44ff-f1f7-c339496cd23a"
      },
      "source": [
        "3*52"
      ],
      "execution_count": 12,
      "outputs": [
        {
          "output_type": "execute_result",
          "data": {
            "text/plain": [
              "156"
            ]
          },
          "metadata": {},
          "execution_count": 12
        }
      ]
    },
    {
      "cell_type": "code",
      "metadata": {
        "colab": {
          "base_uri": "https://localhost:8080/"
        },
        "id": "y-5hU36BL3qd",
        "outputId": "b140727e-8769-45bb-b65b-d01115a9ad43"
      },
      "source": [
        "3670-156"
      ],
      "execution_count": 13,
      "outputs": [
        {
          "output_type": "execute_result",
          "data": {
            "text/plain": [
              "3514"
            ]
          },
          "metadata": {},
          "execution_count": 13
        }
      ]
    },
    {
      "cell_type": "markdown",
      "metadata": {
        "id": "YkhUCC52w50N"
      },
      "source": [
        "BODMAS\n",
        "\n",
        "\n",
        "add\n",
        "5 to 30, and then multiply the result\n",
        "by 20"
      ]
    },
    {
      "cell_type": "code",
      "metadata": {
        "colab": {
          "base_uri": "https://localhost:8080/"
        },
        "id": "eNneJtqfL_7X",
        "outputId": "73cc4be0-65c1-4e03-fd2a-03b426eaabfc"
      },
      "source": [
        "(5+30)*20"
      ],
      "execution_count": 1,
      "outputs": [
        {
          "output_type": "execute_result",
          "data": {
            "text/plain": [
              "700"
            ]
          },
          "metadata": {},
          "execution_count": 1
        }
      ]
    },
    {
      "cell_type": "markdown",
      "metadata": {
        "id": "jmgJIMJgzV9F"
      },
      "source": [
        " Adding 5 to 30 gives 35.\n",
        "\n",
        " Multiplying 35 by 20 gives 700.\n",
        "\n",
        " Dividing 700 by 10 gives the final answer of 70."
      ]
    },
    {
      "cell_type": "code",
      "metadata": {
        "id": "8eRWdxvwzOEn",
        "outputId": "9315e7ae-c952-40e2-a45b-c9394578fd61",
        "colab": {
          "base_uri": "https://localhost:8080/"
        }
      },
      "source": [
        " ((5 + 30) * 20) / 10"
      ],
      "execution_count": 2,
      "outputs": [
        {
          "output_type": "execute_result",
          "data": {
            "text/plain": [
              "70.0"
            ]
          },
          "metadata": {},
          "execution_count": 2
        }
      ]
    },
    {
      "cell_type": "markdown",
      "metadata": {
        "id": "SzebuoECzsSH"
      },
      "source": [
        "Variables"
      ]
    },
    {
      "cell_type": "code",
      "metadata": {
        "id": "G6kzzALRzucy",
        "outputId": "33befe0d-0ff9-4ddf-90bb-4a9031d03399",
        "colab": {
          "base_uri": "https://localhost:8080/"
        }
      },
      "source": [
        "fred=100\n",
        "print(fred)"
      ],
      "execution_count": 3,
      "outputs": [
        {
          "output_type": "stream",
          "name": "stdout",
          "text": [
            "100\n"
          ]
        }
      ]
    },
    {
      "cell_type": "code",
      "metadata": {
        "id": "n-ddBOayz3Ot",
        "outputId": "e4287a4b-90a2-4e9f-9caf-4c2a2ba5237c",
        "colab": {
          "base_uri": "https://localhost:8080/"
        }
      },
      "source": [
        "fred=100\n",
        "john=fred+5\n",
        "print(john)"
      ],
      "execution_count": 4,
      "outputs": [
        {
          "output_type": "stream",
          "name": "stdout",
          "text": [
            "105\n"
          ]
        }
      ]
    },
    {
      "cell_type": "code",
      "metadata": {
        "id": "F6bkX0lS0Sci",
        "outputId": "a01372de-8105-4ee9-ce9d-ffe93e42c2f2",
        "colab": {
          "base_uri": "https://localhost:8080/"
        }
      },
      "source": [
        "# You cant start a variable with a number!\n",
        "number_of_coins = 200\n",
        "print(number_of_coins)"
      ],
      "execution_count": 6,
      "outputs": [
        {
          "output_type": "stream",
          "name": "stdout",
          "text": [
            "200\n"
          ]
        }
      ]
    },
    {
      "cell_type": "markdown",
      "metadata": {
        "id": "KMU5DCRS0usv"
      },
      "source": [
        "Pg 21 - more info"
      ]
    },
    {
      "cell_type": "code",
      "metadata": {
        "id": "Rm2GZ1gJ05ee",
        "outputId": "405d9171-fade-46c4-c55d-21a78d655efd",
        "colab": {
          "base_uri": "https://localhost:8080/"
        }
      },
      "source": [
        " 20 + 10 * 365 - 3 * 52"
      ],
      "execution_count": 8,
      "outputs": [
        {
          "output_type": "execute_result",
          "data": {
            "text/plain": [
              "3514"
            ]
          },
          "metadata": {},
          "execution_count": 8
        }
      ]
    },
    {
      "cell_type": "code",
      "metadata": {
        "id": "pEPqkgjh1vqR",
        "outputId": "ef0e03e5-b571-4ac4-c4e9-a814edf410b1",
        "colab": {
          "base_uri": "https://localhost:8080/"
        }
      },
      "source": [
        "found_coins = 20\n",
        "magic_coins = 10\n",
        "stolen_coins = 3\n",
        "\n",
        "found_coins + magic_coins * 365 - stolen_coins * 52"
      ],
      "execution_count": 11,
      "outputs": [
        {
          "output_type": "execute_result",
          "data": {
            "text/plain": [
              "3514"
            ]
          },
          "metadata": {},
          "execution_count": 11
        }
      ]
    },
    {
      "cell_type": "code",
      "metadata": {
        "id": "eVfRfL6z2R9u",
        "outputId": "bbe15ed9-be29-41fe-dc5e-da33f3513d01",
        "colab": {
          "base_uri": "https://localhost:8080/"
        }
      },
      "source": [
        "found_coins = 20\n",
        "magic_coins = 10\n",
        "\n",
        "stolen_coins = 2   # Very easy to change the variable if neeeded\n",
        "\n",
        "found_coins + magic_coins * 365 - stolen_coins * 52"
      ],
      "execution_count": 12,
      "outputs": [
        {
          "output_type": "execute_result",
          "data": {
            "text/plain": [
              "3566"
            ]
          },
          "metadata": {},
          "execution_count": 12
        }
      ]
    },
    {
      "cell_type": "markdown",
      "metadata": {
        "id": "_y7K5N333cv_"
      },
      "source": [
        "# Chapter 3 - Strings, Lists, Tuples, and Maps"
      ]
    },
    {
      "cell_type": "markdown",
      "metadata": {
        "id": "IQ1kJqgM3_Z8"
      },
      "source": [
        "A string is a text"
      ]
    },
    {
      "cell_type": "code",
      "metadata": {
        "id": "h0cgOagD3pli",
        "outputId": "9ff9ea71-4bda-4045-918d-82cc27e0cd3f",
        "colab": {
          "base_uri": "https://localhost:8080/"
        }
      },
      "source": [
        "fred = \"What is 1 + 1?\"\n",
        "print(fred)"
      ],
      "execution_count": 13,
      "outputs": [
        {
          "output_type": "stream",
          "name": "stdout",
          "text": [
            "What is 1 + 1?\n"
          ]
        }
      ]
    },
    {
      "cell_type": "code",
      "metadata": {
        "id": "sG1IhMza4osw",
        "outputId": "d573187c-b564-469f-c4b1-81225c8e0fa1",
        "colab": {
          "base_uri": "https://localhost:8080/"
        }
      },
      "source": [
        "#To create multiple line string, use '''\n",
        "fred = '''How do dinosaurs pay their bills?\n",
        "With tyrannosaurus checks!'''\n",
        "print(fred)"
      ],
      "execution_count": 14,
      "outputs": [
        {
          "output_type": "stream",
          "name": "stdout",
          "text": [
            "How do dinosaurs pay their bills?\n",
            "With tyrannosaurus checks!\n"
          ]
        }
      ]
    }
  ]
}